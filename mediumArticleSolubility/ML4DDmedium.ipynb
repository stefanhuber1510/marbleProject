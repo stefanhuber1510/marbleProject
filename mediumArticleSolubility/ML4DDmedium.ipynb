{
 "cells": [
  {
   "cell_type": "markdown",
   "metadata": {},
   "source": [
    "### Machine Learning for Drug Discovering - towards datascience article"
   ]
  },
  {
   "cell_type": "markdown",
   "metadata": {},
   "source": [
    "predicting solubility of drug molecules from atomic structure<br>\n",
    "https://towardsdatascience.com/how-to-use-machine-learning-for-drug-discovery-1ccb5fdf81ad <br>\n",
    "source: https://pubs.acs.org/doi/10.1021/ci034243x <br><br>\n",
    "\n",
    "quantifying molecular properties using rdkit"
   ]
  },
  {
   "cell_type": "code",
   "execution_count": 1,
   "metadata": {},
   "outputs": [],
   "source": [
    "# get data\n",
    "import os\n",
    "if not os.path.exists(\"./delaney.csv\"):\n",
    "    ! wget https://raw.githubusercontent.com/dataprofessor/data/master/delaney.csv"
   ]
  },
  {
   "cell_type": "code",
   "execution_count": 2,
   "metadata": {},
   "outputs": [],
   "source": [
    "import pandas as pd\n",
    "import numpy as np\n",
    "from rdkit import Chem\n",
    "from rdkit.Chem import Descriptors"
   ]
  },
  {
   "cell_type": "markdown",
   "metadata": {},
   "source": [
    "The inital dataframe contains a name, the solubility (+predicted values from the paper's model) and Smiles description of a compound <br>\n",
    "We might be able to use the papers predictions as baseline for improving it"
   ]
  },
  {
   "cell_type": "code",
   "execution_count": 3,
   "metadata": {},
   "outputs": [
    {
     "name": "stdout",
     "output_type": "stream",
     "text": [
      "Number of entries:  1144\n"
     ]
    },
    {
     "data": {
      "text/html": [
       "<div>\n",
       "<style scoped>\n",
       "    .dataframe tbody tr th:only-of-type {\n",
       "        vertical-align: middle;\n",
       "    }\n",
       "\n",
       "    .dataframe tbody tr th {\n",
       "        vertical-align: top;\n",
       "    }\n",
       "\n",
       "    .dataframe thead th {\n",
       "        text-align: right;\n",
       "    }\n",
       "</style>\n",
       "<table border=\"1\" class=\"dataframe\">\n",
       "  <thead>\n",
       "    <tr style=\"text-align: right;\">\n",
       "      <th></th>\n",
       "      <th>Compound ID</th>\n",
       "      <th>measured log(solubility:mol/L)</th>\n",
       "      <th>ESOL predicted log(solubility:mol/L)</th>\n",
       "      <th>SMILES</th>\n",
       "    </tr>\n",
       "  </thead>\n",
       "  <tbody>\n",
       "    <tr>\n",
       "      <th>0</th>\n",
       "      <td>1,1,1,2-Tetrachloroethane</td>\n",
       "      <td>-2.18</td>\n",
       "      <td>-2.794</td>\n",
       "      <td>ClCC(Cl)(Cl)Cl</td>\n",
       "    </tr>\n",
       "    <tr>\n",
       "      <th>1</th>\n",
       "      <td>1,1,1-Trichloroethane</td>\n",
       "      <td>-2.00</td>\n",
       "      <td>-2.232</td>\n",
       "      <td>CC(Cl)(Cl)Cl</td>\n",
       "    </tr>\n",
       "    <tr>\n",
       "      <th>2</th>\n",
       "      <td>1,1,2,2-Tetrachloroethane</td>\n",
       "      <td>-1.74</td>\n",
       "      <td>-2.549</td>\n",
       "      <td>ClC(Cl)C(Cl)Cl</td>\n",
       "    </tr>\n",
       "  </tbody>\n",
       "</table>\n",
       "</div>"
      ],
      "text/plain": [
       "                 Compound ID  measured log(solubility:mol/L)  \\\n",
       "0  1,1,1,2-Tetrachloroethane                           -2.18   \n",
       "1      1,1,1-Trichloroethane                           -2.00   \n",
       "2  1,1,2,2-Tetrachloroethane                           -1.74   \n",
       "\n",
       "   ESOL predicted log(solubility:mol/L)          SMILES  \n",
       "0                                -2.794  ClCC(Cl)(Cl)Cl  \n",
       "1                                -2.232    CC(Cl)(Cl)Cl  \n",
       "2                                -2.549  ClC(Cl)C(Cl)Cl  "
      ]
     },
     "execution_count": 3,
     "metadata": {},
     "output_type": "execute_result"
    }
   ],
   "source": [
    "compoundsDF = pd.read_csv(\"delaney.csv\")\n",
    "print(\"Number of entries: \",len(compoundsDF))\n",
    "compoundsDF.head(3)"
   ]
  },
  {
   "cell_type": "code",
   "execution_count": 4,
   "metadata": {},
   "outputs": [
    {
     "data": {
      "text/plain": [
       "11"
      ]
     },
     "execution_count": 4,
     "metadata": {},
     "output_type": "execute_result"
    }
   ],
   "source": [
    "# transforming random compound to rdkit mol and trying methods of it\n",
    "Chem.MolFromSmiles(compoundsDF.iloc[99,3]).GetNumAtoms()"
   ]
  },
  {
   "cell_type": "code",
   "execution_count": 5,
   "metadata": {},
   "outputs": [
    {
     "data": {
      "text/plain": [
       "[<rdkit.Chem.rdchem.Mol at 0x7fe0c4e9fd00>,\n",
       " <rdkit.Chem.rdchem.Mol at 0x7fe0c4e9ff80>,\n",
       " <rdkit.Chem.rdchem.Mol at 0x7fe0c4e9fc10>]"
      ]
     },
     "execution_count": 5,
     "metadata": {},
     "output_type": "execute_result"
    }
   ],
   "source": [
    "# making a mol list from the smiles\n",
    "molList = [Chem.MolFromSmiles(x) for x in compoundsDF.iloc[:,3]]\n",
    "molList[0:3]"
   ]
  },
  {
   "cell_type": "markdown",
   "metadata": {},
   "source": [
    "The authors use 4 Molecular descriptors for their model: <br>\n",
    "1. cLogP (Octanol-water partition coefficient) <br>\n",
    "2. MW (Molecular weight) <br>\n",
    "3. RB (Number of rotatable bonds) <br>\n",
    "4. AP (Aromatic proportion = number of aromatic atoms / number of heavy atoms) <br>\n",
    "\n",
    "I implement a generate function similar to the one in the Post, exploiting rdkits default features except for the last\n"
   ]
  },
  {
   "cell_type": "code",
   "execution_count": 6,
   "metadata": {},
   "outputs": [
    {
     "data": {
      "text/html": [
       "<div>\n",
       "<style scoped>\n",
       "    .dataframe tbody tr th:only-of-type {\n",
       "        vertical-align: middle;\n",
       "    }\n",
       "\n",
       "    .dataframe tbody tr th {\n",
       "        vertical-align: top;\n",
       "    }\n",
       "\n",
       "    .dataframe thead th {\n",
       "        text-align: right;\n",
       "    }\n",
       "</style>\n",
       "<table border=\"1\" class=\"dataframe\">\n",
       "  <thead>\n",
       "    <tr style=\"text-align: right;\">\n",
       "      <th></th>\n",
       "      <th>MolLogP</th>\n",
       "      <th>MolWt</th>\n",
       "      <th>NumRotatableBonds</th>\n",
       "    </tr>\n",
       "  </thead>\n",
       "  <tbody>\n",
       "    <tr>\n",
       "      <th>0</th>\n",
       "      <td>2.5954</td>\n",
       "      <td>167.850</td>\n",
       "      <td>0</td>\n",
       "    </tr>\n",
       "    <tr>\n",
       "      <th>1</th>\n",
       "      <td>2.3765</td>\n",
       "      <td>133.405</td>\n",
       "      <td>0</td>\n",
       "    </tr>\n",
       "    <tr>\n",
       "      <th>2</th>\n",
       "      <td>2.5938</td>\n",
       "      <td>167.850</td>\n",
       "      <td>1</td>\n",
       "    </tr>\n",
       "  </tbody>\n",
       "</table>\n",
       "</div>"
      ],
      "text/plain": [
       "   MolLogP    MolWt  NumRotatableBonds\n",
       "0   2.5954  167.850                  0\n",
       "1   2.3765  133.405                  0\n",
       "2   2.5938  167.850                  1"
      ]
     },
     "execution_count": 6,
     "metadata": {},
     "output_type": "execute_result"
    }
   ],
   "source": [
    "from mediumArticleFunctionGenerate import generate #add smiles or name\n",
    "descriptorDF = generate(molList) #don't rely on indices, they change in any filtering step\n",
    "descriptorDF.head(3)"
   ]
  },
  {
   "cell_type": "markdown",
   "metadata": {},
   "source": [
    "The 4th Descriptor has to be computed manually. <br>\n",
    "First I compute the number of aromatic atoms, then I divide by the number of heavy atoms:"
   ]
  },
  {
   "cell_type": "code",
   "execution_count": 7,
   "metadata": {},
   "outputs": [],
   "source": [
    "#print(\n",
    "aromAtoms = [\n",
    "sum([molList[j].GetAtomWithIdx(i).GetIsAromatic() \n",
    "for i in range(molList[j].GetNumAtoms())]) \n",
    "for j in range(len(molList))\n",
    "]\n",
    "#)\n",
    "heavyAtoms=[Descriptors.HeavyAtomCount(molList[i]) for i in range (len(molList))]\n"
   ]
  },
  {
   "cell_type": "code",
   "execution_count": 8,
   "metadata": {},
   "outputs": [],
   "source": [
    "aromPropDf = pd.DataFrame(np.round(\n",
    "    (np.array(aromAtoms)/np.array(heavyAtoms)),\n",
    "    decimals=2),\n",
    "    columns=[\"Arom. Prop.\"])"
   ]
  },
  {
   "cell_type": "code",
   "execution_count": 17,
   "metadata": {},
   "outputs": [
    {
     "data": {
      "text/html": [
       "<div>\n",
       "<style scoped>\n",
       "    .dataframe tbody tr th:only-of-type {\n",
       "        vertical-align: middle;\n",
       "    }\n",
       "\n",
       "    .dataframe tbody tr th {\n",
       "        vertical-align: top;\n",
       "    }\n",
       "\n",
       "    .dataframe thead th {\n",
       "        text-align: right;\n",
       "    }\n",
       "</style>\n",
       "<table border=\"1\" class=\"dataframe\">\n",
       "  <thead>\n",
       "    <tr style=\"text-align: right;\">\n",
       "      <th></th>\n",
       "      <th>MolLogP</th>\n",
       "      <th>MolWt</th>\n",
       "      <th>NumRotatableBonds</th>\n",
       "      <th>Arom. Prop.</th>\n",
       "    </tr>\n",
       "  </thead>\n",
       "  <tbody>\n",
       "    <tr>\n",
       "      <th>0</th>\n",
       "      <td>2.5954</td>\n",
       "      <td>167.850</td>\n",
       "      <td>0</td>\n",
       "      <td>0.0</td>\n",
       "    </tr>\n",
       "    <tr>\n",
       "      <th>1</th>\n",
       "      <td>2.3765</td>\n",
       "      <td>133.405</td>\n",
       "      <td>0</td>\n",
       "      <td>0.0</td>\n",
       "    </tr>\n",
       "    <tr>\n",
       "      <th>2</th>\n",
       "      <td>2.5938</td>\n",
       "      <td>167.850</td>\n",
       "      <td>1</td>\n",
       "      <td>0.0</td>\n",
       "    </tr>\n",
       "  </tbody>\n",
       "</table>\n",
       "</div>"
      ],
      "text/plain": [
       "   MolLogP    MolWt  NumRotatableBonds  Arom. Prop.\n",
       "0   2.5954  167.850                  0          0.0\n",
       "1   2.3765  133.405                  0          0.0\n",
       "2   2.5938  167.850                  1          0.0"
      ]
     },
     "execution_count": 17,
     "metadata": {},
     "output_type": "execute_result"
    }
   ],
   "source": [
    "#all descriptors:\n",
    "X = pd.concat([descriptorDF,aromPropDf],axis=1)\n",
    "X.head(3)"
   ]
  },
  {
   "cell_type": "code",
   "execution_count": 10,
   "metadata": {},
   "outputs": [
    {
     "data": {
      "text/plain": [
       "0   -2.18\n",
       "1   -2.00\n",
       "2   -1.74\n",
       "Name: measured log(solubility:mol/L), dtype: float64"
      ]
     },
     "execution_count": 10,
     "metadata": {},
     "output_type": "execute_result"
    }
   ],
   "source": [
    "Y = compoundsDF.iloc[:,1]\n",
    "Y.head(3)"
   ]
  },
  {
   "cell_type": "code",
   "execution_count": 11,
   "metadata": {},
   "outputs": [],
   "source": [
    "from sklearn.model_selection import train_test_split\n",
    "from sklearn import linear_model\n",
    "from sklearn.metrics import mean_squared_error, r2_score"
   ]
  },
  {
   "cell_type": "code",
   "execution_count": 12,
   "metadata": {},
   "outputs": [
    {
     "data": {
      "text/plain": [
       "LinearRegression()"
      ]
     },
     "execution_count": 12,
     "metadata": {},
     "output_type": "execute_result"
    }
   ],
   "source": [
    "X_train, x_test, Y_train, y_test = train_test_split(X, Y, test_size=0.2)\n",
    "\n",
    "model = linear_model.LinearRegression()\n",
    "model.fit(X_train, Y_train)"
   ]
  },
  {
   "cell_type": "code",
   "execution_count": 13,
   "metadata": {},
   "outputs": [
    {
     "data": {
      "text/html": [
       "<div>\n",
       "<style scoped>\n",
       "    .dataframe tbody tr th:only-of-type {\n",
       "        vertical-align: middle;\n",
       "    }\n",
       "\n",
       "    .dataframe tbody tr th {\n",
       "        vertical-align: top;\n",
       "    }\n",
       "\n",
       "    .dataframe thead th {\n",
       "        text-align: right;\n",
       "    }\n",
       "</style>\n",
       "<table border=\"1\" class=\"dataframe\">\n",
       "  <thead>\n",
       "    <tr style=\"text-align: right;\">\n",
       "      <th></th>\n",
       "      <th>0</th>\n",
       "      <th>1</th>\n",
       "      <th>2</th>\n",
       "      <th>3</th>\n",
       "      <th>4</th>\n",
       "      <th>5</th>\n",
       "      <th>6</th>\n",
       "      <th>7</th>\n",
       "      <th>8</th>\n",
       "      <th>9</th>\n",
       "      <th>...</th>\n",
       "      <th>905</th>\n",
       "      <th>906</th>\n",
       "      <th>907</th>\n",
       "      <th>908</th>\n",
       "      <th>909</th>\n",
       "      <th>910</th>\n",
       "      <th>911</th>\n",
       "      <th>912</th>\n",
       "      <th>913</th>\n",
       "      <th>914</th>\n",
       "    </tr>\n",
       "  </thead>\n",
       "  <tbody>\n",
       "    <tr>\n",
       "      <th>0</th>\n",
       "      <td>-1.356315</td>\n",
       "      <td>-3.703669</td>\n",
       "      <td>-1.051723</td>\n",
       "      <td>-2.403899</td>\n",
       "      <td>-0.351034</td>\n",
       "      <td>-1.502174</td>\n",
       "      <td>-2.136071</td>\n",
       "      <td>-1.049519</td>\n",
       "      <td>-0.716177</td>\n",
       "      <td>-6.425677</td>\n",
       "      <td>...</td>\n",
       "      <td>-2.378611</td>\n",
       "      <td>-1.947288</td>\n",
       "      <td>-2.723806</td>\n",
       "      <td>-2.044786</td>\n",
       "      <td>-3.708265</td>\n",
       "      <td>-2.643873</td>\n",
       "      <td>-2.755287</td>\n",
       "      <td>-4.373323</td>\n",
       "      <td>-2.636848</td>\n",
       "      <td>-5.055805</td>\n",
       "    </tr>\n",
       "    <tr>\n",
       "      <th>1</th>\n",
       "      <td>-0.660000</td>\n",
       "      <td>-4.140000</td>\n",
       "      <td>-1.340000</td>\n",
       "      <td>-3.730000</td>\n",
       "      <td>0.570000</td>\n",
       "      <td>-1.110000</td>\n",
       "      <td>-1.170000</td>\n",
       "      <td>-0.850000</td>\n",
       "      <td>-0.490000</td>\n",
       "      <td>-7.280000</td>\n",
       "      <td>...</td>\n",
       "      <td>-2.580000</td>\n",
       "      <td>-0.850000</td>\n",
       "      <td>-3.110000</td>\n",
       "      <td>-1.040000</td>\n",
       "      <td>-3.590000</td>\n",
       "      <td>-2.337000</td>\n",
       "      <td>-1.640000</td>\n",
       "      <td>-4.880000</td>\n",
       "      <td>-2.350000</td>\n",
       "      <td>-5.270000</td>\n",
       "    </tr>\n",
       "  </tbody>\n",
       "</table>\n",
       "<p>2 rows × 915 columns</p>\n",
       "</div>"
      ],
      "text/plain": [
       "        0         1         2         3         4         5         6    \\\n",
       "0 -1.356315 -3.703669 -1.051723 -2.403899 -0.351034 -1.502174 -2.136071   \n",
       "1 -0.660000 -4.140000 -1.340000 -3.730000  0.570000 -1.110000 -1.170000   \n",
       "\n",
       "        7         8         9    ...       905       906       907       908  \\\n",
       "0 -1.049519 -0.716177 -6.425677  ... -2.378611 -1.947288 -2.723806 -2.044786   \n",
       "1 -0.850000 -0.490000 -7.280000  ... -2.580000 -0.850000 -3.110000 -1.040000   \n",
       "\n",
       "        909       910       911       912       913       914  \n",
       "0 -3.708265 -2.643873 -2.755287 -4.373323 -2.636848 -5.055805  \n",
       "1 -3.590000 -2.337000 -1.640000 -4.880000 -2.350000 -5.270000  \n",
       "\n",
       "[2 rows x 915 columns]"
      ]
     },
     "execution_count": 13,
     "metadata": {},
     "output_type": "execute_result"
    }
   ],
   "source": [
    "# predictions on training data\n",
    "predTrain = model.predict(X_train)\n",
    "predTest = model.predict(x_test)\n",
    "pd.DataFrame([predTrain,Y_train])"
   ]
  },
  {
   "cell_type": "code",
   "execution_count": 14,
   "metadata": {},
   "outputs": [
    {
     "name": "stdout",
     "output_type": "stream",
     "text": [
      "Coefficients: [-0.74099342 -0.00661237 -0.00323885 -0.49076549] \n",
      "Intercept: 0.29805134478838324 \n",
      "\n",
      "MSE:  1.0316180073353405 \n",
      "Coefficient of determination (R^2):  0.7688615915796508\n",
      "\n",
      "MSE:  0.9253264504156217 \n",
      "Coefficient of determination (R^2):  0.7736548556232452\n"
     ]
    }
   ],
   "source": [
    "print(\"Coefficients:\", model.coef_,\n",
    "    \"\\nIntercept:\", model.intercept_,\n",
    "    \"\\n\\nMSE: \",mean_squared_error(Y_train, predTrain),\n",
    "    \"\\nCoefficient of determination (R^2): \", r2_score(Y_train, predTrain))\n",
    "\n",
    "print(\"\\nMSE: \",mean_squared_error(y_test, predTest),\n",
    "    \"\\nCoefficient of determination (R^2): \", r2_score(y_test, predTest))"
   ]
  },
  {
   "cell_type": "code",
   "execution_count": 15,
   "metadata": {},
   "outputs": [],
   "source": [
    "0.298+"
   ]
  }
 ],
 "metadata": {
  "interpreter": {
   "hash": "31f2aee4e71d21fbe5cf8b01ff0e069b9275f58929596ceb00d14d90e3e16cd6"
  },
  "kernelspec": {
   "display_name": "Python 3.7.3 64-bit",
   "language": "python",
   "name": "python3"
  },
  "language_info": {
   "codemirror_mode": {
    "name": "ipython",
    "version": 3
   },
   "file_extension": ".py",
   "mimetype": "text/x-python",
   "name": "python",
   "nbconvert_exporter": "python",
   "pygments_lexer": "ipython3",
   "version": "3.7.3"
  },
  "orig_nbformat": 4
 },
 "nbformat": 4,
 "nbformat_minor": 2
}
