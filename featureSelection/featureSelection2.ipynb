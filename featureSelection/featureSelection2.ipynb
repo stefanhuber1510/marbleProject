{
 "cells": [
  {
   "cell_type": "markdown",
   "metadata": {},
   "source": [
    "Finishing Feature Selection Here"
   ]
  },
  {
   "cell_type": "code",
   "execution_count": 1,
   "metadata": {},
   "outputs": [],
   "source": [
    "import pandas as pd\n",
    "import _pickle as pickle\n",
    "\n",
    "with open('doubledData.pkl', 'rb') as inp:\n",
    "    data = pickle.load(inp)\n",
    "\n",
    "with open('joinFrame.pkl', 'rb') as inp:\n",
    "    drugs = pickle.load(inp)"
   ]
  },
  {
   "cell_type": "markdown",
   "metadata": {},
   "source": [
    "The example \"valproic acid sodium salt\" in data but \"valproic acid\" in drugs shows that there are still data lost due to incorrect names...<br>\n",
    "similarly drugs like \"mercaptopurine\" had to go because of duplicates -- room for improvement"
   ]
  },
  {
   "cell_type": "code",
   "execution_count": 4,
   "metadata": {},
   "outputs": [],
   "source": [
    "#not neccessary to compute, this is saved in a pickle\n",
    "  \n",
    "# d1_drugs = drugs.add_prefix(\"D1 \")\n",
    "# d2_drugs = drugs.add_prefix(\"D2 \")\n",
    "# \n",
    "# dataX2featureX2 = data.join(d1_drugs,on=\"Drug1\",how=\"left\")\n",
    "# dataX2featureX2 = dataX2featureX2.join(d2_drugs,on=\"Drug2\",how=\"left\")\n",
    "# dataX2featureX2.dropna(inplace=True)\n",
    "  \n",
    "# with open('allFeats2XrecordsFrame.pkl', 'wb') as outp:\n",
    "#     pickle.dump(dataX2featureX2, outp)"
   ]
  },
  {
   "cell_type": "code",
   "execution_count": 9,
   "metadata": {},
   "outputs": [
    {
     "name": "stdout",
     "output_type": "stream",
     "text": [
      "Data has 533854 records and 144 columns\n"
     ]
    }
   ],
   "source": [
    "with open('allFeats2XrecordsFrame.pkl', 'rb') as inp:\n",
    "    data = pickle.load(inp)\n",
    "print(f\"Data has %s records and %s columns\" % (len(data),int(data.size/len(data))))"
   ]
  },
  {
   "cell_type": "code",
   "execution_count": 7,
   "metadata": {},
   "outputs": [
    {
     "data": {
      "text/plain": [
       "144.0"
      ]
     },
     "execution_count": 7,
     "metadata": {},
     "output_type": "execute_result"
    }
   ],
   "source": [
    "# cell lines\n",
    "# wrapper or MV filter\n",
    "# get fingerprint data\n",
    "# consider neural networks?\n",
    "# decision tree on categorical data"
   ]
  },
  {
   "cell_type": "code",
   "execution_count": null,
   "metadata": {},
   "outputs": [],
   "source": [
    "from sklearn.model_selection import train_test_split\n",
    "from sklearn.linear_model import LinearRegression\n",
    "\n",
    "\n",
    "\n",
    "model = LinearRegression()\n",
    "model.fit(X_train, Y_train)\n",
    "print(model.coef_)\n",
    "print(model.intercept_)\n",
    "model.score(x_test,y_test) # r squared"
   ]
  }
 ],
 "metadata": {
  "interpreter": {
   "hash": "31f2aee4e71d21fbe5cf8b01ff0e069b9275f58929596ceb00d14d90e3e16cd6"
  },
  "kernelspec": {
   "display_name": "Python 3.7.3 64-bit",
   "language": "python",
   "name": "python3"
  },
  "language_info": {
   "codemirror_mode": {
    "name": "ipython",
    "version": 3
   },
   "file_extension": ".py",
   "mimetype": "text/x-python",
   "name": "python",
   "nbconvert_exporter": "python",
   "pygments_lexer": "ipython3",
   "version": "3.7.3"
  },
  "orig_nbformat": 4
 },
 "nbformat": 4,
 "nbformat_minor": 2
}
