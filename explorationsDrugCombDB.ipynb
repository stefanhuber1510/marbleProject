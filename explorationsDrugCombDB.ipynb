{
 "cells": [
  {
   "cell_type": "markdown",
   "metadata": {},
   "source": [
    "### In this File I'm going to explore Data from DrugCombDB"
   ]
  },
  {
   "cell_type": "markdown",
   "metadata": {},
   "source": [
    "Some theory Background:<br>\n",
    "DrugCombDB combines data from 4 kinds of sources:<br>\n",
    "1. HTS assays:                                       Main component; Dose-response landscapes from combinational therapy\n",
    "2. AstraZeneca Dataset:                        They did a ML competition on synergistic rules. Is integrated here\n",
    "3. Manual Literature curations            They reviewed 10k articles on PubMed and integrated data from there\n",
    "4. Other DBs                                           They added data from DCDB, DrugCentral, TTD, ASDC & DrugBank\n",
    "\n",
    "\n",
    "They found data on 3+ combinations, which is rare. Added a small extra dataset."
   ]
  },
  {
   "cell_type": "markdown",
   "metadata": {},
   "source": [
    "First I will try to connect with the API, I might later to prefer to download datasets"
   ]
  },
  {
   "cell_type": "code",
   "execution_count": 5,
   "metadata": {},
   "outputs": [
    {
     "name": "stdout",
     "output_type": "stream",
     "text": [
      "{\"timestamp\":\"2022-02-10T18:16:55.947+0000\",\"status\":404,\"error\":\"Not Found\",\"message\":\"No message available\",\"path\":\"/\"}\n"
     ]
    }
   ],
   "source": [
    "import requests\n",
    "import json\n",
    "\n",
    "url = 'http://drugcombdb.denglab.org:8888/'\n",
    "data = {\n",
    "    'combination_id': '444439',\n",
    "}\n",
    "\n",
    "r = requests.post(url, data=data)\n",
    "print(r.text)"
   ]
  },
  {
   "cell_type": "code",
   "execution_count": 2,
   "metadata": {},
   "outputs": [
    {
     "name": "stdout",
     "output_type": "stream",
     "text": [
      "{'code': 200, 'data': {'total': 91983, 'page': [{'blockId': 1, 'drugRowName': '5-FU', 'drugColName': 'ABT-888', 'concRow': 0.0, 'concCol': 0.0, 'concRowUnit': 'uM', 'concColUnit': 'uM', 'response': 100.00062645381074, 'blissScore': 0.0, 'source': 'ONEIL'}, {'blockId': 1, 'drugRowName': '5-FU', 'drugColName': 'ABT-888', 'concRow': 0.0, 'concCol': 0.35, 'concRowUnit': 'uM', 'concColUnit': 'uM', 'response': 101.99300946838412, 'blissScore': 0.0, 'source': 'ONEIL'}, {'blockId': 1, 'drugRowName': '5-FU', 'drugColName': 'ABT-888', 'concRow': 0.0, 'concCol': 1.08, 'concRowUnit': 'uM', 'concColUnit': 'uM', 'response': 100.95767331883155, 'blissScore': 0.0, 'source': 'ONEIL'}, {'blockId': 1, 'drugRowName': '5-FU', 'drugColName': 'ABT-888', 'concRow': 0.0, 'concCol': 3.25, 'concRowUnit': 'uM', 'concColUnit': 'uM', 'response': 99.93037198360902, 'blissScore': 0.0, 'source': 'ONEIL'}, {'blockId': 1, 'drugRowName': '5-FU', 'drugColName': 'ABT-888', 'concRow': 0.0, 'concCol': 10.0, 'concRowUnit': 'uM', 'concColUnit': 'uM', 'response': 98.86120202262839, 'blissScore': 0.0, 'source': 'ONEIL'}]}, 'msg': 'success'}\n"
     ]
    }
   ],
   "source": [
    "import requests\n",
    "\n",
    "ApiConfig = {\n",
    "  \"baseURL\": \"http://drugcombdb.denglab.org:8888\",\n",
    "  \"isCompleteResponse\": False,\n",
    "  \"timeout\": 10000,\n",
    "}\n",
    "\n",
    "def getDrugCombPagination(page, size):\n",
    "  return requests.get(\n",
    "    url=ApiConfig[\"baseURL\"] + \"/combination/list\",\n",
    "    params={\"page\": page, \"size\": size},\n",
    "    timeout=ApiConfig[\"timeout\"],\n",
    "  )\n",
    "\n",
    "def run():\n",
    "  print(getDrugCombPagination(1, 5).json())\n",
    "\n",
    "run()"
   ]
  },
  {
   "cell_type": "code",
   "execution_count": 3,
   "metadata": {},
   "outputs": [],
   "source": [
    "#do more different requests later"
   ]
  },
  {
   "cell_type": "markdown",
   "metadata": {},
   "source": [
    "added REGR to the file name to indicate, that the data in der are numeric <br><br>\n",
    "\n",
    "Combinations of drugs can have synergistic or antagonistic effects on each other, compared to single use<br>\n",
    "the dataset \"drugcombs_scored\" includes 4 different synergy metrics, in descending relevance.<br>\n",
    "The last one is a novel metric, espcially for HTC data:<br>\n",
    "1. Loewe additivity\n",
    "2. Bliss independence Models (ratio of change of effect due to combination)\n",
    "3. HSA (comparing difference of max effect)\n",
    "4. zero interaction potency (ZIP)\n",
    "\n",
    "\n",
    "### ADD FIGURE AND DESCRIPTON FROM PAPER"
   ]
  },
  {
   "cell_type": "code",
   "execution_count": 6,
   "metadata": {},
   "outputs": [
    {
     "name": "stdout",
     "output_type": "stream",
     "text": [
      "498865\n",
      "   ID Drug1    Drug2 Cell line   ZIP  Bliss  Loewe    HSA\n",
      "0   1  5-FU  ABT-888     A2058  1.72   6.26  -2.75   5.54\n",
      "1   2  5-FU  ABT-888     A2058  5.88  12.33   3.33  11.61\n",
      "2   3  5-FU  ABT-888     A2058  3.59  11.66   2.65  10.94\n",
      "----------------------------------------------------------------\n",
      "            ID           Drug1                      Drug2 Cell line     ZIP  \\\n",
      "498862  498863       Erlotinib  Valproic acid sodium salt    DIPG25 -15.768   \n",
      "498863  498864  Bafilomycin A1  Valproic acid sodium salt    DIPG25   2.208   \n",
      "498864  498865     Mebendazole  Valproic acid sodium salt    DIPG25   6.807   \n",
      "\n",
      "         Bliss   Loewe    HSA  \n",
      "498862 -15.776 -25.465 -6.212  \n",
      "498863  10.567  -9.455  1.525  \n",
      "498864  11.948 -18.311  1.149  \n"
     ]
    }
   ],
   "source": [
    "import pandas as pd\n",
    "scoredComb = pd.read_csv(\"drugCombDBdata/synergy-score-data/REGRdrugcombs_scored.csv\")\n",
    "print(len(scoredComb))\n",
    "print(scoredComb.head(3))\n",
    "print(\"----------------------------------------------------------------\")\n",
    "print(scoredComb[-3:])"
   ]
  },
  {
   "cell_type": "markdown",
   "metadata": {},
   "source": []
  },
  {
   "cell_type": "code",
   "execution_count": 1,
   "metadata": {},
   "outputs": [
    {
     "data": {
      "text/html": [
       "<div>\n",
       "<style scoped>\n",
       "    .dataframe tbody tr th:only-of-type {\n",
       "        vertical-align: middle;\n",
       "    }\n",
       "\n",
       "    .dataframe tbody tr th {\n",
       "        vertical-align: top;\n",
       "    }\n",
       "\n",
       "    .dataframe thead th {\n",
       "        text-align: right;\n",
       "    }\n",
       "</style>\n",
       "<table border=\"1\" class=\"dataframe\">\n",
       "  <thead>\n",
       "    <tr style=\"text-align: right;\">\n",
       "      <th></th>\n",
       "      <th>BlockID</th>\n",
       "      <th>Row</th>\n",
       "      <th>Col</th>\n",
       "      <th>DrugRow</th>\n",
       "      <th>DrugCol</th>\n",
       "      <th>ConcRow</th>\n",
       "      <th>ConcCol</th>\n",
       "      <th>Response</th>\n",
       "      <th>ConcRowUnit</th>\n",
       "      <th>ConcColUnit</th>\n",
       "      <th>source</th>\n",
       "    </tr>\n",
       "  </thead>\n",
       "  <tbody>\n",
       "    <tr>\n",
       "      <th>0</th>\n",
       "      <td>1</td>\n",
       "      <td>1</td>\n",
       "      <td>1</td>\n",
       "      <td>5-FU</td>\n",
       "      <td>ABT-888</td>\n",
       "      <td>0.0</td>\n",
       "      <td>0.00</td>\n",
       "      <td>100.000626</td>\n",
       "      <td>uM</td>\n",
       "      <td>uM</td>\n",
       "      <td>ONEIL</td>\n",
       "    </tr>\n",
       "    <tr>\n",
       "      <th>1</th>\n",
       "      <td>1</td>\n",
       "      <td>1</td>\n",
       "      <td>2</td>\n",
       "      <td>5-FU</td>\n",
       "      <td>ABT-888</td>\n",
       "      <td>0.0</td>\n",
       "      <td>0.35</td>\n",
       "      <td>101.993009</td>\n",
       "      <td>uM</td>\n",
       "      <td>uM</td>\n",
       "      <td>ONEIL</td>\n",
       "    </tr>\n",
       "    <tr>\n",
       "      <th>2</th>\n",
       "      <td>1</td>\n",
       "      <td>1</td>\n",
       "      <td>3</td>\n",
       "      <td>5-FU</td>\n",
       "      <td>ABT-888</td>\n",
       "      <td>0.0</td>\n",
       "      <td>1.08</td>\n",
       "      <td>100.957673</td>\n",
       "      <td>uM</td>\n",
       "      <td>uM</td>\n",
       "      <td>ONEIL</td>\n",
       "    </tr>\n",
       "    <tr>\n",
       "      <th>3</th>\n",
       "      <td>1</td>\n",
       "      <td>1</td>\n",
       "      <td>4</td>\n",
       "      <td>5-FU</td>\n",
       "      <td>ABT-888</td>\n",
       "      <td>0.0</td>\n",
       "      <td>3.25</td>\n",
       "      <td>99.930372</td>\n",
       "      <td>uM</td>\n",
       "      <td>uM</td>\n",
       "      <td>ONEIL</td>\n",
       "    </tr>\n",
       "    <tr>\n",
       "      <th>4</th>\n",
       "      <td>1</td>\n",
       "      <td>1</td>\n",
       "      <td>5</td>\n",
       "      <td>5-FU</td>\n",
       "      <td>ABT-888</td>\n",
       "      <td>0.0</td>\n",
       "      <td>10.00</td>\n",
       "      <td>98.861202</td>\n",
       "      <td>uM</td>\n",
       "      <td>uM</td>\n",
       "      <td>ONEIL</td>\n",
       "    </tr>\n",
       "  </tbody>\n",
       "</table>\n",
       "</div>"
      ],
      "text/plain": [
       "   BlockID  Row  Col DrugRow  DrugCol  ConcRow  ConcCol    Response  \\\n",
       "0        1    1    1    5-FU  ABT-888      0.0     0.00  100.000626   \n",
       "1        1    1    2    5-FU  ABT-888      0.0     0.35  101.993009   \n",
       "2        1    1    3    5-FU  ABT-888      0.0     1.08  100.957673   \n",
       "3        1    1    4    5-FU  ABT-888      0.0     3.25   99.930372   \n",
       "4        1    1    5    5-FU  ABT-888      0.0    10.00   98.861202   \n",
       "\n",
       "  ConcRowUnit ConcColUnit source  \n",
       "0          uM          uM  ONEIL  \n",
       "1          uM          uM  ONEIL  \n",
       "2          uM          uM  ONEIL  \n",
       "3          uM          uM  ONEIL  \n",
       "4          uM          uM  ONEIL  "
      ]
     },
     "execution_count": 1,
     "metadata": {},
     "output_type": "execute_result"
    }
   ],
   "source": [
    "import pandas as pd\n",
    "pd.read_csv(\"./drugCombDBdata/synergy-score-data/SHORTdrugcombs_response.csv\").head()\n"
   ]
  },
  {
   "cell_type": "code",
   "execution_count": 2,
   "metadata": {},
   "outputs": [
    {
     "data": {
      "text/html": [
       "<div>\n",
       "<style scoped>\n",
       "    .dataframe tbody tr th:only-of-type {\n",
       "        vertical-align: middle;\n",
       "    }\n",
       "\n",
       "    .dataframe tbody tr th {\n",
       "        vertical-align: top;\n",
       "    }\n",
       "\n",
       "    .dataframe thead th {\n",
       "        text-align: right;\n",
       "    }\n",
       "</style>\n",
       "<table border=\"1\" class=\"dataframe\">\n",
       "  <thead>\n",
       "    <tr style=\"text-align: right;\">\n",
       "      <th></th>\n",
       "      <th>Drug1</th>\n",
       "      <th>Drug2</th>\n",
       "      <th>Drug3</th>\n",
       "      <th>Drug1 Concentration</th>\n",
       "      <th>Drug2 Concentration</th>\n",
       "      <th>Drug3 Concentration</th>\n",
       "      <th>Small Mol Conc Unit</th>\n",
       "      <th>Replicate</th>\n",
       "      <th>Total Number of Cells (Nuclei)</th>\n",
       "      <th>Number of Apoptotic Cells</th>\n",
       "      <th>Relative Viability</th>\n",
       "      <th>Mean Relative Viability</th>\n",
       "      <th>Apoptosis Fraction</th>\n",
       "      <th>Mean Apoptosis Fraction</th>\n",
       "      <th>Cell Name</th>\n",
       "    </tr>\n",
       "  </thead>\n",
       "  <tbody>\n",
       "    <tr>\n",
       "      <th>0</th>\n",
       "      <td>Vemurafenib</td>\n",
       "      <td>Trametinib</td>\n",
       "      <td>Dasatinib</td>\n",
       "      <td>0.0</td>\n",
       "      <td>0.0</td>\n",
       "      <td>0.000</td>\n",
       "      <td>uM</td>\n",
       "      <td>1</td>\n",
       "      <td>15785</td>\n",
       "      <td>755</td>\n",
       "      <td>0.9659</td>\n",
       "      <td>1.0000</td>\n",
       "      <td>0.0478</td>\n",
       "      <td>0.0508</td>\n",
       "      <td>A-375</td>\n",
       "    </tr>\n",
       "    <tr>\n",
       "      <th>1</th>\n",
       "      <td>Vemurafenib</td>\n",
       "      <td>Trametinib</td>\n",
       "      <td>Dasatinib</td>\n",
       "      <td>0.0</td>\n",
       "      <td>0.0</td>\n",
       "      <td>0.000</td>\n",
       "      <td>uM</td>\n",
       "      <td>2</td>\n",
       "      <td>15978</td>\n",
       "      <td>849</td>\n",
       "      <td>0.9722</td>\n",
       "      <td>1.0000</td>\n",
       "      <td>0.0531</td>\n",
       "      <td>0.0508</td>\n",
       "      <td>A-375</td>\n",
       "    </tr>\n",
       "    <tr>\n",
       "      <th>2</th>\n",
       "      <td>Vemurafenib</td>\n",
       "      <td>Trametinib</td>\n",
       "      <td>Dasatinib</td>\n",
       "      <td>0.0</td>\n",
       "      <td>0.0</td>\n",
       "      <td>0.000</td>\n",
       "      <td>uM</td>\n",
       "      <td>3</td>\n",
       "      <td>17422</td>\n",
       "      <td>897</td>\n",
       "      <td>1.0619</td>\n",
       "      <td>1.0000</td>\n",
       "      <td>0.0515</td>\n",
       "      <td>0.0508</td>\n",
       "      <td>A-375</td>\n",
       "    </tr>\n",
       "    <tr>\n",
       "      <th>3</th>\n",
       "      <td>Vemurafenib</td>\n",
       "      <td>Trametinib</td>\n",
       "      <td>Dasatinib</td>\n",
       "      <td>0.0</td>\n",
       "      <td>0.0</td>\n",
       "      <td>0.316</td>\n",
       "      <td>uM</td>\n",
       "      <td>1</td>\n",
       "      <td>3999</td>\n",
       "      <td>254</td>\n",
       "      <td>0.2407</td>\n",
       "      <td>0.2809</td>\n",
       "      <td>0.0635</td>\n",
       "      <td>0.0601</td>\n",
       "      <td>A-375</td>\n",
       "    </tr>\n",
       "    <tr>\n",
       "      <th>4</th>\n",
       "      <td>Vemurafenib</td>\n",
       "      <td>Trametinib</td>\n",
       "      <td>Dasatinib</td>\n",
       "      <td>0.0</td>\n",
       "      <td>0.0</td>\n",
       "      <td>0.316</td>\n",
       "      <td>uM</td>\n",
       "      <td>2</td>\n",
       "      <td>4717</td>\n",
       "      <td>279</td>\n",
       "      <td>0.2852</td>\n",
       "      <td>0.2809</td>\n",
       "      <td>0.0591</td>\n",
       "      <td>0.0601</td>\n",
       "      <td>A-375</td>\n",
       "    </tr>\n",
       "  </tbody>\n",
       "</table>\n",
       "</div>"
      ],
      "text/plain": [
       "        Drug1        Drug2      Drug3  Drug1 Concentration  \\\n",
       "0  Vemurafenib  Trametinib  Dasatinib                  0.0   \n",
       "1  Vemurafenib  Trametinib  Dasatinib                  0.0   \n",
       "2  Vemurafenib  Trametinib  Dasatinib                  0.0   \n",
       "3  Vemurafenib  Trametinib  Dasatinib                  0.0   \n",
       "4  Vemurafenib  Trametinib  Dasatinib                  0.0   \n",
       "\n",
       "   Drug2 Concentration  Drug3 Concentration Small Mol Conc Unit  Replicate  \\\n",
       "0                  0.0                0.000                  uM          1   \n",
       "1                  0.0                0.000                  uM          2   \n",
       "2                  0.0                0.000                  uM          3   \n",
       "3                  0.0                0.316                  uM          1   \n",
       "4                  0.0                0.316                  uM          2   \n",
       "\n",
       "   Total Number of Cells (Nuclei)  Number of Apoptotic Cells  \\\n",
       "0                           15785                        755   \n",
       "1                           15978                        849   \n",
       "2                           17422                        897   \n",
       "3                            3999                        254   \n",
       "4                            4717                        279   \n",
       "\n",
       "   Relative Viability  Mean Relative Viability  Apoptosis Fraction  \\\n",
       "0              0.9659                   1.0000              0.0478   \n",
       "1              0.9722                   1.0000              0.0531   \n",
       "2              1.0619                   1.0000              0.0515   \n",
       "3              0.2407                   0.2809              0.0635   \n",
       "4              0.2852                   0.2809              0.0591   \n",
       "\n",
       "   Mean Apoptosis Fraction Cell Name  \n",
       "0                   0.0508     A-375  \n",
       "1                   0.0508     A-375  \n",
       "2                   0.0508     A-375  \n",
       "3                   0.0601     A-375  \n",
       "4                   0.0601     A-375  "
      ]
     },
     "execution_count": 2,
     "metadata": {},
     "output_type": "execute_result"
    }
   ],
   "source": [
    "import pandas as pd\n",
    "from rdkit import Chem\n",
    "data3combs = pd.read_csv(\"./drugCombDBdata/ThreeDrugCombs.csv\")\n",
    "data3combs.head()"
   ]
  },
  {
   "cell_type": "markdown",
   "metadata": {},
   "source": [
    "For the classification task:\n",
    "Just make features out of drugs, chemistry, cell lines etc and build a model for classification\n",
    "...or build regression task"
   ]
  },
  {
   "cell_type": "code",
   "execution_count": 3,
   "metadata": {},
   "outputs": [
    {
     "name": "stdout",
     "output_type": "stream",
     "text": [
      "number of Drug-Protein combinations: 15473939\n"
     ]
    },
    {
     "data": {
      "text/html": [
       "<div>\n",
       "<style scoped>\n",
       "    .dataframe tbody tr th:only-of-type {\n",
       "        vertical-align: middle;\n",
       "    }\n",
       "\n",
       "    .dataframe tbody tr th {\n",
       "        vertical-align: top;\n",
       "    }\n",
       "\n",
       "    .dataframe thead th {\n",
       "        text-align: right;\n",
       "    }\n",
       "</style>\n",
       "<table border=\"1\" class=\"dataframe\">\n",
       "  <thead>\n",
       "    <tr style=\"text-align: right;\">\n",
       "      <th></th>\n",
       "      <th>chemical</th>\n",
       "      <th>protein</th>\n",
       "      <th>experimental</th>\n",
       "      <th>prediction</th>\n",
       "      <th>database</th>\n",
       "      <th>textmining</th>\n",
       "      <th>combined_score</th>\n",
       "    </tr>\n",
       "  </thead>\n",
       "  <tbody>\n",
       "    <tr>\n",
       "      <th>0</th>\n",
       "      <td>CIDm91758680</td>\n",
       "      <td>9606.ENSP00000257254</td>\n",
       "      <td>0</td>\n",
       "      <td>0</td>\n",
       "      <td>0</td>\n",
       "      <td>278</td>\n",
       "      <td>279</td>\n",
       "    </tr>\n",
       "    <tr>\n",
       "      <th>1</th>\n",
       "      <td>CIDm91758680</td>\n",
       "      <td>9606.ENSP00000302120</td>\n",
       "      <td>0</td>\n",
       "      <td>0</td>\n",
       "      <td>0</td>\n",
       "      <td>154</td>\n",
       "      <td>154</td>\n",
       "    </tr>\n",
       "    <tr>\n",
       "      <th>2</th>\n",
       "      <td>CIDm91758408</td>\n",
       "      <td>9606.ENSP00000006777</td>\n",
       "      <td>0</td>\n",
       "      <td>0</td>\n",
       "      <td>0</td>\n",
       "      <td>225</td>\n",
       "      <td>225</td>\n",
       "    </tr>\n",
       "  </tbody>\n",
       "</table>\n",
       "</div>"
      ],
      "text/plain": [
       "       chemical               protein  experimental  prediction  database  \\\n",
       "0  CIDm91758680  9606.ENSP00000257254             0           0         0   \n",
       "1  CIDm91758680  9606.ENSP00000302120             0           0         0   \n",
       "2  CIDm91758408  9606.ENSP00000006777             0           0         0   \n",
       "\n",
       "   textmining  combined_score  \n",
       "0         278             279  \n",
       "1         154             154  \n",
       "2         225             225  "
      ]
     },
     "execution_count": 3,
     "metadata": {},
     "output_type": "execute_result"
    }
   ],
   "source": [
    "#don't unneccessarily execute, its big!\n",
    "drugProteinLinks = pd.read_csv(\"./drugCombDBdata/descriptions/drug_protein_links.tsv\",sep=\"\\t\")\n",
    "print(\"number of Drug-Protein combinations:\",len(drugProteinLinks))\n",
    "drugProteinLinks.head(3)"
   ]
  },
  {
   "cell_type": "code",
   "execution_count": 3,
   "metadata": {},
   "outputs": [
    {
     "name": "stdout",
     "output_type": "stream",
     "text": [
      "0 [1]\n"
     ]
    }
   ],
   "source": [
    "def sample (items, n): result = [] for i, item in enumerate (items):\n",
    "    if i < n:\n",
    "    result.append(item)\n",
    "    else:\n",
    "    j = randint(0, i) # random integer, inclusive\n",
    "    if j < n:\n",
    "    # (Fill in the missing line here)\n",
    "    result[j] = item\n",
    "    return result"
   ]
  },
  {
   "cell_type": "code",
   "execution_count": 7,
   "metadata": {},
   "outputs": [
    {
     "name": "stdout",
     "output_type": "stream",
     "text": [
      "1\n"
     ]
    }
   ],
   "source": [
    "import queue\n",
    "import threading\n",
    "import time\n",
    "q = queue.Queue ()\n",
    "for i in [3,2,1]:\n",
    "    def f():\n",
    "        time.sleep(i)\n",
    "        q.put(i)\n",
    "    threading.Thread (target=f).start()\n",
    "print (q.get())"
   ]
  },
  {
   "cell_type": "code",
   "execution_count": 1,
   "metadata": {},
   "outputs": [
    {
     "name": "stdout",
     "output_type": "stream",
     "text": [
      "(0, 1)\n",
      "(1, 3)\n",
      "(2, 4)\n"
     ]
    }
   ],
   "source": [
    "lst = [1,3,4]\n",
    "for i in enumerate(lst):\n",
    "    print(i)"
   ]
  },
  {
   "cell_type": "code",
   "execution_count": null,
   "metadata": {},
   "outputs": [],
   "source": [
    "#more analysis in colab\n",
    "del drugProteinLinks"
   ]
  },
  {
   "cell_type": "code",
   "execution_count": 3,
   "metadata": {},
   "outputs": [
    {
     "name": "stdout",
     "output_type": "stream",
     "text": [
      "Length: 11759454\n"
     ]
    },
    {
     "data": {
      "text/html": [
       "<div>\n",
       "<style scoped>\n",
       "    .dataframe tbody tr th:only-of-type {\n",
       "        vertical-align: middle;\n",
       "    }\n",
       "\n",
       "    .dataframe tbody tr th {\n",
       "        vertical-align: top;\n",
       "    }\n",
       "\n",
       "    .dataframe thead th {\n",
       "        text-align: right;\n",
       "    }\n",
       "</style>\n",
       "<table border=\"1\" class=\"dataframe\">\n",
       "  <thead>\n",
       "    <tr style=\"text-align: right;\">\n",
       "      <th></th>\n",
       "      <th>protein1</th>\n",
       "      <th>protein2</th>\n",
       "      <th>combined_score</th>\n",
       "    </tr>\n",
       "  </thead>\n",
       "  <tbody>\n",
       "    <tr>\n",
       "      <th>0</th>\n",
       "      <td>9606.ENSP00000000233</td>\n",
       "      <td>9606.ENSP00000272298</td>\n",
       "      <td>490</td>\n",
       "    </tr>\n",
       "    <tr>\n",
       "      <th>1</th>\n",
       "      <td>9606.ENSP00000000233</td>\n",
       "      <td>9606.ENSP00000253401</td>\n",
       "      <td>198</td>\n",
       "    </tr>\n",
       "    <tr>\n",
       "      <th>2</th>\n",
       "      <td>9606.ENSP00000000233</td>\n",
       "      <td>9606.ENSP00000401445</td>\n",
       "      <td>159</td>\n",
       "    </tr>\n",
       "  </tbody>\n",
       "</table>\n",
       "</div>"
      ],
      "text/plain": [
       "               protein1              protein2  combined_score\n",
       "0  9606.ENSP00000000233  9606.ENSP00000272298             490\n",
       "1  9606.ENSP00000000233  9606.ENSP00000253401             198\n",
       "2  9606.ENSP00000000233  9606.ENSP00000401445             159"
      ]
     },
     "execution_count": 3,
     "metadata": {},
     "output_type": "execute_result"
    }
   ],
   "source": [
    "#don't unneccessarily execute, its big!\n",
    "proteinProteinLinks = pd.read_csv(\"./drugCombDBdata/descriptions/protein_protein_links.txt\",sep=\" \")\n",
    "print(\"Length:\",len(proteinProteinLinks))\n",
    "proteinProteinLinks.head(3)"
   ]
  },
  {
   "cell_type": "code",
   "execution_count": 25,
   "metadata": {},
   "outputs": [],
   "source": [
    "#more in colab\n",
    "del proteinProteinLinks"
   ]
  },
  {
   "cell_type": "code",
   "execution_count": 27,
   "metadata": {},
   "outputs": [
    {
     "name": "stdout",
     "output_type": "stream",
     "text": [
      "['protein1 protein2 combined_score\\n', '9606.ENSP00000000233 9606.ENSP00000272298 490\\n', '9606.ENSP00000000233 9606.ENSP00000253401 198\\n', '9606.ENSP00000000233 9606.ENSP00000401445 159\\n', '9606.ENSP00000000233 9606.ENSP00000418915 606\\n']\n"
     ]
    }
   ],
   "source": [
    "#wondering if they've cut out something\n",
    "with open(\"./drugCombDBdata/descriptions/protein_protein_links.txt\") as myfile:\n",
    "    head = [next(myfile) for x in range(5)]\n",
    "print(head)\n",
    "#no they didn't"
   ]
  },
  {
   "cell_type": "code",
   "execution_count": null,
   "metadata": {},
   "outputs": [],
   "source": []
  },
  {
   "cell_type": "code",
   "execution_count": 12,
   "metadata": {},
   "outputs": [
    {
     "name": "stdout",
     "output_type": "stream",
     "text": [
      "Numer of Drugs: 3059\n"
     ]
    },
    {
     "data": {
      "text/html": [
       "<div>\n",
       "<style scoped>\n",
       "    .dataframe tbody tr th:only-of-type {\n",
       "        vertical-align: middle;\n",
       "    }\n",
       "\n",
       "    .dataframe tbody tr th {\n",
       "        vertical-align: top;\n",
       "    }\n",
       "\n",
       "    .dataframe thead th {\n",
       "        text-align: right;\n",
       "    }\n",
       "</style>\n",
       "<table border=\"1\" class=\"dataframe\">\n",
       "  <thead>\n",
       "    <tr style=\"text-align: right;\">\n",
       "      <th></th>\n",
       "      <th>drugName</th>\n",
       "      <th>cIds</th>\n",
       "      <th>drugNameOfficial</th>\n",
       "      <th>molecularWeight</th>\n",
       "      <th>smilesString</th>\n",
       "    </tr>\n",
       "  </thead>\n",
       "  <tbody>\n",
       "    <tr>\n",
       "      <th>0</th>\n",
       "      <td>Bendamustine</td>\n",
       "      <td>CIDs00065628</td>\n",
       "      <td>bendamustine</td>\n",
       "      <td>358.26284</td>\n",
       "      <td>CN1C2=C(C=C(C=C2)N(CCCl)CCCl)N=C1CCCC(=O)O</td>\n",
       "    </tr>\n",
       "    <tr>\n",
       "      <th>1</th>\n",
       "      <td>Lonidamine</td>\n",
       "      <td>CIDs00039562</td>\n",
       "      <td>lonidamine</td>\n",
       "      <td>321.15810</td>\n",
       "      <td>C1=CC=C2C(=C1)C(=NN2CC3=C(C=C(C=C3)Cl)Cl)C(=O)O</td>\n",
       "    </tr>\n",
       "    <tr>\n",
       "      <th>2</th>\n",
       "      <td>Lenalidomide</td>\n",
       "      <td>CIDs00216326</td>\n",
       "      <td>lenalidomide</td>\n",
       "      <td>259.26062</td>\n",
       "      <td>C1CC(=O)NC(=O)C1N2CC3=C(C2=O)C=CC=C3N</td>\n",
       "    </tr>\n",
       "  </tbody>\n",
       "</table>\n",
       "</div>"
      ],
      "text/plain": [
       "       drugName          cIds drugNameOfficial  molecularWeight  \\\n",
       "0  Bendamustine  CIDs00065628     bendamustine        358.26284   \n",
       "1    Lonidamine  CIDs00039562       lonidamine        321.15810   \n",
       "2  Lenalidomide  CIDs00216326     lenalidomide        259.26062   \n",
       "\n",
       "                                      smilesString  \n",
       "0       CN1C2=C(C=C(C=C2)N(CCCl)CCCl)N=C1CCCC(=O)O  \n",
       "1  C1=CC=C2C(=C1)C(=NN2CC3=C(C=C(C=C3)Cl)Cl)C(=O)O  \n",
       "2            C1CC(=O)NC(=O)C1N2CC3=C(C2=O)C=CC=C3N  "
      ]
     },
     "execution_count": 12,
     "metadata": {},
     "output_type": "execute_result"
    }
   ],
   "source": [
    "drugChem = pd.read_csv(\"./drugCombDBdata/descriptions/drug_chemical_info.csv\")\n",
    "print(\"Numer of Drugs:\",len(drugChem))\n",
    "drugChem.head(3)"
   ]
  },
  {
   "cell_type": "code",
   "execution_count": 13,
   "metadata": {},
   "outputs": [
    {
     "name": "stdout",
     "output_type": "stream",
     "text": [
      "Number of Cell Lines: 104\n"
     ]
    },
    {
     "data": {
      "text/html": [
       "<div>\n",
       "<style scoped>\n",
       "    .dataframe tbody tr th:only-of-type {\n",
       "        vertical-align: middle;\n",
       "    }\n",
       "\n",
       "    .dataframe tbody tr th {\n",
       "        vertical-align: top;\n",
       "    }\n",
       "\n",
       "    .dataframe thead th {\n",
       "        text-align: right;\n",
       "    }\n",
       "</style>\n",
       "<table border=\"1\" class=\"dataframe\">\n",
       "  <thead>\n",
       "    <tr style=\"text-align: right;\">\n",
       "      <th></th>\n",
       "      <th>cellName</th>\n",
       "      <th>cosmicId</th>\n",
       "      <th>tag</th>\n",
       "    </tr>\n",
       "  </thead>\n",
       "  <tbody>\n",
       "    <tr>\n",
       "      <th>0</th>\n",
       "      <td>786-0</td>\n",
       "      <td>905947.0</td>\n",
       "      <td>NaN</td>\n",
       "    </tr>\n",
       "    <tr>\n",
       "      <th>1</th>\n",
       "      <td>A498</td>\n",
       "      <td>905948.0</td>\n",
       "      <td>NaN</td>\n",
       "    </tr>\n",
       "    <tr>\n",
       "      <th>2</th>\n",
       "      <td>A549/ATCC</td>\n",
       "      <td>905949.0</td>\n",
       "      <td>NaN</td>\n",
       "    </tr>\n",
       "  </tbody>\n",
       "</table>\n",
       "</div>"
      ],
      "text/plain": [
       "    cellName  cosmicId  tag\n",
       "0      786-0  905947.0  NaN\n",
       "1       A498  905948.0  NaN\n",
       "2  A549/ATCC  905949.0  NaN"
      ]
     },
     "execution_count": 13,
     "metadata": {},
     "output_type": "execute_result"
    }
   ],
   "source": [
    "cellLines = pd.read_csv(\"./drugCombDBdata/descriptions/cell_Line.csv\")\n",
    "print(\"Number of Cell Lines:\",len(cellLines))\n",
    "cellLines.head(3)"
   ]
  },
  {
   "cell_type": "markdown",
   "metadata": {},
   "source": [
    "Making simple univariate regression model here on HSA:"
   ]
  },
  {
   "cell_type": "code",
   "execution_count": 43,
   "metadata": {},
   "outputs": [
    {
     "data": {
      "text/html": [
       "<div>\n",
       "<style scoped>\n",
       "    .dataframe tbody tr th:only-of-type {\n",
       "        vertical-align: middle;\n",
       "    }\n",
       "\n",
       "    .dataframe tbody tr th {\n",
       "        vertical-align: top;\n",
       "    }\n",
       "\n",
       "    .dataframe thead th {\n",
       "        text-align: right;\n",
       "    }\n",
       "</style>\n",
       "<table border=\"1\" class=\"dataframe\">\n",
       "  <thead>\n",
       "    <tr style=\"text-align: right;\">\n",
       "      <th></th>\n",
       "      <th>cIds</th>\n",
       "      <th>smilesString</th>\n",
       "      <th>HSA</th>\n",
       "    </tr>\n",
       "  </thead>\n",
       "  <tbody>\n",
       "    <tr>\n",
       "      <th>0</th>\n",
       "      <td>CIDs00003385</td>\n",
       "      <td>C1=C(C(=O)NC(=O)N1)F</td>\n",
       "      <td>5.54</td>\n",
       "    </tr>\n",
       "    <tr>\n",
       "      <th>1</th>\n",
       "      <td>CIDs00003385</td>\n",
       "      <td>C1=C(C(=O)NC(=O)N1)F</td>\n",
       "      <td>11.61</td>\n",
       "    </tr>\n",
       "    <tr>\n",
       "      <th>2</th>\n",
       "      <td>CIDs00003385</td>\n",
       "      <td>C1=C(C(=O)NC(=O)N1)F</td>\n",
       "      <td>10.94</td>\n",
       "    </tr>\n",
       "  </tbody>\n",
       "</table>\n",
       "</div>"
      ],
      "text/plain": [
       "           cIds          smilesString    HSA\n",
       "0  CIDs00003385  C1=C(C(=O)NC(=O)N1)F   5.54\n",
       "1  CIDs00003385  C1=C(C(=O)NC(=O)N1)F  11.61\n",
       "2  CIDs00003385  C1=C(C(=O)NC(=O)N1)F  10.94"
      ]
     },
     "execution_count": 43,
     "metadata": {},
     "output_type": "execute_result"
    }
   ],
   "source": [
    "temp=drugChem.loc[:,[\"drugName\",\"cIds\",\"smilesString\"]].set_index(\"drugName\")\n",
    "\n",
    "smilesHSAtable = scoredComb.join(temp,on=\"Drug1\",how=\"left\").loc[:,[\"cIds\",\"smilesString\",\"HSA\"]]\n",
    "del temp\n",
    "smilesHSAtable.head(3)"
   ]
  },
  {
   "cell_type": "markdown",
   "metadata": {},
   "source": [
    "add molecules to the table"
   ]
  },
  {
   "cell_type": "code",
   "execution_count": 77,
   "metadata": {},
   "outputs": [
    {
     "data": {
      "text/html": [
       "<div>\n",
       "<style scoped>\n",
       "    .dataframe tbody tr th:only-of-type {\n",
       "        vertical-align: middle;\n",
       "    }\n",
       "\n",
       "    .dataframe tbody tr th {\n",
       "        vertical-align: top;\n",
       "    }\n",
       "\n",
       "    .dataframe thead th {\n",
       "        text-align: right;\n",
       "    }\n",
       "</style>\n",
       "<table border=\"1\" class=\"dataframe\">\n",
       "  <thead>\n",
       "    <tr style=\"text-align: right;\">\n",
       "      <th></th>\n",
       "      <th>cIds</th>\n",
       "      <th>smilesString</th>\n",
       "      <th>HSA</th>\n",
       "    </tr>\n",
       "  </thead>\n",
       "  <tbody>\n",
       "    <tr>\n",
       "      <th>208</th>\n",
       "      <td>NaN</td>\n",
       "      <td>NaN</td>\n",
       "      <td>1.360</td>\n",
       "    </tr>\n",
       "    <tr>\n",
       "      <th>209</th>\n",
       "      <td>NaN</td>\n",
       "      <td>NaN</td>\n",
       "      <td>0.910</td>\n",
       "    </tr>\n",
       "    <tr>\n",
       "      <th>210</th>\n",
       "      <td>NaN</td>\n",
       "      <td>NaN</td>\n",
       "      <td>1.720</td>\n",
       "    </tr>\n",
       "    <tr>\n",
       "      <th>211</th>\n",
       "      <td>NaN</td>\n",
       "      <td>NaN</td>\n",
       "      <td>6.110</td>\n",
       "    </tr>\n",
       "    <tr>\n",
       "      <th>212</th>\n",
       "      <td>NaN</td>\n",
       "      <td>NaN</td>\n",
       "      <td>2.220</td>\n",
       "    </tr>\n",
       "    <tr>\n",
       "      <th>...</th>\n",
       "      <td>...</td>\n",
       "      <td>...</td>\n",
       "      <td>...</td>\n",
       "    </tr>\n",
       "    <tr>\n",
       "      <th>498834</th>\n",
       "      <td>CIDs00060838</td>\n",
       "      <td>NaN</td>\n",
       "      <td>-2.636</td>\n",
       "    </tr>\n",
       "    <tr>\n",
       "      <th>498837</th>\n",
       "      <td>CIDs118958122</td>\n",
       "      <td>NaN</td>\n",
       "      <td>-1.359</td>\n",
       "    </tr>\n",
       "    <tr>\n",
       "      <th>498843</th>\n",
       "      <td>CIDs09852573</td>\n",
       "      <td>NaN</td>\n",
       "      <td>5.889</td>\n",
       "    </tr>\n",
       "    <tr>\n",
       "      <th>498851</th>\n",
       "      <td>CIDs118191391</td>\n",
       "      <td>NaN</td>\n",
       "      <td>-1.262</td>\n",
       "    </tr>\n",
       "    <tr>\n",
       "      <th>498852</th>\n",
       "      <td>CIDs73777259</td>\n",
       "      <td>NaN</td>\n",
       "      <td>-0.225</td>\n",
       "    </tr>\n",
       "  </tbody>\n",
       "</table>\n",
       "<p>340850 rows × 3 columns</p>\n",
       "</div>"
      ],
      "text/plain": [
       "                 cIds smilesString    HSA\n",
       "208               NaN          NaN  1.360\n",
       "209               NaN          NaN  0.910\n",
       "210               NaN          NaN  1.720\n",
       "211               NaN          NaN  6.110\n",
       "212               NaN          NaN  2.220\n",
       "...               ...          ...    ...\n",
       "498834   CIDs00060838          NaN -2.636\n",
       "498837  CIDs118958122          NaN -1.359\n",
       "498843   CIDs09852573          NaN  5.889\n",
       "498851  CIDs118191391          NaN -1.262\n",
       "498852   CIDs73777259          NaN -0.225\n",
       "\n",
       "[340850 rows x 3 columns]"
      ]
     },
     "execution_count": 77,
     "metadata": {},
     "output_type": "execute_result"
    }
   ],
   "source": [
    "smilesHSAtable[smilesHSAtable.loc[:,\"smilesString\"].astype(str)==\"nan\"]"
   ]
  },
  {
   "cell_type": "code",
   "execution_count": null,
   "metadata": {},
   "outputs": [],
   "source": [
    "Chem.MolFromSmiles(smilesHSAtable.loc[0,\"smilesString\"])\n",
    "counter=0\n",
    "for x in smilesHSAtable.loc[:,\"smilesString\"].astype(str):\n",
    "    if counter==0:\n",
    "        tem=Chem.MolFromSmiles(x)"
   ]
  },
  {
   "cell_type": "code",
   "execution_count": null,
   "metadata": {},
   "outputs": [],
   "source": []
  },
  {
   "cell_type": "code",
   "execution_count": 64,
   "metadata": {},
   "outputs": [
    {
     "ename": "SyntaxError",
     "evalue": "invalid syntax (<ipython-input-64-1ea043593837>, line 4)",
     "output_type": "error",
     "traceback": [
      "\u001b[0;36m  File \u001b[0;32m\"<ipython-input-64-1ea043593837>\"\u001b[0;36m, line \u001b[0;32m4\u001b[0m\n\u001b[0;31m    smilesHSAtable['mols'] = [Chem.MolFromSmiles(x), counter+=1 for x in smilesHSAtable.loc[:,\"smilesString\"]]\u001b[0m\n\u001b[0m                                                             ^\u001b[0m\n\u001b[0;31mSyntaxError\u001b[0m\u001b[0;31m:\u001b[0m invalid syntax\n"
     ]
    }
   ],
   "source": [
    "# making a mol list from the smiles\n",
    "from mediumArticleSolubility.mediumArticleFunctionGenerate import generate\n",
    "\n",
    "smilesHSAtable['mols'] = [Chem.MolFromSmiles(x), counter+=1 for x in smilesHSAtable.loc[:,\"smilesString\"]]\n",
    "smilesHSAtable\n",
    "\n",
    "\n",
    "descriptorDF = generate(smilesHSAtable.loc[:,\"smilesString\"]) #don't rely on indices, they change in any filtering step\n",
    "descriptorDF.head(3)"
   ]
  }
 ],
 "metadata": {
  "interpreter": {
   "hash": "31f2aee4e71d21fbe5cf8b01ff0e069b9275f58929596ceb00d14d90e3e16cd6"
  },
  "kernelspec": {
   "display_name": "Python 3.7.3 64-bit",
   "language": "python",
   "name": "python3"
  },
  "language_info": {
   "codemirror_mode": {
    "name": "ipython",
    "version": 3
   },
   "file_extension": ".py",
   "mimetype": "text/x-python",
   "name": "python",
   "nbconvert_exporter": "python",
   "pygments_lexer": "ipython3",
   "version": "3.7.3"
  },
  "orig_nbformat": 4
 },
 "nbformat": 4,
 "nbformat_minor": 2
}
