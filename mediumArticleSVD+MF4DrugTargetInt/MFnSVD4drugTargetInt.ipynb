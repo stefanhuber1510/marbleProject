{
 "cells": [
  {
   "cell_type": "markdown",
   "metadata": {},
   "source": [
    "### In this notebook I will reconstruct the Medium Article <br>that aims to predict Drug-Target interactions<br> by employing Singular Value Decomposition and Matrix Factorisation"
   ]
  },
  {
   "cell_type": "markdown",
   "metadata": {},
   "source": [
    "source paper: https://www.nature.com/articles/s41467-017-00680-8 <br>\n",
    "source for drug data: https://drugcentral.org/download on 20.2.2022"
   ]
  },
  {
   "cell_type": "code",
   "execution_count": 3,
   "metadata": {},
   "outputs": [],
   "source": [
    "import itertools\n",
    "import pandas as pd"
   ]
  },
  {
   "cell_type": "code",
   "execution_count": 41,
   "metadata": {},
   "outputs": [
    {
     "name": "stdout",
     "output_type": "stream",
     "text": [
      "Unique drugs: 2587\n",
      "Unique tagets: 2167\n"
     ]
    },
    {
     "data": {
      "text/html": [
       "<div>\n",
       "<style scoped>\n",
       "    .dataframe tbody tr th:only-of-type {\n",
       "        vertical-align: middle;\n",
       "    }\n",
       "\n",
       "    .dataframe tbody tr th {\n",
       "        vertical-align: top;\n",
       "    }\n",
       "\n",
       "    .dataframe thead th {\n",
       "        text-align: right;\n",
       "    }\n",
       "</style>\n",
       "<table border=\"1\" class=\"dataframe\">\n",
       "  <thead>\n",
       "    <tr style=\"text-align: right;\">\n",
       "      <th></th>\n",
       "      <th>DRUG_NAME</th>\n",
       "      <th>STRUCT_ID</th>\n",
       "      <th>TARGET_NAME</th>\n",
       "      <th>TARGET_CLASS</th>\n",
       "      <th>ACCESSION</th>\n",
       "      <th>GENE</th>\n",
       "      <th>SWISSPROT</th>\n",
       "      <th>ACT_VALUE</th>\n",
       "      <th>ACT_UNIT</th>\n",
       "      <th>ACT_TYPE</th>\n",
       "      <th>ACT_COMMENT</th>\n",
       "      <th>ACT_SOURCE</th>\n",
       "      <th>RELATION</th>\n",
       "      <th>MOA</th>\n",
       "      <th>MOA_SOURCE</th>\n",
       "      <th>ACT_SOURCE_URL</th>\n",
       "      <th>MOA_SOURCE_URL</th>\n",
       "      <th>ACTION_TYPE</th>\n",
       "      <th>TDL</th>\n",
       "      <th>ORGANISM</th>\n",
       "    </tr>\n",
       "  </thead>\n",
       "  <tbody>\n",
       "    <tr>\n",
       "      <th>5</th>\n",
       "      <td>levobupivacaine</td>\n",
       "      <td>4</td>\n",
       "      <td>5-hydroxytryptamine receptor 3A</td>\n",
       "      <td>Ion channel</td>\n",
       "      <td>P46098</td>\n",
       "      <td>HTR3A</td>\n",
       "      <td>5HT3A_HUMAN</td>\n",
       "      <td>NaN</td>\n",
       "      <td>NaN</td>\n",
       "      <td>NaN</td>\n",
       "      <td>NaN</td>\n",
       "      <td>WOMBAT-PK</td>\n",
       "      <td>NaN</td>\n",
       "      <td>NaN</td>\n",
       "      <td>NaN</td>\n",
       "      <td>NaN</td>\n",
       "      <td>NaN</td>\n",
       "      <td>NaN</td>\n",
       "      <td>Tclin</td>\n",
       "      <td>Homo sapiens</td>\n",
       "    </tr>\n",
       "    <tr>\n",
       "      <th>6</th>\n",
       "      <td>levobupivacaine</td>\n",
       "      <td>4</td>\n",
       "      <td>Potassium voltage-gated channel subfamily D me...</td>\n",
       "      <td>Ion channel</td>\n",
       "      <td>Q9UK17</td>\n",
       "      <td>KCND3</td>\n",
       "      <td>KCND3_HUMAN</td>\n",
       "      <td>4.5</td>\n",
       "      <td>NaN</td>\n",
       "      <td>IC50</td>\n",
       "      <td>NaN</td>\n",
       "      <td>WOMBAT-PK</td>\n",
       "      <td>=</td>\n",
       "      <td>NaN</td>\n",
       "      <td>NaN</td>\n",
       "      <td>NaN</td>\n",
       "      <td>NaN</td>\n",
       "      <td>NaN</td>\n",
       "      <td>Tclin</td>\n",
       "      <td>Homo sapiens</td>\n",
       "    </tr>\n",
       "    <tr>\n",
       "      <th>8</th>\n",
       "      <td>(S)-nicardipine</td>\n",
       "      <td>5</td>\n",
       "      <td>Voltage-gated L-type calcium channel</td>\n",
       "      <td>Ion channel</td>\n",
       "      <td>Q01668|Q13936</td>\n",
       "      <td>CACNA1D|CACNA1C</td>\n",
       "      <td>CAC1D_HUMAN|CAC1C_HUMAN</td>\n",
       "      <td>NaN</td>\n",
       "      <td>NaN</td>\n",
       "      <td>NaN</td>\n",
       "      <td>Mechanism of Action</td>\n",
       "      <td>DRUG LABEL</td>\n",
       "      <td>NaN</td>\n",
       "      <td>1.0</td>\n",
       "      <td>DRUG LABEL</td>\n",
       "      <td>http://www.accessdata.fda.gov/drugsatfda_docs/...</td>\n",
       "      <td>http://www.accessdata.fda.gov/drugsatfda_docs/...</td>\n",
       "      <td>BLOCKER</td>\n",
       "      <td>Tclin|Tclin|Tclin|Tclin</td>\n",
       "      <td>Homo sapiens</td>\n",
       "    </tr>\n",
       "  </tbody>\n",
       "</table>\n",
       "</div>"
      ],
      "text/plain": [
       "         DRUG_NAME  STRUCT_ID  \\\n",
       "5  levobupivacaine          4   \n",
       "6  levobupivacaine          4   \n",
       "8  (S)-nicardipine          5   \n",
       "\n",
       "                                         TARGET_NAME TARGET_CLASS  \\\n",
       "5                    5-hydroxytryptamine receptor 3A  Ion channel   \n",
       "6  Potassium voltage-gated channel subfamily D me...  Ion channel   \n",
       "8               Voltage-gated L-type calcium channel  Ion channel   \n",
       "\n",
       "       ACCESSION             GENE                SWISSPROT  ACT_VALUE  \\\n",
       "5         P46098            HTR3A              5HT3A_HUMAN        NaN   \n",
       "6         Q9UK17            KCND3              KCND3_HUMAN        4.5   \n",
       "8  Q01668|Q13936  CACNA1D|CACNA1C  CAC1D_HUMAN|CAC1C_HUMAN        NaN   \n",
       "\n",
       "   ACT_UNIT ACT_TYPE          ACT_COMMENT  ACT_SOURCE RELATION  MOA  \\\n",
       "5       NaN      NaN                  NaN   WOMBAT-PK      NaN  NaN   \n",
       "6       NaN     IC50                  NaN   WOMBAT-PK        =  NaN   \n",
       "8       NaN      NaN  Mechanism of Action  DRUG LABEL      NaN  1.0   \n",
       "\n",
       "   MOA_SOURCE                                     ACT_SOURCE_URL  \\\n",
       "5         NaN                                                NaN   \n",
       "6         NaN                                                NaN   \n",
       "8  DRUG LABEL  http://www.accessdata.fda.gov/drugsatfda_docs/...   \n",
       "\n",
       "                                      MOA_SOURCE_URL ACTION_TYPE  \\\n",
       "5                                                NaN         NaN   \n",
       "6                                                NaN         NaN   \n",
       "8  http://www.accessdata.fda.gov/drugsatfda_docs/...     BLOCKER   \n",
       "\n",
       "                       TDL      ORGANISM  \n",
       "5                    Tclin  Homo sapiens  \n",
       "6                    Tclin  Homo sapiens  \n",
       "8  Tclin|Tclin|Tclin|Tclin  Homo sapiens  "
      ]
     },
     "execution_count": 41,
     "metadata": {},
     "output_type": "execute_result"
    }
   ],
   "source": [
    "data = pd.read_csv(\"./drugTargetInteraction.tsv\",sep=\"\\t\")\n",
    "print(f'Unique drugs: {len(data.loc[:,\"DRUG_NAME\"].drop_duplicates())}')\n",
    "print(f'Unique tagets: {len(data.loc[:,\"TARGET_NAME\"].drop_duplicates())}')\n",
    "\n",
    "data[5:9].drop(7)"
   ]
  },
  {
   "cell_type": "markdown",
   "metadata": {},
   "source": [
    "This shows already that a drug-target matrix would be extremely sparse<br>\n",
    "<br> we will now implement the following steps<br><br>\n",
    "1: Collect drug and target (protein) information<br>\n",
    "2: Generate a similarity matrix using Jaccard distance<br>\n",
    "3: Reduce similarity matrix dimensions using SVD<br>\n",
    "4: Matrix completion to search new drug-target interaction<br>\n",
    "5: Evaluate predicted drug-target interaction\n"
   ]
  },
  {
   "cell_type": "code",
   "execution_count": 1,
   "metadata": {},
   "outputs": [],
   "source": [
    "#how do I get these data?"
   ]
  }
 ],
 "metadata": {
  "interpreter": {
   "hash": "31f2aee4e71d21fbe5cf8b01ff0e069b9275f58929596ceb00d14d90e3e16cd6"
  },
  "kernelspec": {
   "display_name": "Python 3.7.3 64-bit",
   "language": "python",
   "name": "python3"
  },
  "language_info": {
   "codemirror_mode": {
    "name": "ipython",
    "version": 3
   },
   "file_extension": ".py",
   "mimetype": "text/x-python",
   "name": "python",
   "nbconvert_exporter": "python",
   "pygments_lexer": "ipython3",
   "version": "3.7.3"
  },
  "orig_nbformat": 4
 },
 "nbformat": 4,
 "nbformat_minor": 2
}
