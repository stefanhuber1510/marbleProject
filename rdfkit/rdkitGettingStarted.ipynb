{
 "cells": [
  {
   "cell_type": "markdown",
   "metadata": {},
   "source": [
    "#### In this notebook I will practise the use RDKit"
   ]
  },
  {
   "cell_type": "markdown",
   "metadata": {},
   "source": [
    "the docs were written in 2008"
   ]
  },
  {
   "cell_type": "code",
   "execution_count": 8,
   "metadata": {},
   "outputs": [],
   "source": [
    "from rdkit import Chem\n",
    "import numpy as np\n",
    "import pandas as pd"
   ]
  },
  {
   "cell_type": "code",
   "execution_count": 9,
   "metadata": {},
   "outputs": [
    {
     "data": {
      "image/png": "[encoded data removed]",
      "text/plain": [
       "<rdkit.Chem.rdchem.Mol at 0x7eb73b030bc0>"
      ]
     },
     "execution_count": 9,
     "metadata": {},
     "output_type": "execute_result"
    }
   ],
   "source": [
    "#creating molecule object:\n",
    "molecule = Chem.MolFromSmiles('C1CCCC2C1CCCC2')\n",
    "molecule"
   ]
  },
  {
   "cell_type": "markdown",
   "metadata": {},
   "source": [
    "Read molecules, ForwardSDMolSuppliers for compressed ones; Write molecules"
   ]
  },
  {
   "cell_type": "code",
   "execution_count": 35,
   "metadata": {},
   "outputs": [
    {
     "name": "stdout",
     "output_type": "stream",
     "text": [
      "20\n",
      "24\n",
      "24\n",
      "26\n",
      "20\n"
     ]
    },
    {
     "data": {
      "text/plain": [
       "'CN1CCCCC1COC(=O)c1c[nH]c2ccccc12'"
      ]
     },
     "execution_count": 35,
     "metadata": {},
     "output_type": "execute_result"
    }
   ],
   "source": [
    "mols = Chem.SDMolSupplier('5ht3ligs.sdf')\n",
    "for mol in mols:\n",
    "    print(mol.GetNumAtoms())\n",
    "\n",
    "compressedMolSet = Chem.ForwardSDMolSupplier('5ht3ligs.sdf')\n",
    "with compressedMolSet as compSet:\n",
    "    unpackedCompSet = [x for x in compSet]\n",
    "print(unpackedCompSet[0].GetNumAtoms())\n",
    "unpackedCompSet[0]\n",
    "\n",
    "\n",
    "Chem.MolToSmiles(unpackedCompSet[0])"
   ]
  },
  {
   "cell_type": "markdown",
   "metadata": {},
   "source": [
    "Creating MDL Blocks returns string objects. Converting them to say a Dataframe does need seem trivial"
   ]
  },
  {
   "cell_type": "code",
   "execution_count": 33,
   "metadata": {},
   "outputs": [
    {
     "name": "stdout",
     "output_type": "stream",
     "text": [
      "\n",
      "     RDKit          2D\n",
      "\n",
      " 20 22  0  0  0  0  0  0  0  0999 V2000\n",
      "   -2.1491   -7.1273    0.0000 C   0  0  0  0  0  0  0  0  0  0  0  0\n",
      "   -3.5757   -7.5908    0.0000 N   0  0  0  0  0  0  0  0  0  0  0  0\n",
      "   -3.8876   -9.0580    0.0000 C   0  0  0  0\n"
     ]
    }
   ],
   "source": [
    "molec = Chem.MolFromSmiles(Chem.MolToSmiles(unpackedCompSet[0]))\n",
    "print(Chem.MolToMolBlock(molec)[0:250]) #250 because the total string would be fairly long"
   ]
  },
  {
   "cell_type": "markdown",
   "metadata": {},
   "source": [
    "I do not have a lot of experience in describing molecules based on spatial properties. Will look deeper into that, when it gets more relevant"
   ]
  },
  {
   "cell_type": "code",
   "execution_count": 84,
   "metadata": {},
   "outputs": [
    {
     "name": "stdout",
     "output_type": "stream",
     "text": [
      "3\n",
      "the atom at index 0 is:  C .    its bond to its first neighbor is  AROMATIC\n"
     ]
    }
   ],
   "source": [
    "with Chem.SDWriter('selfCreatedFile.sdf') as w:\n",
    "    i=1\n",
    "    for mol in mols:\n",
    "        if i<3:\n",
    "            i+=1\n",
    "        else:\n",
    "            mol.SetProp(\"_Name\",\"Stefan's saved molecule: Every row is an Atom\")\n",
    "            w.write(mol)\n",
    "            neighbors = mol.GetAtomWithIdx(0).GetNeighbors()\n",
    "            print(neighbors[2].GetIdx())\n",
    "            print(\"the atom at index 0 is: \",mol.GetAtomWithIdx(0).GetSymbol(),\n",
    "                \".    its bond to its first neighbor is \",mol.GetBondBetweenAtoms(0,neighbors[0].GetIdx()).GetBondType())\n",
    "            break"
   ]
  },
  {
   "cell_type": "markdown",
   "metadata": {},
   "source": [
    "Detailed information on ring properties are present\n",
    "H-atoms can be added when need e.g. for spatial modelling"
   ]
  },
  {
   "cell_type": "code",
   "execution_count": null,
   "metadata": {},
   "outputs": [],
   "source": [
    "m = Chem.MolFromSmiles('c1nccc2n1ccc2')\n",
    "template=Chem.rdDepictor.Compute2DCoords(m)\n",
    "\n",
    "Chem.rdDepictor.GenerateDepictionMatching2DStructure(m,template)"
   ]
  },
  {
   "cell_type": "code",
   "execution_count": 97,
   "metadata": {},
   "outputs": [
    {
     "name": "stdout",
     "output_type": "stream",
     "text": [
      "((0, 7), (1, 8), (2, 9), (3, 10), (4, 11), (5, 6), (6, 5), (7, 4), (8, 3))\n",
      "((0, 10), (1, 9), (2, 8), (3, 7), (4, 6), (5, 11), (6, 12), (7, 4), (8, 5))\n",
      "((0, 4), (1, 5), (2, 6), (3, 7), (4, 8), (5, 12), (6, 11), (7, 10), (8, 9))\n"
     ]
    }
   ],
   "source": [
    "template = Chem.MolFromSmiles('c1nccc2n1ccc2')\n",
    "Chem.rdDepictor.Compute2DCoords(template)\n",
    "\n",
    "ms = [Chem.MolFromSmiles(smi) for smi in ('OCCc1ccn2cnccc12','C1CC1Oc1cc2ccncn2c1','CNC(=O)c1nccc2cccn12')]\n",
    "for m in ms:\n",
    "    print(Chem.rdDepictor.GenerateDepictionMatching2DStructure(m,template))\n",
    "# idk how to make this graphs, lest 3D graphs"
   ]
  }
 ],
 "metadata": {
  "interpreter": {
   "hash": "31f2aee4e71d21fbe5cf8b01ff0e069b9275f58929596ceb00d14d90e3e16cd6"
  },
  "kernelspec": {
   "display_name": "Python 3.7.3 64-bit",
   "language": "python",
   "name": "python3"
  },
  "language_info": {
   "codemirror_mode": {
    "name": "ipython",
    "version": 3
   },
   "file_extension": ".py",
   "mimetype": "text/x-python",
   "name": "python",
   "nbconvert_exporter": "python",
   "pygments_lexer": "ipython3",
   "version": "3.7.3"
  },
  "orig_nbformat": 4
 },
 "nbformat": 4,
 "nbformat_minor": 2
}
