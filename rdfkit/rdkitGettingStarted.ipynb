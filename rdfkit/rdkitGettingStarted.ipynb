{
 "cells": [
  {
   "cell_type": "markdown",
   "metadata": {},
   "source": [
    "#### In this notebook I will practise the use RDKit"
   ]
  },
  {
   "cell_type": "markdown",
   "metadata": {},
   "source": [
    "the docs were written in 2008"
   ]
  },
  {
   "cell_type": "code",
   "execution_count": 1,
   "metadata": {},
   "outputs": [],
   "source": [
    "from rdkit import Chem\n",
    "import numpy as np\n",
    "import pandas as pd"
   ]
  },
  {
   "cell_type": "code",
   "execution_count": 9,
   "metadata": {},
   "outputs": [
    {
     "data": {
      "image/png": "[encoded data removed]",
      "text/plain": [
       "<rdkit.Chem.rdchem.Mol at 0x7eb73b030bc0>"
      ]
     },
     "execution_count": 9,
     "metadata": {},
     "output_type": "execute_result"
    }
   ],
   "source": [
    "#creating molecule object:\n",
    "molecule = Chem.MolFromSmiles('C1CCCC2C1CCCC2')\n",
    "molecule"
   ]
  },
  {
   "cell_type": "markdown",
   "metadata": {},
   "source": [
    "Read molecules, ForwardSDMolSuppliers for compressed ones; Write molecules"
   ]
  },
  {
   "cell_type": "code",
   "execution_count": 35,
   "metadata": {},
   "outputs": [
    {
     "name": "stdout",
     "output_type": "stream",
     "text": [
      "20\n",
      "24\n",
      "24\n",
      "26\n",
      "20\n"
     ]
    },
    {
     "data": {
      "text/plain": [
       "'CN1CCCCC1COC(=O)c1c[nH]c2ccccc12'"
      ]
     },
     "execution_count": 35,
     "metadata": {},
     "output_type": "execute_result"
    }
   ],
   "source": [
    "mols = Chem.SDMolSupplier('5ht3ligs.sdf')\n",
    "for mol in mols:\n",
    "    print(mol.GetNumAtoms())\n",
    "\n",
    "compressedMolSet = Chem.ForwardSDMolSupplier('5ht3ligs.sdf')\n",
    "with compressedMolSet as compSet:\n",
    "    unpackedCompSet = [x for x in compSet]\n",
    "print(unpackedCompSet[0].GetNumAtoms())\n",
    "unpackedCompSet[0]\n",
    "\n",
    "\n",
    "Chem.MolToSmiles(unpackedCompSet[0])"
   ]
  },
  {
   "cell_type": "markdown",
   "metadata": {},
   "source": [
    "Creating MDL Blocks returns string objects. Converting them to say a Dataframe does need seem trivial"
   ]
  },
  {
   "cell_type": "code",
   "execution_count": 33,
   "metadata": {},
   "outputs": [
    {
     "name": "stdout",
     "output_type": "stream",
     "text": [
      "\n",
      "     RDKit          2D\n",
      "\n",
      " 20 22  0  0  0  0  0  0  0  0999 V2000\n",
      "   -2.1491   -7.1273    0.0000 C   0  0  0  0  0  0  0  0  0  0  0  0\n",
      "   -3.5757   -7.5908    0.0000 N   0  0  0  0  0  0  0  0  0  0  0  0\n",
      "   -3.8876   -9.0580    0.0000 C   0  0  0  0\n"
     ]
    }
   ],
   "source": [
    "molec = Chem.MolFromSmiles(Chem.MolToSmiles(unpackedCompSet[0]))\n",
    "print(Chem.MolToMolBlock(molec)[0:250]) #250 because the total string would be fairly long"
   ]
  },
  {
   "cell_type": "markdown",
   "metadata": {},
   "source": [
    "I do not have a lot of experience in describing molecules based on spatial properties. Will look deeper into that, when it gets more relevant"
   ]
  },
  {
   "cell_type": "code",
   "execution_count": 84,
   "metadata": {},
   "outputs": [
    {
     "name": "stdout",
     "output_type": "stream",
     "text": [
      "3\n",
      "the atom at index 0 is:  C .    its bond to its first neighbor is  AROMATIC\n"
     ]
    }
   ],
   "source": [
    "with Chem.SDWriter('selfCreatedFile.sdf') as w:\n",
    "    i=1\n",
    "    for mol in mols:\n",
    "        if i<3:\n",
    "            i+=1\n",
    "        else:\n",
    "            mol.SetProp(\"_Name\",\"Stefan's saved molecule: Every row is an Atom\")\n",
    "            w.write(mol)\n",
    "            neighbors = mol.GetAtomWithIdx(0).GetNeighbors()\n",
    "            print(neighbors[2].GetIdx())\n",
    "            print(\"the atom at index 0 is: \",mol.GetAtomWithIdx(0).GetSymbol(),\n",
    "                \".    its bond to its first neighbor is \",mol.GetBondBetweenAtoms(0,neighbors[0].GetIdx()).GetBondType())\n",
    "            break"
   ]
  },
  {
   "cell_type": "markdown",
   "metadata": {},
   "source": [
    "Detailed information on ring properties are present\n",
    "H-atoms can be added when need e.g. for spatial modelling"
   ]
  },
  {
   "cell_type": "code",
   "execution_count": null,
   "metadata": {},
   "outputs": [],
   "source": [
    "m = Chem.MolFromSmiles('c1nccc2n1ccc2')\n",
    "template=Chem.rdDepictor.Compute2DCoords(m)\n",
    "\n",
    "Chem.rdDepictor.GenerateDepictionMatching2DStructure(m,template)"
   ]
  },
  {
   "cell_type": "code",
   "execution_count": 97,
   "metadata": {},
   "outputs": [
    {
     "name": "stdout",
     "output_type": "stream",
     "text": [
      "((0, 7), (1, 8), (2, 9), (3, 10), (4, 11), (5, 6), (6, 5), (7, 4), (8, 3))\n",
      "((0, 10), (1, 9), (2, 8), (3, 7), (4, 6), (5, 11), (6, 12), (7, 4), (8, 5))\n",
      "((0, 4), (1, 5), (2, 6), (3, 7), (4, 8), (5, 12), (6, 11), (7, 10), (8, 9))\n"
     ]
    }
   ],
   "source": [
    "template = Chem.MolFromSmiles('c1nccc2n1ccc2')\n",
    "Chem.rdDepictor.Compute2DCoords(template)\n",
    "\n",
    "ms = [Chem.MolFromSmiles(smi) for smi in ('OCCc1ccn2cnccc12','C1CC1Oc1cc2ccncn2c1','CNC(=O)c1nccc2cccn12')]\n",
    "for m in ms:\n",
    "    print(Chem.rdDepictor.GenerateDepictionMatching2DStructure(m,template))\n",
    "# idk how to make this graphs, lest 3D graphs"
   ]
  },
  {
   "cell_type": "code",
   "execution_count": null,
   "metadata": {},
   "outputs": [],
   "source": []
  },
  {
   "cell_type": "markdown",
   "metadata": {},
   "source": [
    "Substructure searching <br>\n",
    "SMARTS is a language to specify substrucre information in smiles <br><br>\n",
    "chirality (stereochemistry i.e. mols with non-superimposable versions) are ignored by default but can be activated by useChirality=True"
   ]
  },
  {
   "cell_type": "code",
   "execution_count": 10,
   "metadata": {},
   "outputs": [
    {
     "name": "stdout",
     "output_type": "stream",
     "text": [
      "True\n"
     ]
    },
    {
     "data": {
      "text/plain": [
       "((0, 5, 6), (4, 5, 6))"
      ]
     },
     "execution_count": 10,
     "metadata": {},
     "output_type": "execute_result"
    }
   ],
   "source": [
    "m = Chem.MolFromSmiles('c1ccccc1O')\n",
    "m\n",
    "pattern = Chem.MolFromSmarts(\"ccO\") #can also use molfromsmiles here\n",
    "print(m.HasSubstructMatch(pattern))\n",
    "m.GetSubstructMatches(pattern)\n",
    "#use for filtering lists of molecules to find specific substructures"
   ]
  },
  {
   "cell_type": "markdown",
   "metadata": {},
   "source": [
    "For simple chemical transformations rdkit has functionality, more complex ones should make use of the reactions library"
   ]
  },
  {
   "cell_type": "code",
   "execution_count": 15,
   "metadata": {},
   "outputs": [
    {
     "data": {
      "text/plain": [
       "'CC=O'"
      ]
     },
     "execution_count": 15,
     "metadata": {},
     "output_type": "execute_result"
    }
   ],
   "source": [
    "from rdkit.Chem import AllChem\n",
    "\n",
    "# removing substructure \n",
    "m = Chem.MolFromSmiles('CC(=O)O')\n",
    "patt = Chem.MolFromSmarts('[OH]')\n",
    "rm = AllChem.DeleteSubstructs(m,patt)\n",
    "Chem.MolToSmiles(rm)"
   ]
  },
  {
   "cell_type": "code",
   "execution_count": 16,
   "metadata": {},
   "outputs": [
    {
     "data": {
      "text/plain": [
       "'COC(C)=O'"
      ]
     },
     "execution_count": 16,
     "metadata": {},
     "output_type": "execute_result"
    }
   ],
   "source": [
    "m = Chem.MolFromSmiles('CC(=O)N')\n",
    "replace = Chem.MolFromSmiles('OC')\n",
    "patternn = Chem.MolFromSmarts('[$(NC(=O))]')\n",
    "\n",
    "rms = AllChem.ReplaceSubstructs(m,patternn,replace)\n",
    "Chem.MolToSmiles(rms[0]) # we replaced N with OC ... I cannot grasp from this why"
   ]
  },
  {
   "cell_type": "code",
   "execution_count": 23,
   "metadata": {},
   "outputs": [
    {
     "data": {
      "image/png": "[encoded data removed]",
      "text/plain": [
       "<rdkit.Chem.rdchem.Mol at 0x7af15d031df0>"
      ]
     },
     "execution_count": 23,
     "metadata": {},
     "output_type": "execute_result"
    }
   ],
   "source": [
    "m"
   ]
  },
  {
   "cell_type": "code",
   "execution_count": 20,
   "metadata": {},
   "outputs": [
    {
     "data": {
      "image/png": "[encoded data removed]",
      "text/plain": [
       "<rdkit.Chem.rdchem.Mol at 0x7af15d001fa8>"
      ]
     },
     "execution_count": 20,
     "metadata": {},
     "output_type": "execute_result"
    }
   ],
   "source": [
    "rms"
   ]
  },
  {
   "cell_type": "markdown",
   "metadata": {},
   "source": [
    "we can also remove sidechains and cores"
   ]
  },
  {
   "cell_type": "code",
   "execution_count": 5,
   "metadata": {},
   "outputs": [
    {
     "name": "stdout",
     "output_type": "stream",
     "text": [
      "10\n"
     ]
    },
    {
     "data": {
      "text/plain": [
       "'[#6]1(-[#6]):[#6]:[#6](-[#8]-[#6]):[#6](:[#6]:[#6]:1)-[#8]'"
      ]
     },
     "execution_count": 5,
     "metadata": {},
     "output_type": "execute_result"
    }
   ],
   "source": [
    "from rdkit.Chem import rdFMCS\n",
    "mol1 = Chem.MolFromSmiles(\"O=C(NCc1cc(OC)c(O)cc1)CCCC/C=C/C(C)C\")\n",
    "mol2 = Chem.MolFromSmiles(\"CC(C)CCCCCC(=O)NCC1=CC(=C(C=C1)O)OC\")\n",
    "mol3 = Chem.MolFromSmiles(\"c1(C=O)cc(OC)c(O)cc1\")\n",
    "mols = [mol1,mol2,mol3]\n",
    "res=rdFMCS.FindMCS(mols)\n",
    "print(res.numAtoms)\n",
    "res.smartsString # I don't understand this notion"
   ]
  },
  {
   "cell_type": "markdown",
   "metadata": {},
   "source": [
    "Fingerprinting"
   ]
  },
  {
   "cell_type": "code",
   "execution_count": 7,
   "metadata": {},
   "outputs": [
    {
     "name": "stdout",
     "output_type": "stream",
     "text": [
      "0.6\n",
      "0.4\n",
      "0.25\n"
     ]
    }
   ],
   "source": [
    "from rdkit import DataStructs\n",
    "ms = [Chem.MolFromSmiles('CCOC'), Chem.MolFromSmiles('CCO'), Chem.MolFromSmiles('COC')]\n",
    "\n",
    "fps = [Chem.RDKFingerprint(x) for x in ms]\n",
    "print(DataStructs.FingerprintSimilarity(fps[0],fps[1]))\n",
    "print(DataStructs.FingerprintSimilarity(fps[0],fps[2]))\n",
    "print(DataStructs.FingerprintSimilarity(fps[1],fps[2]))\n"
   ]
  },
  {
   "cell_type": "code",
   "execution_count": 1,
   "metadata": {},
   "outputs": [
    {
     "ename": "NameError",
     "evalue": "name 'ms' is not defined",
     "output_type": "error",
     "traceback": [
      "\u001b[0;31m---------------------------------------------------------------------------\u001b[0m",
      "\u001b[0;31mNameError\u001b[0m                                 Traceback (most recent call last)",
      "\u001b[0;32m<ipython-input-1-70ea801f2fc2>\u001b[0m in \u001b[0;36m<module>\u001b[0;34m\u001b[0m\n\u001b[1;32m      1\u001b[0m \u001b[0;32mfrom\u001b[0m \u001b[0mrdkit\u001b[0m\u001b[0;34m.\u001b[0m\u001b[0mChem\u001b[0m \u001b[0;32mimport\u001b[0m \u001b[0mMACCSkeys\u001b[0m\u001b[0;34m\u001b[0m\u001b[0;34m\u001b[0m\u001b[0m\n\u001b[0;32m----> 2\u001b[0;31m \u001b[0mfps\u001b[0m \u001b[0;34m=\u001b[0m \u001b[0;34m[\u001b[0m\u001b[0mMACCSkeys\u001b[0m\u001b[0;34m.\u001b[0m\u001b[0mGenMACCSKeys\u001b[0m\u001b[0;34m(\u001b[0m\u001b[0mx\u001b[0m\u001b[0;34m)\u001b[0m \u001b[0;32mfor\u001b[0m \u001b[0mx\u001b[0m \u001b[0;32min\u001b[0m \u001b[0mms\u001b[0m\u001b[0;34m]\u001b[0m\u001b[0;34m\u001b[0m\u001b[0;34m\u001b[0m\u001b[0m\n\u001b[0m\u001b[1;32m      3\u001b[0m \u001b[0mprint\u001b[0m\u001b[0;34m(\u001b[0m\u001b[0mDataStructs\u001b[0m\u001b[0;34m.\u001b[0m\u001b[0mFingerprintSimilarity\u001b[0m\u001b[0;34m(\u001b[0m\u001b[0mfps\u001b[0m\u001b[0;34m[\u001b[0m\u001b[0;36m0\u001b[0m\u001b[0;34m]\u001b[0m\u001b[0;34m,\u001b[0m\u001b[0mfps\u001b[0m\u001b[0;34m[\u001b[0m\u001b[0;36m1\u001b[0m\u001b[0;34m]\u001b[0m\u001b[0;34m)\u001b[0m\u001b[0;34m)\u001b[0m\u001b[0;34m\u001b[0m\u001b[0;34m\u001b[0m\u001b[0m\n\u001b[1;32m      4\u001b[0m \u001b[0mprint\u001b[0m\u001b[0;34m(\u001b[0m\u001b[0mDataStructs\u001b[0m\u001b[0;34m.\u001b[0m\u001b[0mFingerprintSimilarity\u001b[0m\u001b[0;34m(\u001b[0m\u001b[0mfps\u001b[0m\u001b[0;34m[\u001b[0m\u001b[0;36m0\u001b[0m\u001b[0;34m]\u001b[0m\u001b[0;34m,\u001b[0m\u001b[0mfps\u001b[0m\u001b[0;34m[\u001b[0m\u001b[0;36m2\u001b[0m\u001b[0;34m]\u001b[0m\u001b[0;34m)\u001b[0m\u001b[0;34m)\u001b[0m\u001b[0;34m\u001b[0m\u001b[0;34m\u001b[0m\u001b[0m\n\u001b[1;32m      5\u001b[0m \u001b[0mprint\u001b[0m\u001b[0;34m(\u001b[0m\u001b[0mDataStructs\u001b[0m\u001b[0;34m.\u001b[0m\u001b[0mFingerprintSimilarity\u001b[0m\u001b[0;34m(\u001b[0m\u001b[0mfps\u001b[0m\u001b[0;34m[\u001b[0m\u001b[0;36m1\u001b[0m\u001b[0;34m]\u001b[0m\u001b[0;34m,\u001b[0m\u001b[0mfps\u001b[0m\u001b[0;34m[\u001b[0m\u001b[0;36m2\u001b[0m\u001b[0;34m]\u001b[0m\u001b[0;34m)\u001b[0m\u001b[0;34m)\u001b[0m \u001b[0;31m#use this for similarity of drugs\u001b[0m\u001b[0;34m\u001b[0m\u001b[0;34m\u001b[0m\u001b[0m\n",
      "\u001b[0;31mNameError\u001b[0m: name 'ms' is not defined"
     ]
    }
   ],
   "source": [
    "from rdkit.Chem import MACCSkeys\n",
    "fps = [MACCSkeys.GenMACCSKeys(x) for x in ms]\n",
    "print(DataStructs.FingerprintSimilarity(fps[0],fps[1]))\n",
    "print(DataStructs.FingerprintSimilarity(fps[0],fps[2]))\n",
    "print(DataStructs.FingerprintSimilarity(fps[1],fps[2])) #use this for similarity of drugs"
   ]
  },
  {
   "cell_type": "code",
   "execution_count": 12,
   "metadata": {},
   "outputs": [
    {
     "name": "stdout",
     "output_type": "stream",
     "text": [
      "{541730: 1, 541732: 2, 558113: 1, 558115: 2, 574497: 2, 574499: 1, 574530: 1, 1606690: 3, 1606721: 1, 1606753: 1}\n"
     ]
    },
    {
     "data": {
      "text/plain": [
       "(('C', 3, 0), 1, ('O', 2, 0))"
      ]
     },
     "execution_count": 12,
     "metadata": {},
     "output_type": "execute_result"
    }
   ],
   "source": [
    "from rdkit import Chem\n",
    "from rdkit.Chem.AtomPairs import Pairs\n",
    "ms = [Chem.MolFromSmiles('C1CCC1OCC'),Chem.MolFromSmiles('CC(C)OCC'),Chem.MolFromSmiles('CCOCC')]\n",
    "pairFps = [Pairs.GetAtomPairFingerprint(x) for x in ms]\n",
    "pairFpsD = [x.GetNonzeroElements() for x in pairFps]\n",
    "print(pairFpsD[1])\n",
    "Pairs.ExplainPairScore(1606753) # C with 3 neighbours and 0 pi electrons 1 bond away from O with 2 neighbour and 0 pi e-"
   ]
  },
  {
   "cell_type": "markdown",
   "metadata": {},
   "source": [
    "there are some different similarity functions one can try, but I believe for now it is sufficient to know that they exist, because the firstOwnRegression model has shown that it is not similarity what makes them work together"
   ]
  },
  {
   "cell_type": "code",
   "execution_count": 22,
   "metadata": {},
   "outputs": [
    {
     "data": {
      "image/svg+xml": "<svg baseProfile=\"full\" height=\"150px\" version=\"1.1\" viewBox=\"0 0 150 150\" width=\"150px\" xml:space=\"preserve\" xmlns=\"http://www.w3.org/2000/svg\" xmlns:rdkit=\"http://www.rdkit.org/xml\" xmlns:xlink=\"http://www.w3.org/1999/xlink\">\n<!-- END OF HEADER -->\n<rect height=\"150.0\" style=\"opacity:1.0;fill:#FFFFFF;stroke:none\" width=\"150.0\" x=\"0.0\" y=\"0.0\"> </rect>\n<ellipse cx=\"96.2\" cy=\"102.1\" rx=\"9.3\" ry=\"9.3\" style=\"fill:#E5E533;fill-rule:evenodd;stroke:#E5E533;stroke-width:2.0px;stroke-linecap:butt;stroke-linejoin:miter;stroke-opacity:1\"/>\n<ellipse cx=\"53.8\" cy=\"121.2\" rx=\"9.3\" ry=\"9.3\" style=\"fill:#E5E533;fill-rule:evenodd;stroke:#E5E533;stroke-width:2.0px;stroke-linecap:butt;stroke-linejoin:miter;stroke-opacity:1\"/>\n<ellipse cx=\"16.1\" cy=\"94.1\" rx=\"9.3\" ry=\"9.3\" style=\"fill:#E5E533;fill-rule:evenodd;stroke:#E5E533;stroke-width:2.0px;stroke-linecap:butt;stroke-linejoin:miter;stroke-opacity:1\"/>\n<ellipse cx=\"63.1\" cy=\"28.8\" rx=\"9.3\" ry=\"9.3\" style=\"fill:#E5E533;fill-rule:evenodd;stroke:#E5E533;stroke-width:2.0px;stroke-linecap:butt;stroke-linejoin:miter;stroke-opacity:1\"/>\n<ellipse cx=\"100.8\" cy=\"55.9\" rx=\"9.3\" ry=\"9.3\" style=\"fill:#E5E533;fill-rule:evenodd;stroke:#E5E533;stroke-width:2.0px;stroke-linecap:butt;stroke-linejoin:miter;stroke-opacity:1\"/>\n<path class=\"bond-0 atom-0 atom-1\" d=\"M 96.2,102.1 L 53.8,121.2\" style=\"fill:none;fill-rule:evenodd;stroke:#000000;stroke-width:2.0px;stroke-linecap:butt;stroke-linejoin:miter;stroke-opacity:1\"/>\n<path class=\"bond-0 atom-0 atom-1\" d=\"M 86.0,96.5 L 56.4,109.9\" style=\"fill:none;fill-rule:evenodd;stroke:#000000;stroke-width:2.0px;stroke-linecap:butt;stroke-linejoin:miter;stroke-opacity:1;stroke-dasharray:6,6\"/>\n<path class=\"bond-4 atom-4 atom-0\" d=\"M 100.8,55.9 L 96.2,102.1\" style=\"fill:none;fill-rule:evenodd;stroke:#000000;stroke-width:2.0px;stroke-linecap:butt;stroke-linejoin:miter;stroke-opacity:1\"/>\n<path class=\"bond-4 atom-4 atom-0\" d=\"M 90.9,61.9 L 87.6,94.3\" style=\"fill:none;fill-rule:evenodd;stroke:#000000;stroke-width:2.0px;stroke-linecap:butt;stroke-linejoin:miter;stroke-opacity:1;stroke-dasharray:6,6\"/>\n<path class=\"bond-1 atom-1 atom-2\" d=\"M 56.6,117.5 L 18.8,90.3\" style=\"fill:none;fill-rule:evenodd;stroke:#000000;stroke-width:2.0px;stroke-linecap:butt;stroke-linejoin:miter;stroke-opacity:1\"/>\n<path class=\"bond-1 atom-1 atom-2\" d=\"M 51.1,125.0 L 13.4,97.9\" style=\"fill:none;fill-rule:evenodd;stroke:#000000;stroke-width:2.0px;stroke-linecap:butt;stroke-linejoin:miter;stroke-opacity:1;stroke-dasharray:6,6\"/>\n<path class=\"bond-2 atom-3 atom-4\" d=\"M 60.4,32.5 L 98.1,59.7\" style=\"fill:none;fill-rule:evenodd;stroke:#000000;stroke-width:2.0px;stroke-linecap:butt;stroke-linejoin:miter;stroke-opacity:1\"/>\n<path class=\"bond-2 atom-3 atom-4\" d=\"M 65.8,25.0 L 103.5,52.1\" style=\"fill:none;fill-rule:evenodd;stroke:#000000;stroke-width:2.0px;stroke-linecap:butt;stroke-linejoin:miter;stroke-opacity:1;stroke-dasharray:6,6\"/>\n<path class=\"bond-3 atom-4 atom-5\" d=\"M 100.8,55.9 L 143.2,36.8\" style=\"fill:none;fill-rule:evenodd;stroke:#000000;stroke-width:2.0px;stroke-linecap:butt;stroke-linejoin:miter;stroke-opacity:1\"/>\n</svg>",
      "text/plain": [
       "<IPython.core.display.SVG object>"
      ]
     },
     "execution_count": 22,
     "metadata": {},
     "output_type": "execute_result"
    }
   ],
   "source": [
    "from rdkit.Chem import Draw\n",
    "from rdkit.Chem import AllChem\n",
    "mol = Chem.MolFromSmiles('c1ccccc1CC1CC1')\n",
    "bi = {}\n",
    "fp = AllChem.GetMorganFingerprintAsBitVect(mol, radius=2, bitInfo=bi)\n",
    "bi[872]\n",
    "rdkbi = {}\n",
    "rdkfp = Chem.RDKFingerprint(mol, maxPath=5, bitInfo=rdkbi)\n",
    "rdk_svg = Draw.DrawRDKitBit(mol, 1553, rdkbi, useSVG=True)\n",
    "rdk_svg"
   ]
  },
  {
   "cell_type": "code",
   "execution_count": 30,
   "metadata": {},
   "outputs": [
    {
     "data": {
      "image/png": "[encoded data removed]",
      "text/plain": [
       "<Figure size 180x180 with 1 Axes>"
      ]
     },
     "metadata": {
      "needs_background": "light"
     },
     "output_type": "display_data"
    }
   ],
   "source": [
    "from rdkit.Chem.Draw import SimilarityMaps\n",
    "mol = Chem.MolFromSmiles('COc1cccc2cc(C(=O)NCCCCN3CCN(c4cccc5nccnc54)CC3)oc21')\n",
    "refmol = Chem.MolFromSmiles('CCCN(C)Cc1ccc2ccccc2c1')\n",
    "fig, maxweight = SimilarityMaps.GetSimilarityMapForFingerprint(refmol, mol, SimilarityMaps.GetMorganFingerprint)\n"
   ]
  },
  {
   "cell_type": "markdown",
   "metadata": {},
   "source": [
    "Quite some descriptors are built into rdkit. Heres a list of them<br>\n",
    "https://www.rdkit.org/docs/GettingStartedInPython.html#list-of-available-descriptors"
   ]
  },
  {
   "cell_type": "code",
   "execution_count": null,
   "metadata": {},
   "outputs": [],
   "source": []
  },
  {
   "cell_type": "markdown",
   "metadata": {},
   "source": [
    "one can use fingerprints to pick diverse molecules from a large set of molecules <br>\n",
    "i'll do that in the ownRegression file, to get to a smaller set of elements"
   ]
  }
 ],
 "metadata": {
  "interpreter": {
   "hash": "31f2aee4e71d21fbe5cf8b01ff0e069b9275f58929596ceb00d14d90e3e16cd6"
  },
  "kernelspec": {
   "display_name": "Python 3.7.3 64-bit",
   "language": "python",
   "name": "python3"
  },
  "language_info": {
   "codemirror_mode": {
    "name": "ipython",
    "version": 3
   },
   "file_extension": ".py",
   "mimetype": "text/x-python",
   "name": "python",
   "nbconvert_exporter": "python",
   "pygments_lexer": "ipython3",
   "version": "3.7.3"
  },
  "orig_nbformat": 4
 },
 "nbformat": 4,
 "nbformat_minor": 2
}
