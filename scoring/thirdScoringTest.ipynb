{
 "cells": [
  {
   "cell_type": "markdown",
   "id": "15bd2444-4a6d-445a-ac12-7e33c178c4d6",
   "metadata": {},
   "source": [
    "#### Experiments to be sorted later\n",
    "\n",
    "COMBINATION ID VERY EARLY - INSERT IT FOR LATER EVALUATION\n",
    "\n",
    "What I need to do:\n",
    "\n",
    "-Parameter tuning of RF\n",
    "\n",
    "\n",
    "\n",
    "Data cleaning:\n",
    "-average double entries\n",
    "-use maccskeys for a RF\n",
    "\n",
    "New dataset:\n",
    "-fix variability above 100 down to 100\n",
    "-"
   ]
  },
  {
   "cell_type": "code",
   "execution_count": 1,
   "id": "5286024a-82a5-4eb6-b81d-8263af4f61f6",
   "metadata": {},
   "outputs": [],
   "source": [
    "# temporary working here to deal with double values and insert it later as new section before section joining"
   ]
  },
  {
   "cell_type": "code",
   "execution_count": 1,
   "id": "67cd60e4-cf9a-4b57-b798-44d69c1eabbd",
   "metadata": {},
   "outputs": [],
   "source": [
    "import numpy as np\n",
    "import pandas as pd\n",
    "import _pickle as pkl"
   ]
  },
  {
   "cell_type": "markdown",
   "id": "ab046ee4-323b-4f59-b5a2-b7b33776ca13",
   "metadata": {},
   "source": [
    "#### 2. Joining"
   ]
  },
  {
   "cell_type": "code",
   "execution_count": 19,
   "id": "45fa71e5-c910-42b6-bf2f-21092f1b7ab3",
   "metadata": {},
   "outputs": [],
   "source": [
    "with open('./intermediate-pickles-scoring2/dataWithSource.pkl', 'rb') as inp:\n",
    "    data1 = pkl.load(inp)\n",
    "with open('./intermediate-pickles-scoring2/data2.pkl', 'rb') as inp:\n",
    "    data2 = pkl.load(inp)"
   ]
  },
  {
   "cell_type": "code",
   "execution_count": 20,
   "id": "d2b83356-44b5-45ef-8116-c3258808e9c4",
   "metadata": {},
   "outputs": [],
   "source": [
    "data2 = data2[data2[\"HSA\"]<84.4]"
   ]
  },
  {
   "cell_type": "code",
   "execution_count": 21,
   "id": "bf9fb6cd-6c7f-43cb-bf29-979b8e4ab7f6",
   "metadata": {},
   "outputs": [
    {
     "name": "stdout",
     "output_type": "stream",
     "text": [
      "492814  records in first frame\n",
      "811376  records in second frame\n"
     ]
    },
    {
     "data": {
      "text/html": [
       "<div>\n",
       "<style scoped>\n",
       "    .dataframe tbody tr th:only-of-type {\n",
       "        vertical-align: middle;\n",
       "    }\n",
       "\n",
       "    .dataframe tbody tr th {\n",
       "        vertical-align: top;\n",
       "    }\n",
       "\n",
       "    .dataframe thead th {\n",
       "        text-align: right;\n",
       "    }\n",
       "</style>\n",
       "<table border=\"1\" class=\"dataframe\">\n",
       "  <thead>\n",
       "    <tr style=\"text-align: right;\">\n",
       "      <th></th>\n",
       "      <th>drug_drug2</th>\n",
       "      <th>ID</th>\n",
       "      <th>Drug1</th>\n",
       "      <th>Drug2</th>\n",
       "      <th>Cell line</th>\n",
       "      <th>ZIP</th>\n",
       "      <th>Bliss</th>\n",
       "      <th>Loewe</th>\n",
       "      <th>index</th>\n",
       "      <th>HSA</th>\n",
       "      <th>source</th>\n",
       "    </tr>\n",
       "  </thead>\n",
       "  <tbody>\n",
       "    <tr>\n",
       "      <th>0</th>\n",
       "      <td>5-fuabt-888A2058</td>\n",
       "      <td>1</td>\n",
       "      <td>5-fu</td>\n",
       "      <td>abt-888</td>\n",
       "      <td>A2058</td>\n",
       "      <td>2.80125</td>\n",
       "      <td>9.4975</td>\n",
       "      <td>0.490625</td>\n",
       "      <td>284469</td>\n",
       "      <td>8.7775</td>\n",
       "      <td>ONEIL</td>\n",
       "    </tr>\n",
       "    <tr>\n",
       "      <th>1</th>\n",
       "      <td>5-fuazd1775A2058</td>\n",
       "      <td>5</td>\n",
       "      <td>5-fu</td>\n",
       "      <td>azd1775</td>\n",
       "      <td>A2058</td>\n",
       "      <td>9.81750</td>\n",
       "      <td>11.2075</td>\n",
       "      <td>5.837500</td>\n",
       "      <td>29611</td>\n",
       "      <td>14.0975</td>\n",
       "      <td>ONEIL</td>\n",
       "    </tr>\n",
       "  </tbody>\n",
       "</table>\n",
       "</div>"
      ],
      "text/plain": [
       "         drug_drug2  ID Drug1    Drug2 Cell line      ZIP    Bliss     Loewe  \\\n",
       "0  5-fuabt-888A2058   1  5-fu  abt-888     A2058  2.80125   9.4975  0.490625   \n",
       "1  5-fuazd1775A2058   5  5-fu  azd1775     A2058  9.81750  11.2075  5.837500   \n",
       "\n",
       "    index      HSA source  \n",
       "0  284469   8.7775  ONEIL  \n",
       "1   29611  14.0975  ONEIL  "
      ]
     },
     "execution_count": 21,
     "metadata": {},
     "output_type": "execute_result"
    }
   ],
   "source": [
    "# double Data\n",
    "dataReversed1 = data1\n",
    "dataReversed2 = data2\n",
    "\n",
    "dataReversed1 = dataReversed1.rename(columns={\"Drug1\":\"Drug2\",\"Drug2\":\"Drug1\"})\n",
    "dataReversed2 = dataReversed2.rename(columns={\"Drug1\":\"Drug2\",\"Drug2\":\"Drug1\"})\n",
    "\n",
    "dataDouble1 = data1.append(dataReversed1)\n",
    "dataDouble2 = data2.append(dataReversed2)\n",
    "\n",
    "dataDouble1.reset_index(inplace=True,drop=True)\n",
    "dataDouble2.reset_index(inplace=True,drop=True)\n",
    "\n",
    "print(len(dataDouble1),\" records in first frame\")\n",
    "print(len(dataDouble2),\" records in second frame\")\n",
    "dataDouble1.head(2)"
   ]
  },
  {
   "cell_type": "markdown",
   "id": "cfa6f0b7-72c1-486d-8dd8-8e22c4493eaf",
   "metadata": {},
   "source": [
    "Drug Feature import part"
   ]
  },
  {
   "cell_type": "code",
   "execution_count": 23,
   "id": "89a7bcd7-9d31-43b2-afbe-2d974d22867d",
   "metadata": {},
   "outputs": [],
   "source": [
    "drug_feats = pd.read_csv(\"./output/all_drugs_with_smiles.csv\")\n",
    "drug_feats[\"mol-object\"]=[Chem.MolFromSmiles(mol) for mol in drug_feats[\"smilesString\"]]\n",
    "\n",
    "maccsFrame = pd.DataFrame(drug_feats[\"drugName\"])\n",
    "maccsFrame[\"MACCSk\"] = [np.array(Chem.MACCSkeys.GenMACCSKeys(mol)) for mol in chemDescr[\"mol-object\"]]\n",
    "\n",
    "joinMaccs = pd.DataFrame([])\n",
    "for i in range(len(maccsFrame)):\n",
    "    joinMaccs = joinMaccs.append(pd.Series(maccsFrame.iloc[i,1]),ignore_index=True)\n",
    "\n",
    "drugMACCS = maccsFrame.join(joinMaccs,how=\"left\").drop(columns=\"MACCSk\")"
   ]
  },
  {
   "cell_type": "code",
   "execution_count": null,
   "id": "2d9fbf73",
   "metadata": {},
   "outputs": [],
   "source": []
  },
  {
   "cell_type": "code",
   "execution_count": 24,
   "id": "e503f28c-cc27-4a56-a8d4-9415f1a5b4ae",
   "metadata": {},
   "outputs": [],
   "source": [
    "drug_feats.set_index(\"drugName\",inplace=True)\n",
    "drug_feats.index = drug_feats.index.str.lower()\n",
    "\n",
    "d1_drugs = drug_feats.add_prefix(\"D1 \")\n",
    "d2_drugs = drug_feats.add_prefix(\"D2 \")\n",
    "\n",
    "dataDouble_drug1_feats1 = dataDouble1.join(d1_drugs,on=\"Drug1\",how=\"left\")\n",
    "dataDouble_drug1_feats2 = dataDouble2.join(d1_drugs,on=\"Drug1\",how=\"left\")\n",
    "\n",
    "dataDouble_all_feats1 = dataDouble_drug1_feats1.join(d2_drugs,on=\"Drug2\",how=\"left\")\n",
    "dataDouble_all_feats2 = dataDouble_drug1_feats2.join(d2_drugs,on=\"Drug2\",how=\"left\")"
   ]
  },
  {
   "cell_type": "markdown",
   "id": "3d57b987-ea45-4fa3-a79e-9f0d1b3e48f9",
   "metadata": {},
   "source": [
    "Cell Line Info from Ammar"
   ]
  },
  {
   "cell_type": "code",
   "execution_count": 26,
   "id": "e5f9fd6c-6629-47da-a800-615a74f000df",
   "metadata": {},
   "outputs": [],
   "source": [
    "# Ammars output files\n",
    "cellLine_info = pd.read_csv('output/cell_lines_enriched.csv', sep=',', dtype='string')\n",
    "drug_info = pd.read_csv('output/all_drugs_with_smiles.csv', sep=',', dtype='string')\n",
    "\n",
    "cat_ohe = pd.get_dummies(cellLine_info.category, prefix='cat')\n",
    "cellLine_info_full = pd.concat([cellLine_info,cat_ohe], axis=1)\n",
    "\n",
    "gender_ohe = pd.get_dummies(cellLine_info.gender, prefix='gender')\n",
    "\n",
    "cellLine_info_full['age'] = cellLine_info_full['age'].str.replace('Y','').replace('Age unspecified','0')\n",
    "cellLine_info_full['age'] = cellLine_info_full['age'].astype('int')\n",
    "\n",
    "cellLine_info_full = cellLine_info_full.drop('cosmicId', 1)\n",
    "cellLine_info_full = cellLine_info_full.drop('category', 1)\n",
    "cellLine_info_full = cellLine_info_full.drop('gender', 1)"
   ]
  },
  {
   "cell_type": "code",
   "execution_count": 27,
   "id": "b9c59860-8b6c-4863-bbc1-34584b5baf23",
   "metadata": {},
   "outputs": [],
   "source": [
    "finalFrame1 = dataDouble_all_feats1.join(cellLine_info_full.set_index(\"cellName\"),on=\"Cell line\", how=\"left\")#.dropna()\n",
    "finalFrame2 = dataDouble_all_feats2.join(cellLine_info_full.set_index(\"cellName\"),on=\"Cell line\", how=\"left\")#.dropna()"
   ]
  },
  {
   "cell_type": "code",
   "execution_count": 29,
   "id": "41d9f2c0-c19e-426b-9f63-cdcc2c31fbe4",
   "metadata": {},
   "outputs": [],
   "source": [
    "with open('./intermediate-pickles-scoring2/finalFrame1.pkl', 'wb') as outp:\n",
    "    pkl.dump(finalFrame1, outp)\n",
    "with open('./intermediate-pickles-scoring2/finalFrame2.pkl', 'wb') as outp:\n",
    "    pkl.dump(finalFrame2, outp)"
   ]
  },
  {
   "cell_type": "markdown",
   "id": "a08d0bc0-f883-428b-a9a9-dee53875e17e",
   "metadata": {},
   "source": [
    "#### 3. Combination ID?"
   ]
  },
  {
   "cell_type": "code",
   "execution_count": 38,
   "id": "7df980ef-a92f-4b95-bfeb-e7b1c9ef80af",
   "metadata": {},
   "outputs": [],
   "source": [
    "with open('./intermediate-pickles-scoring2/finalFrame1.pkl', 'rb') as inp:\n",
    "    data1 = pkl.load(inp)\n",
    "with open('./intermediate-pickles-scoring2/finalFrame2.pkl', 'rb') as inp:\n",
    "    data2 = pkl.load(inp)"
   ]
  },
  {
   "cell_type": "code",
   "execution_count": 39,
   "id": "4ef7c401-faa4-4731-aac7-15ac997a4497",
   "metadata": {},
   "outputs": [
    {
     "name": "stdout",
     "output_type": "stream",
     "text": [
      "Data1 has records  457614\n",
      "Data2 has records  603376\n"
     ]
    },
    {
     "data": {
      "text/html": [
       "<div>\n",
       "<style scoped>\n",
       "    .dataframe tbody tr th:only-of-type {\n",
       "        vertical-align: middle;\n",
       "    }\n",
       "\n",
       "    .dataframe tbody tr th {\n",
       "        vertical-align: top;\n",
       "    }\n",
       "\n",
       "    .dataframe thead th {\n",
       "        text-align: right;\n",
       "    }\n",
       "</style>\n",
       "<table border=\"1\" class=\"dataframe\">\n",
       "  <thead>\n",
       "    <tr style=\"text-align: right;\">\n",
       "      <th></th>\n",
       "      <th>drug_drug2</th>\n",
       "      <th>ID</th>\n",
       "      <th>Drug1</th>\n",
       "      <th>Drug2</th>\n",
       "      <th>Cell line</th>\n",
       "      <th>ZIP</th>\n",
       "      <th>Bliss</th>\n",
       "      <th>Loewe</th>\n",
       "      <th>index</th>\n",
       "      <th>HSA</th>\n",
       "      <th>...</th>\n",
       "      <th>D2 EState_VSA2</th>\n",
       "      <th>D2 EState_VSA3</th>\n",
       "      <th>D2 VSA_EState1</th>\n",
       "      <th>D2 VSA_EState2</th>\n",
       "      <th>D2 VSA_EState3</th>\n",
       "      <th>age</th>\n",
       "      <th>cat_Cancer cell line</th>\n",
       "      <th>cat_Embryonic stem cell</th>\n",
       "      <th>cat_Hybridoma</th>\n",
       "      <th>cat_Transformed cell line</th>\n",
       "    </tr>\n",
       "  </thead>\n",
       "  <tbody>\n",
       "    <tr>\n",
       "      <th>0</th>\n",
       "      <td>5-fuabt-888A2058</td>\n",
       "      <td>1</td>\n",
       "      <td>5-fu</td>\n",
       "      <td>abt-888</td>\n",
       "      <td>A2058</td>\n",
       "      <td>2.80125</td>\n",
       "      <td>9.4975</td>\n",
       "      <td>0.490625</td>\n",
       "      <td>284469</td>\n",
       "      <td>8.7775</td>\n",
       "      <td>...</td>\n",
       "      <td>5.538925</td>\n",
       "      <td>11.080152</td>\n",
       "      <td>0.000000</td>\n",
       "      <td>19.238682</td>\n",
       "      <td>3.448989</td>\n",
       "      <td>43.0</td>\n",
       "      <td>1.0</td>\n",
       "      <td>0.0</td>\n",
       "      <td>0.0</td>\n",
       "      <td>0.0</td>\n",
       "    </tr>\n",
       "    <tr>\n",
       "      <th>1</th>\n",
       "      <td>5-fuazd1775A2058</td>\n",
       "      <td>5</td>\n",
       "      <td>5-fu</td>\n",
       "      <td>azd1775</td>\n",
       "      <td>A2058</td>\n",
       "      <td>9.81750</td>\n",
       "      <td>11.2075</td>\n",
       "      <td>5.837500</td>\n",
       "      <td>29611</td>\n",
       "      <td>14.0975</td>\n",
       "      <td>...</td>\n",
       "      <td>12.104023</td>\n",
       "      <td>28.493531</td>\n",
       "      <td>3.162078</td>\n",
       "      <td>31.601287</td>\n",
       "      <td>14.099736</td>\n",
       "      <td>43.0</td>\n",
       "      <td>1.0</td>\n",
       "      <td>0.0</td>\n",
       "      <td>0.0</td>\n",
       "      <td>0.0</td>\n",
       "    </tr>\n",
       "  </tbody>\n",
       "</table>\n",
       "<p>2 rows × 154 columns</p>\n",
       "</div>"
      ],
      "text/plain": [
       "         drug_drug2  ID Drug1    Drug2 Cell line      ZIP    Bliss     Loewe  \\\n",
       "0  5-fuabt-888A2058   1  5-fu  abt-888     A2058  2.80125   9.4975  0.490625   \n",
       "1  5-fuazd1775A2058   5  5-fu  azd1775     A2058  9.81750  11.2075  5.837500   \n",
       "\n",
       "    index      HSA  ... D2 EState_VSA2  D2 EState_VSA3  D2 VSA_EState1  \\\n",
       "0  284469   8.7775  ...       5.538925       11.080152        0.000000   \n",
       "1   29611  14.0975  ...      12.104023       28.493531        3.162078   \n",
       "\n",
       "   D2 VSA_EState2  D2 VSA_EState3   age  cat_Cancer cell line  \\\n",
       "0       19.238682        3.448989  43.0                   1.0   \n",
       "1       31.601287       14.099736  43.0                   1.0   \n",
       "\n",
       "   cat_Embryonic stem cell  cat_Hybridoma  cat_Transformed cell line  \n",
       "0                      0.0            0.0                        0.0  \n",
       "1                      0.0            0.0                        0.0  \n",
       "\n",
       "[2 rows x 154 columns]"
      ]
     },
     "execution_count": 39,
     "metadata": {},
     "output_type": "execute_result"
    }
   ],
   "source": [
    "data1 = data1.dropna() #loose here 10-20% of data\n",
    "data2 = data2.dropna()\n",
    "data1.reset_index(inplace=True,drop=True)\n",
    "data2.reset_index(inplace=True,drop=True)\n",
    "print(\"Data1 has records \",len(data1))\n",
    "print(\"Data2 has records \",len(data2))\n",
    "data1.head(2)"
   ]
  },
  {
   "cell_type": "markdown",
   "id": "f37656d6-024c-45ef-b84b-442d1ecd1f7a",
   "metadata": {},
   "source": [
    "#### 4. Making Predictions"
   ]
  },
  {
   "cell_type": "code",
   "execution_count": 50,
   "id": "e5b70d8c-695c-4bdc-80bd-729d5458d7a0",
   "metadata": {},
   "outputs": [],
   "source": [
    "Y1 = data1.iloc[:,9]\n",
    "X1 = data1.iloc[:,11:]\n",
    "X1.drop([\"D1 Ipc\",\"D2 Ipc\"],axis=1,inplace=True)\n",
    "\n",
    "Y2 = data2.iloc[:,9]\n",
    "X2 = data2.iloc[:,10:]\n",
    "X2.drop([\"D1 Ipc\",\"D2 Ipc\"],axis=1,inplace=True)\n",
    "\n",
    "from sklearn.model_selection import train_test_split\n",
    "X_train1,x_test1,Y_train1,y_test1 = train_test_split(X1,Y1,test_size=0.3,stratify=Y1) #consider stratifying on combination\n",
    "X_train2,x_test2,Y_train2,y_test2 = train_test_split(X2,Y2,test_size=0.3,stratify=Y2)"
   ]
  },
  {
   "cell_type": "code",
   "execution_count": 54,
   "id": "9116131c-dfe1-42e1-985a-81077dae0c11",
   "metadata": {},
   "outputs": [],
   "source": [
    "with open('./intermediate-pickles-scoring2/trainTestSplit/X_train1.pkl', 'wb') as outp:\n",
    "    pkl.dump(X_train1, outp)\n",
    "with open('./intermediate-pickles-scoring2/trainTestSplit/X_train2.pkl', 'wb') as outp:\n",
    "    pkl.dump(X_train2, outp)\n",
    "with open('./intermediate-pickles-scoring2/trainTestSplit/x_test1.pkl', 'wb') as outp:\n",
    "    pkl.dump(x_test1, outp)\n",
    "with open('./intermediate-pickles-scoring2/trainTestSplit/x_test2.pkl', 'wb') as outp:\n",
    "    pkl.dump(x_test2, outp)\n",
    "\n",
    "with open('./intermediate-pickles-scoring2/trainTestSplit/Y_train1.pkl', 'wb') as outp:\n",
    "    pkl.dump(Y_train1, outp)\n",
    "with open('./intermediate-pickles-scoring2/trainTestSplit/Y_train2.pkl', 'wb') as outp:\n",
    "    pkl.dump(Y_train2, outp)\n",
    "with open('./intermediate-pickles-scoring2/trainTestSplit/y_test1.pkl', 'wb') as outp:\n",
    "    pkl.dump(y_test1, outp)\n",
    "with open('./intermediate-pickles-scoring2/trainTestSplit/y_test2.pkl', 'wb') as outp:\n",
    "    pkl.dump(y_test2, outp)"
   ]
  },
  {
   "cell_type": "code",
   "execution_count": null,
   "id": "992f5b36-0161-45e6-9146-3f462954c49a",
   "metadata": {},
   "outputs": [],
   "source": [
    "import matplotlib.pyplot as plt\n",
    "from sklearn.ensemble import RandomForestRegressor \n",
    "\n",
    "regressor1 = RandomForestRegressor(max_depth=4, random_state=0, n_estimators=100, verbose=True)\n",
    "regressor1.fit(X_train1,Y_train1)\n",
    "\n",
    "predTrain1=regressor1.predict(X_train1)\n",
    "predTest1=regressor1.predict(x_test1)"
   ]
  },
  {
   "cell_type": "code",
   "execution_count": 58,
   "id": "bfff71b2-2ce2-4ca4-a673-2beb83ddfa31",
   "metadata": {},
   "outputs": [
    {
     "name": "stderr",
     "output_type": "stream",
     "text": [
      "[Parallel(n_jobs=1)]: Using backend SequentialBackend with 1 concurrent workers.\n",
      "[Parallel(n_jobs=1)]: Done 100 out of 100 | elapsed:    0.7s finished\n"
     ]
    }
   ],
   "source": []
  },
  {
   "cell_type": "code",
   "execution_count": 60,
   "id": "832297ed-b5f5-46d0-98b1-76a7208c73a5",
   "metadata": {},
   "outputs": [
    {
     "name": "stderr",
     "output_type": "stream",
     "text": [
      "[Parallel(n_jobs=1)]: Using backend SequentialBackend with 1 concurrent workers.\n",
      "[Parallel(n_jobs=1)]: Done 100 out of 100 | elapsed: 14.1min finished\n",
      "[Parallel(n_jobs=1)]: Using backend SequentialBackend with 1 concurrent workers.\n",
      "[Parallel(n_jobs=1)]: Done 100 out of 100 | elapsed:    1.9s finished\n",
      "[Parallel(n_jobs=1)]: Using backend SequentialBackend with 1 concurrent workers.\n",
      "[Parallel(n_jobs=1)]: Done 100 out of 100 | elapsed:    0.8s finished\n"
     ]
    }
   ],
   "source": [
    "regressor2 = RandomForestRegressor(max_depth=4, random_state=0, n_estimators=100, verbose=True)\n",
    "regressor2.fit(X_train2,Y_train2)\n",
    "\n",
    "predTrain2=regressor2.predict(X_train2)\n",
    "predTest2=regressor2.predict(x_test2)"
   ]
  },
  {
   "cell_type": "code",
   "execution_count": 61,
   "id": "7f4dd88f-5f32-435e-9d8a-087589b964dd",
   "metadata": {},
   "outputs": [],
   "source": [
    "from sklearn.dummy import DummyRegressor\n",
    "dummyRegressor1 = DummyRegressor()\n",
    "dummyRegressor1.fit(X_train1,Y_train1)\n",
    "\n",
    "predTrainDumm1=dummyRegressor1.predict(X_train1)\n",
    "predTestDumm1=dummyRegressor1.predict(x_test1)\n",
    "\n",
    "dummyRegressor2 = DummyRegressor()\n",
    "dummyRegressor2.fit(X_train2,Y_train2)\n",
    "\n",
    "predTrainDumm2=dummyRegressor2.predict(X_train2)\n",
    "predTestDumm2=dummyRegressor2.predict(x_test2)"
   ]
  },
  {
   "cell_type": "markdown",
   "id": "ac20b4ed-ccc7-479e-9173-1ac87d38fcf0",
   "metadata": {},
   "source": [
    "#### Scoring (Mean Absolute/Squared Error)"
   ]
  },
  {
   "cell_type": "code",
   "execution_count": 69,
   "id": "c331136b-12c8-43b8-ae23-7fb51ba5b053",
   "metadata": {},
   "outputs": [
    {
     "name": "stdout",
     "output_type": "stream",
     "text": [
      "## The performances are:\n",
      "\n",
      "Small Dataset:\n",
      "On Training Data:  3.8512295736362114\n",
      "On Testing  Data:  3.856709127409338\n",
      "Dummy Training  :  4.019826881637109\n",
      "Dummy Testing   :  4.020777303474963\n",
      "\n",
      "Big Dataset:\n",
      "On Training Data:  4.023602782805237\n",
      "On Testing  Data:  4.038416459991488\n",
      "Dummy Training  :  4.17312462139542\n",
      "Dummy Testing   :  4.188929710733737\n"
     ]
    }
   ],
   "source": [
    "print(\"## The performances are:\")\n",
    "print(\"\\nSmall Dataset:\")\n",
    "print(\"On Training Data: \",np.mean(np.abs(predTrain1-Y_train1)))\n",
    "print(\"On Testing  Data: \",np.mean(np.abs(predTest1-y_test1)))\n",
    "print(\"Dummy Training  : \",np.mean(np.abs(predTrainDumm1-Y_train1)))\n",
    "print(\"Dummy Testing   : \",np.mean(np.abs(predTestDumm1-y_test1)))\n",
    "print(\"\\nBig Dataset:\")\n",
    "print(\"On Training Data: \",np.mean(np.abs(predTrain2-Y_train2)))\n",
    "print(\"On Testing  Data: \",np.mean(np.abs(predTest2-y_test2)))\n",
    "print(\"Dummy Training  : \",np.mean(np.abs(predTrainDumm2-Y_train2)))\n",
    "print(\"Dummy Testing   : \",np.mean(np.abs(predTestDumm2-y_test2)))"
   ]
  },
  {
   "cell_type": "code",
   "execution_count": 70,
   "id": "0478664a-0ee0-4184-91ee-050d146868fc",
   "metadata": {},
   "outputs": [
    {
     "name": "stdout",
     "output_type": "stream",
     "text": [
      "## The performances are:\n",
      "\n",
      "Small Dataset:\n",
      "On Training Data:  32.484186707350744\n",
      "On Testing  Data:  32.84695566451583\n",
      "Dummy Training  :  36.058513836791256\n",
      "Dummy Testing   :  36.36555926960286\n",
      "\n",
      "Big Dataset:\n",
      "On Training Data:  34.73133734048182\n",
      "On Testing  Data:  35.346908681521796\n",
      "Dummy Training  :  38.12436906145257\n",
      "Dummy Testing   :  38.80865347982537\n"
     ]
    }
   ],
   "source": [
    "print(\"## The performances are:\")\n",
    "print(\"\\nSmall Dataset:\")\n",
    "print(\"On Training Data: \",np.mean(np.square(predTrain1-Y_train1)))\n",
    "print(\"On Testing  Data: \",np.mean(np.square(predTest1-y_test1)))\n",
    "print(\"Dummy Training  : \",np.mean(np.square(predTrainDumm1-Y_train1)))\n",
    "print(\"Dummy Testing   : \",np.mean(np.square(predTestDumm1-y_test1)))\n",
    "print(\"\\nBig Dataset:\")\n",
    "print(\"On Training Data: \",np.mean(np.square(predTrain2-Y_train2)))\n",
    "print(\"On Testing  Data: \",np.mean(np.square(predTest2-y_test2)))\n",
    "print(\"Dummy Training  : \",np.mean(np.square(predTrainDumm2-Y_train2)))\n",
    "print(\"Dummy Testing   : \",np.mean(np.square(predTestDumm2-y_test2)))"
   ]
  },
  {
   "cell_type": "code",
   "execution_count": 71,
   "id": "227bcf2b-e3a2-41e2-bce3-d07f1c49c93d",
   "metadata": {},
   "outputs": [],
   "source": [
    "#could call scoring function as well"
   ]
  },
  {
   "cell_type": "markdown",
   "id": "810a07bd-d8ec-4b0e-ab88-6573ea328090",
   "metadata": {},
   "source": [
    "Next steps:\n",
    "\n",
    "Use Keys & Cell Line Profiles"
   ]
  }
 ],
 "metadata": {
  "kernelspec": {
   "display_name": "Python 3",
   "language": "python",
   "name": "python3"
  },
  "language_info": {
   "codemirror_mode": {
    "name": "ipython",
    "version": 3
   },
   "file_extension": ".py",
   "mimetype": "text/x-python",
   "name": "python",
   "nbconvert_exporter": "python",
   "pygments_lexer": "ipython3",
   "version": "3.8.8"
  }
 },
 "nbformat": 4,
 "nbformat_minor": 5
}
