{
 "cells": [
  {
   "cell_type": "markdown",
   "metadata": {},
   "source": [
    "changes I made on the cluster: computations on the last sections (tree training), end of combination ID cells"
   ]
  },
  {
   "cell_type": "markdown",
   "metadata": {},
   "source": [
    "In this file I will test how well our current feature matrix predicts synergies using trees and random forests "
   ]
  },
  {
   "cell_type": "code",
   "execution_count": 5,
   "metadata": {},
   "outputs": [],
   "source": [
    "import pandas as pd\n",
    "import numpy as np\n",
    "import _pickle as pickle\n",
    "\n",
    "from rdkit import Chem\n",
    "from rdkit.Chem import Descriptors\n",
    "from rdkit.Chem import MACCSkeys"
   ]
  },
  {
   "cell_type": "markdown",
   "metadata": {},
   "source": [
    "#### Imports from Ammar's prettfied file"
   ]
  },
  {
   "cell_type": "code",
   "execution_count": 2,
   "metadata": {},
   "outputs": [],
   "source": [
    "# Ammars output files\n",
    "cellLine_info = pd.read_csv('output/cell_lines_enriched.csv', sep=',', dtype='string')\n",
    "drug_info = pd.read_csv('output/all_drugs_with_smiles.csv', sep=',', dtype='string')"
   ]
  },
  {
   "cell_type": "markdown",
   "metadata": {},
   "source": [
    "##### Ammar Celllines: apply One Hot Encoding on category and gender columns and clean the age column"
   ]
  },
  {
   "cell_type": "code",
   "execution_count": 3,
   "metadata": {},
   "outputs": [
    {
     "data": {
      "text/html": [
       "<div>\n",
       "<style scoped>\n",
       "    .dataframe tbody tr th:only-of-type {\n",
       "        vertical-align: middle;\n",
       "    }\n",
       "\n",
       "    .dataframe tbody tr th {\n",
       "        vertical-align: top;\n",
       "    }\n",
       "\n",
       "    .dataframe thead th {\n",
       "        text-align: right;\n",
       "    }\n",
       "</style>\n",
       "<table border=\"1\" class=\"dataframe\">\n",
       "  <thead>\n",
       "    <tr style=\"text-align: right;\">\n",
       "      <th></th>\n",
       "      <th>cellName</th>\n",
       "      <th>cosmicId</th>\n",
       "      <th>category</th>\n",
       "      <th>gender</th>\n",
       "      <th>age</th>\n",
       "    </tr>\n",
       "  </thead>\n",
       "  <tbody>\n",
       "    <tr>\n",
       "      <th>0</th>\n",
       "      <td>786-0</td>\n",
       "      <td>905947</td>\n",
       "      <td>Cancer cell line</td>\n",
       "      <td>Male</td>\n",
       "      <td>58Y</td>\n",
       "    </tr>\n",
       "    <tr>\n",
       "      <th>1</th>\n",
       "      <td>A498</td>\n",
       "      <td>905948</td>\n",
       "      <td>Cancer cell line</td>\n",
       "      <td>Male</td>\n",
       "      <td>52Y</td>\n",
       "    </tr>\n",
       "    <tr>\n",
       "      <th>2</th>\n",
       "      <td>A549/ATCC</td>\n",
       "      <td>905949</td>\n",
       "      <td>Cancer cell line</td>\n",
       "      <td>Male</td>\n",
       "      <td>58Y</td>\n",
       "    </tr>\n",
       "    <tr>\n",
       "      <th>3</th>\n",
       "      <td>ACHN</td>\n",
       "      <td>905950</td>\n",
       "      <td>Cancer cell line</td>\n",
       "      <td>Male</td>\n",
       "      <td>22Y</td>\n",
       "    </tr>\n",
       "    <tr>\n",
       "      <th>4</th>\n",
       "      <td>CCRF-CEM</td>\n",
       "      <td>905952</td>\n",
       "      <td>Cancer cell line</td>\n",
       "      <td>Female</td>\n",
       "      <td>4Y</td>\n",
       "    </tr>\n",
       "  </tbody>\n",
       "</table>\n",
       "</div>"
      ],
      "text/plain": [
       "    cellName cosmicId          category  gender  age\n",
       "0      786-0   905947  Cancer cell line    Male  58Y\n",
       "1       A498   905948  Cancer cell line    Male  52Y\n",
       "2  A549/ATCC   905949  Cancer cell line    Male  58Y\n",
       "3       ACHN   905950  Cancer cell line    Male  22Y\n",
       "4   CCRF-CEM   905952  Cancer cell line  Female   4Y"
      ]
     },
     "execution_count": 3,
     "metadata": {},
     "output_type": "execute_result"
    }
   ],
   "source": [
    "cellLine_info.head()"
   ]
  },
  {
   "cell_type": "code",
   "execution_count": 4,
   "metadata": {},
   "outputs": [],
   "source": [
    "cat_ohe = pd.get_dummies(cellLine_info.category, prefix='cat')"
   ]
  },
  {
   "cell_type": "code",
   "execution_count": 5,
   "metadata": {},
   "outputs": [],
   "source": [
    "cellLine_info_full = pd.concat([cellLine_info,cat_ohe], axis=1)"
   ]
  },
  {
   "cell_type": "code",
   "execution_count": 6,
   "metadata": {},
   "outputs": [],
   "source": [
    "gender_ohe = pd.get_dummies(cellLine_info.gender, prefix='gender')"
   ]
  },
  {
   "cell_type": "code",
   "execution_count": 7,
   "metadata": {},
   "outputs": [],
   "source": [
    "cellLine_info_full = pd.concat([cellLine_info_full,gender_ohe], axis=1)"
   ]
  },
  {
   "cell_type": "code",
   "execution_count": 8,
   "metadata": {},
   "outputs": [],
   "source": [
    "cellLine_info_full['age'] = cellLine_info_full['age'].str.replace('Y','').replace('Age unspecified','0')\n",
    "cellLine_info_full['age'] = cellLine_info_full['age'].astype('int')"
   ]
  },
  {
   "cell_type": "code",
   "execution_count": 9,
   "metadata": {},
   "outputs": [
    {
     "data": {
      "text/plain": [
       "array([58, 52, 22,  4, 70, 69,  0, 48, 36, 60, 62, 47, 53, 43, 19, 64, 51,\n",
       "       42, 61, 24, 67, 34, 75, 11, 54, 31,  1, 33, 49, 74, 55, 46, 29, 50,\n",
       "       56, 27, 18, 65, 59, 63, 39, 25])"
      ]
     },
     "execution_count": 9,
     "metadata": {},
     "output_type": "execute_result"
    }
   ],
   "source": [
    "cellLine_info_full['age'].unique()"
   ]
  },
  {
   "cell_type": "code",
   "execution_count": 10,
   "metadata": {},
   "outputs": [],
   "source": [
    "cellLine_info_full = cellLine_info_full.drop('cosmicId', 1)\n",
    "cellLine_info_full = cellLine_info_full.drop('category', 1)\n",
    "cellLine_info_full = cellLine_info_full.drop('gender', 1)"
   ]
  },
  {
   "cell_type": "code",
   "execution_count": 11,
   "metadata": {},
   "outputs": [
    {
     "data": {
      "text/html": [
       "<div>\n",
       "<style scoped>\n",
       "    .dataframe tbody tr th:only-of-type {\n",
       "        vertical-align: middle;\n",
       "    }\n",
       "\n",
       "    .dataframe tbody tr th {\n",
       "        vertical-align: top;\n",
       "    }\n",
       "\n",
       "    .dataframe thead th {\n",
       "        text-align: right;\n",
       "    }\n",
       "</style>\n",
       "<table border=\"1\" class=\"dataframe\">\n",
       "  <thead>\n",
       "    <tr style=\"text-align: right;\">\n",
       "      <th></th>\n",
       "      <th>cellName</th>\n",
       "      <th>age</th>\n",
       "      <th>cat_Cancer cell line</th>\n",
       "      <th>cat_Embryonic stem cell</th>\n",
       "      <th>cat_Hybridoma</th>\n",
       "      <th>cat_Transformed cell line</th>\n",
       "      <th>gender_Female</th>\n",
       "      <th>gender_Male</th>\n",
       "      <th>gender_Sex unspecified</th>\n",
       "    </tr>\n",
       "  </thead>\n",
       "  <tbody>\n",
       "    <tr>\n",
       "      <th>0</th>\n",
       "      <td>786-0</td>\n",
       "      <td>58</td>\n",
       "      <td>1</td>\n",
       "      <td>0</td>\n",
       "      <td>0</td>\n",
       "      <td>0</td>\n",
       "      <td>0</td>\n",
       "      <td>1</td>\n",
       "      <td>0</td>\n",
       "    </tr>\n",
       "    <tr>\n",
       "      <th>1</th>\n",
       "      <td>A498</td>\n",
       "      <td>52</td>\n",
       "      <td>1</td>\n",
       "      <td>0</td>\n",
       "      <td>0</td>\n",
       "      <td>0</td>\n",
       "      <td>0</td>\n",
       "      <td>1</td>\n",
       "      <td>0</td>\n",
       "    </tr>\n",
       "    <tr>\n",
       "      <th>2</th>\n",
       "      <td>A549/ATCC</td>\n",
       "      <td>58</td>\n",
       "      <td>1</td>\n",
       "      <td>0</td>\n",
       "      <td>0</td>\n",
       "      <td>0</td>\n",
       "      <td>0</td>\n",
       "      <td>1</td>\n",
       "      <td>0</td>\n",
       "    </tr>\n",
       "    <tr>\n",
       "      <th>3</th>\n",
       "      <td>ACHN</td>\n",
       "      <td>22</td>\n",
       "      <td>1</td>\n",
       "      <td>0</td>\n",
       "      <td>0</td>\n",
       "      <td>0</td>\n",
       "      <td>0</td>\n",
       "      <td>1</td>\n",
       "      <td>0</td>\n",
       "    </tr>\n",
       "    <tr>\n",
       "      <th>4</th>\n",
       "      <td>CCRF-CEM</td>\n",
       "      <td>4</td>\n",
       "      <td>1</td>\n",
       "      <td>0</td>\n",
       "      <td>0</td>\n",
       "      <td>0</td>\n",
       "      <td>1</td>\n",
       "      <td>0</td>\n",
       "      <td>0</td>\n",
       "    </tr>\n",
       "  </tbody>\n",
       "</table>\n",
       "</div>"
      ],
      "text/plain": [
       "    cellName  age  cat_Cancer cell line  cat_Embryonic stem cell  \\\n",
       "0      786-0   58                     1                        0   \n",
       "1       A498   52                     1                        0   \n",
       "2  A549/ATCC   58                     1                        0   \n",
       "3       ACHN   22                     1                        0   \n",
       "4   CCRF-CEM    4                     1                        0   \n",
       "\n",
       "   cat_Hybridoma  cat_Transformed cell line  gender_Female  gender_Male  \\\n",
       "0              0                          0              0            1   \n",
       "1              0                          0              0            1   \n",
       "2              0                          0              0            1   \n",
       "3              0                          0              0            1   \n",
       "4              0                          0              1            0   \n",
       "\n",
       "   gender_Sex unspecified  \n",
       "0                       0  \n",
       "1                       0  \n",
       "2                       0  \n",
       "3                       0  \n",
       "4                       0  "
      ]
     },
     "execution_count": 11,
     "metadata": {},
     "output_type": "execute_result"
    }
   ],
   "source": [
    "cellLine_info_full.head()"
   ]
  },
  {
   "cell_type": "markdown",
   "metadata": {},
   "source": [
    "#### cellline data demo"
   ]
  },
  {
   "cell_type": "code",
   "execution_count": 12,
   "metadata": {
    "scrolled": true
   },
   "outputs": [
    {
     "data": {
      "text/plain": [
       "cellName                     string\n",
       "age                           int64\n",
       "cat_Cancer cell line          uint8\n",
       "cat_Embryonic stem cell       uint8\n",
       "cat_Hybridoma                 uint8\n",
       "cat_Transformed cell line     uint8\n",
       "gender_Female                 uint8\n",
       "gender_Male                   uint8\n",
       "gender_Sex unspecified        uint8\n",
       "dtype: object"
      ]
     },
     "execution_count": 12,
     "metadata": {},
     "output_type": "execute_result"
    }
   ],
   "source": [
    "cellLine_info_full.dtypes"
   ]
  },
  {
   "cell_type": "code",
   "execution_count": 13,
   "metadata": {},
   "outputs": [
    {
     "data": {
      "text/html": [
       "<div>\n",
       "<style scoped>\n",
       "    .dataframe tbody tr th:only-of-type {\n",
       "        vertical-align: middle;\n",
       "    }\n",
       "\n",
       "    .dataframe tbody tr th {\n",
       "        vertical-align: top;\n",
       "    }\n",
       "\n",
       "    .dataframe thead th {\n",
       "        text-align: right;\n",
       "    }\n",
       "</style>\n",
       "<table border=\"1\" class=\"dataframe\">\n",
       "  <thead>\n",
       "    <tr style=\"text-align: right;\">\n",
       "      <th></th>\n",
       "      <th>cellName</th>\n",
       "      <th>age</th>\n",
       "      <th>cat_Cancer cell line</th>\n",
       "      <th>cat_Embryonic stem cell</th>\n",
       "      <th>cat_Hybridoma</th>\n",
       "      <th>cat_Transformed cell line</th>\n",
       "      <th>gender_Female</th>\n",
       "      <th>gender_Male</th>\n",
       "      <th>gender_Sex unspecified</th>\n",
       "    </tr>\n",
       "  </thead>\n",
       "  <tbody>\n",
       "    <tr>\n",
       "      <th>0</th>\n",
       "      <td>786-0</td>\n",
       "      <td>58</td>\n",
       "      <td>1</td>\n",
       "      <td>0</td>\n",
       "      <td>0</td>\n",
       "      <td>0</td>\n",
       "      <td>0</td>\n",
       "      <td>1</td>\n",
       "      <td>0</td>\n",
       "    </tr>\n",
       "    <tr>\n",
       "      <th>1</th>\n",
       "      <td>A498</td>\n",
       "      <td>52</td>\n",
       "      <td>1</td>\n",
       "      <td>0</td>\n",
       "      <td>0</td>\n",
       "      <td>0</td>\n",
       "      <td>0</td>\n",
       "      <td>1</td>\n",
       "      <td>0</td>\n",
       "    </tr>\n",
       "    <tr>\n",
       "      <th>2</th>\n",
       "      <td>A549/ATCC</td>\n",
       "      <td>58</td>\n",
       "      <td>1</td>\n",
       "      <td>0</td>\n",
       "      <td>0</td>\n",
       "      <td>0</td>\n",
       "      <td>0</td>\n",
       "      <td>1</td>\n",
       "      <td>0</td>\n",
       "    </tr>\n",
       "    <tr>\n",
       "      <th>3</th>\n",
       "      <td>ACHN</td>\n",
       "      <td>22</td>\n",
       "      <td>1</td>\n",
       "      <td>0</td>\n",
       "      <td>0</td>\n",
       "      <td>0</td>\n",
       "      <td>0</td>\n",
       "      <td>1</td>\n",
       "      <td>0</td>\n",
       "    </tr>\n",
       "    <tr>\n",
       "      <th>4</th>\n",
       "      <td>CCRF-CEM</td>\n",
       "      <td>4</td>\n",
       "      <td>1</td>\n",
       "      <td>0</td>\n",
       "      <td>0</td>\n",
       "      <td>0</td>\n",
       "      <td>1</td>\n",
       "      <td>0</td>\n",
       "      <td>0</td>\n",
       "    </tr>\n",
       "  </tbody>\n",
       "</table>\n",
       "</div>"
      ],
      "text/plain": [
       "    cellName  age  cat_Cancer cell line  cat_Embryonic stem cell  \\\n",
       "0      786-0   58                     1                        0   \n",
       "1       A498   52                     1                        0   \n",
       "2  A549/ATCC   58                     1                        0   \n",
       "3       ACHN   22                     1                        0   \n",
       "4   CCRF-CEM    4                     1                        0   \n",
       "\n",
       "   cat_Hybridoma  cat_Transformed cell line  gender_Female  gender_Male  \\\n",
       "0              0                          0              0            1   \n",
       "1              0                          0              0            1   \n",
       "2              0                          0              0            1   \n",
       "3              0                          0              0            1   \n",
       "4              0                          0              1            0   \n",
       "\n",
       "   gender_Sex unspecified  \n",
       "0                       0  \n",
       "1                       0  \n",
       "2                       0  \n",
       "3                       0  \n",
       "4                       0  "
      ]
     },
     "execution_count": 13,
     "metadata": {},
     "output_type": "execute_result"
    }
   ],
   "source": [
    "cellLine_info_full.head()"
   ]
  },
  {
   "cell_type": "markdown",
   "metadata": {},
   "source": [
    "#### *DO NOT run block below unneccessarily!*"
   ]
  },
  {
   "cell_type": "markdown",
   "metadata": {},
   "source": [
    "#### calculating descriptors"
   ]
  },
  {
   "cell_type": "code",
   "execution_count": null,
   "metadata": {},
   "outputs": [
    {
     "data": {
      "text/html": [
       "<div>\n",
       "<style scoped>\n",
       "    .dataframe tbody tr th:only-of-type {\n",
       "        vertical-align: middle;\n",
       "    }\n",
       "\n",
       "    .dataframe tbody tr th {\n",
       "        vertical-align: top;\n",
       "    }\n",
       "\n",
       "    .dataframe thead th {\n",
       "        text-align: right;\n",
       "    }\n",
       "</style>\n",
       "<table border=\"1\" class=\"dataframe\">\n",
       "  <thead>\n",
       "    <tr style=\"text-align: right;\">\n",
       "      <th></th>\n",
       "      <th>drugName</th>\n",
       "      <th>smilesString</th>\n",
       "    </tr>\n",
       "  </thead>\n",
       "  <tbody>\n",
       "    <tr>\n",
       "      <th>0</th>\n",
       "      <td>Bendamustine</td>\n",
       "      <td>CN1C2=C(C=C(C=C2)N(CCCl)CCCl)N=C1CCCC(=O)O</td>\n",
       "    </tr>\n",
       "    <tr>\n",
       "      <th>1</th>\n",
       "      <td>Lonidamine</td>\n",
       "      <td>C1=CC=C2C(=C1)C(=NN2CC3=C(C=C(C=C3)Cl)Cl)C(=O)O</td>\n",
       "    </tr>\n",
       "    <tr>\n",
       "      <th>2</th>\n",
       "      <td>Lenalidomide</td>\n",
       "      <td>C1CC(=O)NC(=O)C1N2CC3=C(C2=O)C=CC=C3N</td>\n",
       "    </tr>\n",
       "    <tr>\n",
       "      <th>3</th>\n",
       "      <td>Cladribine</td>\n",
       "      <td>C1C(C(OC1N2C=NC3=C2N=C(N=C3N)Cl)CO)O</td>\n",
       "    </tr>\n",
       "    <tr>\n",
       "      <th>4</th>\n",
       "      <td>Pentostatin</td>\n",
       "      <td>C1C(C(OC1N2C=NC3=C2NC=NCC3O)CO)O</td>\n",
       "    </tr>\n",
       "  </tbody>\n",
       "</table>\n",
       "</div>"
      ],
      "text/plain": [
       "       drugName                                     smilesString\n",
       "0  Bendamustine       CN1C2=C(C=C(C=C2)N(CCCl)CCCl)N=C1CCCC(=O)O\n",
       "1    Lonidamine  C1=CC=C2C(=C1)C(=NN2CC3=C(C=C(C=C3)Cl)Cl)C(=O)O\n",
       "2  Lenalidomide            C1CC(=O)NC(=O)C1N2CC3=C(C2=O)C=CC=C3N\n",
       "3    Cladribine             C1C(C(OC1N2C=NC3=C2N=C(N=C3N)Cl)CO)O\n",
       "4   Pentostatin                 C1C(C(OC1N2C=NC3=C2NC=NCC3O)CO)O"
      ]
     },
     "metadata": {},
     "output_type": "display_data"
    }
   ],
   "source": [
    "drug_info.head()"
   ]
  },
  {
   "cell_type": "code",
   "execution_count": null,
   "metadata": {},
   "outputs": [
    {
     "data": {
      "text/html": [
       "<div>\n",
       "<style scoped>\n",
       "    .dataframe tbody tr th:only-of-type {\n",
       "        vertical-align: middle;\n",
       "    }\n",
       "\n",
       "    .dataframe tbody tr th {\n",
       "        vertical-align: top;\n",
       "    }\n",
       "\n",
       "    .dataframe thead th {\n",
       "        text-align: right;\n",
       "    }\n",
       "</style>\n",
       "<table border=\"1\" class=\"dataframe\">\n",
       "  <thead>\n",
       "    <tr style=\"text-align: right;\">\n",
       "      <th></th>\n",
       "      <th>drugName</th>\n",
       "      <th>mols</th>\n",
       "    </tr>\n",
       "  </thead>\n",
       "  <tbody>\n",
       "    <tr>\n",
       "      <th>0</th>\n",
       "      <td>Bendamustine</td>\n",
       "      <td>&lt;rdkit.Chem.rdchem.Mol object at 0x7cf48be226c0&gt;</td>\n",
       "    </tr>\n",
       "    <tr>\n",
       "      <th>1</th>\n",
       "      <td>Lonidamine</td>\n",
       "      <td>&lt;rdkit.Chem.rdchem.Mol object at 0x7cf445b93d50&gt;</td>\n",
       "    </tr>\n",
       "  </tbody>\n",
       "</table>\n",
       "</div>"
      ],
      "text/plain": [
       "       drugName                                              mols\n",
       "0  Bendamustine  <rdkit.Chem.rdchem.Mol object at 0x7cf48be226c0>\n",
       "1    Lonidamine  <rdkit.Chem.rdchem.Mol object at 0x7cf445b93d50>"
      ]
     },
     "metadata": {},
     "output_type": "display_data"
    }
   ],
   "source": [
    "# convert to molecules\n",
    "%%capture --no-display\n",
    "drug_mols = drug_info[[\"drugName\",\"smilesString\"]]\n",
    "drug_mols.loc[:,'mols'] = [Chem.MolFromSmiles(mol) for mol in drug_mols.loc[:,\"smilesString\"]]\n",
    "drug_mols.drop([\"smilesString\"],axis=1,inplace=True)\n",
    "drug_mols.head(2)"
   ]
  },
  {
   "cell_type": "code",
   "execution_count": null,
   "metadata": {},
   "outputs": [],
   "source": [
    "# prepare 2D descriptor calculator \n",
    "from rdkit.ML.Descriptors.MoleculeDescriptors import MolecularDescriptorCalculator\n",
    "\n",
    "lipinskiDescriptors = [\"FractionCSP3\",\"HeavyAtomCount\",\"NHOHCount\",\"NOCount\",\"NumAliphaticCarbocycles\",\"NumAliphaticHeterocycles\",\n",
    "\"NumAromaticCarbocycles\",\"NumAromaticHeterocycles\",\"NumHAcceptors\",\"NumHDonors\",\n",
    "\"NumHeteroatoms\",\"NumRotatableBonds\",\"NumSaturatedCarbocycles\",\"NumSaturatedHeterocycles\",\"RingCount\"]\n",
    "\n",
    "rdkitChemDescriptors = [\"BalabanJ\",\"BertzCT\",\"Ipc\",\"HallKierAlpha\",\"Kappa1\",\"Kappa2\",\"Kappa3\",\n",
    "\"Chi0\",\"Chi1\",\"Chi0n\",\"Chi1n\",\"Chi2n\",\"Chi3n\",\"Chi4n\",\"Chi0v\",\"Chi1v\",\"Chi2v\",\"Chi3v\",\"Chi4v\",\n",
    "\"MolLogP\",\"MolMR\",\"MolWt\",\"HeavyAtomMolWt\",\"NumValenceElectrons\",\n",
    "\"NumAromaticRings\",\"NumSaturatedRings\",\"NumAliphaticRings\",\"FractionCSP3\",\"TPSA\",\n",
    "\"LabuteASA\"]\n",
    "\n",
    "# I don't know about them and there are 57 of them. To see if they pop up as interesting I include 15 for now\n",
    "MOEtypeDescriptors = [\"PEOE_VSA1\",\"PEOE_VSA2\",\"PEOE_VSA3\",\n",
    "\"SMR_VSA1\",\"SMR_VSA2\",\"SMR_VSA3\",\n",
    "\"SlogP_VSA1\",\"SlogP_VSA2\",\"SlogP_VSA3\",\n",
    "\"EState_VSA1\",\"EState_VSA2\",\"EState_VSA3\",\n",
    "\"VSA_EState1\",\"VSA_EState2\",\"VSA_EState3\"]\n",
    "\n",
    "# descriptors not in: [Phi, NumAmideBonds, NumSpiroAtoms, NumBridgeheadAtoms, MQNs]\n",
    "all2Ddescriptors = lipinskiDescriptors + rdkitChemDescriptors + MOEtypeDescriptors\n",
    "\n",
    "molDescCalc = MolecularDescriptorCalculator(all2Ddescriptors)\n",
    "\n",
    "# example mol\n",
    "#molDescCalc.CalcDescriptors(mol=drug_mols.iloc[10,1])"
   ]
  },
  {
   "cell_type": "code",
   "execution_count": null,
   "metadata": {},
   "outputs": [
    {
     "data": {
      "text/html": [
       "<div>\n",
       "<style scoped>\n",
       "    .dataframe tbody tr th:only-of-type {\n",
       "        vertical-align: middle;\n",
       "    }\n",
       "\n",
       "    .dataframe tbody tr th {\n",
       "        vertical-align: top;\n",
       "    }\n",
       "\n",
       "    .dataframe thead th {\n",
       "        text-align: right;\n",
       "    }\n",
       "</style>\n",
       "<table border=\"1\" class=\"dataframe\">\n",
       "  <thead>\n",
       "    <tr style=\"text-align: right;\">\n",
       "      <th></th>\n",
       "      <th>FractionCSP3</th>\n",
       "      <th>HeavyAtomCount</th>\n",
       "      <th>NHOHCount</th>\n",
       "      <th>NOCount</th>\n",
       "      <th>NumAliphaticCarbocycles</th>\n",
       "      <th>NumAliphaticHeterocycles</th>\n",
       "      <th>NumAromaticCarbocycles</th>\n",
       "      <th>NumAromaticHeterocycles</th>\n",
       "      <th>NumHAcceptors</th>\n",
       "      <th>NumHDonors</th>\n",
       "      <th>...</th>\n",
       "      <th>SMR_VSA3</th>\n",
       "      <th>SlogP_VSA1</th>\n",
       "      <th>SlogP_VSA2</th>\n",
       "      <th>SlogP_VSA3</th>\n",
       "      <th>EState_VSA1</th>\n",
       "      <th>EState_VSA2</th>\n",
       "      <th>EState_VSA3</th>\n",
       "      <th>VSA_EState1</th>\n",
       "      <th>VSA_EState2</th>\n",
       "      <th>VSA_EState3</th>\n",
       "    </tr>\n",
       "    <tr>\n",
       "      <th>drugName</th>\n",
       "      <th></th>\n",
       "      <th></th>\n",
       "      <th></th>\n",
       "      <th></th>\n",
       "      <th></th>\n",
       "      <th></th>\n",
       "      <th></th>\n",
       "      <th></th>\n",
       "      <th></th>\n",
       "      <th></th>\n",
       "      <th></th>\n",
       "      <th></th>\n",
       "      <th></th>\n",
       "      <th></th>\n",
       "      <th></th>\n",
       "      <th></th>\n",
       "      <th></th>\n",
       "      <th></th>\n",
       "      <th></th>\n",
       "      <th></th>\n",
       "      <th></th>\n",
       "    </tr>\n",
       "  </thead>\n",
       "  <tbody>\n",
       "    <tr>\n",
       "      <th>Bendamustine</th>\n",
       "      <td>0.500000</td>\n",
       "      <td>23</td>\n",
       "      <td>1</td>\n",
       "      <td>5</td>\n",
       "      <td>0</td>\n",
       "      <td>0</td>\n",
       "      <td>1</td>\n",
       "      <td>1</td>\n",
       "      <td>4</td>\n",
       "      <td>1</td>\n",
       "      <td>...</td>\n",
       "      <td>9.551078</td>\n",
       "      <td>4.89991</td>\n",
       "      <td>45.476431</td>\n",
       "      <td>18.263031</td>\n",
       "      <td>5.969305</td>\n",
       "      <td>6.420822</td>\n",
       "      <td>24.601650</td>\n",
       "      <td>2.022224</td>\n",
       "      <td>17.421914</td>\n",
       "      <td>8.744802</td>\n",
       "    </tr>\n",
       "    <tr>\n",
       "      <th>Lonidamine</th>\n",
       "      <td>0.066667</td>\n",
       "      <td>21</td>\n",
       "      <td>1</td>\n",
       "      <td>4</td>\n",
       "      <td>0</td>\n",
       "      <td>0</td>\n",
       "      <td>2</td>\n",
       "      <td>1</td>\n",
       "      <td>3</td>\n",
       "      <td>1</td>\n",
       "      <td>...</td>\n",
       "      <td>9.780485</td>\n",
       "      <td>0.00000</td>\n",
       "      <td>20.856317</td>\n",
       "      <td>6.544756</td>\n",
       "      <td>5.969305</td>\n",
       "      <td>5.693928</td>\n",
       "      <td>21.976247</td>\n",
       "      <td>1.632842</td>\n",
       "      <td>11.272932</td>\n",
       "      <td>15.096254</td>\n",
       "    </tr>\n",
       "  </tbody>\n",
       "</table>\n",
       "<p>2 rows × 60 columns</p>\n",
       "</div>"
      ],
      "text/plain": [
       "              FractionCSP3  HeavyAtomCount  NHOHCount  NOCount  \\\n",
       "drugName                                                         \n",
       "Bendamustine      0.500000              23          1        5   \n",
       "Lonidamine        0.066667              21          1        4   \n",
       "\n",
       "              NumAliphaticCarbocycles  NumAliphaticHeterocycles  \\\n",
       "drugName                                                          \n",
       "Bendamustine                        0                         0   \n",
       "Lonidamine                          0                         0   \n",
       "\n",
       "              NumAromaticCarbocycles  NumAromaticHeterocycles  NumHAcceptors  \\\n",
       "drugName                                                                       \n",
       "Bendamustine                       1                        1              4   \n",
       "Lonidamine                         2                        1              3   \n",
       "\n",
       "              NumHDonors  ...  SMR_VSA3  SlogP_VSA1  SlogP_VSA2  SlogP_VSA3  \\\n",
       "drugName                  ...                                                 \n",
       "Bendamustine           1  ...  9.551078     4.89991   45.476431   18.263031   \n",
       "Lonidamine             1  ...  9.780485     0.00000   20.856317    6.544756   \n",
       "\n",
       "              EState_VSA1  EState_VSA2  EState_VSA3  VSA_EState1  VSA_EState2  \\\n",
       "drugName                                                                        \n",
       "Bendamustine     5.969305     6.420822    24.601650     2.022224    17.421914   \n",
       "Lonidamine       5.969305     5.693928    21.976247     1.632842    11.272932   \n",
       "\n",
       "              VSA_EState3  \n",
       "drugName                   \n",
       "Bendamustine     8.744802  \n",
       "Lonidamine      15.096254  \n",
       "\n",
       "[2 rows x 60 columns]"
      ]
     },
     "metadata": {},
     "output_type": "display_data"
    }
   ],
   "source": [
    "# 44 sec\n",
    "# calculating all 2D descriptors\n",
    "drug_feats = pd.DataFrame([molDescCalc.CalcDescriptors(mol) for mol in drug_mols.iloc[:,1]],columns=all2Ddescriptors)\n",
    "drug_feats.set_index(drug_mols[\"drugName\"], inplace=True)\n",
    "drug_feats.head(2)"
   ]
  },
  {
   "cell_type": "code",
   "execution_count": null,
   "metadata": {},
   "outputs": [],
   "source": [
    "%%capture --no-display\n",
    "# 12 min\n",
    "# making embeddings\n",
    "from rdkit.Chem import AllChem\n",
    "\n",
    "drug_mols[\"molEmbeds\"] = pd.DataFrame([Chem.AddHs(mol) for mol in drug_mols.iloc[:,1]])\n",
    "\n",
    "for i in range(len(drug_mols[\"molEmbeds\"])):\n",
    "    AllChem.EmbedMolecule(drug_mols.loc[i,\"molEmbeds\"])"
   ]
  },
  {
   "cell_type": "code",
   "execution_count": null,
   "metadata": {},
   "outputs": [
    {
     "data": {
      "text/html": [
       "<div>\n",
       "<style scoped>\n",
       "    .dataframe tbody tr th:only-of-type {\n",
       "        vertical-align: middle;\n",
       "    }\n",
       "\n",
       "    .dataframe tbody tr th {\n",
       "        vertical-align: top;\n",
       "    }\n",
       "\n",
       "    .dataframe thead th {\n",
       "        text-align: right;\n",
       "    }\n",
       "</style>\n",
       "<table border=\"1\" class=\"dataframe\">\n",
       "  <thead>\n",
       "    <tr style=\"text-align: right;\">\n",
       "      <th></th>\n",
       "      <th>index</th>\n",
       "      <th>drugName</th>\n",
       "      <th>Eccentricity</th>\n",
       "      <th>InertialShapeFactor</th>\n",
       "      <th>NPR1</th>\n",
       "      <th>NPR2</th>\n",
       "      <th>PMI1</th>\n",
       "      <th>PMI2</th>\n",
       "      <th>PMI3</th>\n",
       "      <th>RadiusOfGyration</th>\n",
       "      <th>SpherocityIndex</th>\n",
       "    </tr>\n",
       "  </thead>\n",
       "  <tbody>\n",
       "    <tr>\n",
       "      <th>0</th>\n",
       "      <td>0</td>\n",
       "      <td>Bendamustine</td>\n",
       "      <td>0.993094</td>\n",
       "      <td>0.000967</td>\n",
       "      <td>0.117318</td>\n",
       "      <td>0.929722</td>\n",
       "      <td>960.955534</td>\n",
       "      <td>7615.37766</td>\n",
       "      <td>8191.025716</td>\n",
       "      <td>4.837408</td>\n",
       "      <td>0.107492</td>\n",
       "    </tr>\n",
       "    <tr>\n",
       "      <th>1</th>\n",
       "      <td>1</td>\n",
       "      <td>Lonidamine</td>\n",
       "      <td>0.971951</td>\n",
       "      <td>0.000981</td>\n",
       "      <td>0.235183</td>\n",
       "      <td>0.912555</td>\n",
       "      <td>930.166324</td>\n",
       "      <td>3609.23162</td>\n",
       "      <td>3955.082929</td>\n",
       "      <td>3.636559</td>\n",
       "      <td>0.280885</td>\n",
       "    </tr>\n",
       "  </tbody>\n",
       "</table>\n",
       "</div>"
      ],
      "text/plain": [
       "   index      drugName  Eccentricity  InertialShapeFactor      NPR1      NPR2  \\\n",
       "0      0  Bendamustine      0.993094             0.000967  0.117318  0.929722   \n",
       "1      1    Lonidamine      0.971951             0.000981  0.235183  0.912555   \n",
       "\n",
       "         PMI1        PMI2         PMI3  RadiusOfGyration  SpherocityIndex  \n",
       "0  960.955534  7615.37766  8191.025716          4.837408         0.107492  \n",
       "1  930.166324  3609.23162  3955.082929          3.636559         0.280885  "
      ]
     },
     "metadata": {},
     "output_type": "display_data"
    }
   ],
   "source": [
    "%%capture --no-display\n",
    "from rdkit.Chem.Descriptors3D import *\n",
    "\n",
    "# properties I want to find\n",
    "funcLst = [Eccentricity,InertialShapeFactor,NPR1,NPR2,PMI1,PMI2,PMI3,RadiusOfGyration,SpherocityIndex]\n",
    "strLst = [\"Eccentricity\",\"InertialShapeFactor\",\"NPR1\",\"NPR2\",\"PMI1\",\"PMI2\",\"PMI3\",\"RadiusOfGyration\",\"SpherocityIndex\"]\n",
    "\n",
    "\n",
    "descr3Ds = pd.DataFrame(drug_mols[\"drugName\"])\n",
    "descr3Ds.reset_index(inplace=True)\n",
    "\n",
    "for j in range(len(funcLst)):\n",
    "    tempLst = []\n",
    "    for i in range(len(drug_mols.iloc[:,2])):\n",
    "        try:\n",
    "            tempLst.append(funcLst[j](drug_mols.iloc[i,2]))\n",
    "        except:\n",
    "            tempLst.append(None)\n",
    "    descr3Ds[strLst[j]] = tempLst\n",
    "descr3Ds.head(2)"
   ]
  },
  {
   "cell_type": "code",
   "execution_count": null,
   "metadata": {},
   "outputs": [
    {
     "data": {
      "text/html": [
       "<div>\n",
       "<style scoped>\n",
       "    .dataframe tbody tr th:only-of-type {\n",
       "        vertical-align: middle;\n",
       "    }\n",
       "\n",
       "    .dataframe tbody tr th {\n",
       "        vertical-align: top;\n",
       "    }\n",
       "\n",
       "    .dataframe thead th {\n",
       "        text-align: right;\n",
       "    }\n",
       "</style>\n",
       "<table border=\"1\" class=\"dataframe\">\n",
       "  <thead>\n",
       "    <tr style=\"text-align: right;\">\n",
       "      <th></th>\n",
       "      <th>drugName</th>\n",
       "      <th>Eccentricity</th>\n",
       "      <th>InertialShapeFactor</th>\n",
       "      <th>NPR1</th>\n",
       "      <th>NPR2</th>\n",
       "      <th>PMI1</th>\n",
       "      <th>PMI2</th>\n",
       "      <th>PMI3</th>\n",
       "      <th>RadiusOfGyration</th>\n",
       "      <th>SpherocityIndex</th>\n",
       "      <th>...</th>\n",
       "      <th>SMR_VSA3</th>\n",
       "      <th>SlogP_VSA1</th>\n",
       "      <th>SlogP_VSA2</th>\n",
       "      <th>SlogP_VSA3</th>\n",
       "      <th>EState_VSA1</th>\n",
       "      <th>EState_VSA2</th>\n",
       "      <th>EState_VSA3</th>\n",
       "      <th>VSA_EState1</th>\n",
       "      <th>VSA_EState2</th>\n",
       "      <th>VSA_EState3</th>\n",
       "    </tr>\n",
       "  </thead>\n",
       "  <tbody>\n",
       "    <tr>\n",
       "      <th>0</th>\n",
       "      <td>Bendamustine</td>\n",
       "      <td>0.993094</td>\n",
       "      <td>0.000967</td>\n",
       "      <td>0.117318</td>\n",
       "      <td>0.929722</td>\n",
       "      <td>960.955534</td>\n",
       "      <td>7615.37766</td>\n",
       "      <td>8191.025716</td>\n",
       "      <td>4.837408</td>\n",
       "      <td>0.107492</td>\n",
       "      <td>...</td>\n",
       "      <td>9.551078</td>\n",
       "      <td>4.89991</td>\n",
       "      <td>45.476431</td>\n",
       "      <td>18.263031</td>\n",
       "      <td>5.969305</td>\n",
       "      <td>6.420822</td>\n",
       "      <td>24.601650</td>\n",
       "      <td>2.022224</td>\n",
       "      <td>17.421914</td>\n",
       "      <td>8.744802</td>\n",
       "    </tr>\n",
       "    <tr>\n",
       "      <th>1</th>\n",
       "      <td>Lonidamine</td>\n",
       "      <td>0.971951</td>\n",
       "      <td>0.000981</td>\n",
       "      <td>0.235183</td>\n",
       "      <td>0.912555</td>\n",
       "      <td>930.166324</td>\n",
       "      <td>3609.23162</td>\n",
       "      <td>3955.082929</td>\n",
       "      <td>3.636559</td>\n",
       "      <td>0.280885</td>\n",
       "      <td>...</td>\n",
       "      <td>9.780485</td>\n",
       "      <td>0.00000</td>\n",
       "      <td>20.856317</td>\n",
       "      <td>6.544756</td>\n",
       "      <td>5.969305</td>\n",
       "      <td>5.693928</td>\n",
       "      <td>21.976247</td>\n",
       "      <td>1.632842</td>\n",
       "      <td>11.272932</td>\n",
       "      <td>15.096254</td>\n",
       "    </tr>\n",
       "  </tbody>\n",
       "</table>\n",
       "<p>2 rows × 70 columns</p>\n",
       "</div>"
      ],
      "text/plain": [
       "       drugName  Eccentricity  InertialShapeFactor      NPR1      NPR2  \\\n",
       "0  Bendamustine      0.993094             0.000967  0.117318  0.929722   \n",
       "1    Lonidamine      0.971951             0.000981  0.235183  0.912555   \n",
       "\n",
       "         PMI1        PMI2         PMI3  RadiusOfGyration  SpherocityIndex  \\\n",
       "0  960.955534  7615.37766  8191.025716          4.837408         0.107492   \n",
       "1  930.166324  3609.23162  3955.082929          3.636559         0.280885   \n",
       "\n",
       "   ...  SMR_VSA3  SlogP_VSA1  SlogP_VSA2  SlogP_VSA3  EState_VSA1  \\\n",
       "0  ...  9.551078     4.89991   45.476431   18.263031     5.969305   \n",
       "1  ...  9.780485     0.00000   20.856317    6.544756     5.969305   \n",
       "\n",
       "   EState_VSA2  EState_VSA3  VSA_EState1  VSA_EState2  VSA_EState3  \n",
       "0     6.420822    24.601650     2.022224    17.421914     8.744802  \n",
       "1     5.693928    21.976247     1.632842    11.272932    15.096254  \n",
       "\n",
       "[2 rows x 70 columns]"
      ]
     },
     "metadata": {},
     "output_type": "display_data"
    }
   ],
   "source": [
    "allFeats = descr3Ds.join(drug_feats,on=\"drugName\",how=\"left\").drop_duplicates()\n",
    "allFeats.drop(\"index\",axis=1,inplace=True)\n",
    "allFeats.head(2)"
   ]
  },
  {
   "cell_type": "code",
   "execution_count": null,
   "metadata": {},
   "outputs": [],
   "source": [
    "import _pickle as pickle\n",
    "\n",
    "with open('drug_features.pkl', 'wb') as outp:\n",
    "    pickle.dump(allFeats, outp)"
   ]
  },
  {
   "cell_type": "markdown",
   "metadata": {},
   "source": [
    "#### Joining"
   ]
  },
  {
   "cell_type": "code",
   "execution_count": 73,
   "metadata": {},
   "outputs": [],
   "source": [
    "with open('drug_features.pkl', 'rb') as inp:\n",
    "    drug_feats = pickle.load(inp)"
   ]
  },
  {
   "cell_type": "code",
   "execution_count": 77,
   "metadata": {},
   "outputs": [
    {
     "name": "stdout",
     "output_type": "stream",
     "text": [
      "498865 different Combinations\n"
     ]
    },
    {
     "data": {
      "text/html": [
       "<div>\n",
       "<style scoped>\n",
       "    .dataframe tbody tr th:only-of-type {\n",
       "        vertical-align: middle;\n",
       "    }\n",
       "\n",
       "    .dataframe tbody tr th {\n",
       "        vertical-align: top;\n",
       "    }\n",
       "\n",
       "    .dataframe thead th {\n",
       "        text-align: right;\n",
       "    }\n",
       "</style>\n",
       "<table border=\"1\" class=\"dataframe\">\n",
       "  <thead>\n",
       "    <tr style=\"text-align: right;\">\n",
       "      <th></th>\n",
       "      <th>ID</th>\n",
       "      <th>Drug1</th>\n",
       "      <th>Drug2</th>\n",
       "      <th>Cell line</th>\n",
       "      <th>ZIP</th>\n",
       "      <th>Bliss</th>\n",
       "      <th>Loewe</th>\n",
       "      <th>HSA</th>\n",
       "    </tr>\n",
       "  </thead>\n",
       "  <tbody>\n",
       "    <tr>\n",
       "      <th>0</th>\n",
       "      <td>1</td>\n",
       "      <td>5-fu</td>\n",
       "      <td>abt-888</td>\n",
       "      <td>A2058</td>\n",
       "      <td>1.72</td>\n",
       "      <td>6.26</td>\n",
       "      <td>-2.75</td>\n",
       "      <td>5.54</td>\n",
       "    </tr>\n",
       "    <tr>\n",
       "      <th>1</th>\n",
       "      <td>2</td>\n",
       "      <td>5-fu</td>\n",
       "      <td>abt-888</td>\n",
       "      <td>A2058</td>\n",
       "      <td>5.88</td>\n",
       "      <td>12.33</td>\n",
       "      <td>3.33</td>\n",
       "      <td>11.61</td>\n",
       "    </tr>\n",
       "  </tbody>\n",
       "</table>\n",
       "</div>"
      ],
      "text/plain": [
       "   ID Drug1    Drug2 Cell line   ZIP  Bliss  Loewe    HSA\n",
       "0   1  5-fu  abt-888     A2058  1.72   6.26  -2.75   5.54\n",
       "1   2  5-fu  abt-888     A2058  5.88  12.33   3.33  11.61"
      ]
     },
     "execution_count": 77,
     "metadata": {},
     "output_type": "execute_result"
    }
   ],
   "source": [
    "# drugCombDB data\n",
    "data = pd.read_csv(\"../drugCombDBdata/synergy-score-data/REGRdrugcombs_scored.csv\")\n",
    "print(str(len(data))+\" different Combinations\")\n",
    "data[\"Drug1\"] = data[\"Drug1\"].str.lower()\n",
    "data[\"Drug2\"] = data[\"Drug2\"].str.lower()\n",
    "data.dropna(inplace=True)\n",
    "data.reset_index(drop=True,inplace=True)\n",
    "data.head(2)"
   ]
  },
  {
   "cell_type": "markdown",
   "metadata": {},
   "source": [
    "##### NOT IN THIS FILE - Unused section\n",
    "BEFORE ACTUAL JOINING: Remove problematic extreme values & questionable source"
   ]
  },
  {
   "cell_type": "markdown",
   "metadata": {},
   "source": [
    "#concatenate Drug1 and 2 alphabetically - TIME: 14 mins\n",
    "sorted_conc_drugs = []\n",
    "for row in range(len(data)):\n",
    "    d1 = data.iloc[row][\"Drug1\"]\n",
    "    d2 = data.iloc[row][\"Drug2\"]\n",
    "    if d1 < d2:\n",
    "        sorted_conc_drugs.append(d1+d2+data.iloc[row][\"Cell line\"])\n",
    "    else:\n",
    "        sorted_conc_drugs.append(d2+d1+data.iloc[row][\"Cell line\"])\n",
    "sorted_conc_drugs = pd.Series(sorted_conc_drugs)"
   ]
  },
  {
   "cell_type": "markdown",
   "metadata": {},
   "source": [
    "#attach the joined names to the dataframe\n",
    "numerator = pd.DataFrame(list(set(sorted_conc_drugs)))\n",
    "numerator.reset_index(inplace=True)\n",
    "\n",
    "data['drug_drug2'] = sorted_conc_drugs\n",
    "data = data.join(numerator.set_index(0),on=\"drug_drug2\",how=\"left\")"
   ]
  },
  {
   "cell_type": "markdown",
   "metadata": {},
   "source": [
    "#get the 2 new columns to the beginning\n",
    " \n",
    "cols = data.columns.tolist()\n",
    "cols = cols[-2:] + cols[:-2]\n",
    "cols = cols[0:1] + cols[2:9] + cols[1:2] + cols[9:]\n",
    "data = data[cols]\n",
    "data.head()"
   ]
  },
  {
   "cell_type": "markdown",
   "metadata": {},
   "source": [
    "##### End(unused section)"
   ]
  },
  {
   "cell_type": "markdown",
   "metadata": {},
   "source": [
    "now we need to combine double entries"
   ]
  },
  {
   "cell_type": "code",
   "execution_count": 16,
   "metadata": {},
   "outputs": [
    {
     "name": "stdout",
     "output_type": "stream",
     "text": [
      "997730  records in this frame\n"
     ]
    },
    {
     "data": {
      "text/html": [
       "<div>\n",
       "<style scoped>\n",
       "    .dataframe tbody tr th:only-of-type {\n",
       "        vertical-align: middle;\n",
       "    }\n",
       "\n",
       "    .dataframe tbody tr th {\n",
       "        vertical-align: top;\n",
       "    }\n",
       "\n",
       "    .dataframe thead th {\n",
       "        text-align: right;\n",
       "    }\n",
       "</style>\n",
       "<table border=\"1\" class=\"dataframe\">\n",
       "  <thead>\n",
       "    <tr style=\"text-align: right;\">\n",
       "      <th></th>\n",
       "      <th>Drug1</th>\n",
       "      <th>Drug2</th>\n",
       "      <th>Cell line</th>\n",
       "      <th>ZIP</th>\n",
       "      <th>Bliss</th>\n",
       "      <th>Loewe</th>\n",
       "      <th>HSA</th>\n",
       "    </tr>\n",
       "  </thead>\n",
       "  <tbody>\n",
       "    <tr>\n",
       "      <th>0</th>\n",
       "      <td>5-fu</td>\n",
       "      <td>abt-888</td>\n",
       "      <td>A2058</td>\n",
       "      <td>1.72</td>\n",
       "      <td>6.26</td>\n",
       "      <td>-2.75</td>\n",
       "      <td>5.54</td>\n",
       "    </tr>\n",
       "    <tr>\n",
       "      <th>1</th>\n",
       "      <td>5-fu</td>\n",
       "      <td>abt-888</td>\n",
       "      <td>A2058</td>\n",
       "      <td>5.88</td>\n",
       "      <td>12.33</td>\n",
       "      <td>3.33</td>\n",
       "      <td>11.61</td>\n",
       "    </tr>\n",
       "  </tbody>\n",
       "</table>\n",
       "</div>"
      ],
      "text/plain": [
       "  Drug1    Drug2 Cell line   ZIP  Bliss  Loewe    HSA\n",
       "0  5-fu  abt-888     A2058  1.72   6.26  -2.75   5.54\n",
       "1  5-fu  abt-888     A2058  5.88  12.33   3.33  11.61"
      ]
     },
     "execution_count": 16,
     "metadata": {},
     "output_type": "execute_result"
    }
   ],
   "source": [
    "# double Data\n",
    "dataReversed = data\n",
    "dataReversed = dataReversed.rename(columns={\"Drug1\":\"Drug2\",\"Drug2\":\"Drug1\"})\n",
    "\n",
    "dataDouble = data.append(dataReversed)\n",
    "dataDouble.drop(\"ID\",axis=1,inplace=True)\n",
    "dataDouble.reset_index(inplace=True)\n",
    "dataDouble.drop(\"index\",axis=1,inplace=True)\n",
    "print(len(dataDouble),\" records in this frame\")\n",
    "dataDouble.head(2)"
   ]
  },
  {
   "cell_type": "code",
   "execution_count": 17,
   "metadata": {},
   "outputs": [],
   "source": [
    "drug_feats.set_index(\"drugName\",inplace=True)\n",
    "drug_feats.index = drug_feats.index.str.lower()"
   ]
  },
  {
   "cell_type": "code",
   "execution_count": 18,
   "metadata": {},
   "outputs": [],
   "source": [
    "d1_drugs = drug_feats.add_prefix(\"D1 \")\n",
    "d2_drugs = drug_feats.add_prefix(\"D2 \")\n",
    "\n",
    "dataDouble_drug1_feats = dataDouble.join(d1_drugs,on=\"Drug1\",how=\"left\")\n",
    "dataDouble_all_feats = dataDouble_drug1_feats.join(d2_drugs,on=\"Drug2\",how=\"left\")"
   ]
  },
  {
   "cell_type": "code",
   "execution_count": 19,
   "metadata": {},
   "outputs": [
    {
     "data": {
      "text/plain": [
       "0          A2058\n",
       "1          A2058\n",
       "2          A2058\n",
       "3          A2058\n",
       "4          A2058\n",
       "           ...  \n",
       "997725    DIPG25\n",
       "997726    DIPG25\n",
       "997727    DIPG25\n",
       "997728    DIPG25\n",
       "997729    DIPG25\n",
       "Name: Cell line, Length: 997730, dtype: object"
      ]
     },
     "execution_count": 19,
     "metadata": {},
     "output_type": "execute_result"
    }
   ],
   "source": [
    "dataDouble_all_feats[\"Cell line\"]"
   ]
  },
  {
   "cell_type": "code",
   "execution_count": 20,
   "metadata": {},
   "outputs": [
    {
     "data": {
      "text/html": [
       "<div>\n",
       "<style scoped>\n",
       "    .dataframe tbody tr th:only-of-type {\n",
       "        vertical-align: middle;\n",
       "    }\n",
       "\n",
       "    .dataframe tbody tr th {\n",
       "        vertical-align: top;\n",
       "    }\n",
       "\n",
       "    .dataframe thead th {\n",
       "        text-align: right;\n",
       "    }\n",
       "</style>\n",
       "<table border=\"1\" class=\"dataframe\">\n",
       "  <thead>\n",
       "    <tr style=\"text-align: right;\">\n",
       "      <th></th>\n",
       "      <th>cellName</th>\n",
       "      <th>age</th>\n",
       "      <th>cat_Cancer cell line</th>\n",
       "      <th>cat_Embryonic stem cell</th>\n",
       "      <th>cat_Hybridoma</th>\n",
       "      <th>cat_Transformed cell line</th>\n",
       "      <th>gender_Female</th>\n",
       "      <th>gender_Male</th>\n",
       "      <th>gender_Sex unspecified</th>\n",
       "    </tr>\n",
       "  </thead>\n",
       "  <tbody>\n",
       "  </tbody>\n",
       "</table>\n",
       "</div>"
      ],
      "text/plain": [
       "Empty DataFrame\n",
       "Columns: [cellName, age, cat_Cancer cell line, cat_Embryonic stem cell, cat_Hybridoma, cat_Transformed cell line, gender_Female, gender_Male, gender_Sex unspecified]\n",
       "Index: []"
      ]
     },
     "execution_count": 20,
     "metadata": {},
     "output_type": "execute_result"
    }
   ],
   "source": [
    "cellLine_info_full[cellLine_info[\"cellName\"]==\"DIPG25\"]"
   ]
  },
  {
   "cell_type": "code",
   "execution_count": 21,
   "metadata": {},
   "outputs": [
    {
     "data": {
      "text/plain": [
       "'DIPG25'"
      ]
     },
     "execution_count": 21,
     "metadata": {},
     "output_type": "execute_result"
    }
   ],
   "source": [
    "dataDouble_all_feats.iloc[997725,2]"
   ]
  },
  {
   "cell_type": "code",
   "execution_count": 22,
   "metadata": {},
   "outputs": [],
   "source": [
    "delete = dataDouble_all_feats.join(cellLine_info_full.set_index(\"cellName\"),on=\"Cell line\", how=\"left\")#.dropna()"
   ]
  },
  {
   "cell_type": "code",
   "execution_count": 24,
   "metadata": {},
   "outputs": [],
   "source": [
    "with open('final-Frame.pkl', 'wb') as outp:\n",
    "    pickle.dump(delete, outp)"
   ]
  },
  {
   "cell_type": "markdown",
   "metadata": {},
   "source": [
    "#### For the evaluation metrics, we need a combination ID\n",
    "This does not exist here, so I'll create one"
   ]
  },
  {
   "cell_type": "code",
   "execution_count": 3,
   "metadata": {},
   "outputs": [
    {
     "name": "stdout",
     "output_type": "stream",
     "text": [
      "Data has records  763412\n"
     ]
    },
    {
     "data": {
      "text/html": [
       "<div>\n",
       "<style scoped>\n",
       "    .dataframe tbody tr th:only-of-type {\n",
       "        vertical-align: middle;\n",
       "    }\n",
       "\n",
       "    .dataframe tbody tr th {\n",
       "        vertical-align: top;\n",
       "    }\n",
       "\n",
       "    .dataframe thead th {\n",
       "        text-align: right;\n",
       "    }\n",
       "</style>\n",
       "<table border=\"1\" class=\"dataframe\">\n",
       "  <thead>\n",
       "    <tr style=\"text-align: right;\">\n",
       "      <th></th>\n",
       "      <th>Drug1</th>\n",
       "      <th>Drug2</th>\n",
       "      <th>Cell line</th>\n",
       "      <th>ZIP</th>\n",
       "      <th>Bliss</th>\n",
       "      <th>Loewe</th>\n",
       "      <th>HSA</th>\n",
       "      <th>D1 Eccentricity</th>\n",
       "      <th>D1 InertialShapeFactor</th>\n",
       "      <th>D1 NPR1</th>\n",
       "      <th>...</th>\n",
       "      <th>D2 VSA_EState2</th>\n",
       "      <th>D2 VSA_EState3</th>\n",
       "      <th>age</th>\n",
       "      <th>cat_Cancer cell line</th>\n",
       "      <th>cat_Embryonic stem cell</th>\n",
       "      <th>cat_Hybridoma</th>\n",
       "      <th>cat_Transformed cell line</th>\n",
       "      <th>gender_Female</th>\n",
       "      <th>gender_Male</th>\n",
       "      <th>gender_Sex unspecified</th>\n",
       "    </tr>\n",
       "  </thead>\n",
       "  <tbody>\n",
       "    <tr>\n",
       "      <th>0</th>\n",
       "      <td>5-fu</td>\n",
       "      <td>abt-888</td>\n",
       "      <td>A2058</td>\n",
       "      <td>1.72</td>\n",
       "      <td>6.26</td>\n",
       "      <td>-2.75</td>\n",
       "      <td>5.54</td>\n",
       "      <td>0.956402</td>\n",
       "      <td>0.004792</td>\n",
       "      <td>0.292055</td>\n",
       "      <td>...</td>\n",
       "      <td>19.238682</td>\n",
       "      <td>3.448989</td>\n",
       "      <td>43.0</td>\n",
       "      <td>1.0</td>\n",
       "      <td>0.0</td>\n",
       "      <td>0.0</td>\n",
       "      <td>0.0</td>\n",
       "      <td>0.0</td>\n",
       "      <td>1.0</td>\n",
       "      <td>0.0</td>\n",
       "    </tr>\n",
       "    <tr>\n",
       "      <th>1</th>\n",
       "      <td>5-fu</td>\n",
       "      <td>abt-888</td>\n",
       "      <td>A2058</td>\n",
       "      <td>5.88</td>\n",
       "      <td>12.33</td>\n",
       "      <td>3.33</td>\n",
       "      <td>11.61</td>\n",
       "      <td>0.956402</td>\n",
       "      <td>0.004792</td>\n",
       "      <td>0.292055</td>\n",
       "      <td>...</td>\n",
       "      <td>19.238682</td>\n",
       "      <td>3.448989</td>\n",
       "      <td>43.0</td>\n",
       "      <td>1.0</td>\n",
       "      <td>0.0</td>\n",
       "      <td>0.0</td>\n",
       "      <td>0.0</td>\n",
       "      <td>0.0</td>\n",
       "      <td>1.0</td>\n",
       "      <td>0.0</td>\n",
       "    </tr>\n",
       "  </tbody>\n",
       "</table>\n",
       "<p>2 rows × 153 columns</p>\n",
       "</div>"
      ],
      "text/plain": [
       "  Drug1    Drug2 Cell line   ZIP  Bliss  Loewe    HSA  D1 Eccentricity  \\\n",
       "0  5-fu  abt-888     A2058  1.72   6.26  -2.75   5.54         0.956402   \n",
       "1  5-fu  abt-888     A2058  5.88  12.33   3.33  11.61         0.956402   \n",
       "\n",
       "   D1 InertialShapeFactor   D1 NPR1  ...  D2 VSA_EState2  D2 VSA_EState3  \\\n",
       "0                0.004792  0.292055  ...       19.238682        3.448989   \n",
       "1                0.004792  0.292055  ...       19.238682        3.448989   \n",
       "\n",
       "    age  cat_Cancer cell line  cat_Embryonic stem cell  cat_Hybridoma  \\\n",
       "0  43.0                   1.0                      0.0            0.0   \n",
       "1  43.0                   1.0                      0.0            0.0   \n",
       "\n",
       "   cat_Transformed cell line  gender_Female  gender_Male  \\\n",
       "0                        0.0            0.0          1.0   \n",
       "1                        0.0            0.0          1.0   \n",
       "\n",
       "   gender_Sex unspecified  \n",
       "0                     0.0  \n",
       "1                     0.0  \n",
       "\n",
       "[2 rows x 153 columns]"
      ]
     },
     "execution_count": 3,
     "metadata": {},
     "output_type": "execute_result"
    }
   ],
   "source": [
    "with open('final-Frame.pkl', 'rb') as inp:\n",
    "    data = pickle.load(inp)\n",
    "data = data.dropna() #loose here 200k data\n",
    "data.reset_index(inplace=True,drop=True)\n",
    "print(\"Data has records \",len(data))\n",
    "data.head(2)"
   ]
  },
  {
   "cell_type": "markdown",
   "metadata": {},
   "source": [
    "concatenate Drug1 and Drug2 to one cell   ---- does not work, because sometimes they are switchet up"
   ]
  },
  {
   "cell_type": "code",
   "execution_count": null,
   "metadata": {},
   "outputs": [],
   "source": [
    "# concatenate Drug1 and 2 alphabetically - TIME: 14 mins\n",
    "sorted_conc_drugs=[]\n",
    "for row in range(len(data)):\n",
    "    d1 = data.iloc[row][\"Drug1\"]\n",
    "    d2 = data.iloc[row][\"Drug2\"]\n",
    "    if d1 < d2:\n",
    "        sorted_conc_drugs.append(d1+d2+data.iloc[row][\"Cell line\"])\n",
    "    else:\n",
    "        sorted_conc_drugs.append(d2+d1+data.iloc[row][\"Cell line\"])\n",
    "sorted_conc_drugs = pd.Series(sorted_conc_drugs)"
   ]
  },
  {
   "cell_type": "code",
   "execution_count": 4,
   "metadata": {},
   "outputs": [],
   "source": [
    "# attach the joined names to the dataframe\n",
    "numerator = pd.DataFrame(list(set(sorted_conc_drugs)))\n",
    "numerator.reset_index(inplace=True)\n",
    "\n",
    "data['drug_drug2'] = sorted_conc_drugs\n",
    "data = data.join(numerator.set_index(0),on=\"drug_drug2\",how=\"left\")"
   ]
  },
  {
   "cell_type": "code",
   "execution_count": 5,
   "metadata": {},
   "outputs": [
    {
     "data": {
      "text/html": [
       "<div>\n",
       "<style scoped>\n",
       "    .dataframe tbody tr th:only-of-type {\n",
       "        vertical-align: middle;\n",
       "    }\n",
       "\n",
       "    .dataframe tbody tr th {\n",
       "        vertical-align: top;\n",
       "    }\n",
       "\n",
       "    .dataframe thead th {\n",
       "        text-align: right;\n",
       "    }\n",
       "</style>\n",
       "<table border=\"1\" class=\"dataframe\">\n",
       "  <thead>\n",
       "    <tr style=\"text-align: right;\">\n",
       "      <th></th>\n",
       "      <th>drug_drug2</th>\n",
       "      <th>Drug1</th>\n",
       "      <th>Drug2</th>\n",
       "      <th>Cell line</th>\n",
       "      <th>ZIP</th>\n",
       "      <th>Bliss</th>\n",
       "      <th>Loewe</th>\n",
       "      <th>HSA</th>\n",
       "      <th>index</th>\n",
       "      <th>D1 Eccentricity</th>\n",
       "      <th>...</th>\n",
       "      <th>D2 VSA_EState2</th>\n",
       "      <th>D2 VSA_EState3</th>\n",
       "      <th>age</th>\n",
       "      <th>cat_Cancer cell line</th>\n",
       "      <th>cat_Embryonic stem cell</th>\n",
       "      <th>cat_Hybridoma</th>\n",
       "      <th>cat_Transformed cell line</th>\n",
       "      <th>gender_Female</th>\n",
       "      <th>gender_Male</th>\n",
       "      <th>gender_Sex unspecified</th>\n",
       "    </tr>\n",
       "  </thead>\n",
       "  <tbody>\n",
       "    <tr>\n",
       "      <th>0</th>\n",
       "      <td>5-fuabt-888A2058</td>\n",
       "      <td>5-fu</td>\n",
       "      <td>abt-888</td>\n",
       "      <td>A2058</td>\n",
       "      <td>1.72</td>\n",
       "      <td>6.26</td>\n",
       "      <td>-2.75</td>\n",
       "      <td>5.54</td>\n",
       "      <td>300073</td>\n",
       "      <td>0.956402</td>\n",
       "      <td>...</td>\n",
       "      <td>19.238682</td>\n",
       "      <td>3.448989</td>\n",
       "      <td>43.0</td>\n",
       "      <td>1.0</td>\n",
       "      <td>0.0</td>\n",
       "      <td>0.0</td>\n",
       "      <td>0.0</td>\n",
       "      <td>0.0</td>\n",
       "      <td>1.0</td>\n",
       "      <td>0.0</td>\n",
       "    </tr>\n",
       "    <tr>\n",
       "      <th>1</th>\n",
       "      <td>5-fuabt-888A2058</td>\n",
       "      <td>5-fu</td>\n",
       "      <td>abt-888</td>\n",
       "      <td>A2058</td>\n",
       "      <td>5.88</td>\n",
       "      <td>12.33</td>\n",
       "      <td>3.33</td>\n",
       "      <td>11.61</td>\n",
       "      <td>300073</td>\n",
       "      <td>0.956402</td>\n",
       "      <td>...</td>\n",
       "      <td>19.238682</td>\n",
       "      <td>3.448989</td>\n",
       "      <td>43.0</td>\n",
       "      <td>1.0</td>\n",
       "      <td>0.0</td>\n",
       "      <td>0.0</td>\n",
       "      <td>0.0</td>\n",
       "      <td>0.0</td>\n",
       "      <td>1.0</td>\n",
       "      <td>0.0</td>\n",
       "    </tr>\n",
       "    <tr>\n",
       "      <th>2</th>\n",
       "      <td>5-fuabt-888A2058</td>\n",
       "      <td>5-fu</td>\n",
       "      <td>abt-888</td>\n",
       "      <td>A2058</td>\n",
       "      <td>3.59</td>\n",
       "      <td>11.66</td>\n",
       "      <td>2.65</td>\n",
       "      <td>10.94</td>\n",
       "      <td>300073</td>\n",
       "      <td>0.956402</td>\n",
       "      <td>...</td>\n",
       "      <td>19.238682</td>\n",
       "      <td>3.448989</td>\n",
       "      <td>43.0</td>\n",
       "      <td>1.0</td>\n",
       "      <td>0.0</td>\n",
       "      <td>0.0</td>\n",
       "      <td>0.0</td>\n",
       "      <td>0.0</td>\n",
       "      <td>1.0</td>\n",
       "      <td>0.0</td>\n",
       "    </tr>\n",
       "    <tr>\n",
       "      <th>3</th>\n",
       "      <td>5-fuabt-888A2058</td>\n",
       "      <td>5-fu</td>\n",
       "      <td>abt-888</td>\n",
       "      <td>A2058</td>\n",
       "      <td>-0.85</td>\n",
       "      <td>5.15</td>\n",
       "      <td>-3.86</td>\n",
       "      <td>4.43</td>\n",
       "      <td>300073</td>\n",
       "      <td>0.956402</td>\n",
       "      <td>...</td>\n",
       "      <td>19.238682</td>\n",
       "      <td>3.448989</td>\n",
       "      <td>43.0</td>\n",
       "      <td>1.0</td>\n",
       "      <td>0.0</td>\n",
       "      <td>0.0</td>\n",
       "      <td>0.0</td>\n",
       "      <td>0.0</td>\n",
       "      <td>1.0</td>\n",
       "      <td>0.0</td>\n",
       "    </tr>\n",
       "    <tr>\n",
       "      <th>4</th>\n",
       "      <td>5-fuazd1775A2058</td>\n",
       "      <td>5-fu</td>\n",
       "      <td>azd1775</td>\n",
       "      <td>A2058</td>\n",
       "      <td>12.29</td>\n",
       "      <td>15.77</td>\n",
       "      <td>10.40</td>\n",
       "      <td>18.66</td>\n",
       "      <td>190819</td>\n",
       "      <td>0.956402</td>\n",
       "      <td>...</td>\n",
       "      <td>31.601287</td>\n",
       "      <td>14.099736</td>\n",
       "      <td>43.0</td>\n",
       "      <td>1.0</td>\n",
       "      <td>0.0</td>\n",
       "      <td>0.0</td>\n",
       "      <td>0.0</td>\n",
       "      <td>0.0</td>\n",
       "      <td>1.0</td>\n",
       "      <td>0.0</td>\n",
       "    </tr>\n",
       "  </tbody>\n",
       "</table>\n",
       "<p>5 rows × 159 columns</p>\n",
       "</div>"
      ],
      "text/plain": [
       "         drug_drug2 Drug1    Drug2 Cell line    ZIP  Bliss  Loewe    HSA  \\\n",
       "0  5-fuabt-888A2058  5-fu  abt-888     A2058   1.72   6.26  -2.75   5.54   \n",
       "1  5-fuabt-888A2058  5-fu  abt-888     A2058   5.88  12.33   3.33  11.61   \n",
       "2  5-fuabt-888A2058  5-fu  abt-888     A2058   3.59  11.66   2.65  10.94   \n",
       "3  5-fuabt-888A2058  5-fu  abt-888     A2058  -0.85   5.15  -3.86   4.43   \n",
       "4  5-fuazd1775A2058  5-fu  azd1775     A2058  12.29  15.77  10.40  18.66   \n",
       "\n",
       "    index  D1 Eccentricity  ...  D2 VSA_EState2  D2 VSA_EState3   age  \\\n",
       "0  300073         0.956402  ...       19.238682        3.448989  43.0   \n",
       "1  300073         0.956402  ...       19.238682        3.448989  43.0   \n",
       "2  300073         0.956402  ...       19.238682        3.448989  43.0   \n",
       "3  300073         0.956402  ...       19.238682        3.448989  43.0   \n",
       "4  190819         0.956402  ...       31.601287       14.099736  43.0   \n",
       "\n",
       "   cat_Cancer cell line  cat_Embryonic stem cell  cat_Hybridoma  \\\n",
       "0                   1.0                      0.0            0.0   \n",
       "1                   1.0                      0.0            0.0   \n",
       "2                   1.0                      0.0            0.0   \n",
       "3                   1.0                      0.0            0.0   \n",
       "4                   1.0                      0.0            0.0   \n",
       "\n",
       "   cat_Transformed cell line  gender_Female  gender_Male  \\\n",
       "0                        0.0            0.0          1.0   \n",
       "1                        0.0            0.0          1.0   \n",
       "2                        0.0            0.0          1.0   \n",
       "3                        0.0            0.0          1.0   \n",
       "4                        0.0            0.0          1.0   \n",
       "\n",
       "   gender_Sex unspecified  \n",
       "0                     0.0  \n",
       "1                     0.0  \n",
       "2                     0.0  \n",
       "3                     0.0  \n",
       "4                     0.0  \n",
       "\n",
       "[5 rows x 159 columns]"
      ]
     },
     "execution_count": 5,
     "metadata": {},
     "output_type": "execute_result"
    }
   ],
   "source": [
    "#get the 2 new columns to the beginning\n",
    " \n",
    "cols = data.columns.tolist()\n",
    "cols = cols[-2:] + cols[:-2]\n",
    "cols = cols[0:1] + cols[2:9] + cols[1:2] + cols[9:]\n",
    "data = data[cols]\n",
    "data.head()"
   ]
  },
  {
   "cell_type": "code",
   "execution_count": null,
   "metadata": {},
   "outputs": [],
   "source": [
    "differentCombs = set(data[0])\n",
    "print(len(differentCombs))"
   ]
  },
  {
   "cell_type": "markdown",
   "metadata": {},
   "source": [
    "#### making predictions"
   ]
  },
  {
   "cell_type": "code",
   "execution_count": null,
   "metadata": {},
   "outputs": [
    {
     "name": "stdout",
     "output_type": "stream",
     "text": [
      "Data has records  763412\n"
     ]
    },
    {
     "data": {
      "text/html": [
       "<div>\n",
       "<style scoped>\n",
       "    .dataframe tbody tr th:only-of-type {\n",
       "        vertical-align: middle;\n",
       "    }\n",
       "\n",
       "    .dataframe tbody tr th {\n",
       "        vertical-align: top;\n",
       "    }\n",
       "\n",
       "    .dataframe thead th {\n",
       "        text-align: right;\n",
       "    }\n",
       "</style>\n",
       "<table border=\"1\" class=\"dataframe\">\n",
       "  <thead>\n",
       "    <tr style=\"text-align: right;\">\n",
       "      <th></th>\n",
       "      <th>Drug1</th>\n",
       "      <th>Drug2</th>\n",
       "      <th>Cell line</th>\n",
       "      <th>ZIP</th>\n",
       "      <th>Bliss</th>\n",
       "      <th>Loewe</th>\n",
       "      <th>HSA</th>\n",
       "      <th>D1 Eccentricity</th>\n",
       "      <th>D1 InertialShapeFactor</th>\n",
       "      <th>D1 NPR1</th>\n",
       "      <th>...</th>\n",
       "      <th>D2 VSA_EState2</th>\n",
       "      <th>D2 VSA_EState3</th>\n",
       "      <th>age</th>\n",
       "      <th>cat_Cancer cell line</th>\n",
       "      <th>cat_Embryonic stem cell</th>\n",
       "      <th>cat_Hybridoma</th>\n",
       "      <th>cat_Transformed cell line</th>\n",
       "      <th>gender_Female</th>\n",
       "      <th>gender_Male</th>\n",
       "      <th>gender_Sex unspecified</th>\n",
       "    </tr>\n",
       "  </thead>\n",
       "  <tbody>\n",
       "    <tr>\n",
       "      <th>0</th>\n",
       "      <td>5-fu</td>\n",
       "      <td>abt-888</td>\n",
       "      <td>A2058</td>\n",
       "      <td>1.72</td>\n",
       "      <td>6.26</td>\n",
       "      <td>-2.75</td>\n",
       "      <td>5.54</td>\n",
       "      <td>0.956402</td>\n",
       "      <td>0.004792</td>\n",
       "      <td>0.292055</td>\n",
       "      <td>...</td>\n",
       "      <td>19.238682</td>\n",
       "      <td>3.448989</td>\n",
       "      <td>43.0</td>\n",
       "      <td>1.0</td>\n",
       "      <td>0.0</td>\n",
       "      <td>0.0</td>\n",
       "      <td>0.0</td>\n",
       "      <td>0.0</td>\n",
       "      <td>1.0</td>\n",
       "      <td>0.0</td>\n",
       "    </tr>\n",
       "    <tr>\n",
       "      <th>1</th>\n",
       "      <td>5-fu</td>\n",
       "      <td>abt-888</td>\n",
       "      <td>A2058</td>\n",
       "      <td>5.88</td>\n",
       "      <td>12.33</td>\n",
       "      <td>3.33</td>\n",
       "      <td>11.61</td>\n",
       "      <td>0.956402</td>\n",
       "      <td>0.004792</td>\n",
       "      <td>0.292055</td>\n",
       "      <td>...</td>\n",
       "      <td>19.238682</td>\n",
       "      <td>3.448989</td>\n",
       "      <td>43.0</td>\n",
       "      <td>1.0</td>\n",
       "      <td>0.0</td>\n",
       "      <td>0.0</td>\n",
       "      <td>0.0</td>\n",
       "      <td>0.0</td>\n",
       "      <td>1.0</td>\n",
       "      <td>0.0</td>\n",
       "    </tr>\n",
       "  </tbody>\n",
       "</table>\n",
       "<p>2 rows × 153 columns</p>\n",
       "</div>"
      ],
      "text/plain": [
       "  Drug1    Drug2 Cell line   ZIP  Bliss  Loewe    HSA  D1 Eccentricity  \\\n",
       "0  5-fu  abt-888     A2058  1.72   6.26  -2.75   5.54         0.956402   \n",
       "1  5-fu  abt-888     A2058  5.88  12.33   3.33  11.61         0.956402   \n",
       "\n",
       "   D1 InertialShapeFactor   D1 NPR1  ...  D2 VSA_EState2  D2 VSA_EState3  \\\n",
       "0                0.004792  0.292055  ...       19.238682        3.448989   \n",
       "1                0.004792  0.292055  ...       19.238682        3.448989   \n",
       "\n",
       "    age  cat_Cancer cell line  cat_Embryonic stem cell  cat_Hybridoma  \\\n",
       "0  43.0                   1.0                      0.0            0.0   \n",
       "1  43.0                   1.0                      0.0            0.0   \n",
       "\n",
       "   cat_Transformed cell line  gender_Female  gender_Male  \\\n",
       "0                        0.0            0.0          1.0   \n",
       "1                        0.0            0.0          1.0   \n",
       "\n",
       "   gender_Sex unspecified  \n",
       "0                     0.0  \n",
       "1                     0.0  \n",
       "\n",
       "[2 rows x 153 columns]"
      ]
     },
     "execution_count": 3,
     "metadata": {},
     "output_type": "execute_result"
    }
   ],
   "source": [
    "#with open('final-Frame.pkl', 'rb') as inp:\n",
    "#    data = pickle.load(inp)\n",
    "#data = data.dropna() #loose here 200k data\n",
    "#data.reset_index(inplace=True,drop=True)\n",
    "#print(\"Data has records \",len(data))\n",
    "#data.head(2)"
   ]
  },
  {
   "cell_type": "code",
   "execution_count": 7,
   "metadata": {},
   "outputs": [],
   "source": [
    "import matplotlib.pyplot as plt\n",
    "from sklearn.tree import DecisionTreeRegressor \n",
    "from sklearn.model_selection import train_test_split\n",
    "\n",
    "Y = data.iloc[:,7]\n",
    "X = data.iloc[:,8:]\n",
    "X.drop([\"D1 Ipc\",\"D2 Ipc\"],axis=1,inplace=True)\n",
    "\n",
    "with open('intermediate-pickles/Y.pkl', 'wb') as outp:\n",
    "    pickle.dump(Y, outp)\n",
    "with open('intermediate-pickles/X.pkl', 'wb') as outp:\n",
    "    pickle.dump(X, outp)"
   ]
  },
  {
   "cell_type": "markdown",
   "metadata": {},
   "source": [
    "savepoint start training from here"
   ]
  },
  {
   "cell_type": "code",
   "execution_count": 2,
   "metadata": {},
   "outputs": [],
   "source": [
    "import matplotlib.pyplot as plt\n",
    "from sklearn.tree import DecisionTreeRegressor \n",
    "from sklearn.model_selection import train_test_split\n",
    "\n",
    "with open('intermediate-pickles/Y.pkl', 'rb') as inp:\n",
    "    Y = pickle.load(inp)\n",
    "with open('intermediate-pickles/X.pkl', 'rb') as inp:\n",
    "    X = pickle.load(inp)\n",
    "\n",
    "X_train,x_test,Y_train,y_test = train_test_split(X,Y,test_size=0.3,stratify=Y) #consider stratifying on combination"
   ]
  },
  {
   "cell_type": "code",
   "execution_count": 3,
   "metadata": {},
   "outputs": [],
   "source": [
    "obs = pd.DataFrame({\"combination_idx\":x_test.iloc[:,0],\"y_test\":y_test})"
   ]
  },
  {
   "cell_type": "code",
   "execution_count": 7,
   "metadata": {},
   "outputs": [],
   "source": [
    "regressor = DecisionTreeRegressor()\n",
    "regressor.fit(X_train.iloc[:,1:],Y_train)\n",
    "preds=regressor.predict(x_test.iloc[:,1:])"
   ]
  },
  {
   "cell_type": "code",
   "execution_count": 28,
   "metadata": {},
   "outputs": [],
   "source": [
    "with open('intermediate-pickles/tree-Predictions.pkl', 'wb') as outp:\n",
    "    pickle.dump(preds, outp)\n",
    "with open('intermediate-pickles/tree-Predictions-y-test.pkl', 'wb') as outp:\n",
    "    pickle.dump(obs, outp)"
   ]
  },
  {
   "cell_type": "markdown",
   "metadata": {},
   "source": [
    "#### Applying the scoring function"
   ]
  },
  {
   "cell_type": "code",
   "execution_count": 2,
   "metadata": {},
   "outputs": [],
   "source": [
    "# now: compare preds to y_test in their metric\n",
    "with open('./intermediate-pickles/tree-Predictions-y-test.pkl', 'rb') as inp:\n",
    "    obs = pickle.load(inp)\n",
    "with open('./intermediate-pickles/tree-Predictions.pkl', 'rb') as inp:\n",
    "    pred = pickle.load(inp)"
   ]
  },
  {
   "cell_type": "code",
   "execution_count": 3,
   "metadata": {},
   "outputs": [
    {
     "data": {
      "text/html": [
       "<div>\n",
       "<style scoped>\n",
       "    .dataframe tbody tr th:only-of-type {\n",
       "        vertical-align: middle;\n",
       "    }\n",
       "\n",
       "    .dataframe tbody tr th {\n",
       "        vertical-align: top;\n",
       "    }\n",
       "\n",
       "    .dataframe thead th {\n",
       "        text-align: right;\n",
       "    }\n",
       "</style>\n",
       "<table border=\"1\" class=\"dataframe\">\n",
       "  <thead>\n",
       "    <tr style=\"text-align: right;\">\n",
       "      <th></th>\n",
       "      <th>combination_idx</th>\n",
       "      <th>y_test</th>\n",
       "      <th>pred</th>\n",
       "    </tr>\n",
       "  </thead>\n",
       "  <tbody>\n",
       "    <tr>\n",
       "      <th>219343</th>\n",
       "      <td>6497</td>\n",
       "      <td>-0.71</td>\n",
       "      <td>-6.370000</td>\n",
       "    </tr>\n",
       "    <tr>\n",
       "      <th>554195</th>\n",
       "      <td>1717</td>\n",
       "      <td>-1.53</td>\n",
       "      <td>-10.290000</td>\n",
       "    </tr>\n",
       "    <tr>\n",
       "      <th>10289</th>\n",
       "      <td>2366</td>\n",
       "      <td>-0.24</td>\n",
       "      <td>0.718571</td>\n",
       "    </tr>\n",
       "    <tr>\n",
       "      <th>554254</th>\n",
       "      <td>378</td>\n",
       "      <td>0.26</td>\n",
       "      <td>8.030000</td>\n",
       "    </tr>\n",
       "    <tr>\n",
       "      <th>117071</th>\n",
       "      <td>5304</td>\n",
       "      <td>-1.21</td>\n",
       "      <td>-0.850000</td>\n",
       "    </tr>\n",
       "    <tr>\n",
       "      <th>...</th>\n",
       "      <td>...</td>\n",
       "      <td>...</td>\n",
       "      <td>...</td>\n",
       "    </tr>\n",
       "    <tr>\n",
       "      <th>327528</th>\n",
       "      <td>2122</td>\n",
       "      <td>-4.59</td>\n",
       "      <td>0.420000</td>\n",
       "    </tr>\n",
       "    <tr>\n",
       "      <th>61961</th>\n",
       "      <td>1648</td>\n",
       "      <td>-3.89</td>\n",
       "      <td>1.225000</td>\n",
       "    </tr>\n",
       "    <tr>\n",
       "      <th>677966</th>\n",
       "      <td>6249</td>\n",
       "      <td>-0.62</td>\n",
       "      <td>5.675000</td>\n",
       "    </tr>\n",
       "    <tr>\n",
       "      <th>158316</th>\n",
       "      <td>3025</td>\n",
       "      <td>-3.63</td>\n",
       "      <td>0.720000</td>\n",
       "    </tr>\n",
       "    <tr>\n",
       "      <th>427771</th>\n",
       "      <td>6703</td>\n",
       "      <td>8.57</td>\n",
       "      <td>11.445000</td>\n",
       "    </tr>\n",
       "  </tbody>\n",
       "</table>\n",
       "<p>229024 rows × 3 columns</p>\n",
       "</div>"
      ],
      "text/plain": [
       "        combination_idx  y_test       pred\n",
       "219343             6497   -0.71  -6.370000\n",
       "554195             1717   -1.53 -10.290000\n",
       "10289              2366   -0.24   0.718571\n",
       "554254              378    0.26   8.030000\n",
       "117071             5304   -1.21  -0.850000\n",
       "...                 ...     ...        ...\n",
       "327528             2122   -4.59   0.420000\n",
       "61961              1648   -3.89   1.225000\n",
       "677966             6249   -0.62   5.675000\n",
       "158316             3025   -3.63   0.720000\n",
       "427771             6703    8.57  11.445000\n",
       "\n",
       "[229024 rows x 3 columns]"
      ]
     },
     "execution_count": 3,
     "metadata": {},
     "output_type": "execute_result"
    }
   ],
   "source": [
    "obs[\"pred\"] = pred\n",
    "obs"
   ]
  },
  {
   "cell_type": "code",
   "execution_count": 5,
   "metadata": {},
   "outputs": [],
   "source": [
    "%%capture --no-display\n",
    "\n",
    "weighted_corr=[]\n",
    "weights=[]\n",
    "for i in set(obs['combination_idx']):\n",
    "\n",
    "    n = len(obs.loc[obs['combination_idx'] == i])\n",
    "    \n",
    "    if (np.var(obs[\"y_test\"][obs['combination_idx'] == i]) == 0 and n > 1):\n",
    "        weighted_corr.append(0)\n",
    "        weights.append(np.sqrt(n-1))\n",
    "    elif (n > 1):\n",
    "        weighted_corr.append(np.sqrt(n-1) * np.corrcoef(obs.loc[obs['combination_idx'] == i][\"y_test\"], obs.loc[obs['combination_idx'] == i][\"pred\"])[0,1])\n",
    "        weights.append(np.sqrt(n-1))"
   ]
  },
  {
   "cell_type": "markdown",
   "metadata": {},
   "source": [
    "#### Studying scoring function whether it works properly - CONFIRMED. Works as it should"
   ]
  },
  {
   "cell_type": "code",
   "execution_count": 29,
   "metadata": {},
   "outputs": [
    {
     "name": "stdout",
     "output_type": "stream",
     "text": [
      "229024\n"
     ]
    },
    {
     "data": {
      "text/html": [
       "<div>\n",
       "<style scoped>\n",
       "    .dataframe tbody tr th:only-of-type {\n",
       "        vertical-align: middle;\n",
       "    }\n",
       "\n",
       "    .dataframe tbody tr th {\n",
       "        vertical-align: top;\n",
       "    }\n",
       "\n",
       "    .dataframe thead th {\n",
       "        text-align: right;\n",
       "    }\n",
       "</style>\n",
       "<table border=\"1\" class=\"dataframe\">\n",
       "  <thead>\n",
       "    <tr style=\"text-align: right;\">\n",
       "      <th></th>\n",
       "      <th>combination_idx</th>\n",
       "      <th>y_test</th>\n",
       "      <th>pred</th>\n",
       "    </tr>\n",
       "  </thead>\n",
       "  <tbody>\n",
       "    <tr>\n",
       "      <th>219343</th>\n",
       "      <td>6497</td>\n",
       "      <td>-0.71</td>\n",
       "      <td>-6.37</td>\n",
       "    </tr>\n",
       "    <tr>\n",
       "      <th>554195</th>\n",
       "      <td>1717</td>\n",
       "      <td>-1.53</td>\n",
       "      <td>-10.29</td>\n",
       "    </tr>\n",
       "  </tbody>\n",
       "</table>\n",
       "</div>"
      ],
      "text/plain": [
       "        combination_idx  y_test   pred\n",
       "219343             6497   -0.71  -6.37\n",
       "554195             1717   -1.53 -10.29"
      ]
     },
     "execution_count": 29,
     "metadata": {},
     "output_type": "execute_result"
    }
   ],
   "source": [
    "with open('./intermediate-pickles/tree-Predictions-y-test.pkl', 'rb') as inp:\n",
    "    obs = pickle.load(inp)\n",
    "with open('./intermediate-pickles/tree-Predictions.pkl', 'rb') as inp:\n",
    "    pred = pickle.load(inp)\n",
    "obs[\"pred\"] = pred\n",
    "print(len(obs))\n",
    "obs.head(2)"
   ]
  },
  {
   "cell_type": "code",
   "execution_count": 31,
   "metadata": {},
   "outputs": [
    {
     "data": {
      "text/plain": [
       "(array([ 874., 1108., 3519.,  144.,  149.,  159.,  320.,   67.,   52.,\n",
       "          21.]),\n",
       " array([  1. ,  15.3,  29.6,  43.9,  58.2,  72.5,  86.8, 101.1, 115.4,\n",
       "        129.7, 144. ]),\n",
       " <a list of 10 Patch objects>)"
      ]
     },
     "execution_count": 31,
     "metadata": {},
     "output_type": "execute_result"
    },
    {
     "data": {
      "image/png": "[encoded data removed]",
      "text/plain": [
       "<Figure size 432x288 with 1 Axes>"
      ]
     },
     "metadata": {
      "needs_background": "light"
     },
     "output_type": "display_data"
    }
   ],
   "source": [
    "# Distribution of drug-combs\n",
    "import matplotlib.pyplot as plt\n",
    "arr = [len(obs[obs['combination_idx'] == x]) for x in set(obs['combination_idx'])]\n",
    "plt.hist(arr)"
   ]
  },
  {
   "cell_type": "code",
   "execution_count": 26,
   "metadata": {},
   "outputs": [],
   "source": []
  },
  {
   "cell_type": "code",
   "execution_count": 32,
   "metadata": {},
   "outputs": [
    {
     "data": {
      "text/plain": [
       "5636"
      ]
     },
     "execution_count": 32,
     "metadata": {},
     "output_type": "execute_result"
    }
   ],
   "source": [
    "# reducing size for faster computation\n",
    "obs = obs[:30000]\n",
    "len(set(obs['combination_idx']))"
   ]
  },
  {
   "cell_type": "code",
   "execution_count": 61,
   "metadata": {},
   "outputs": [
    {
     "name": "stdout",
     "output_type": "stream",
     "text": [
      "Correlation between prediction and observation is -0.9981450650512003\n"
     ]
    },
    {
     "data": {
      "text/html": [
       "<div>\n",
       "<style scoped>\n",
       "    .dataframe tbody tr th:only-of-type {\n",
       "        vertical-align: middle;\n",
       "    }\n",
       "\n",
       "    .dataframe tbody tr th {\n",
       "        vertical-align: top;\n",
       "    }\n",
       "\n",
       "    .dataframe thead th {\n",
       "        text-align: right;\n",
       "    }\n",
       "</style>\n",
       "<table border=\"1\" class=\"dataframe\">\n",
       "  <thead>\n",
       "    <tr style=\"text-align: right;\">\n",
       "      <th></th>\n",
       "      <th>combination_idx</th>\n",
       "      <th>y_test</th>\n",
       "      <th>pred</th>\n",
       "    </tr>\n",
       "  </thead>\n",
       "  <tbody>\n",
       "    <tr>\n",
       "      <th>222756</th>\n",
       "      <td>300</td>\n",
       "      <td>-0.88</td>\n",
       "      <td>-0.020</td>\n",
       "    </tr>\n",
       "    <tr>\n",
       "      <th>477247</th>\n",
       "      <td>300</td>\n",
       "      <td>3.33</td>\n",
       "      <td>8.370</td>\n",
       "    </tr>\n",
       "    <tr>\n",
       "      <th>536729</th>\n",
       "      <td>300</td>\n",
       "      <td>0.40</td>\n",
       "      <td>2.045</td>\n",
       "    </tr>\n",
       "    <tr>\n",
       "      <th>754753</th>\n",
       "      <td>5</td>\n",
       "      <td>3.31</td>\n",
       "      <td>-0.070</td>\n",
       "    </tr>\n",
       "    <tr>\n",
       "      <th>377069</th>\n",
       "      <td>5</td>\n",
       "      <td>4.82</td>\n",
       "      <td>-2.950</td>\n",
       "    </tr>\n",
       "    <tr>\n",
       "      <th>102593</th>\n",
       "      <td>300</td>\n",
       "      <td>-1.25</td>\n",
       "      <td>-0.020</td>\n",
       "    </tr>\n",
       "    <tr>\n",
       "      <th>378660</th>\n",
       "      <td>5</td>\n",
       "      <td>0.34</td>\n",
       "      <td>-0.385</td>\n",
       "    </tr>\n",
       "    <tr>\n",
       "      <th>323968</th>\n",
       "      <td>100</td>\n",
       "      <td>0.88</td>\n",
       "      <td>1.040</td>\n",
       "    </tr>\n",
       "    <tr>\n",
       "      <th>600481</th>\n",
       "      <td>300</td>\n",
       "      <td>-1.75</td>\n",
       "      <td>-0.350</td>\n",
       "    </tr>\n",
       "    <tr>\n",
       "      <th>323971</th>\n",
       "      <td>100</td>\n",
       "      <td>3.40</td>\n",
       "      <td>-1.210</td>\n",
       "    </tr>\n",
       "    <tr>\n",
       "      <th>758553</th>\n",
       "      <td>5</td>\n",
       "      <td>3.04</td>\n",
       "      <td>-0.070</td>\n",
       "    </tr>\n",
       "    <tr>\n",
       "      <th>705689</th>\n",
       "      <td>100</td>\n",
       "      <td>1.53</td>\n",
       "      <td>0.590</td>\n",
       "    </tr>\n",
       "  </tbody>\n",
       "</table>\n",
       "</div>"
      ],
      "text/plain": [
       "        combination_idx  y_test   pred\n",
       "222756              300   -0.88 -0.020\n",
       "477247              300    3.33  8.370\n",
       "536729              300    0.40  2.045\n",
       "754753                5    3.31 -0.070\n",
       "377069                5    4.82 -2.950\n",
       "102593              300   -1.25 -0.020\n",
       "378660                5    0.34 -0.385\n",
       "323968              100    0.88  1.040\n",
       "600481              300   -1.75 -0.350\n",
       "323971              100    3.40 -1.210\n",
       "758553                5    3.04 -0.070\n",
       "705689              100    1.53  0.590"
      ]
     },
     "execution_count": 61,
     "metadata": {},
     "output_type": "execute_result"
    }
   ],
   "source": [
    "#testing it on one single combination id\n",
    "\n",
    "randIdx = [5,300,100]\n",
    "weighted_corr=[]\n",
    "weights=[]\n",
    "\n",
    "for i in randIdx:\n",
    "\n",
    "    n = len(obs.loc[obs['combination_idx'] == i])\n",
    "    \n",
    "    if (np.var(obs[\"y_test\"][obs['combination_idx'] == i]) == 0 and n > 1):\n",
    "        weighted_corr.append(0)\n",
    "        weights.append(np.sqrt(n-1))\n",
    "    elif (n > 1):\n",
    "        weighted_corr.append(np.sqrt(n-1) * np.corrcoef(obs.loc[obs['combination_idx'] == i][\"y_test\"], obs.loc[obs['combination_idx'] == i][\"pred\"])[0,1])\n",
    "        weights.append(np.sqrt(n-1))\n",
    "df = pd.DataFrame({\"corr\":weighted_corr,\"weights\":weights}).dropna()\n",
    "sum(df[\"corr\"])/sum(df[\"weights\"])\n",
    "\n",
    "corr = np.corrcoef(obs.loc[obs['combination_idx'] == i][\"y_test\"], obs.loc[obs['combination_idx'] == i][\"pred\"])\n",
    "print(f\"Correlation between prediction and observation is {corr[0,1]}\")\n",
    "\n",
    "obs.loc[obs['combination_idx'].isin([5,100,300])]"
   ]
  },
  {
   "cell_type": "code",
   "execution_count": null,
   "metadata": {},
   "outputs": [],
   "source": [
    "weighted_corr=[]\n",
    "weights=[]\n",
    "for i in set(obs['combination_idx']):\n",
    "\n",
    "    n = len(obs.loc[obs['combination_idx'] == i])\n",
    "    \n",
    "    if (np.var(obs[\"y_test\"][obs['combination_idx'] == i]) == 0 and n > 1):\n",
    "        weighted_corr.append(0)\n",
    "        weights.append(np.sqrt(n-1))\n",
    "    elif (n > 1):\n",
    "        weighted_corr.append(np.sqrt(n-1) * np.corrcoef(obs.loc[obs['combination_idx'] == i][\"y_test\"], obs.loc[obs['combination_idx'] == i][\"pred\"])[0,1])\n",
    "        weights.append(np.sqrt(n-1))\n",
    "df = pd.DataFrame({\"corr\":weighted_corr,\"weights\":weights}).dropna()\n",
    "sum(df[\"corr\"])/sum(df[\"weights\"])"
   ]
  },
  {
   "cell_type": "markdown",
   "metadata": {},
   "source": [
    "#### second training cycle: Forest"
   ]
  },
  {
   "cell_type": "code",
   "execution_count": 42,
   "metadata": {},
   "outputs": [],
   "source": [
    "import matplotlib.pyplot as plt\n",
    "from sklearn.ensemble import RandomForestRegressor \n",
    "from sklearn.model_selection import train_test_split\n",
    "\n",
    "with open('intermediate-pickles/Y.pkl', 'rb') as inp:\n",
    "    Y = pickle.load(inp)\n",
    "with open('intermediate-pickles/X.pkl', 'rb') as inp:\n",
    "    X = pickle.load(inp)\n",
    "\n",
    "X_train,x_test,Y_train,y_test = train_test_split(X,Y,test_size=0.3,stratify=Y)"
   ]
  },
  {
   "cell_type": "code",
   "execution_count": 43,
   "metadata": {},
   "outputs": [
    {
     "name": "stderr",
     "output_type": "stream",
     "text": [
      "[Parallel(n_jobs=1)]: Using backend SequentialBackend with 1 concurrent workers.\n",
      "[Parallel(n_jobs=1)]: Done 100 out of 100 | elapsed: 19.4min finished\n",
      "[Parallel(n_jobs=1)]: Using backend SequentialBackend with 1 concurrent workers.\n",
      "[Parallel(n_jobs=1)]: Done 100 out of 100 | elapsed:    2.2s finished\n",
      "[Parallel(n_jobs=1)]: Using backend SequentialBackend with 1 concurrent workers.\n",
      "[Parallel(n_jobs=1)]: Done 100 out of 100 | elapsed:    0.9s finished\n"
     ]
    }
   ],
   "source": [
    "regressor = RandomForestRegressor(max_depth=4, random_state=0, n_estimators=100, verbose=True)\n",
    "regressor.fit(X_train,Y_train)\n",
    "\n",
    "predForestTrain=regressor.predict(X_train)\n",
    "predForest=regressor.predict(x_test)"
   ]
  },
  {
   "cell_type": "code",
   "execution_count": 44,
   "metadata": {},
   "outputs": [],
   "source": [
    "with open('intermediate-pickles/forest-100-Predictions.pkl', 'wb') as outp:\n",
    "    pickle.dump(predForest, outp)\n",
    "with open('intermediate-pickles/forest-100-TRAIN-Predictions.pkl', 'wb') as outp:\n",
    "    pickle.dump(predForestTrain, outp)"
   ]
  },
  {
   "cell_type": "markdown",
   "metadata": {},
   "source": [
    "#### scoring RF"
   ]
  },
  {
   "cell_type": "code",
   "execution_count": 46,
   "metadata": {},
   "outputs": [],
   "source": [
    "with open('./intermediate-pickles/tree-Predictions-y-test.pkl', 'rb') as inp:\n",
    "    obs = pickle.load(inp)\n",
    "with open('./intermediate-pickles/tree-Predictions.pkl', 'rb') as inp:\n",
    "    predTree = pickle.load(inp)\n",
    "with open('./intermediate-pickles/forest-100-Predictions.pkl', 'rb') as inp:\n",
    "    predForest = pickle.load(inp)\n",
    "with open('./intermediate-pickles/forest-100-TRAIN-Predictions.pkl', 'rb') as inp:\n",
    "    predForestTrain = pickle.load(inp)"
   ]
  },
  {
   "cell_type": "code",
   "execution_count": null,
   "metadata": {},
   "outputs": [],
   "source": [
    "obs[\"pred\"] = predTree\n",
    "obs.head(2)"
   ]
  },
  {
   "cell_type": "code",
   "execution_count": null,
   "metadata": {},
   "outputs": [],
   "source": [
    "%%capture --no-display\n",
    "#tree\n",
    "\n",
    "weighted_corr=[]\n",
    "weights=[]\n",
    "for i in set(obs['combination_idx']):\n",
    "\n",
    "    n = len(obs.loc[obs['combination_idx'] == i])\n",
    "    \n",
    "    if (np.var(obs[\"y_test\"][obs['combination_idx'] == i]) == 0 and n > 1):\n",
    "        weighted_corr.append(0)\n",
    "        weights.append(np.sqrt(n-1))\n",
    "    elif (n > 1):\n",
    "        weighted_corr.append(np.sqrt(n-1) * np.corrcoef(obs.loc[obs['combination_idx'] == i][\"y_test\"], obs.loc[obs['combination_idx'] == i][\"pred\"])[0,1])\n",
    "        weights.append(np.sqrt(n-1))\n",
    "\n",
    "df = pd.DataFrame({\"corr\":weighted_corr,\"weights\":weights}).dropna()\n",
    "sum(df[\"corr\"])/sum(df[\"weights\"])"
   ]
  },
  {
   "cell_type": "code",
   "execution_count": 47,
   "metadata": {},
   "outputs": [
    {
     "data": {
      "text/html": [
       "<div>\n",
       "<style scoped>\n",
       "    .dataframe tbody tr th:only-of-type {\n",
       "        vertical-align: middle;\n",
       "    }\n",
       "\n",
       "    .dataframe tbody tr th {\n",
       "        vertical-align: top;\n",
       "    }\n",
       "\n",
       "    .dataframe thead th {\n",
       "        text-align: right;\n",
       "    }\n",
       "</style>\n",
       "<table border=\"1\" class=\"dataframe\">\n",
       "  <thead>\n",
       "    <tr style=\"text-align: right;\">\n",
       "      <th></th>\n",
       "      <th>combination_idx</th>\n",
       "      <th>y_test</th>\n",
       "      <th>pred</th>\n",
       "    </tr>\n",
       "  </thead>\n",
       "  <tbody>\n",
       "    <tr>\n",
       "      <th>574100</th>\n",
       "      <td>244500</td>\n",
       "      <td>-9.88</td>\n",
       "      <td>-0.108452</td>\n",
       "    </tr>\n",
       "    <tr>\n",
       "      <th>409272</th>\n",
       "      <td>291440</td>\n",
       "      <td>0.14</td>\n",
       "      <td>2.543879</td>\n",
       "    </tr>\n",
       "  </tbody>\n",
       "</table>\n",
       "</div>"
      ],
      "text/plain": [
       "        combination_idx  y_test      pred\n",
       "574100           244500   -9.88 -0.108452\n",
       "409272           291440    0.14  2.543879"
      ]
     },
     "execution_count": 47,
     "metadata": {},
     "output_type": "execute_result"
    }
   ],
   "source": [
    "# forest\n",
    "obs = pd.DataFrame({\"combination_idx\":x_test.iloc[:,0],\"y_test\":y_test})\n",
    "obs[\"pred\"] = predForest\n",
    "obs.head(2)"
   ]
  },
  {
   "cell_type": "code",
   "execution_count": 16,
   "metadata": {},
   "outputs": [
    {
     "data": {
      "text/plain": [
       "0.0005667483520001927"
      ]
     },
     "execution_count": 16,
     "metadata": {},
     "output_type": "execute_result"
    }
   ],
   "source": [
    "%%capture --no-display\n",
    "# forest test\n",
    "\n",
    "weighted_corr=[]\n",
    "weights=[]\n",
    "for i in set(obs['combination_idx']):\n",
    "\n",
    "    n = len(obs.loc[obs['combination_idx'] == i])\n",
    "    \n",
    "    if (np.var(obs[\"y_test\"][obs['combination_idx'] == i]) == 0 and n > 1):\n",
    "        weighted_corr.append(0)\n",
    "        weights.append(np.sqrt(n-1))\n",
    "    elif (n > 1):\n",
    "        weighted_corr.append(np.sqrt(n-1) * np.corrcoef(obs.loc[obs['combination_idx'] == i][\"y_test\"], obs.loc[obs['combination_idx'] == i][\"pred\"])[0,1])\n",
    "        weights.append(np.sqrt(n-1))\n",
    "\n",
    "df = pd.DataFrame({\"corr\":weighted_corr,\"weights\":weights}).dropna()\n",
    "sum(df[\"corr\"])/sum(df[\"weights\"])"
   ]
  },
  {
   "cell_type": "markdown",
   "metadata": {},
   "source": [
    "Make the right df for forest train and see if there is a difference <br>\n",
    "Then use other scoring metrics than this one to see whether it is really so bad"
   ]
  },
  {
   "cell_type": "code",
   "execution_count": 50,
   "metadata": {},
   "outputs": [
    {
     "data": {
      "text/html": [
       "<div>\n",
       "<style scoped>\n",
       "    .dataframe tbody tr th:only-of-type {\n",
       "        vertical-align: middle;\n",
       "    }\n",
       "\n",
       "    .dataframe tbody tr th {\n",
       "        vertical-align: top;\n",
       "    }\n",
       "\n",
       "    .dataframe thead th {\n",
       "        text-align: right;\n",
       "    }\n",
       "</style>\n",
       "<table border=\"1\" class=\"dataframe\">\n",
       "  <thead>\n",
       "    <tr style=\"text-align: right;\">\n",
       "      <th></th>\n",
       "      <th>combination_idx</th>\n",
       "      <th>y_train</th>\n",
       "      <th>pred</th>\n",
       "    </tr>\n",
       "  </thead>\n",
       "  <tbody>\n",
       "    <tr>\n",
       "      <th>520672</th>\n",
       "      <td>66831</td>\n",
       "      <td>-0.31</td>\n",
       "      <td>-1.304147</td>\n",
       "    </tr>\n",
       "    <tr>\n",
       "      <th>178974</th>\n",
       "      <td>148088</td>\n",
       "      <td>-1.35</td>\n",
       "      <td>1.096855</td>\n",
       "    </tr>\n",
       "  </tbody>\n",
       "</table>\n",
       "</div>"
      ],
      "text/plain": [
       "        combination_idx  y_train      pred\n",
       "520672            66831    -0.31 -1.304147\n",
       "178974           148088    -1.35  1.096855"
      ]
     },
     "execution_count": 50,
     "metadata": {},
     "output_type": "execute_result"
    }
   ],
   "source": [
    "#forest train\n",
    "obs = pd.DataFrame({\"combination_idx\":X_train.iloc[:,0],\"y_train\":Y_train})\n",
    "obs[\"pred\"] = predForestTrain\n",
    "obs.head(2)"
   ]
  },
  {
   "cell_type": "code",
   "execution_count": 20,
   "metadata": {},
   "outputs": [
    {
     "data": {
      "text/plain": [
       "0.0006324583444735"
      ]
     },
     "execution_count": 20,
     "metadata": {},
     "output_type": "execute_result"
    }
   ],
   "source": [
    "%%capture --no-display\n",
    "# forest train\n",
    "\n",
    "weighted_corr=[]\n",
    "weights=[]\n",
    "for i in set(obs['combination_idx']):\n",
    "\n",
    "    n = len(obs.loc[obs['combination_idx'] == i])\n",
    "    \n",
    "    if (np.var(obs[\"y_train\"][obs['combination_idx'] == i]) == 0 and n > 1):\n",
    "        weighted_corr.append(0)\n",
    "        weights.append(np.sqrt(n-1))\n",
    "    elif (n > 1):\n",
    "        weighted_corr.append(np.sqrt(n-1) * np.corrcoef(obs.loc[obs['combination_idx'] == i][\"y_train\"], obs.loc[obs['combination_idx'] == i][\"pred\"])[0,1])\n",
    "        weights.append(np.sqrt(n-1))\n",
    "\n",
    "df = pd.DataFrame({\"corr\":weighted_corr,\"weights\":weights}).dropna()\n",
    "sum(df[\"corr\"])/sum(df[\"weights\"])"
   ]
  },
  {
   "cell_type": "markdown",
   "metadata": {},
   "source": [
    "#### training dummy classifier"
   ]
  },
  {
   "cell_type": "code",
   "execution_count": 6,
   "metadata": {},
   "outputs": [],
   "source": [
    "import matplotlib.pyplot as plt\n",
    "from sklearn.ensemble import RandomForestRegressor \n",
    "from sklearn.model_selection import train_test_split\n",
    "\n",
    "with open('intermediate-pickles/Y.pkl', 'rb') as inp:\n",
    "    Y = pickle.load(inp)\n",
    "with open('intermediate-pickles/X.pkl', 'rb') as inp:\n",
    "    X = pickle.load(inp)\n",
    "\n",
    "X_train,x_test,Y_train,y_test = train_test_split(X,Y,test_size=0.3,stratify=Y)"
   ]
  },
  {
   "cell_type": "code",
   "execution_count": 21,
   "metadata": {},
   "outputs": [],
   "source": [
    "from sklearn.dummy import DummyRegressor\n",
    "dummyRegressor = DummyRegressor()\n",
    "dummyRegressor.fit(X_train,Y_train)\n",
    "\n",
    "pred=dummyRegressor.predict(x_test)"
   ]
  },
  {
   "cell_type": "code",
   "execution_count": 22,
   "metadata": {},
   "outputs": [
    {
     "data": {
      "text/html": [
       "<div>\n",
       "<style scoped>\n",
       "    .dataframe tbody tr th:only-of-type {\n",
       "        vertical-align: middle;\n",
       "    }\n",
       "\n",
       "    .dataframe tbody tr th {\n",
       "        vertical-align: top;\n",
       "    }\n",
       "\n",
       "    .dataframe thead th {\n",
       "        text-align: right;\n",
       "    }\n",
       "</style>\n",
       "<table border=\"1\" class=\"dataframe\">\n",
       "  <thead>\n",
       "    <tr style=\"text-align: right;\">\n",
       "      <th></th>\n",
       "      <th>combination_idx</th>\n",
       "      <th>y_test</th>\n",
       "      <th>pred</th>\n",
       "    </tr>\n",
       "  </thead>\n",
       "  <tbody>\n",
       "    <tr>\n",
       "      <th>224884</th>\n",
       "      <td>47245</td>\n",
       "      <td>-3.78</td>\n",
       "      <td>0.637093</td>\n",
       "    </tr>\n",
       "    <tr>\n",
       "      <th>637875</th>\n",
       "      <td>190791</td>\n",
       "      <td>-0.71</td>\n",
       "      <td>0.637093</td>\n",
       "    </tr>\n",
       "  </tbody>\n",
       "</table>\n",
       "</div>"
      ],
      "text/plain": [
       "        combination_idx  y_test      pred\n",
       "224884            47245   -3.78  0.637093\n",
       "637875           190791   -0.71  0.637093"
      ]
     },
     "execution_count": 22,
     "metadata": {},
     "output_type": "execute_result"
    }
   ],
   "source": [
    "obs = pd.DataFrame({\"combination_idx\":x_test.iloc[:,0],\"y_test\":y_test,\"pred\":pred})\n",
    "obs.head(2)"
   ]
  },
  {
   "cell_type": "code",
   "execution_count": 32,
   "metadata": {},
   "outputs": [
    {
     "data": {
      "text/plain": [
       "-3.457277076837825e-19"
      ]
     },
     "execution_count": 32,
     "metadata": {},
     "output_type": "execute_result"
    }
   ],
   "source": [
    "%%capture --no-display\n",
    "# very long computation\n",
    "# input: obs is a Dataframe with 3 Columns: 1. A combination idx for the 2 drugs, y_test, pred\n",
    "def primaryMetric2(obs):\n",
    "    import numpy as np\n",
    "    import pandas as pd\n",
    "    weighted_corr = []\n",
    "    weights = []\n",
    "    for i in set(obs['combination_idx']):\n",
    "\n",
    "        n = len(obs.loc[obs['combination_idx'] == i])\n",
    "\n",
    "        if (np.var(obs[\"y_test\"][obs['combination_idx'] == i]) == 0 and n > 1):\n",
    "            weighted_corr.append(0)\n",
    "            weights.append(np.sqrt(n-1))\n",
    "        elif (n > 1):\n",
    "            weighted_corr.append(np.sqrt(n-1) * np.corrcoef(\n",
    "                obs.loc[obs['combination_idx'] == i][\"y_test\"], obs.loc[obs['combination_idx'] == i][\"pred\"])[0, 1])\n",
    "            weights.append(np.sqrt(n-1))\n",
    "    df = pd.DataFrame({\"corr\": weighted_corr, \"weights\": weights}).dropna()\n",
    "    return(sum(df[\"corr\"])/sum(df[\"weights\"]))\n",
    "\n",
    "\n",
    "from scoring import primaryMetric\n",
    "primaryMetric2(obs)"
   ]
  },
  {
   "cell_type": "markdown",
   "metadata": {},
   "source": [
    "#### Alternative metrics"
   ]
  },
  {
   "cell_type": "code",
   "execution_count": 52,
   "metadata": {},
   "outputs": [
    {
     "data": {
      "text/plain": [
       "4.439317484664892"
      ]
     },
     "execution_count": 52,
     "metadata": {},
     "output_type": "execute_result"
    }
   ],
   "source": [
    "# forest train\n",
    "np.mean(np.abs(obs[\"y_train\"]-obs[\"pred\"]))"
   ]
  },
  {
   "cell_type": "code",
   "execution_count": 49,
   "metadata": {},
   "outputs": [
    {
     "data": {
      "text/plain": [
       "4.432073412723623"
      ]
     },
     "execution_count": 49,
     "metadata": {},
     "output_type": "execute_result"
    }
   ],
   "source": [
    "# forest test\n",
    "np.mean(np.abs(obs[\"y_test\"]-obs[\"pred\"]))"
   ]
  },
  {
   "cell_type": "code",
   "execution_count": 40,
   "metadata": {},
   "outputs": [
    {
     "data": {
      "text/plain": [
       "4.736881073728012"
      ]
     },
     "execution_count": 40,
     "metadata": {},
     "output_type": "execute_result"
    }
   ],
   "source": [
    "#dummy\n",
    "np.mean(np.abs(obs[\"y_test\"]-obs[\"pred\"]))"
   ]
  },
  {
   "cell_type": "markdown",
   "metadata": {},
   "source": [
    "#### See RFs main features"
   ]
  },
  {
   "cell_type": "code",
   "execution_count": 70,
   "metadata": {},
   "outputs": [
    {
     "data": {
      "text/html": [
       "<div>\n",
       "<style scoped>\n",
       "    .dataframe tbody tr th:only-of-type {\n",
       "        vertical-align: middle;\n",
       "    }\n",
       "\n",
       "    .dataframe tbody tr th {\n",
       "        vertical-align: top;\n",
       "    }\n",
       "\n",
       "    .dataframe thead th {\n",
       "        text-align: right;\n",
       "    }\n",
       "</style>\n",
       "<table border=\"1\" class=\"dataframe\">\n",
       "  <thead>\n",
       "    <tr style=\"text-align: right;\">\n",
       "      <th></th>\n",
       "      <th>0</th>\n",
       "      <th>1</th>\n",
       "    </tr>\n",
       "  </thead>\n",
       "  <tbody>\n",
       "    <tr>\n",
       "      <th>45</th>\n",
       "      <td>D1 MolMR</td>\n",
       "      <td>0.317932</td>\n",
       "    </tr>\n",
       "    <tr>\n",
       "      <th>115</th>\n",
       "      <td>D2 MolMR</td>\n",
       "      <td>0.225306</td>\n",
       "    </tr>\n",
       "    <tr>\n",
       "      <th>103</th>\n",
       "      <td>D2 Chi1</td>\n",
       "      <td>0.101123</td>\n",
       "    </tr>\n",
       "    <tr>\n",
       "      <th>59</th>\n",
       "      <td>D1 SMR_VSA1</td>\n",
       "      <td>0.089432</td>\n",
       "    </tr>\n",
       "    <tr>\n",
       "      <th>129</th>\n",
       "      <td>D2 SMR_VSA1</td>\n",
       "      <td>0.049981</td>\n",
       "    </tr>\n",
       "    <tr>\n",
       "      <th>...</th>\n",
       "      <td>...</td>\n",
       "      <td>...</td>\n",
       "    </tr>\n",
       "    <tr>\n",
       "      <th>58</th>\n",
       "      <td>D1 PEOE_VSA3</td>\n",
       "      <td>0.0</td>\n",
       "    </tr>\n",
       "    <tr>\n",
       "      <th>57</th>\n",
       "      <td>D1 PEOE_VSA2</td>\n",
       "      <td>0.0</td>\n",
       "    </tr>\n",
       "    <tr>\n",
       "      <th>55</th>\n",
       "      <td>D1 LabuteASA</td>\n",
       "      <td>0.0</td>\n",
       "    </tr>\n",
       "    <tr>\n",
       "      <th>54</th>\n",
       "      <td>D1 TPSA</td>\n",
       "      <td>0.0</td>\n",
       "    </tr>\n",
       "    <tr>\n",
       "      <th>148</th>\n",
       "      <td>gender_Sex unspecified</td>\n",
       "      <td>0.0</td>\n",
       "    </tr>\n",
       "  </tbody>\n",
       "</table>\n",
       "<p>149 rows × 2 columns</p>\n",
       "</div>"
      ],
      "text/plain": [
       "                          0         1\n",
       "45                 D1 MolMR  0.317932\n",
       "115                D2 MolMR  0.225306\n",
       "103                 D2 Chi1  0.101123\n",
       "59              D1 SMR_VSA1  0.089432\n",
       "129             D2 SMR_VSA1  0.049981\n",
       "..                      ...       ...\n",
       "58             D1 PEOE_VSA3       0.0\n",
       "57             D1 PEOE_VSA2       0.0\n",
       "55             D1 LabuteASA       0.0\n",
       "54                  D1 TPSA       0.0\n",
       "148  gender_Sex unspecified       0.0\n",
       "\n",
       "[149 rows x 2 columns]"
      ]
     },
     "execution_count": 70,
     "metadata": {},
     "output_type": "execute_result"
    }
   ],
   "source": [
    "feats = pd.DataFrame([np.array(x_test.columns),regressor.feature_importances_]).transpose()\n",
    "feats.sort_values(by=1,ascending=False)\n",
    "# MR mutagenic potential\n",
    "# SMR same"
   ]
  },
  {
   "cell_type": "code",
   "execution_count": 57,
   "metadata": {},
   "outputs": [
    {
     "data": {
      "text/plain": [
       "array([0.00000000e+00, 0.00000000e+00, 0.00000000e+00, 0.00000000e+00,\n",
       "       5.41654475e-03, 4.18614337e-04, 1.83565491e-03, 1.01829437e-04,\n",
       "       7.66101705e-04, 3.86505775e-03, 7.92203159e-05, 2.19228062e-04,\n",
       "       0.00000000e+00, 0.00000000e+00, 0.00000000e+00, 6.11777406e-03,\n",
       "       0.00000000e+00, 0.00000000e+00, 8.26200172e-03, 0.00000000e+00,\n",
       "       1.72724591e-04, 0.00000000e+00, 0.00000000e+00, 0.00000000e+00,\n",
       "       1.03684168e-03, 0.00000000e+00, 0.00000000e+00, 0.00000000e+00,\n",
       "       6.39764403e-04, 0.00000000e+00, 0.00000000e+00, 0.00000000e+00,\n",
       "       7.93986899e-04, 0.00000000e+00, 0.00000000e+00, 0.00000000e+00,\n",
       "       0.00000000e+00, 5.85309609e-05, 1.50880277e-03, 0.00000000e+00,\n",
       "       0.00000000e+00, 0.00000000e+00, 3.27743795e-04, 0.00000000e+00,\n",
       "       7.21344913e-03, 3.17932268e-01, 8.69960830e-03, 3.44165354e-04,\n",
       "       4.59820728e-04, 2.08246661e-04, 0.00000000e+00, 0.00000000e+00,\n",
       "       0.00000000e+00, 4.17204280e-04, 0.00000000e+00, 0.00000000e+00,\n",
       "       4.46669958e-03, 0.00000000e+00, 0.00000000e+00, 8.94324361e-02,\n",
       "       0.00000000e+00, 2.96343488e-04, 3.72238745e-02, 0.00000000e+00,\n",
       "       5.47767364e-03, 0.00000000e+00, 0.00000000e+00, 1.74692666e-02,\n",
       "       0.00000000e+00, 0.00000000e+00, 0.00000000e+00, 3.76217280e-04,\n",
       "       0.00000000e+00, 1.71638061e-04, 8.52394538e-04, 0.00000000e+00,\n",
       "       2.34515592e-03, 0.00000000e+00, 5.97954197e-04, 1.09557516e-02,\n",
       "       9.08337693e-05, 0.00000000e+00, 0.00000000e+00, 0.00000000e+00,\n",
       "       0.00000000e+00, 2.38788726e-03, 0.00000000e+00, 0.00000000e+00,\n",
       "       1.48198300e-02, 0.00000000e+00, 0.00000000e+00, 0.00000000e+00,\n",
       "       0.00000000e+00, 0.00000000e+00, 1.09882921e-03, 0.00000000e+00,\n",
       "       0.00000000e+00, 8.84421329e-05, 2.30115248e-04, 0.00000000e+00,\n",
       "       0.00000000e+00, 0.00000000e+00, 5.85838745e-04, 1.01122804e-01,\n",
       "       0.00000000e+00, 0.00000000e+00, 0.00000000e+00, 8.06805145e-05,\n",
       "       5.24941294e-03, 0.00000000e+00, 0.00000000e+00, 0.00000000e+00,\n",
       "       9.81189700e-04, 0.00000000e+00, 3.60844879e-03, 2.25305604e-01,\n",
       "       2.65864302e-03, 1.57896648e-03, 9.18612624e-04, 4.11571296e-03,\n",
       "       0.00000000e+00, 0.00000000e+00, 0.00000000e+00, 8.76054509e-05,\n",
       "       0.00000000e+00, 0.00000000e+00, 2.82077391e-03, 0.00000000e+00,\n",
       "       0.00000000e+00, 4.99810051e-02, 0.00000000e+00, 6.34696643e-03,\n",
       "       2.93096126e-02, 0.00000000e+00, 9.97159507e-03, 0.00000000e+00,\n",
       "       0.00000000e+00, 0.00000000e+00, 0.00000000e+00, 0.00000000e+00,\n",
       "       0.00000000e+00, 0.00000000e+00, 0.00000000e+00, 0.00000000e+00,\n",
       "       0.00000000e+00, 0.00000000e+00, 0.00000000e+00, 0.00000000e+00,\n",
       "       0.00000000e+00])"
      ]
     },
     "execution_count": 57,
     "metadata": {},
     "output_type": "execute_result"
    }
   ],
   "source": []
  },
  {
   "cell_type": "markdown",
   "metadata": {},
   "source": [
    "#### Advancing DataFrame"
   ]
  },
  {
   "cell_type": "code",
   "execution_count": 63,
   "metadata": {},
   "outputs": [
    {
     "data": {
      "text/html": [
       "<div>\n",
       "<style scoped>\n",
       "    .dataframe tbody tr th:only-of-type {\n",
       "        vertical-align: middle;\n",
       "    }\n",
       "\n",
       "    .dataframe tbody tr th {\n",
       "        vertical-align: top;\n",
       "    }\n",
       "\n",
       "    .dataframe thead th {\n",
       "        text-align: right;\n",
       "    }\n",
       "</style>\n",
       "<table border=\"1\" class=\"dataframe\">\n",
       "  <thead>\n",
       "    <tr style=\"text-align: right;\">\n",
       "      <th></th>\n",
       "      <th>index</th>\n",
       "      <th>D1 Eccentricity</th>\n",
       "      <th>D1 InertialShapeFactor</th>\n",
       "      <th>D1 NPR1</th>\n",
       "      <th>D1 NPR2</th>\n",
       "      <th>D1 PMI1</th>\n",
       "      <th>D1 PMI2</th>\n",
       "      <th>D1 PMI3</th>\n",
       "      <th>D1 RadiusOfGyration</th>\n",
       "      <th>D1 SpherocityIndex</th>\n",
       "      <th>...</th>\n",
       "      <th>D2 VSA_EState2</th>\n",
       "      <th>D2 VSA_EState3</th>\n",
       "      <th>age</th>\n",
       "      <th>cat_Cancer cell line</th>\n",
       "      <th>cat_Embryonic stem cell</th>\n",
       "      <th>cat_Hybridoma</th>\n",
       "      <th>cat_Transformed cell line</th>\n",
       "      <th>gender_Female</th>\n",
       "      <th>gender_Male</th>\n",
       "      <th>gender_Sex unspecified</th>\n",
       "    </tr>\n",
       "  </thead>\n",
       "  <tbody>\n",
       "    <tr>\n",
       "      <th>0</th>\n",
       "      <td>300073</td>\n",
       "      <td>0.956402</td>\n",
       "      <td>0.004792</td>\n",
       "      <td>0.292055</td>\n",
       "      <td>0.707945</td>\n",
       "      <td>147.739172</td>\n",
       "      <td>358.121584</td>\n",
       "      <td>505.860756</td>\n",
       "      <td>1.97203</td>\n",
       "      <td>1.259740e-12</td>\n",
       "      <td>...</td>\n",
       "      <td>19.238682</td>\n",
       "      <td>3.448989</td>\n",
       "      <td>43.0</td>\n",
       "      <td>1.0</td>\n",
       "      <td>0.0</td>\n",
       "      <td>0.0</td>\n",
       "      <td>0.0</td>\n",
       "      <td>0.0</td>\n",
       "      <td>1.0</td>\n",
       "      <td>0.0</td>\n",
       "    </tr>\n",
       "    <tr>\n",
       "      <th>1</th>\n",
       "      <td>300073</td>\n",
       "      <td>0.956402</td>\n",
       "      <td>0.004792</td>\n",
       "      <td>0.292055</td>\n",
       "      <td>0.707945</td>\n",
       "      <td>147.739172</td>\n",
       "      <td>358.121584</td>\n",
       "      <td>505.860756</td>\n",
       "      <td>1.97203</td>\n",
       "      <td>1.259740e-12</td>\n",
       "      <td>...</td>\n",
       "      <td>19.238682</td>\n",
       "      <td>3.448989</td>\n",
       "      <td>43.0</td>\n",
       "      <td>1.0</td>\n",
       "      <td>0.0</td>\n",
       "      <td>0.0</td>\n",
       "      <td>0.0</td>\n",
       "      <td>0.0</td>\n",
       "      <td>1.0</td>\n",
       "      <td>0.0</td>\n",
       "    </tr>\n",
       "    <tr>\n",
       "      <th>2</th>\n",
       "      <td>300073</td>\n",
       "      <td>0.956402</td>\n",
       "      <td>0.004792</td>\n",
       "      <td>0.292055</td>\n",
       "      <td>0.707945</td>\n",
       "      <td>147.739172</td>\n",
       "      <td>358.121584</td>\n",
       "      <td>505.860756</td>\n",
       "      <td>1.97203</td>\n",
       "      <td>1.259740e-12</td>\n",
       "      <td>...</td>\n",
       "      <td>19.238682</td>\n",
       "      <td>3.448989</td>\n",
       "      <td>43.0</td>\n",
       "      <td>1.0</td>\n",
       "      <td>0.0</td>\n",
       "      <td>0.0</td>\n",
       "      <td>0.0</td>\n",
       "      <td>0.0</td>\n",
       "      <td>1.0</td>\n",
       "      <td>0.0</td>\n",
       "    </tr>\n",
       "    <tr>\n",
       "      <th>3</th>\n",
       "      <td>300073</td>\n",
       "      <td>0.956402</td>\n",
       "      <td>0.004792</td>\n",
       "      <td>0.292055</td>\n",
       "      <td>0.707945</td>\n",
       "      <td>147.739172</td>\n",
       "      <td>358.121584</td>\n",
       "      <td>505.860756</td>\n",
       "      <td>1.97203</td>\n",
       "      <td>1.259740e-12</td>\n",
       "      <td>...</td>\n",
       "      <td>19.238682</td>\n",
       "      <td>3.448989</td>\n",
       "      <td>43.0</td>\n",
       "      <td>1.0</td>\n",
       "      <td>0.0</td>\n",
       "      <td>0.0</td>\n",
       "      <td>0.0</td>\n",
       "      <td>0.0</td>\n",
       "      <td>1.0</td>\n",
       "      <td>0.0</td>\n",
       "    </tr>\n",
       "    <tr>\n",
       "      <th>4</th>\n",
       "      <td>190819</td>\n",
       "      <td>0.956402</td>\n",
       "      <td>0.004792</td>\n",
       "      <td>0.292055</td>\n",
       "      <td>0.707945</td>\n",
       "      <td>147.739172</td>\n",
       "      <td>358.121584</td>\n",
       "      <td>505.860756</td>\n",
       "      <td>1.97203</td>\n",
       "      <td>1.259740e-12</td>\n",
       "      <td>...</td>\n",
       "      <td>31.601287</td>\n",
       "      <td>14.099736</td>\n",
       "      <td>43.0</td>\n",
       "      <td>1.0</td>\n",
       "      <td>0.0</td>\n",
       "      <td>0.0</td>\n",
       "      <td>0.0</td>\n",
       "      <td>0.0</td>\n",
       "      <td>1.0</td>\n",
       "      <td>0.0</td>\n",
       "    </tr>\n",
       "  </tbody>\n",
       "</table>\n",
       "<p>5 rows × 149 columns</p>\n",
       "</div>"
      ],
      "text/plain": [
       "    index  D1 Eccentricity  D1 InertialShapeFactor   D1 NPR1   D1 NPR2  \\\n",
       "0  300073         0.956402                0.004792  0.292055  0.707945   \n",
       "1  300073         0.956402                0.004792  0.292055  0.707945   \n",
       "2  300073         0.956402                0.004792  0.292055  0.707945   \n",
       "3  300073         0.956402                0.004792  0.292055  0.707945   \n",
       "4  190819         0.956402                0.004792  0.292055  0.707945   \n",
       "\n",
       "      D1 PMI1     D1 PMI2     D1 PMI3  D1 RadiusOfGyration  \\\n",
       "0  147.739172  358.121584  505.860756              1.97203   \n",
       "1  147.739172  358.121584  505.860756              1.97203   \n",
       "2  147.739172  358.121584  505.860756              1.97203   \n",
       "3  147.739172  358.121584  505.860756              1.97203   \n",
       "4  147.739172  358.121584  505.860756              1.97203   \n",
       "\n",
       "   D1 SpherocityIndex  ...  D2 VSA_EState2  D2 VSA_EState3   age  \\\n",
       "0        1.259740e-12  ...       19.238682        3.448989  43.0   \n",
       "1        1.259740e-12  ...       19.238682        3.448989  43.0   \n",
       "2        1.259740e-12  ...       19.238682        3.448989  43.0   \n",
       "3        1.259740e-12  ...       19.238682        3.448989  43.0   \n",
       "4        1.259740e-12  ...       31.601287       14.099736  43.0   \n",
       "\n",
       "   cat_Cancer cell line  cat_Embryonic stem cell  cat_Hybridoma  \\\n",
       "0                   1.0                      0.0            0.0   \n",
       "1                   1.0                      0.0            0.0   \n",
       "2                   1.0                      0.0            0.0   \n",
       "3                   1.0                      0.0            0.0   \n",
       "4                   1.0                      0.0            0.0   \n",
       "\n",
       "   cat_Transformed cell line  gender_Female  gender_Male  \\\n",
       "0                        0.0            0.0          1.0   \n",
       "1                        0.0            0.0          1.0   \n",
       "2                        0.0            0.0          1.0   \n",
       "3                        0.0            0.0          1.0   \n",
       "4                        0.0            0.0          1.0   \n",
       "\n",
       "   gender_Sex unspecified  \n",
       "0                     0.0  \n",
       "1                     0.0  \n",
       "2                     0.0  \n",
       "3                     0.0  \n",
       "4                     0.0  \n",
       "\n",
       "[5 rows x 149 columns]"
      ]
     },
     "execution_count": 63,
     "metadata": {},
     "output_type": "execute_result"
    }
   ],
   "source": [
    "with open('intermediate-pickles/X.pkl', 'rb') as inp:\n",
    "    X = pickle.load(inp)\n",
    "X.head()"
   ]
  },
  {
   "cell_type": "code",
   "execution_count": 13,
   "metadata": {},
   "outputs": [
    {
     "data": {
      "text/plain": [
       "(6103237, 11)"
      ]
     },
     "execution_count": 13,
     "metadata": {},
     "output_type": "execute_result"
    }
   ],
   "source": [
    "import pandas as pd\n",
    "df = pd.read_csv(\"../drugCombDBdata/drugcombs_response.csv\")\n",
    "df.shape"
   ]
  }
 ],
 "metadata": {
  "interpreter": {
   "hash": "31f2aee4e71d21fbe5cf8b01ff0e069b9275f58929596ceb00d14d90e3e16cd6"
  },
  "kernelspec": {
   "display_name": "Python 3",
   "language": "python",
   "name": "python3"
  },
  "language_info": {
   "codemirror_mode": {
    "name": "ipython",
    "version": 3
   },
   "file_extension": ".py",
   "mimetype": "text/x-python",
   "name": "python",
   "nbconvert_exporter": "python",
   "pygments_lexer": "ipython3",
   "version": "3.8.8"
  }
 },
 "nbformat": 4,
 "nbformat_minor": 4
}
