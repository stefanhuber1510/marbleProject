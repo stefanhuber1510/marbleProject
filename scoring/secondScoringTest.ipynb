{
 "cells": [
  {
   "cell_type": "markdown",
   "id": "15bd2444-4a6d-445a-ac12-7e33c178c4d6",
   "metadata": {},
   "source": [
    "#### Experiments to be sorted later\n",
    "\n",
    "COMBINATION ID VERY EARLY - INSERT IT FOR LATER EVALUATION\n",
    "\n",
    "What I need to do:\n",
    "\n",
    "-Parameter tuning of RF\n",
    "\n",
    "\n",
    "\n",
    "Data cleaning:\n",
    "-average double entries\n",
    "-use maccskeys for a RF\n",
    "\n",
    "New dataset:\n",
    "-fix variability above 100 down to 100\n",
    "-"
   ]
  },
  {
   "cell_type": "code",
   "execution_count": 61,
   "id": "5286024a-82a5-4eb6-b81d-8263af4f61f6",
   "metadata": {},
   "outputs": [],
   "source": [
    "# temporary working here to deal with double values and insert it later as new section before section joining"
   ]
  },
  {
   "cell_type": "code",
   "execution_count": 1,
   "id": "67cd60e4-cf9a-4b57-b798-44d69c1eabbd",
   "metadata": {},
   "outputs": [],
   "source": [
    "import numpy as np\n",
    "import pandas as pd\n",
    "import _pickle as pkl"
   ]
  },
  {
   "cell_type": "markdown",
   "id": "1e43e6f8-67d3-45dd-a55d-b6fef895d0ec",
   "metadata": {},
   "source": [
    "#### 1. Modify DB data\n",
    "1. Conc names & cell lines to find duplicates\n",
    "2. Combine them\n",
    "3. Set values above 100 to 100"
   ]
  },
  {
   "cell_type": "code",
   "execution_count": 2,
   "id": "06f83270-db52-45d5-8490-438cb26a6468",
   "metadata": {},
   "outputs": [
    {
     "name": "stdout",
     "output_type": "stream",
     "text": [
      "498865 different Combinations\n"
     ]
    },
    {
     "data": {
      "text/html": [
       "<div>\n",
       "<style scoped>\n",
       "    .dataframe tbody tr th:only-of-type {\n",
       "        vertical-align: middle;\n",
       "    }\n",
       "\n",
       "    .dataframe tbody tr th {\n",
       "        vertical-align: top;\n",
       "    }\n",
       "\n",
       "    .dataframe thead th {\n",
       "        text-align: right;\n",
       "    }\n",
       "</style>\n",
       "<table border=\"1\" class=\"dataframe\">\n",
       "  <thead>\n",
       "    <tr style=\"text-align: right;\">\n",
       "      <th></th>\n",
       "      <th>ID</th>\n",
       "      <th>Drug1</th>\n",
       "      <th>Drug2</th>\n",
       "      <th>Cell line</th>\n",
       "      <th>ZIP</th>\n",
       "      <th>Bliss</th>\n",
       "      <th>Loewe</th>\n",
       "      <th>HSA</th>\n",
       "    </tr>\n",
       "  </thead>\n",
       "  <tbody>\n",
       "    <tr>\n",
       "      <th>0</th>\n",
       "      <td>1</td>\n",
       "      <td>5-fu</td>\n",
       "      <td>abt-888</td>\n",
       "      <td>A2058</td>\n",
       "      <td>1.72</td>\n",
       "      <td>6.26</td>\n",
       "      <td>-2.75</td>\n",
       "      <td>5.54</td>\n",
       "    </tr>\n",
       "    <tr>\n",
       "      <th>1</th>\n",
       "      <td>2</td>\n",
       "      <td>5-fu</td>\n",
       "      <td>abt-888</td>\n",
       "      <td>A2058</td>\n",
       "      <td>5.88</td>\n",
       "      <td>12.33</td>\n",
       "      <td>3.33</td>\n",
       "      <td>11.61</td>\n",
       "    </tr>\n",
       "  </tbody>\n",
       "</table>\n",
       "</div>"
      ],
      "text/plain": [
       "   ID Drug1    Drug2 Cell line   ZIP  Bliss  Loewe    HSA\n",
       "0   1  5-fu  abt-888     A2058  1.72   6.26  -2.75   5.54\n",
       "1   2  5-fu  abt-888     A2058  5.88  12.33   3.33  11.61"
      ]
     },
     "execution_count": 2,
     "metadata": {},
     "output_type": "execute_result"
    }
   ],
   "source": [
    "# drugCombDB data\n",
    "dta = pd.read_csv(\"../drugCombDBdata/synergy-score-data/REGRdrugcombs_scored.csv\")\n",
    "print(str(len(dta))+\" different Combinations\")\n",
    "dta.dropna(inplace=True)\n",
    "\n",
    "dta[\"Drug1\"] = pd.Series(dta[\"Drug1\"],dtype=\"string\").str.lower()\n",
    "dta[\"Drug2\"] = pd.Series(dta[\"Drug2\"],dtype=\"string\").str.lower()\n",
    "\n",
    "dta.reset_index(drop=True,inplace=True)\n",
    "dta.head(2)"
   ]
  },
  {
   "cell_type": "markdown",
   "id": "ce3a1c32-b368-47c2-b1be-b23f4b5b1628",
   "metadata": {},
   "source": [
    "##### Concatenate Names FOR REMOVING DUPLICATE REASONS"
   ]
  },
  {
   "cell_type": "code",
   "execution_count": 3,
   "id": "1d086e60-54e9-4afe-9528-5c9dba3f1af2",
   "metadata": {},
   "outputs": [],
   "source": [
    "# concatenate Drug1 and 2 alphabetically - TIME: 14 mins\n",
    "data = dta\n",
    "sorted_conc_drugs=[]\n",
    "for row in range(len(data)):\n",
    "    d1 = data.iloc[row][\"Drug1\"]\n",
    "    d2 = data.iloc[row][\"Drug2\"]\n",
    "    if d1 < d2:\n",
    "        sorted_conc_drugs.append(d1+d2+data.iloc[row][\"Cell line\"])\n",
    "    else:\n",
    "        sorted_conc_drugs.append(d2+d1+data.iloc[row][\"Cell line\"])\n",
    "sorted_conc_drugs = pd.Series(sorted_conc_drugs)"
   ]
  },
  {
   "cell_type": "markdown",
   "id": "0073fc20-2b65-4806-ab50-ae073ff153ba",
   "metadata": {},
   "source": [
    "Note: I had the problem that the concatenated names did not match the original ones. Fix this issue here and then execute the cells below for replacing the Duplikates "
   ]
  },
  {
   "cell_type": "code",
   "execution_count": 4,
   "id": "7316defb-dff3-4ae9-870e-5f8c80df8642",
   "metadata": {},
   "outputs": [],
   "source": [
    "# attach the joined names to the dataframe\n",
    "numerator = pd.DataFrame(list(set(sorted_conc_drugs)))\n",
    "numerator.reset_index(inplace=True)\n",
    "\n",
    "data['drug_drug2'] = sorted_conc_drugs\n",
    "data = data.join(numerator.set_index(0),on=\"drug_drug2\",how=\"left\")"
   ]
  },
  {
   "cell_type": "code",
   "execution_count": 5,
   "id": "284e292b-d5a7-4014-bd18-2d913712abfe",
   "metadata": {},
   "outputs": [
    {
     "data": {
      "text/html": [
       "<div>\n",
       "<style scoped>\n",
       "    .dataframe tbody tr th:only-of-type {\n",
       "        vertical-align: middle;\n",
       "    }\n",
       "\n",
       "    .dataframe tbody tr th {\n",
       "        vertical-align: top;\n",
       "    }\n",
       "\n",
       "    .dataframe thead th {\n",
       "        text-align: right;\n",
       "    }\n",
       "</style>\n",
       "<table border=\"1\" class=\"dataframe\">\n",
       "  <thead>\n",
       "    <tr style=\"text-align: right;\">\n",
       "      <th></th>\n",
       "      <th>drug_drug2</th>\n",
       "      <th>ID</th>\n",
       "      <th>Drug1</th>\n",
       "      <th>Drug2</th>\n",
       "      <th>Cell line</th>\n",
       "      <th>ZIP</th>\n",
       "      <th>Bliss</th>\n",
       "      <th>Loewe</th>\n",
       "      <th>index</th>\n",
       "      <th>HSA</th>\n",
       "    </tr>\n",
       "  </thead>\n",
       "  <tbody>\n",
       "    <tr>\n",
       "      <th>0</th>\n",
       "      <td>5-fuabt-888A2058</td>\n",
       "      <td>1</td>\n",
       "      <td>5-fu</td>\n",
       "      <td>abt-888</td>\n",
       "      <td>A2058</td>\n",
       "      <td>1.72</td>\n",
       "      <td>6.26</td>\n",
       "      <td>-2.75</td>\n",
       "      <td>92611</td>\n",
       "      <td>5.54</td>\n",
       "    </tr>\n",
       "    <tr>\n",
       "      <th>1</th>\n",
       "      <td>5-fuabt-888A2058</td>\n",
       "      <td>2</td>\n",
       "      <td>5-fu</td>\n",
       "      <td>abt-888</td>\n",
       "      <td>A2058</td>\n",
       "      <td>5.88</td>\n",
       "      <td>12.33</td>\n",
       "      <td>3.33</td>\n",
       "      <td>92611</td>\n",
       "      <td>11.61</td>\n",
       "    </tr>\n",
       "    <tr>\n",
       "      <th>2</th>\n",
       "      <td>5-fuabt-888A2058</td>\n",
       "      <td>3</td>\n",
       "      <td>5-fu</td>\n",
       "      <td>abt-888</td>\n",
       "      <td>A2058</td>\n",
       "      <td>3.59</td>\n",
       "      <td>11.66</td>\n",
       "      <td>2.65</td>\n",
       "      <td>92611</td>\n",
       "      <td>10.94</td>\n",
       "    </tr>\n",
       "    <tr>\n",
       "      <th>3</th>\n",
       "      <td>5-fuabt-888A2058</td>\n",
       "      <td>4</td>\n",
       "      <td>5-fu</td>\n",
       "      <td>abt-888</td>\n",
       "      <td>A2058</td>\n",
       "      <td>-0.85</td>\n",
       "      <td>5.15</td>\n",
       "      <td>-3.86</td>\n",
       "      <td>92611</td>\n",
       "      <td>4.43</td>\n",
       "    </tr>\n",
       "    <tr>\n",
       "      <th>4</th>\n",
       "      <td>5-fuazd1775A2058</td>\n",
       "      <td>5</td>\n",
       "      <td>5-fu</td>\n",
       "      <td>azd1775</td>\n",
       "      <td>A2058</td>\n",
       "      <td>12.29</td>\n",
       "      <td>15.77</td>\n",
       "      <td>10.40</td>\n",
       "      <td>341293</td>\n",
       "      <td>18.66</td>\n",
       "    </tr>\n",
       "  </tbody>\n",
       "</table>\n",
       "</div>"
      ],
      "text/plain": [
       "         drug_drug2  ID Drug1    Drug2 Cell line    ZIP  Bliss  Loewe   index  \\\n",
       "0  5-fuabt-888A2058   1  5-fu  abt-888     A2058   1.72   6.26  -2.75   92611   \n",
       "1  5-fuabt-888A2058   2  5-fu  abt-888     A2058   5.88  12.33   3.33   92611   \n",
       "2  5-fuabt-888A2058   3  5-fu  abt-888     A2058   3.59  11.66   2.65   92611   \n",
       "3  5-fuabt-888A2058   4  5-fu  abt-888     A2058  -0.85   5.15  -3.86   92611   \n",
       "4  5-fuazd1775A2058   5  5-fu  azd1775     A2058  12.29  15.77  10.40  341293   \n",
       "\n",
       "     HSA  \n",
       "0   5.54  \n",
       "1  11.61  \n",
       "2  10.94  \n",
       "3   4.43  \n",
       "4  18.66  "
      ]
     },
     "execution_count": 5,
     "metadata": {},
     "output_type": "execute_result"
    }
   ],
   "source": [
    "#get the 2 new columns to the beginning\n",
    "cols = data.columns.tolist()\n",
    "cols = cols[-2:] + cols[:-2]\n",
    "cols = cols[0:1] + cols[2:9] + cols[1:2] + cols[9:]\n",
    "data = data[cols]\n",
    "data.head()"
   ]
  },
  {
   "cell_type": "markdown",
   "id": "ac555c56-bd59-4bf6-be04-ffcfc8b8f06f",
   "metadata": {},
   "source": [
    "##### Deal with duplicates"
   ]
  },
  {
   "cell_type": "code",
   "execution_count": 6,
   "id": "a4d7b160-b153-417e-ac50-909ed4e56ba1",
   "metadata": {},
   "outputs": [
    {
     "name": "stdout",
     "output_type": "stream",
     "text": [
      "In this dataset there are\n",
      "405745  drug-drug-cell combinations\n",
      "that have only been tested once\n",
      "\n",
      " additionally there are less than  46554.5  combinations that are tested more than once\n"
     ]
    }
   ],
   "source": [
    "print(\"In this dataset there are\")\n",
    "print(len(data[\"index\"].unique()), \" drug-drug-cell combinations\")\n",
    "print(\"that have only been tested once\")\n",
    "print(\"\\n\",\"additionally there are less than \",sum(data[\"index\"].duplicated())/2,\" combinations that are tested more than once\")"
   ]
  },
  {
   "cell_type": "code",
   "execution_count": 7,
   "id": "a8100518-18bb-4095-b3d4-bdebc388054d",
   "metadata": {},
   "outputs": [
    {
     "name": "stdout",
     "output_type": "stream",
     "text": [
      "total indices  5000\n",
      "total indices  10000\n",
      "total indices  15000\n",
      "total indices  20000\n",
      "total indices  25000\n",
      "total indices  30000\n",
      "total indices  35000\n",
      "total indices  40000\n"
     ]
    }
   ],
   "source": [
    "%%capture --no-stdout\n",
    "\n",
    "countDuplikates = []\n",
    "i=0\n",
    "\n",
    "\n",
    "for comb in set(data[data[\"index\"].duplicated()][\"index\"]):\n",
    "    \n",
    "    subdf = data[data[\"index\"]==comb]\n",
    "    i+=1\n",
    "\n",
    "    #time measurement\n",
    "    if i%5000 == 0:\n",
    "        try:\n",
    "            print(\"total indices \",i)\n",
    "        except:\n",
    "            print(\"some error\")\n",
    "    \n",
    "    # for later statistics\n",
    "    countDuplikates.append(len(subdf))\n",
    "    \n",
    "    # compute mean of each series of experiements & set it as values for the first occurence. I'll drop the rest later\n",
    "    means = np.mean(subdf)\n",
    "    data[\"HSA\"][subdf.iloc[0][\"ID\"]-1] = means[\"HSA\"]\n",
    "    data[\"ZIP\"][subdf.iloc[0][\"ID\"]-1] = means[\"ZIP\"]\n",
    "    data[\"Bliss\"][subdf.iloc[0][\"ID\"]-1] = means[\"Bliss\"]\n",
    "    data[\"Loewe\"][subdf.iloc[0][\"ID\"]-1] = means[\"Loewe\"]"
   ]
  },
  {
   "cell_type": "code",
   "execution_count": 8,
   "id": "732e552e-2d53-4ca2-afee-1c165b5dce7a",
   "metadata": {},
   "outputs": [],
   "source": [
    "data = data.drop_duplicates(subset=\"index\",keep=\"first\")"
   ]
  },
  {
   "cell_type": "code",
   "execution_count": 13,
   "id": "2f8fc290-8c79-4483-b138-12a382714477",
   "metadata": {},
   "outputs": [
    {
     "data": {
      "text/html": [
       "<div>\n",
       "<style scoped>\n",
       "    .dataframe tbody tr th:only-of-type {\n",
       "        vertical-align: middle;\n",
       "    }\n",
       "\n",
       "    .dataframe tbody tr th {\n",
       "        vertical-align: top;\n",
       "    }\n",
       "\n",
       "    .dataframe thead th {\n",
       "        text-align: right;\n",
       "    }\n",
       "</style>\n",
       "<table border=\"1\" class=\"dataframe\">\n",
       "  <thead>\n",
       "    <tr style=\"text-align: right;\">\n",
       "      <th></th>\n",
       "      <th>ID</th>\n",
       "      <th>Drug1</th>\n",
       "      <th>Drug2</th>\n",
       "      <th>Cell line</th>\n",
       "      <th>ZIP</th>\n",
       "      <th>Bliss</th>\n",
       "      <th>Loewe</th>\n",
       "      <th>HSA</th>\n",
       "    </tr>\n",
       "  </thead>\n",
       "  <tbody>\n",
       "    <tr>\n",
       "      <th>0</th>\n",
       "      <td>1</td>\n",
       "      <td>5-fu</td>\n",
       "      <td>abt-888</td>\n",
       "      <td>A2058</td>\n",
       "      <td>2.5850</td>\n",
       "      <td>8.8500</td>\n",
       "      <td>-0.1575</td>\n",
       "      <td>8.1300</td>\n",
       "    </tr>\n",
       "    <tr>\n",
       "      <th>4</th>\n",
       "      <td>5</td>\n",
       "      <td>5-fu</td>\n",
       "      <td>azd1775</td>\n",
       "      <td>A2058</td>\n",
       "      <td>9.8175</td>\n",
       "      <td>11.2075</td>\n",
       "      <td>5.8375</td>\n",
       "      <td>14.0975</td>\n",
       "    </tr>\n",
       "  </tbody>\n",
       "</table>\n",
       "</div>"
      ],
      "text/plain": [
       "   ID Drug1    Drug2 Cell line     ZIP    Bliss   Loewe      HSA\n",
       "0   1  5-fu  abt-888     A2058  2.5850   8.8500 -0.1575   8.1300\n",
       "4   5  5-fu  azd1775     A2058  9.8175  11.2075  5.8375  14.0975"
      ]
     },
     "execution_count": 13,
     "metadata": {},
     "output_type": "execute_result"
    }
   ],
   "source": [
    "data.drop(columns=[\"drug_drug2\",\"index\"],inplace=True)\n",
    "data.head(2)"
   ]
  },
  {
   "cell_type": "markdown",
   "id": "55eaddd6-7dd3-496a-81dc-65770a36a823",
   "metadata": {},
   "source": [
    "Here I can now drop the drug1_drug2 combs and renew it for scoring purposes"
   ]
  },
  {
   "cell_type": "code",
   "execution_count": 35,
   "id": "8868aaac-0eeb-407b-8d2d-e199d7333c64",
   "metadata": {},
   "outputs": [
    {
     "data": {
      "text/html": [
       "<div>\n",
       "<style scoped>\n",
       "    .dataframe tbody tr th:only-of-type {\n",
       "        vertical-align: middle;\n",
       "    }\n",
       "\n",
       "    .dataframe tbody tr th {\n",
       "        vertical-align: top;\n",
       "    }\n",
       "\n",
       "    .dataframe thead th {\n",
       "        text-align: right;\n",
       "    }\n",
       "</style>\n",
       "<table border=\"1\" class=\"dataframe\">\n",
       "  <thead>\n",
       "    <tr style=\"text-align: right;\">\n",
       "      <th></th>\n",
       "      <th>ID</th>\n",
       "      <th>Drug1</th>\n",
       "      <th>Drug2</th>\n",
       "      <th>Cell line</th>\n",
       "      <th>ZIP</th>\n",
       "      <th>Bliss</th>\n",
       "      <th>Loewe</th>\n",
       "      <th>HSA</th>\n",
       "      <th>drugConc</th>\n",
       "      <th>index</th>\n",
       "    </tr>\n",
       "  </thead>\n",
       "  <tbody>\n",
       "    <tr>\n",
       "      <th>0</th>\n",
       "      <td>1</td>\n",
       "      <td>5-fu</td>\n",
       "      <td>abt-888</td>\n",
       "      <td>A2058</td>\n",
       "      <td>2.5850</td>\n",
       "      <td>8.8500</td>\n",
       "      <td>-0.1575</td>\n",
       "      <td>8.1300</td>\n",
       "      <td>5-fuabt-888</td>\n",
       "      <td>62797</td>\n",
       "    </tr>\n",
       "    <tr>\n",
       "      <th>1</th>\n",
       "      <td>5</td>\n",
       "      <td>5-fu</td>\n",
       "      <td>azd1775</td>\n",
       "      <td>A2058</td>\n",
       "      <td>9.8175</td>\n",
       "      <td>11.2075</td>\n",
       "      <td>5.8375</td>\n",
       "      <td>14.0975</td>\n",
       "      <td>5-fuazd1775</td>\n",
       "      <td>36325</td>\n",
       "    </tr>\n",
       "  </tbody>\n",
       "</table>\n",
       "</div>"
      ],
      "text/plain": [
       "   ID Drug1    Drug2 Cell line     ZIP    Bliss   Loewe      HSA     drugConc  \\\n",
       "0   1  5-fu  abt-888     A2058  2.5850   8.8500 -0.1575   8.1300  5-fuabt-888   \n",
       "1   5  5-fu  azd1775     A2058  9.8175  11.2075  5.8375  14.0975  5-fuazd1775   \n",
       "\n",
       "   index  \n",
       "0  62797  \n",
       "1  36325  "
      ]
     },
     "execution_count": 35,
     "metadata": {},
     "output_type": "execute_result"
    }
   ],
   "source": [
    "# concatenate Drug1 and 2 alphabetically\n",
    "sorted_conc_drugs2=[]\n",
    "for row in range(len(data)):\n",
    "    d1 = data.iloc[row][\"Drug1\"]\n",
    "    d2 = data.iloc[row][\"Drug2\"]\n",
    "    if d1 < d2:\n",
    "        sorted_conc_drugs2.append(d1+d2)\n",
    "    else:\n",
    "        sorted_conc_drugs2.append(d2+d1)\n",
    "sorted_conc_drugs2 = pd.Series(sorted_conc_drugs2)\n",
    "\n",
    "# attach the joined names to the dataframe\n",
    "numerator = pd.DataFrame(list(set(sorted_conc_drugs2)))\n",
    "numerator.reset_index(inplace=True)\n",
    "\n",
    "data.reset_index(drop=True,inplace=True)\n",
    "\n",
    "data['drugConc'] = sorted_conc_drugs2\n",
    "data = data.join(numerator.set_index(0),on=\"drugConc\",how=\"left\")\n",
    "\n",
    "data.head(2)"
   ]
  },
  {
   "cell_type": "code",
   "execution_count": 52,
   "id": "09c91c19-7314-4d8d-85b3-35b04f588a9c",
   "metadata": {},
   "outputs": [
    {
     "data": {
      "text/html": [
       "<div>\n",
       "<style scoped>\n",
       "    .dataframe tbody tr th:only-of-type {\n",
       "        vertical-align: middle;\n",
       "    }\n",
       "\n",
       "    .dataframe tbody tr th {\n",
       "        vertical-align: top;\n",
       "    }\n",
       "\n",
       "    .dataframe thead th {\n",
       "        text-align: right;\n",
       "    }\n",
       "</style>\n",
       "<table border=\"1\" class=\"dataframe\">\n",
       "  <thead>\n",
       "    <tr style=\"text-align: right;\">\n",
       "      <th></th>\n",
       "      <th>drugConc</th>\n",
       "      <th>ID</th>\n",
       "      <th>Drug1</th>\n",
       "      <th>Drug2</th>\n",
       "      <th>Cell line</th>\n",
       "      <th>ZIP</th>\n",
       "      <th>Bliss</th>\n",
       "      <th>Loewe</th>\n",
       "      <th>HSA</th>\n",
       "      <th>index</th>\n",
       "    </tr>\n",
       "  </thead>\n",
       "  <tbody>\n",
       "    <tr>\n",
       "      <th>0</th>\n",
       "      <td>5-fuabt-888</td>\n",
       "      <td>1</td>\n",
       "      <td>5-fu</td>\n",
       "      <td>abt-888</td>\n",
       "      <td>A2058</td>\n",
       "      <td>2.5850</td>\n",
       "      <td>8.8500</td>\n",
       "      <td>-0.1575</td>\n",
       "      <td>8.1300</td>\n",
       "      <td>62797</td>\n",
       "    </tr>\n",
       "    <tr>\n",
       "      <th>1</th>\n",
       "      <td>5-fuazd1775</td>\n",
       "      <td>5</td>\n",
       "      <td>5-fu</td>\n",
       "      <td>azd1775</td>\n",
       "      <td>A2058</td>\n",
       "      <td>9.8175</td>\n",
       "      <td>11.2075</td>\n",
       "      <td>5.8375</td>\n",
       "      <td>14.0975</td>\n",
       "      <td>36325</td>\n",
       "    </tr>\n",
       "  </tbody>\n",
       "</table>\n",
       "</div>"
      ],
      "text/plain": [
       "      drugConc  ID Drug1    Drug2 Cell line     ZIP    Bliss   Loewe      HSA  \\\n",
       "0  5-fuabt-888   1  5-fu  abt-888     A2058  2.5850   8.8500 -0.1575   8.1300   \n",
       "1  5-fuazd1775   5  5-fu  azd1775     A2058  9.8175  11.2075  5.8375  14.0975   \n",
       "\n",
       "   index  \n",
       "0  62797  \n",
       "1  36325  "
      ]
     },
     "execution_count": 52,
     "metadata": {},
     "output_type": "execute_result"
    }
   ],
   "source": [
    "#get the 2 new columns to the beginning\n",
    "cols = data.columns.tolist()\n",
    "cols = cols[-2:-1] + cols[:-2] + cols[-1:]\n",
    "data = data[cols]\n",
    "data.head(2)"
   ]
  },
  {
   "cell_type": "code",
   "execution_count": 53,
   "id": "f0733402-fb48-4f21-bf8b-b619cf9657e6",
   "metadata": {},
   "outputs": [],
   "source": [
    "with open('./intermediate-pickles-scoring2/data2.pkl', 'wb') as outp:\n",
    "    pkl.dump(data, outp)"
   ]
  },
  {
   "cell_type": "markdown",
   "id": "99143b58-04a2-475f-9b26-ccfd5f30d675",
   "metadata": {},
   "source": [
    "##### Some Visualisations on the HSA distributions\n",
    "-one source with remarkable pattern<br>\n",
    "-last sources with extreme values"
   ]
  },
  {
   "cell_type": "code",
   "execution_count": 39,
   "id": "565f473f-8c89-4378-bb5b-0693e6b20dc8",
   "metadata": {},
   "outputs": [
    {
     "data": {
      "text/plain": [
       "Text(0.5, 1.0, 'Zoom in on CLOUD data')"
      ]
     },
     "execution_count": 39,
     "metadata": {},
     "output_type": "execute_result"
    },
    {
     "data": {
      "image/png": "[encoded data removed]",
      "text/plain": [
       "<Figure size 432x288 with 4 Axes>"
      ]
     },
     "metadata": {
      "needs_background": "light"
     },
     "output_type": "display_data"
    }
   ],
   "source": [
    "import matplotlib.pyplot as plt\n",
    "\n",
    "figure, axis = plt.subplots(2, 2)\n",
    "\n",
    "axis[0, 0].plot(data[\"HSA\"])\n",
    "axis[0, 0].set_title(\"All HSA scores\")\n",
    "\n",
    "axis[0, 1].plot(data[\"HSA\"][0:370000])\n",
    "axis[0, 0].set_title(\"All except the last ones\")\n",
    "\n",
    "axis[1, 1].plot(data[\"HSA\"][20000:70000]) #source: Cloud\n",
    "axis[0, 0].set_title(\"Only the last ones\")\n",
    "\n",
    "axis[1, 0].plot(data[\"HSA\"][370000:])\n",
    "axis[1, 1].set_title(\"Zoom in on CLOUD data\")"
   ]
  },
  {
   "cell_type": "code",
   "execution_count": 40,
   "id": "d1ad137d-16f8-4eaa-a45f-d0a94c06a030",
   "metadata": {},
   "outputs": [
    {
     "name": "stdout",
     "output_type": "stream",
     "text": [
      "84.31\n",
      "-87.82\n"
     ]
    },
    {
     "data": {
      "text/plain": [
       "(array([   301.,    348.,    991.,   4740., 131711., 222504.,   7459.,\n",
       "          1239.,    452.,    255.]),\n",
       " array([-87.82 , -70.607, -53.394, -36.181, -18.968,  -1.755,  15.458,\n",
       "         32.671,  49.884,  67.097,  84.31 ]),\n",
       " <BarContainer object of 10 artists>)"
      ]
     },
     "execution_count": 40,
     "metadata": {},
     "output_type": "execute_result"
    },
    {
     "data": {
      "image/png": "[encoded data removed]",
      "text/plain": [
       "<Figure size 432x288 with 1 Axes>"
      ]
     },
     "metadata": {
      "needs_background": "light"
     },
     "output_type": "display_data"
    }
   ],
   "source": [
    "print(max(data[\"HSA\"][0:370000]))\n",
    "print(min(data[\"HSA\"][0:370000]))\n",
    "\n",
    "plt.hist(data[\"HSA\"][0:370000])\n"
   ]
  },
  {
   "cell_type": "code",
   "execution_count": 113,
   "id": "89babc9e-f3e5-4457-834b-4ed4abfadbf1",
   "metadata": {},
   "outputs": [
    {
     "data": {
      "text/plain": [
       "(array([  30.,   82.,  104.,  173.,  315.,  579., 1676., 4279., 2093.,\n",
       "         669.]),\n",
       " array([-77.23 , -66.439, -55.648, -44.857, -34.066, -23.275, -12.484,\n",
       "         -1.693,   9.098,  19.889,  30.68 ]),\n",
       " <BarContainer object of 10 artists>)"
      ]
     },
     "execution_count": 113,
     "metadata": {},
     "output_type": "execute_result"
    },
    {
     "data": {
      "image/png": "[encoded data removed]",
      "text/plain": [
       "<Figure size 432x288 with 1 Axes>"
      ]
     },
     "metadata": {
      "needs_background": "light"
     },
     "output_type": "display_data"
    }
   ],
   "source": [
    "plt.hist(data[\"HSA\"][40000:50000])"
   ]
  },
  {
   "cell_type": "markdown",
   "id": "e98f6889-4ebb-4736-b556-7da83e26b01d",
   "metadata": {},
   "source": [
    "##### Adding source column\n",
    "we see the extreme HSAs (85+ exclusively come from places where there is no source<br>\n",
    "additionally many of the higher values within this range are from \"CLOUD\"<br>"
   ]
  },
  {
   "cell_type": "code",
   "execution_count": 54,
   "id": "832957c6-dd1d-463d-bd19-aeec4c228c72",
   "metadata": {},
   "outputs": [],
   "source": [
    "sourcesData = pd.read_csv(\"../drugCombDBdata/drugcombs_response.csv\")\n",
    "groupedData = sourcesData.groupby(\"BlockID\").first()"
   ]
  },
  {
   "cell_type": "code",
   "execution_count": 55,
   "id": "be372cc6-349c-4ee0-a09c-ceafae0cff6f",
   "metadata": {},
   "outputs": [
    {
     "data": {
      "text/html": [
       "<div>\n",
       "<style scoped>\n",
       "    .dataframe tbody tr th:only-of-type {\n",
       "        vertical-align: middle;\n",
       "    }\n",
       "\n",
       "    .dataframe tbody tr th {\n",
       "        vertical-align: top;\n",
       "    }\n",
       "\n",
       "    .dataframe thead th {\n",
       "        text-align: right;\n",
       "    }\n",
       "</style>\n",
       "<table border=\"1\" class=\"dataframe\">\n",
       "  <thead>\n",
       "    <tr style=\"text-align: right;\">\n",
       "      <th></th>\n",
       "      <th>source</th>\n",
       "      <th>DrugRow</th>\n",
       "      <th>DrugCol</th>\n",
       "    </tr>\n",
       "    <tr>\n",
       "      <th>BlockID</th>\n",
       "      <th></th>\n",
       "      <th></th>\n",
       "      <th></th>\n",
       "    </tr>\n",
       "  </thead>\n",
       "  <tbody>\n",
       "    <tr>\n",
       "      <th>1</th>\n",
       "      <td>ONEIL</td>\n",
       "      <td>5-FU</td>\n",
       "      <td>ABT-888</td>\n",
       "    </tr>\n",
       "    <tr>\n",
       "      <th>2</th>\n",
       "      <td>ONEIL</td>\n",
       "      <td>5-FU</td>\n",
       "      <td>ABT-888</td>\n",
       "    </tr>\n",
       "  </tbody>\n",
       "</table>\n",
       "</div>"
      ],
      "text/plain": [
       "        source DrugRow  DrugCol\n",
       "BlockID                        \n",
       "1        ONEIL    5-FU  ABT-888\n",
       "2        ONEIL    5-FU  ABT-888"
      ]
     },
     "execution_count": 55,
     "metadata": {},
     "output_type": "execute_result"
    }
   ],
   "source": [
    "sourceToJoin = groupedData[[\"source\",\"DrugRow\",\"DrugCol\"]]\n",
    "sourceToJoin.rename(columns={\"DrugRow\":\"Control DrugRow\",\"DrugCol\":\"Control DrugCol\"})\n",
    "sourceToJoin.head(2)"
   ]
  },
  {
   "cell_type": "code",
   "execution_count": 56,
   "id": "15db278a-f371-4ac0-b189-9fdb0b331fdc",
   "metadata": {},
   "outputs": [],
   "source": [
    "dataWithSource = data.join(sourceToJoin,on=\"ID\",how=\"left\")\n",
    "dataWithSource = dataWithSource.dropna(subset=[\"source\"])"
   ]
  },
  {
   "cell_type": "code",
   "execution_count": 57,
   "id": "152e783b-14af-4d07-b27f-ca0dc730cbfb",
   "metadata": {},
   "outputs": [
    {
     "data": {
      "text/html": [
       "<div>\n",
       "<style scoped>\n",
       "    .dataframe tbody tr th:only-of-type {\n",
       "        vertical-align: middle;\n",
       "    }\n",
       "\n",
       "    .dataframe tbody tr th {\n",
       "        vertical-align: top;\n",
       "    }\n",
       "\n",
       "    .dataframe thead th {\n",
       "        text-align: right;\n",
       "    }\n",
       "</style>\n",
       "<table border=\"1\" class=\"dataframe\">\n",
       "  <thead>\n",
       "    <tr style=\"text-align: right;\">\n",
       "      <th></th>\n",
       "      <th>drugConc</th>\n",
       "      <th>ID</th>\n",
       "      <th>Drug1</th>\n",
       "      <th>Drug2</th>\n",
       "      <th>Cell line</th>\n",
       "      <th>ZIP</th>\n",
       "      <th>Bliss</th>\n",
       "      <th>Loewe</th>\n",
       "      <th>HSA</th>\n",
       "      <th>index</th>\n",
       "      <th>source</th>\n",
       "      <th>DrugRow</th>\n",
       "      <th>DrugCol</th>\n",
       "    </tr>\n",
       "  </thead>\n",
       "  <tbody>\n",
       "    <tr>\n",
       "      <th>181541</th>\n",
       "      <td>sorafenibtriethylenemelamine</td>\n",
       "      <td>252817</td>\n",
       "      <td>triethylenemelamine</td>\n",
       "      <td>sorafenib</td>\n",
       "      <td>NCI-H322M</td>\n",
       "      <td>-35.5500</td>\n",
       "      <td>-77.0700</td>\n",
       "      <td>-81.890</td>\n",
       "      <td>-81.7500</td>\n",
       "      <td>67809</td>\n",
       "      <td>ALMANAC</td>\n",
       "      <td>TRIETHYLENEMELAMINE</td>\n",
       "      <td>SORAFENIB</td>\n",
       "    </tr>\n",
       "    <tr>\n",
       "      <th>101284</th>\n",
       "      <td>nsc 85998thalidomide</td>\n",
       "      <td>171284</td>\n",
       "      <td>thalidomide</td>\n",
       "      <td>nsc 85998</td>\n",
       "      <td>MOLT-4</td>\n",
       "      <td>-19.5500</td>\n",
       "      <td>-60.6900</td>\n",
       "      <td>-80.860</td>\n",
       "      <td>-80.8600</td>\n",
       "      <td>52794</td>\n",
       "      <td>ALMANAC</td>\n",
       "      <td>THALIDOMIDE</td>\n",
       "      <td>NSC 85998</td>\n",
       "    </tr>\n",
       "    <tr>\n",
       "      <th>119142</th>\n",
       "      <td>nsc 85998thalidomide</td>\n",
       "      <td>189350</td>\n",
       "      <td>thalidomide</td>\n",
       "      <td>nsc 85998</td>\n",
       "      <td>HL-60(TB)</td>\n",
       "      <td>-24.0300</td>\n",
       "      <td>-61.3000</td>\n",
       "      <td>-77.870</td>\n",
       "      <td>-77.8700</td>\n",
       "      <td>52794</td>\n",
       "      <td>ALMANAC</td>\n",
       "      <td>THALIDOMIDE</td>\n",
       "      <td>NSC 85998</td>\n",
       "    </tr>\n",
       "    <tr>\n",
       "      <th>10744</th>\n",
       "      <td>mk-8776paclitaxel</td>\n",
       "      <td>42977</td>\n",
       "      <td>paclitaxel</td>\n",
       "      <td>mk-8776</td>\n",
       "      <td>NCIH2122</td>\n",
       "      <td>-25.1800</td>\n",
       "      <td>-79.5925</td>\n",
       "      <td>-81.175</td>\n",
       "      <td>-76.5725</td>\n",
       "      <td>22124</td>\n",
       "      <td>ONEIL</td>\n",
       "      <td>PACLITAXEL</td>\n",
       "      <td>MK-8776</td>\n",
       "    </tr>\n",
       "    <tr>\n",
       "      <th>10737</th>\n",
       "      <td>geldanamycinpaclitaxel</td>\n",
       "      <td>42949</td>\n",
       "      <td>paclitaxel</td>\n",
       "      <td>geldanamycin</td>\n",
       "      <td>NCIH2122</td>\n",
       "      <td>-23.5575</td>\n",
       "      <td>-78.7075</td>\n",
       "      <td>-80.740</td>\n",
       "      <td>-75.4975</td>\n",
       "      <td>76594</td>\n",
       "      <td>ONEIL</td>\n",
       "      <td>PACLITAXEL</td>\n",
       "      <td>GELDANAMYCIN</td>\n",
       "    </tr>\n",
       "    <tr>\n",
       "      <th>...</th>\n",
       "      <td>...</td>\n",
       "      <td>...</td>\n",
       "      <td>...</td>\n",
       "      <td>...</td>\n",
       "      <td>...</td>\n",
       "      <td>...</td>\n",
       "      <td>...</td>\n",
       "      <td>...</td>\n",
       "      <td>...</td>\n",
       "      <td>...</td>\n",
       "      <td>...</td>\n",
       "      <td>...</td>\n",
       "      <td>...</td>\n",
       "    </tr>\n",
       "    <tr>\n",
       "      <th>168743</th>\n",
       "      <td>mitomycinensc 85998</td>\n",
       "      <td>239752</td>\n",
       "      <td>nsc 85998</td>\n",
       "      <td>mitomycine</td>\n",
       "      <td>NCI-H460</td>\n",
       "      <td>58.4900</td>\n",
       "      <td>56.7900</td>\n",
       "      <td>56.410</td>\n",
       "      <td>55.2900</td>\n",
       "      <td>72768</td>\n",
       "      <td>ALMANAC</td>\n",
       "      <td>NSC 85998</td>\n",
       "      <td>MITOMYCINE</td>\n",
       "    </tr>\n",
       "    <tr>\n",
       "      <th>274553</th>\n",
       "      <td>actinomycin dmegestrol acetate</td>\n",
       "      <td>347726</td>\n",
       "      <td>megestrol acetate</td>\n",
       "      <td>actinomycin d</td>\n",
       "      <td>SR</td>\n",
       "      <td>60.4200</td>\n",
       "      <td>55.8700</td>\n",
       "      <td>36.840</td>\n",
       "      <td>55.7300</td>\n",
       "      <td>34621</td>\n",
       "      <td>ALMANAC</td>\n",
       "      <td>MEGESTROL ACETATE</td>\n",
       "      <td>ACTINOMYCIN D</td>\n",
       "    </tr>\n",
       "    <tr>\n",
       "      <th>156990</th>\n",
       "      <td>mitomycinethalidomide</td>\n",
       "      <td>227776</td>\n",
       "      <td>thalidomide</td>\n",
       "      <td>mitomycine</td>\n",
       "      <td>NCI-H460</td>\n",
       "      <td>60.3800</td>\n",
       "      <td>59.5100</td>\n",
       "      <td>59.710</td>\n",
       "      <td>58.3200</td>\n",
       "      <td>26076</td>\n",
       "      <td>ALMANAC</td>\n",
       "      <td>THALIDOMIDE</td>\n",
       "      <td>MITOMYCINE</td>\n",
       "    </tr>\n",
       "    <tr>\n",
       "      <th>286055</th>\n",
       "      <td>actinomycin dvemurafenib</td>\n",
       "      <td>359467</td>\n",
       "      <td>vemurafenib</td>\n",
       "      <td>actinomycin d</td>\n",
       "      <td>MOLT-4</td>\n",
       "      <td>66.6300</td>\n",
       "      <td>65.6800</td>\n",
       "      <td>58.120</td>\n",
       "      <td>63.3200</td>\n",
       "      <td>65184</td>\n",
       "      <td>ALMANAC</td>\n",
       "      <td>VEMURAFENIB</td>\n",
       "      <td>ACTINOMYCIN D</td>\n",
       "    </tr>\n",
       "    <tr>\n",
       "      <th>139676</th>\n",
       "      <td>bortezomiberlotinib hydrochloride</td>\n",
       "      <td>210166</td>\n",
       "      <td>erlotinib hydrochloride</td>\n",
       "      <td>bortezomib</td>\n",
       "      <td>RXF 393</td>\n",
       "      <td>64.6900</td>\n",
       "      <td>65.1900</td>\n",
       "      <td>63.460</td>\n",
       "      <td>64.2900</td>\n",
       "      <td>54784</td>\n",
       "      <td>ALMANAC</td>\n",
       "      <td>ERLOTINIB HYDROCHLORIDE</td>\n",
       "      <td>BORTEZOMIB</td>\n",
       "    </tr>\n",
       "  </tbody>\n",
       "</table>\n",
       "<p>246407 rows × 13 columns</p>\n",
       "</div>"
      ],
      "text/plain": [
       "                                 drugConc      ID                    Drug1  \\\n",
       "181541       sorafenibtriethylenemelamine  252817      triethylenemelamine   \n",
       "101284               nsc 85998thalidomide  171284              thalidomide   \n",
       "119142               nsc 85998thalidomide  189350              thalidomide   \n",
       "10744                   mk-8776paclitaxel   42977               paclitaxel   \n",
       "10737              geldanamycinpaclitaxel   42949               paclitaxel   \n",
       "...                                   ...     ...                      ...   \n",
       "168743                mitomycinensc 85998  239752                nsc 85998   \n",
       "274553     actinomycin dmegestrol acetate  347726        megestrol acetate   \n",
       "156990              mitomycinethalidomide  227776              thalidomide   \n",
       "286055           actinomycin dvemurafenib  359467              vemurafenib   \n",
       "139676  bortezomiberlotinib hydrochloride  210166  erlotinib hydrochloride   \n",
       "\n",
       "                Drug2  Cell line      ZIP    Bliss   Loewe      HSA  index  \\\n",
       "181541      sorafenib  NCI-H322M -35.5500 -77.0700 -81.890 -81.7500  67809   \n",
       "101284      nsc 85998     MOLT-4 -19.5500 -60.6900 -80.860 -80.8600  52794   \n",
       "119142      nsc 85998  HL-60(TB) -24.0300 -61.3000 -77.870 -77.8700  52794   \n",
       "10744         mk-8776   NCIH2122 -25.1800 -79.5925 -81.175 -76.5725  22124   \n",
       "10737    geldanamycin   NCIH2122 -23.5575 -78.7075 -80.740 -75.4975  76594   \n",
       "...               ...        ...      ...      ...     ...      ...    ...   \n",
       "168743     mitomycine   NCI-H460  58.4900  56.7900  56.410  55.2900  72768   \n",
       "274553  actinomycin d         SR  60.4200  55.8700  36.840  55.7300  34621   \n",
       "156990     mitomycine   NCI-H460  60.3800  59.5100  59.710  58.3200  26076   \n",
       "286055  actinomycin d     MOLT-4  66.6300  65.6800  58.120  63.3200  65184   \n",
       "139676     bortezomib    RXF 393  64.6900  65.1900  63.460  64.2900  54784   \n",
       "\n",
       "         source                  DrugRow        DrugCol  \n",
       "181541  ALMANAC      TRIETHYLENEMELAMINE      SORAFENIB  \n",
       "101284  ALMANAC              THALIDOMIDE      NSC 85998  \n",
       "119142  ALMANAC              THALIDOMIDE      NSC 85998  \n",
       "10744     ONEIL               PACLITAXEL        MK-8776  \n",
       "10737     ONEIL               PACLITAXEL   GELDANAMYCIN  \n",
       "...         ...                      ...            ...  \n",
       "168743  ALMANAC                NSC 85998     MITOMYCINE  \n",
       "274553  ALMANAC        MEGESTROL ACETATE  ACTINOMYCIN D  \n",
       "156990  ALMANAC              THALIDOMIDE     MITOMYCINE  \n",
       "286055  ALMANAC              VEMURAFENIB  ACTINOMYCIN D  \n",
       "139676  ALMANAC  ERLOTINIB HYDROCHLORIDE     BORTEZOMIB  \n",
       "\n",
       "[246407 rows x 13 columns]"
      ]
     },
     "execution_count": 57,
     "metadata": {},
     "output_type": "execute_result"
    }
   ],
   "source": [
    "dataWithSource[dataWithSource[\"source\"]!=\"CLOUD\"].sort_values(by=\"HSA\")"
   ]
  },
  {
   "cell_type": "markdown",
   "id": "acee5cd4-a14b-4d7b-b5d4-3dfef76a1b8c",
   "metadata": {},
   "source": [
    "##### Conclusion\n",
    "I now will proceed doing everything with 2 datasets:<br>\n",
    "data1 ... only the ones with source information and source != CLOUD <br>\n",
    "data2 ... everything but cut-off at 85 <br>"
   ]
  },
  {
   "cell_type": "code",
   "execution_count": 58,
   "id": "97a21746-e75e-48c0-a331-e4239f4388a2",
   "metadata": {},
   "outputs": [],
   "source": [
    "data1 = dataWithSource[dataWithSource[\"source\"]!=\"CLOUD\"].drop(columns=[\"DrugRow\",\"DrugCol\"])"
   ]
  },
  {
   "cell_type": "code",
   "execution_count": 59,
   "id": "0dc34d30-4f93-45ce-a6d7-e216786f83c3",
   "metadata": {},
   "outputs": [],
   "source": [
    "with open('./intermediate-pickles-scoring2/dataWithSource.pkl', 'wb') as outp:\n",
    "    pkl.dump(data1, outp)"
   ]
  },
  {
   "cell_type": "markdown",
   "id": "ab046ee4-323b-4f59-b5a2-b7b33776ca13",
   "metadata": {},
   "source": [
    "#### 2. Joining"
   ]
  },
  {
   "cell_type": "code",
   "execution_count": 10,
   "id": "45fa71e5-c910-42b6-bf2f-21092f1b7ab3",
   "metadata": {},
   "outputs": [],
   "source": [
    "with open('./intermediate-pickles-scoring2/dataWithSource.pkl', 'rb') as inp:\n",
    "    data1 = pkl.load(inp)\n",
    "with open('./intermediate-pickles-scoring2/data2.pkl', 'rb') as inp:\n",
    "    data2 = pkl.load(inp)"
   ]
  },
  {
   "cell_type": "code",
   "execution_count": null,
   "id": "4f0e62a6-b59f-4c03-b5c2-298c3c61449c",
   "metadata": {},
   "outputs": [],
   "source": []
  },
  {
   "cell_type": "code",
   "execution_count": 15,
   "id": "d2b83356-44b5-45ef-8116-c3258808e9c4",
   "metadata": {},
   "outputs": [],
   "source": [
    "data2 = data2[data2[\"HSA\"]<84.4]"
   ]
  },
  {
   "cell_type": "code",
   "execution_count": 16,
   "id": "bf9fb6cd-6c7f-43cb-bf29-979b8e4ab7f6",
   "metadata": {},
   "outputs": [
    {
     "name": "stdout",
     "output_type": "stream",
     "text": [
      "492814  records in first frame\n",
      "811376  records in second frame\n"
     ]
    },
    {
     "data": {
      "text/html": [
       "<div>\n",
       "<style scoped>\n",
       "    .dataframe tbody tr th:only-of-type {\n",
       "        vertical-align: middle;\n",
       "    }\n",
       "\n",
       "    .dataframe tbody tr th {\n",
       "        vertical-align: top;\n",
       "    }\n",
       "\n",
       "    .dataframe thead th {\n",
       "        text-align: right;\n",
       "    }\n",
       "</style>\n",
       "<table border=\"1\" class=\"dataframe\">\n",
       "  <thead>\n",
       "    <tr style=\"text-align: right;\">\n",
       "      <th></th>\n",
       "      <th>drugConc</th>\n",
       "      <th>ID</th>\n",
       "      <th>Drug1</th>\n",
       "      <th>Drug2</th>\n",
       "      <th>Cell line</th>\n",
       "      <th>ZIP</th>\n",
       "      <th>Bliss</th>\n",
       "      <th>Loewe</th>\n",
       "      <th>HSA</th>\n",
       "      <th>index</th>\n",
       "      <th>source</th>\n",
       "    </tr>\n",
       "  </thead>\n",
       "  <tbody>\n",
       "    <tr>\n",
       "      <th>0</th>\n",
       "      <td>5-fuabt-888</td>\n",
       "      <td>1</td>\n",
       "      <td>5-fu</td>\n",
       "      <td>abt-888</td>\n",
       "      <td>A2058</td>\n",
       "      <td>2.5850</td>\n",
       "      <td>8.8500</td>\n",
       "      <td>-0.1575</td>\n",
       "      <td>8.1300</td>\n",
       "      <td>62797</td>\n",
       "      <td>ONEIL</td>\n",
       "    </tr>\n",
       "    <tr>\n",
       "      <th>1</th>\n",
       "      <td>5-fuazd1775</td>\n",
       "      <td>5</td>\n",
       "      <td>5-fu</td>\n",
       "      <td>azd1775</td>\n",
       "      <td>A2058</td>\n",
       "      <td>9.8175</td>\n",
       "      <td>11.2075</td>\n",
       "      <td>5.8375</td>\n",
       "      <td>14.0975</td>\n",
       "      <td>36325</td>\n",
       "      <td>ONEIL</td>\n",
       "    </tr>\n",
       "  </tbody>\n",
       "</table>\n",
       "</div>"
      ],
      "text/plain": [
       "      drugConc  ID Drug1    Drug2 Cell line     ZIP    Bliss   Loewe      HSA  \\\n",
       "0  5-fuabt-888   1  5-fu  abt-888     A2058  2.5850   8.8500 -0.1575   8.1300   \n",
       "1  5-fuazd1775   5  5-fu  azd1775     A2058  9.8175  11.2075  5.8375  14.0975   \n",
       "\n",
       "   index source  \n",
       "0  62797  ONEIL  \n",
       "1  36325  ONEIL  "
      ]
     },
     "execution_count": 16,
     "metadata": {},
     "output_type": "execute_result"
    }
   ],
   "source": [
    "# double Data\n",
    "dataReversed1 = data1\n",
    "dataReversed2 = data2\n",
    "\n",
    "dataReversed1 = dataReversed1.rename(columns={\"Drug1\":\"Drug2\",\"Drug2\":\"Drug1\"})\n",
    "dataReversed2 = dataReversed2.rename(columns={\"Drug1\":\"Drug2\",\"Drug2\":\"Drug1\"})\n",
    "\n",
    "dataDouble1 = data1.append(dataReversed1)\n",
    "dataDouble2 = data2.append(dataReversed2)\n",
    "\n",
    "dataDouble1.reset_index(inplace=True,drop=True)\n",
    "dataDouble2.reset_index(inplace=True,drop=True)\n",
    "\n",
    "print(len(dataDouble1),\" records in first frame\")\n",
    "print(len(dataDouble2),\" records in second frame\")\n",
    "dataDouble1.head(2)"
   ]
  },
  {
   "cell_type": "markdown",
   "id": "cfa6f0b7-72c1-486d-8dd8-8e22c4493eaf",
   "metadata": {},
   "source": [
    "Drug Feature import part"
   ]
  },
  {
   "cell_type": "code",
   "execution_count": 17,
   "id": "89a7bcd7-9d31-43b2-afbe-2d974d22867d",
   "metadata": {},
   "outputs": [],
   "source": [
    "with open('drug_features.pkl', 'rb') as inp:\n",
    "    drug_feats = pkl.load(inp)"
   ]
  },
  {
   "cell_type": "code",
   "execution_count": 18,
   "id": "e503f28c-cc27-4a56-a8d4-9415f1a5b4ae",
   "metadata": {},
   "outputs": [],
   "source": [
    "drug_feats.set_index(\"drugName\",inplace=True)\n",
    "drug_feats.index = drug_feats.index.str.lower()\n",
    "\n",
    "d1_drugs = drug_feats.add_prefix(\"D1 \")\n",
    "d2_drugs = drug_feats.add_prefix(\"D2 \")\n",
    "\n",
    "dataDouble_drug1_feats1 = dataDouble1.join(d1_drugs,on=\"Drug1\",how=\"left\")\n",
    "dataDouble_drug1_feats2 = dataDouble2.join(d1_drugs,on=\"Drug1\",how=\"left\")\n",
    "\n",
    "dataDouble_all_feats1 = dataDouble_drug1_feats1.join(d2_drugs,on=\"Drug2\",how=\"left\")\n",
    "dataDouble_all_feats2 = dataDouble_drug1_feats2.join(d2_drugs,on=\"Drug2\",how=\"left\")"
   ]
  },
  {
   "cell_type": "markdown",
   "id": "3d57b987-ea45-4fa3-a79e-9f0d1b3e48f9",
   "metadata": {},
   "source": [
    "Cell Line Info from Ammar"
   ]
  },
  {
   "cell_type": "code",
   "execution_count": 19,
   "id": "e5f9fd6c-6629-47da-a800-615a74f000df",
   "metadata": {},
   "outputs": [],
   "source": [
    "# Ammars output files\n",
    "cellLine_info = pd.read_csv('output/cell_lines_enriched.csv', sep=',', dtype='string')\n",
    "drug_info = pd.read_csv('output/all_drugs_with_smiles.csv', sep=',', dtype='string')\n",
    "\n",
    "cat_ohe = pd.get_dummies(cellLine_info.category, prefix='cat')\n",
    "cellLine_info_full = pd.concat([cellLine_info,cat_ohe], axis=1)\n",
    "\n",
    "gender_ohe = pd.get_dummies(cellLine_info.gender, prefix='gender')\n",
    "\n",
    "cellLine_info_full['age'] = cellLine_info_full['age'].str.replace('Y','').replace('Age unspecified','0')\n",
    "cellLine_info_full['age'] = cellLine_info_full['age'].astype('int')\n",
    "\n",
    "cellLine_info_full = cellLine_info_full.drop('cosmicId', 1)\n",
    "cellLine_info_full = cellLine_info_full.drop('category', 1)\n",
    "cellLine_info_full = cellLine_info_full.drop('gender', 1)"
   ]
  },
  {
   "cell_type": "code",
   "execution_count": 20,
   "id": "b9c59860-8b6c-4863-bbc1-34584b5baf23",
   "metadata": {},
   "outputs": [],
   "source": [
    "finalFrame1 = dataDouble_all_feats1.join(cellLine_info_full.set_index(\"cellName\"),on=\"Cell line\", how=\"left\")#.dropna()\n",
    "finalFrame2 = dataDouble_all_feats2.join(cellLine_info_full.set_index(\"cellName\"),on=\"Cell line\", how=\"left\")#.dropna()"
   ]
  },
  {
   "cell_type": "code",
   "execution_count": 21,
   "id": "41d9f2c0-c19e-426b-9f63-cdcc2c31fbe4",
   "metadata": {},
   "outputs": [],
   "source": [
    "with open('./intermediate-pickles-scoring2/finalFrame1.pkl', 'wb') as outp:\n",
    "    pkl.dump(finalFrame1, outp)\n",
    "with open('./intermediate-pickles-scoring2/finalFrame2.pkl', 'wb') as outp:\n",
    "    pkl.dump(finalFrame2, outp)"
   ]
  },
  {
   "cell_type": "markdown",
   "id": "a08d0bc0-f883-428b-a9a9-dee53875e17e",
   "metadata": {},
   "source": [
    "#### 3. Combination ID?"
   ]
  },
  {
   "cell_type": "code",
   "execution_count": 22,
   "id": "7df980ef-a92f-4b95-bfeb-e7b1c9ef80af",
   "metadata": {},
   "outputs": [],
   "source": [
    "with open('./intermediate-pickles-scoring2/finalFrame1.pkl', 'rb') as inp:\n",
    "    data1 = pkl.load(inp)\n",
    "with open('./intermediate-pickles-scoring2/finalFrame2.pkl', 'rb') as inp:\n",
    "    data2 = pkl.load(inp)"
   ]
  },
  {
   "cell_type": "code",
   "execution_count": 23,
   "id": "4ef7c401-faa4-4731-aac7-15ac997a4497",
   "metadata": {},
   "outputs": [
    {
     "name": "stdout",
     "output_type": "stream",
     "text": [
      "Data1 has records  457614\n",
      "Data2 has records  603376\n"
     ]
    },
    {
     "data": {
      "text/html": [
       "<div>\n",
       "<style scoped>\n",
       "    .dataframe tbody tr th:only-of-type {\n",
       "        vertical-align: middle;\n",
       "    }\n",
       "\n",
       "    .dataframe tbody tr th {\n",
       "        vertical-align: top;\n",
       "    }\n",
       "\n",
       "    .dataframe thead th {\n",
       "        text-align: right;\n",
       "    }\n",
       "</style>\n",
       "<table border=\"1\" class=\"dataframe\">\n",
       "  <thead>\n",
       "    <tr style=\"text-align: right;\">\n",
       "      <th></th>\n",
       "      <th>drugConc</th>\n",
       "      <th>ID</th>\n",
       "      <th>Drug1</th>\n",
       "      <th>Drug2</th>\n",
       "      <th>Cell line</th>\n",
       "      <th>ZIP</th>\n",
       "      <th>Bliss</th>\n",
       "      <th>Loewe</th>\n",
       "      <th>HSA</th>\n",
       "      <th>index</th>\n",
       "      <th>...</th>\n",
       "      <th>D2 EState_VSA2</th>\n",
       "      <th>D2 EState_VSA3</th>\n",
       "      <th>D2 VSA_EState1</th>\n",
       "      <th>D2 VSA_EState2</th>\n",
       "      <th>D2 VSA_EState3</th>\n",
       "      <th>age</th>\n",
       "      <th>cat_Cancer cell line</th>\n",
       "      <th>cat_Embryonic stem cell</th>\n",
       "      <th>cat_Hybridoma</th>\n",
       "      <th>cat_Transformed cell line</th>\n",
       "    </tr>\n",
       "  </thead>\n",
       "  <tbody>\n",
       "    <tr>\n",
       "      <th>0</th>\n",
       "      <td>5-fuabt-888</td>\n",
       "      <td>1</td>\n",
       "      <td>5-fu</td>\n",
       "      <td>abt-888</td>\n",
       "      <td>A2058</td>\n",
       "      <td>2.5850</td>\n",
       "      <td>8.8500</td>\n",
       "      <td>-0.1575</td>\n",
       "      <td>8.1300</td>\n",
       "      <td>62797</td>\n",
       "      <td>...</td>\n",
       "      <td>5.538925</td>\n",
       "      <td>11.080152</td>\n",
       "      <td>0.000000</td>\n",
       "      <td>19.238682</td>\n",
       "      <td>3.448989</td>\n",
       "      <td>43.0</td>\n",
       "      <td>1.0</td>\n",
       "      <td>0.0</td>\n",
       "      <td>0.0</td>\n",
       "      <td>0.0</td>\n",
       "    </tr>\n",
       "    <tr>\n",
       "      <th>1</th>\n",
       "      <td>5-fuazd1775</td>\n",
       "      <td>5</td>\n",
       "      <td>5-fu</td>\n",
       "      <td>azd1775</td>\n",
       "      <td>A2058</td>\n",
       "      <td>9.8175</td>\n",
       "      <td>11.2075</td>\n",
       "      <td>5.8375</td>\n",
       "      <td>14.0975</td>\n",
       "      <td>36325</td>\n",
       "      <td>...</td>\n",
       "      <td>12.104023</td>\n",
       "      <td>28.493531</td>\n",
       "      <td>3.162078</td>\n",
       "      <td>31.601287</td>\n",
       "      <td>14.099736</td>\n",
       "      <td>43.0</td>\n",
       "      <td>1.0</td>\n",
       "      <td>0.0</td>\n",
       "      <td>0.0</td>\n",
       "      <td>0.0</td>\n",
       "    </tr>\n",
       "  </tbody>\n",
       "</table>\n",
       "<p>2 rows × 154 columns</p>\n",
       "</div>"
      ],
      "text/plain": [
       "      drugConc  ID Drug1    Drug2 Cell line     ZIP    Bliss   Loewe      HSA  \\\n",
       "0  5-fuabt-888   1  5-fu  abt-888     A2058  2.5850   8.8500 -0.1575   8.1300   \n",
       "1  5-fuazd1775   5  5-fu  azd1775     A2058  9.8175  11.2075  5.8375  14.0975   \n",
       "\n",
       "   index  ... D2 EState_VSA2  D2 EState_VSA3  D2 VSA_EState1  D2 VSA_EState2  \\\n",
       "0  62797  ...       5.538925       11.080152        0.000000       19.238682   \n",
       "1  36325  ...      12.104023       28.493531        3.162078       31.601287   \n",
       "\n",
       "   D2 VSA_EState3   age  cat_Cancer cell line  cat_Embryonic stem cell  \\\n",
       "0        3.448989  43.0                   1.0                      0.0   \n",
       "1       14.099736  43.0                   1.0                      0.0   \n",
       "\n",
       "   cat_Hybridoma  cat_Transformed cell line  \n",
       "0            0.0                        0.0  \n",
       "1            0.0                        0.0  \n",
       "\n",
       "[2 rows x 154 columns]"
      ]
     },
     "execution_count": 23,
     "metadata": {},
     "output_type": "execute_result"
    }
   ],
   "source": [
    "data1 = data1.dropna() #loose here 10-20% of data\n",
    "data2 = data2.dropna()\n",
    "data1.reset_index(inplace=True,drop=True)\n",
    "data2.reset_index(inplace=True,drop=True)\n",
    "print(\"Data1 has records \",len(data1))\n",
    "print(\"Data2 has records \",len(data2))\n",
    "data1.head(2)"
   ]
  },
  {
   "cell_type": "code",
   "execution_count": 27,
   "id": "4cf2d511-91b1-4a8e-85ef-6dde82918941",
   "metadata": {},
   "outputs": [
    {
     "data": {
      "text/plain": [
       "38"
      ]
     },
     "execution_count": 27,
     "metadata": {},
     "output_type": "execute_result"
    }
   ],
   "source": []
  },
  {
   "cell_type": "markdown",
   "id": "f37656d6-024c-45ef-b84b-442d1ecd1f7a",
   "metadata": {},
   "source": [
    "#### 4. Making Predictions"
   ]
  },
  {
   "cell_type": "code",
   "execution_count": 50,
   "id": "e5b70d8c-695c-4bdc-80bd-729d5458d7a0",
   "metadata": {},
   "outputs": [],
   "source": [
    "Y1 = data1.iloc[:,9]\n",
    "X1 = data1.iloc[:,11:]\n",
    "X1.drop([\"D1 Ipc\",\"D2 Ipc\"],axis=1,inplace=True)\n",
    "\n",
    "Y2 = data2.iloc[:,9]\n",
    "X2 = data2.iloc[:,10:]\n",
    "X2.drop([\"D1 Ipc\",\"D2 Ipc\"],axis=1,inplace=True)\n",
    "\n",
    "from sklearn.model_selection import train_test_split\n",
    "X_train1,x_test1,Y_train1,y_test1 = train_test_split(X1,Y1,test_size=0.3,stratify=Y1) #consider stratifying on combination\n",
    "X_train2,x_test2,Y_train2,y_test2 = train_test_split(X2,Y2,test_size=0.3,stratify=Y2)"
   ]
  },
  {
   "cell_type": "code",
   "execution_count": 54,
   "id": "9116131c-dfe1-42e1-985a-81077dae0c11",
   "metadata": {},
   "outputs": [],
   "source": [
    "with open('./intermediate-pickles-scoring2/trainTestSplit/X_train1.pkl', 'wb') as outp:\n",
    "    pkl.dump(X_train1, outp)\n",
    "with open('./intermediate-pickles-scoring2/trainTestSplit/X_train2.pkl', 'wb') as outp:\n",
    "    pkl.dump(X_train2, outp)\n",
    "with open('./intermediate-pickles-scoring2/trainTestSplit/x_test1.pkl', 'wb') as outp:\n",
    "    pkl.dump(x_test1, outp)\n",
    "with open('./intermediate-pickles-scoring2/trainTestSplit/x_test2.pkl', 'wb') as outp:\n",
    "    pkl.dump(x_test2, outp)\n",
    "\n",
    "with open('./intermediate-pickles-scoring2/trainTestSplit/Y_train1.pkl', 'wb') as outp:\n",
    "    pkl.dump(Y_train1, outp)\n",
    "with open('./intermediate-pickles-scoring2/trainTestSplit/Y_train2.pkl', 'wb') as outp:\n",
    "    pkl.dump(Y_train2, outp)\n",
    "with open('./intermediate-pickles-scoring2/trainTestSplit/y_test1.pkl', 'wb') as outp:\n",
    "    pkl.dump(y_test1, outp)\n",
    "with open('./intermediate-pickles-scoring2/trainTestSplit/y_test2.pkl', 'wb') as outp:\n",
    "    pkl.dump(y_test2, outp)"
   ]
  },
  {
   "cell_type": "code",
   "execution_count": null,
   "id": "992f5b36-0161-45e6-9146-3f462954c49a",
   "metadata": {},
   "outputs": [],
   "source": [
    "import matplotlib.pyplot as plt\n",
    "from sklearn.ensemble import RandomForestRegressor \n",
    "\n",
    "regressor1 = RandomForestRegressor(max_depth=4, random_state=0, n_estimators=100, verbose=True)\n",
    "regressor1.fit(X_train1,Y_train1)\n",
    "\n",
    "predTrain1=regressor1.predict(X_train1)\n",
    "predTest1=regressor1.predict(x_test1)"
   ]
  },
  {
   "cell_type": "code",
   "execution_count": 58,
   "id": "bfff71b2-2ce2-4ca4-a673-2beb83ddfa31",
   "metadata": {},
   "outputs": [
    {
     "name": "stderr",
     "output_type": "stream",
     "text": [
      "[Parallel(n_jobs=1)]: Using backend SequentialBackend with 1 concurrent workers.\n",
      "[Parallel(n_jobs=1)]: Done 100 out of 100 | elapsed:    0.7s finished\n"
     ]
    }
   ],
   "source": []
  },
  {
   "cell_type": "code",
   "execution_count": 60,
   "id": "832297ed-b5f5-46d0-98b1-76a7208c73a5",
   "metadata": {},
   "outputs": [
    {
     "name": "stderr",
     "output_type": "stream",
     "text": [
      "[Parallel(n_jobs=1)]: Using backend SequentialBackend with 1 concurrent workers.\n",
      "[Parallel(n_jobs=1)]: Done 100 out of 100 | elapsed: 14.1min finished\n",
      "[Parallel(n_jobs=1)]: Using backend SequentialBackend with 1 concurrent workers.\n",
      "[Parallel(n_jobs=1)]: Done 100 out of 100 | elapsed:    1.9s finished\n",
      "[Parallel(n_jobs=1)]: Using backend SequentialBackend with 1 concurrent workers.\n",
      "[Parallel(n_jobs=1)]: Done 100 out of 100 | elapsed:    0.8s finished\n"
     ]
    }
   ],
   "source": [
    "regressor2 = RandomForestRegressor(max_depth=4, random_state=0, n_estimators=100, verbose=True)\n",
    "regressor2.fit(X_train2,Y_train2)\n",
    "\n",
    "predTrain2=regressor2.predict(X_train2)\n",
    "predTest2=regressor2.predict(x_test2)"
   ]
  },
  {
   "cell_type": "code",
   "execution_count": 61,
   "id": "7f4dd88f-5f32-435e-9d8a-087589b964dd",
   "metadata": {},
   "outputs": [],
   "source": [
    "from sklearn.dummy import DummyRegressor\n",
    "dummyRegressor1 = DummyRegressor()\n",
    "dummyRegressor1.fit(X_train1,Y_train1)\n",
    "\n",
    "predTrainDumm1=dummyRegressor1.predict(X_train1)\n",
    "predTestDumm1=dummyRegressor1.predict(x_test1)\n",
    "\n",
    "dummyRegressor2 = DummyRegressor()\n",
    "dummyRegressor2.fit(X_train2,Y_train2)\n",
    "\n",
    "predTrainDumm2=dummyRegressor2.predict(X_train2)\n",
    "predTestDumm2=dummyRegressor2.predict(x_test2)"
   ]
  },
  {
   "cell_type": "code",
   "execution_count": null,
   "id": "5f85d37b-f225-4c8f-abc4-f54eea58eabd",
   "metadata": {},
   "outputs": [],
   "source": []
  },
  {
   "cell_type": "markdown",
   "id": "368141d6-9c88-4e5d-aeb4-5273a3c0522b",
   "metadata": {},
   "source": [
    "#### 5. Bonus: Adding Source as feature"
   ]
  },
  {
   "cell_type": "code",
   "execution_count": 89,
   "id": "c6ba43fd-79fa-48af-b56d-d6ac63a9bbcc",
   "metadata": {},
   "outputs": [
    {
     "data": {
      "text/html": [
       "<div>\n",
       "<style scoped>\n",
       "    .dataframe tbody tr th:only-of-type {\n",
       "        vertical-align: middle;\n",
       "    }\n",
       "\n",
       "    .dataframe tbody tr th {\n",
       "        vertical-align: top;\n",
       "    }\n",
       "\n",
       "    .dataframe thead th {\n",
       "        text-align: right;\n",
       "    }\n",
       "</style>\n",
       "<table border=\"1\" class=\"dataframe\">\n",
       "  <thead>\n",
       "    <tr style=\"text-align: right;\">\n",
       "      <th></th>\n",
       "      <th>D1 Eccentricity</th>\n",
       "      <th>D1 InertialShapeFactor</th>\n",
       "      <th>D1 NPR1</th>\n",
       "      <th>D1 NPR2</th>\n",
       "      <th>D1 PMI1</th>\n",
       "      <th>D1 PMI2</th>\n",
       "      <th>D1 PMI3</th>\n",
       "      <th>D1 RadiusOfGyration</th>\n",
       "      <th>D1 SpherocityIndex</th>\n",
       "      <th>D1 FractionCSP3</th>\n",
       "      <th>...</th>\n",
       "      <th>D2 VSA_EState1</th>\n",
       "      <th>D2 VSA_EState2</th>\n",
       "      <th>D2 VSA_EState3</th>\n",
       "      <th>age</th>\n",
       "      <th>cat_Cancer cell line</th>\n",
       "      <th>cat_Embryonic stem cell</th>\n",
       "      <th>cat_Hybridoma</th>\n",
       "      <th>cat_Transformed cell line</th>\n",
       "      <th>Source_ALMANAC</th>\n",
       "      <th>Souce_ONEIL</th>\n",
       "    </tr>\n",
       "  </thead>\n",
       "  <tbody>\n",
       "    <tr>\n",
       "      <th>0</th>\n",
       "      <td>0.956402</td>\n",
       "      <td>0.004792</td>\n",
       "      <td>0.292055</td>\n",
       "      <td>0.707945</td>\n",
       "      <td>147.739172</td>\n",
       "      <td>358.121584</td>\n",
       "      <td>505.860756</td>\n",
       "      <td>1.97203</td>\n",
       "      <td>1.259740e-12</td>\n",
       "      <td>0.0</td>\n",
       "      <td>...</td>\n",
       "      <td>0.000000</td>\n",
       "      <td>19.238682</td>\n",
       "      <td>3.448989</td>\n",
       "      <td>43.0</td>\n",
       "      <td>1.0</td>\n",
       "      <td>0.0</td>\n",
       "      <td>0.0</td>\n",
       "      <td>0.0</td>\n",
       "      <td>0</td>\n",
       "      <td>1</td>\n",
       "    </tr>\n",
       "    <tr>\n",
       "      <th>1</th>\n",
       "      <td>0.956402</td>\n",
       "      <td>0.004792</td>\n",
       "      <td>0.292055</td>\n",
       "      <td>0.707945</td>\n",
       "      <td>147.739172</td>\n",
       "      <td>358.121584</td>\n",
       "      <td>505.860756</td>\n",
       "      <td>1.97203</td>\n",
       "      <td>1.259740e-12</td>\n",
       "      <td>0.0</td>\n",
       "      <td>...</td>\n",
       "      <td>3.162078</td>\n",
       "      <td>31.601287</td>\n",
       "      <td>14.099736</td>\n",
       "      <td>43.0</td>\n",
       "      <td>1.0</td>\n",
       "      <td>0.0</td>\n",
       "      <td>0.0</td>\n",
       "      <td>0.0</td>\n",
       "      <td>0</td>\n",
       "      <td>1</td>\n",
       "    </tr>\n",
       "  </tbody>\n",
       "</table>\n",
       "<p>2 rows × 143 columns</p>\n",
       "</div>"
      ],
      "text/plain": [
       "   D1 Eccentricity  D1 InertialShapeFactor   D1 NPR1   D1 NPR2     D1 PMI1  \\\n",
       "0         0.956402                0.004792  0.292055  0.707945  147.739172   \n",
       "1         0.956402                0.004792  0.292055  0.707945  147.739172   \n",
       "\n",
       "      D1 PMI2     D1 PMI3  D1 RadiusOfGyration  D1 SpherocityIndex  \\\n",
       "0  358.121584  505.860756              1.97203        1.259740e-12   \n",
       "1  358.121584  505.860756              1.97203        1.259740e-12   \n",
       "\n",
       "   D1 FractionCSP3  ...  D2 VSA_EState1  D2 VSA_EState2  D2 VSA_EState3   age  \\\n",
       "0              0.0  ...        0.000000       19.238682        3.448989  43.0   \n",
       "1              0.0  ...        3.162078       31.601287       14.099736  43.0   \n",
       "\n",
       "   cat_Cancer cell line  cat_Embryonic stem cell  cat_Hybridoma  \\\n",
       "0                   1.0                      0.0            0.0   \n",
       "1                   1.0                      0.0            0.0   \n",
       "\n",
       "   cat_Transformed cell line  Source_ALMANAC  Souce_ONEIL  \n",
       "0                        0.0               0            1  \n",
       "1                        0.0               0            1  \n",
       "\n",
       "[2 rows x 143 columns]"
      ]
     },
     "execution_count": 89,
     "metadata": {},
     "output_type": "execute_result"
    }
   ],
   "source": [
    "YB = data1.iloc[:,9]\n",
    "XB = data1.iloc[:,10:]\n",
    "\n",
    "sourceDummies = pd.get_dummies(XB.source,prefix=\"Source\")\n",
    "XB[[\"Source_ALMANAC\",\"Souce_ONEIL\"]]=sourceDummies\n",
    "\n",
    "XB.drop([\"source\",\"D1 Ipc\",\"D2 Ipc\"],axis=1,inplace=True)\n",
    "\n",
    "XB.head(2)"
   ]
  },
  {
   "cell_type": "code",
   "execution_count": 92,
   "id": "c66c6517-56dc-48e4-99a8-bd4f27bc006b",
   "metadata": {},
   "outputs": [
    {
     "data": {
      "text/plain": [
       "(457614, 143)"
      ]
     },
     "execution_count": 92,
     "metadata": {},
     "output_type": "execute_result"
    }
   ],
   "source": [
    "XB.shape"
   ]
  },
  {
   "cell_type": "code",
   "execution_count": 97,
   "id": "418d47c0-a119-4a3b-819c-940aa4125f2b",
   "metadata": {},
   "outputs": [
    {
     "name": "stdout",
     "output_type": "stream",
     "text": [
      "Starting Regressor:  2022-05-26 16:37:19.424703\n"
     ]
    },
    {
     "name": "stderr",
     "output_type": "stream",
     "text": [
      "[Parallel(n_jobs=1)]: Using backend SequentialBackend with 1 concurrent workers.\n",
      "[Parallel(n_jobs=1)]: Done 600 out of 600 | elapsed: 58.2min finished\n"
     ]
    },
    {
     "name": "stdout",
     "output_type": "stream",
     "text": [
      "Finished Training Regressor:  2022-05-26 17:35:32.505675\n"
     ]
    },
    {
     "name": "stderr",
     "output_type": "stream",
     "text": [
      "[Parallel(n_jobs=1)]: Using backend SequentialBackend with 1 concurrent workers.\n",
      "[Parallel(n_jobs=1)]: Done 600 out of 600 | elapsed:    7.4s finished\n",
      "[Parallel(n_jobs=1)]: Using backend SequentialBackend with 1 concurrent workers.\n",
      "[Parallel(n_jobs=1)]: Done 600 out of 600 | elapsed:    3.3s finished\n"
     ]
    }
   ],
   "source": [
    "X_trainB,x_testB,Y_trainB,y_testB = train_test_split(XB,YB,test_size=0.3,stratify=YB) #consider stratifying on combination\n",
    "print(\"Starting Regressor: \", datetime.datetime.now())\n",
    "\n",
    "regressorB = RandomForestRegressor(max_depth=4, random_state=0, n_estimators=600, verbose=True)\n",
    "regressorB.fit(X_trainB,Y_trainB)\n",
    "\n",
    "print(\"Finished Training Regressor: \", datetime.datetime.now())\n",
    "\n",
    "predTrainB=regressorB.predict(X_trainB)\n",
    "predTestB=regressorB.predict(x_testB)"
   ]
  },
  {
   "cell_type": "code",
   "execution_count": 98,
   "id": "3611b644-516b-4229-bb6e-9bb1e73a48e5",
   "metadata": {},
   "outputs": [],
   "source": [
    "dummyRegressorB = DummyRegressor()\n",
    "dummyRegressorB.fit(X_trainB,Y_trainB)\n",
    "\n",
    "predTrainDummB=dummyRegressorB.predict(X_trainB)\n",
    "predTestDummB=dummyRegressorB.predict(x_testB)"
   ]
  },
  {
   "cell_type": "code",
   "execution_count": 94,
   "id": "6bb5fd1f-d670-429e-beb9-6c56fde911d4",
   "metadata": {},
   "outputs": [
    {
     "data": {
      "text/plain": [
       "2"
      ]
     },
     "execution_count": 94,
     "metadata": {},
     "output_type": "execute_result"
    }
   ],
   "source": [
    "#do MSE and "
   ]
  },
  {
   "cell_type": "markdown",
   "id": "ac20b4ed-ccc7-479e-9173-1ac87d38fcf0",
   "metadata": {},
   "source": [
    "#### 6. Scoring (Mean Absolute/Squared Error)"
   ]
  },
  {
   "cell_type": "code",
   "execution_count": 69,
   "id": "c331136b-12c8-43b8-ae23-7fb51ba5b053",
   "metadata": {},
   "outputs": [
    {
     "name": "stdout",
     "output_type": "stream",
     "text": [
      "## The performances are:\n",
      "\n",
      "Small Dataset:\n",
      "On Training Data:  3.8512295736362114\n",
      "On Testing  Data:  3.856709127409338\n",
      "Dummy Training  :  4.019826881637109\n",
      "Dummy Testing   :  4.020777303474963\n",
      "\n",
      "Big Dataset:\n",
      "On Training Data:  4.023602782805237\n",
      "On Testing  Data:  4.038416459991488\n",
      "Dummy Training  :  4.17312462139542\n",
      "Dummy Testing   :  4.188929710733737\n"
     ]
    }
   ],
   "source": [
    "print(\"## The performances in MAE are:\")\n",
    "print(\"\\nSmall Dataset:\")\n",
    "print(\"On Training Data: \",np.mean(np.abs(predTrain1-Y_train1)))\n",
    "print(\"On Testing  Data: \",np.mean(np.abs(predTest1-y_test1)))\n",
    "print(\"Dummy Training  : \",np.mean(np.abs(predTrainDumm1-Y_train1)))\n",
    "print(\"Dummy Testing   : \",np.mean(np.abs(predTestDumm1-y_test1)))\n",
    "print(\"\\nBig Dataset:\")\n",
    "print(\"On Training Data: \",np.mean(np.abs(predTrain2-Y_train2)))\n",
    "print(\"On Testing  Data: \",np.mean(np.abs(predTest2-y_test2)))\n",
    "print(\"Dummy Training  : \",np.mean(np.abs(predTrainDumm2-Y_train2)))\n",
    "print(\"Dummy Testing   : \",np.mean(np.abs(predTestDumm2-y_test2)))"
   ]
  },
  {
   "cell_type": "code",
   "execution_count": 99,
   "id": "0478664a-0ee0-4184-91ee-050d146868fc",
   "metadata": {},
   "outputs": [
    {
     "name": "stdout",
     "output_type": "stream",
     "text": [
      "## The performances in MSE are:\n",
      "\n",
      "Small Dataset:\n",
      "On Training Data:  32.484186707350744\n",
      "On Testing  Data:  32.84695566451583\n",
      "Dummy Training  :  36.058513836791256\n",
      "Dummy Testing   :  36.36555926960286\n",
      "\n",
      "Big Dataset:\n",
      "On Training Data:  34.73133734048182\n",
      "On Testing  Data:  35.346908681521796\n",
      "Dummy Training  :  38.12436906145257\n",
      "Dummy Testing   :  38.80865347982537\n"
     ]
    }
   ],
   "source": [
    "print(\"## The performances in MSE are:\")\n",
    "print(\"\\nSmall Dataset:\")\n",
    "print(\"On Training Data: \",np.mean(np.square(predTrain1-Y_train1)))\n",
    "print(\"On Testing  Data: \",np.mean(np.square(predTest1-y_test1)))\n",
    "print(\"Dummy Training  : \",np.mean(np.square(predTrainDumm1-Y_train1)))\n",
    "print(\"Dummy Testing   : \",np.mean(np.square(predTestDumm1-y_test1)))\n",
    "print(\"\\nBig Dataset:\")\n",
    "print(\"On Training Data: \",np.mean(np.square(predTrain2-Y_train2)))\n",
    "print(\"On Testing  Data: \",np.mean(np.square(predTest2-y_test2)))\n",
    "print(\"Dummy Training  : \",np.mean(np.square(predTrainDumm2-Y_train2)))\n",
    "print(\"Dummy Testing   : \",np.mean(np.square(predTestDumm2-y_test2)))"
   ]
  },
  {
   "cell_type": "code",
   "execution_count": 100,
   "id": "17826064-db0c-4565-bdd4-04b409892935",
   "metadata": {},
   "outputs": [
    {
     "name": "stdout",
     "output_type": "stream",
     "text": [
      "## The performances for Big Tree are:\n",
      "\n",
      "MAE:\n",
      "On Training Data:  3.7530182866518524\n",
      "On Testing  Data:  3.7596516827028528\n",
      "Dummy Training  :  4.019687558305475\n",
      "Dummy Testing   :  4.02103141996947\n",
      "\n",
      "MSE:\n",
      "On Training Data:  31.331425615413046\n",
      "On Testing  Data:  31.39159030244759\n",
      "Dummy Training  :  36.13806376984807\n",
      "Dummy Testing   :  36.179945957676864\n"
     ]
    }
   ],
   "source": [
    "#for 600 trees forest and additional source feature on small Dataset\n",
    "print(\"## The performances for Big Tree are:\")\n",
    "print(\"\\nMAE:\")\n",
    "print(\"On Training Data: \",np.mean(np.abs(predTrainB-Y_trainB)))\n",
    "print(\"On Testing  Data: \",np.mean(np.abs(predTestB-y_testB)))\n",
    "print(\"Dummy Training  : \",np.mean(np.abs(predTrainDummB-Y_trainB)))\n",
    "print(\"Dummy Testing   : \",np.mean(np.abs(predTestDummB-y_testB)))\n",
    "print(\"\\nMSE:\")\n",
    "print(\"On Training Data: \",np.mean(np.square(predTrainB-Y_trainB)))\n",
    "print(\"On Testing  Data: \",np.mean(np.square(predTestB-y_testB)))\n",
    "print(\"Dummy Training  : \",np.mean(np.square(predTrainDummB-Y_trainB)))\n",
    "print(\"Dummy Testing   : \",np.mean(np.square(predTestDummB-y_testB)))"
   ]
  },
  {
   "cell_type": "markdown",
   "id": "2b3ef99f-abc6-4bc6-a56c-233984c5ee4e",
   "metadata": {},
   "source": [
    "<b>This shows improvement of th bigger classifier over the previous ones in both MSE and MAE</b><br>\n",
    "To ensure this is due to size on not additional feature, I look at the feature importances. Given the magnitude of increase, one of the source feats must be very high"
   ]
  },
  {
   "cell_type": "code",
   "execution_count": 110,
   "id": "3b0f67da-ed27-4f15-b3ef-49721d007810",
   "metadata": {},
   "outputs": [
    {
     "data": {
      "text/html": [
       "<div>\n",
       "<style scoped>\n",
       "    .dataframe tbody tr th:only-of-type {\n",
       "        vertical-align: middle;\n",
       "    }\n",
       "\n",
       "    .dataframe tbody tr th {\n",
       "        vertical-align: top;\n",
       "    }\n",
       "\n",
       "    .dataframe thead th {\n",
       "        text-align: right;\n",
       "    }\n",
       "</style>\n",
       "<table border=\"1\" class=\"dataframe\">\n",
       "  <thead>\n",
       "    <tr style=\"text-align: right;\">\n",
       "      <th></th>\n",
       "      <th>Feat B</th>\n",
       "      <th>Relevance B</th>\n",
       "      <th>Feat 1</th>\n",
       "      <th>Relevance 1</th>\n",
       "      <th>Feat 2</th>\n",
       "      <th>Relevance 2</th>\n",
       "    </tr>\n",
       "  </thead>\n",
       "  <tbody>\n",
       "    <tr>\n",
       "      <th>0</th>\n",
       "      <td>Souce_ONEIL</td>\n",
       "      <td>0.302047</td>\n",
       "      <td>D1 Chi4n</td>\n",
       "      <td>0.245642</td>\n",
       "      <td>D1 MolMR</td>\n",
       "      <td>0.320916</td>\n",
       "    </tr>\n",
       "    <tr>\n",
       "      <th>1</th>\n",
       "      <td>Source_ALMANAC</td>\n",
       "      <td>0.17608</td>\n",
       "      <td>D2 MolMR</td>\n",
       "      <td>0.195147</td>\n",
       "      <td>D2 MolMR</td>\n",
       "      <td>0.215875</td>\n",
       "    </tr>\n",
       "    <tr>\n",
       "      <th>2</th>\n",
       "      <td>D1 Chi1v</td>\n",
       "      <td>0.163801</td>\n",
       "      <td>D2 Chi1v</td>\n",
       "      <td>0.062346</td>\n",
       "      <td>D1 BertzCT</td>\n",
       "      <td>0.072413</td>\n",
       "    </tr>\n",
       "    <tr>\n",
       "      <th>3</th>\n",
       "      <td>D2 Chi1v</td>\n",
       "      <td>0.129007</td>\n",
       "      <td>D1 BertzCT</td>\n",
       "      <td>0.057076</td>\n",
       "      <td>D2 BertzCT</td>\n",
       "      <td>0.067018</td>\n",
       "    </tr>\n",
       "    <tr>\n",
       "      <th>4</th>\n",
       "      <td>D2 MolLogP</td>\n",
       "      <td>0.05473</td>\n",
       "      <td>D1 BalabanJ</td>\n",
       "      <td>0.048644</td>\n",
       "      <td>D1 PEOE_VSA1</td>\n",
       "      <td>0.044067</td>\n",
       "    </tr>\n",
       "    <tr>\n",
       "      <th>5</th>\n",
       "      <td>D1 MolLogP</td>\n",
       "      <td>0.037876</td>\n",
       "      <td>D2 Chi4n</td>\n",
       "      <td>0.046838</td>\n",
       "      <td>D2 HeavyAtomMolWt</td>\n",
       "      <td>0.040029</td>\n",
       "    </tr>\n",
       "    <tr>\n",
       "      <th>6</th>\n",
       "      <td>D1 PEOE_VSA1</td>\n",
       "      <td>0.032958</td>\n",
       "      <td>D2 BertzCT</td>\n",
       "      <td>0.030797</td>\n",
       "      <td>D2 BalabanJ</td>\n",
       "      <td>0.033935</td>\n",
       "    </tr>\n",
       "    <tr>\n",
       "      <th>7</th>\n",
       "      <td>D2 SpherocityIndex</td>\n",
       "      <td>0.017764</td>\n",
       "      <td>D2 BalabanJ</td>\n",
       "      <td>0.026773</td>\n",
       "      <td>D2 SMR_VSA1</td>\n",
       "      <td>0.016949</td>\n",
       "    </tr>\n",
       "    <tr>\n",
       "      <th>8</th>\n",
       "      <td>D2 BalabanJ</td>\n",
       "      <td>0.014459</td>\n",
       "      <td>D1 MolMR</td>\n",
       "      <td>0.023566</td>\n",
       "      <td>D2 NPR1</td>\n",
       "      <td>0.016426</td>\n",
       "    </tr>\n",
       "    <tr>\n",
       "      <th>9</th>\n",
       "      <td>D1 PMI1</td>\n",
       "      <td>0.011746</td>\n",
       "      <td>D2 RingCount</td>\n",
       "      <td>0.017627</td>\n",
       "      <td>D2 VSA_EState2</td>\n",
       "      <td>0.013587</td>\n",
       "    </tr>\n",
       "    <tr>\n",
       "      <th>10</th>\n",
       "      <td>D2 EState_VSA1</td>\n",
       "      <td>0.007521</td>\n",
       "      <td>D1 Chi1v</td>\n",
       "      <td>0.017497</td>\n",
       "      <td>D1 HeavyAtomMolWt</td>\n",
       "      <td>0.013107</td>\n",
       "    </tr>\n",
       "    <tr>\n",
       "      <th>11</th>\n",
       "      <td>D1 SpherocityIndex</td>\n",
       "      <td>0.006606</td>\n",
       "      <td>D1 VSA_EState3</td>\n",
       "      <td>0.017062</td>\n",
       "      <td>D1 MolLogP</td>\n",
       "      <td>0.011854</td>\n",
       "    </tr>\n",
       "    <tr>\n",
       "      <th>12</th>\n",
       "      <td>D2 VSA_EState1</td>\n",
       "      <td>0.004788</td>\n",
       "      <td>D2 NumAromaticHeterocycles</td>\n",
       "      <td>0.015418</td>\n",
       "      <td>D2 TPSA</td>\n",
       "      <td>0.011719</td>\n",
       "    </tr>\n",
       "    <tr>\n",
       "      <th>13</th>\n",
       "      <td>D2 Eccentricity</td>\n",
       "      <td>0.004682</td>\n",
       "      <td>D2 Chi3v</td>\n",
       "      <td>0.013245</td>\n",
       "      <td>D2 SlogP_VSA1</td>\n",
       "      <td>0.011082</td>\n",
       "    </tr>\n",
       "    <tr>\n",
       "      <th>14</th>\n",
       "      <td>D1 InertialShapeFactor</td>\n",
       "      <td>0.003402</td>\n",
       "      <td>D2 EState_VSA2</td>\n",
       "      <td>0.012653</td>\n",
       "      <td>D2 Eccentricity</td>\n",
       "      <td>0.010603</td>\n",
       "    </tr>\n",
       "    <tr>\n",
       "      <th>15</th>\n",
       "      <td>D2 FractionCSP3</td>\n",
       "      <td>0.003308</td>\n",
       "      <td>D2 PEOE_VSA1</td>\n",
       "      <td>0.011545</td>\n",
       "      <td>D2 Chi2n</td>\n",
       "      <td>0.01007</td>\n",
       "    </tr>\n",
       "    <tr>\n",
       "      <th>16</th>\n",
       "      <td>D2 FractionCSP3</td>\n",
       "      <td>0.003038</td>\n",
       "      <td>D2 SlogP_VSA2</td>\n",
       "      <td>0.010525</td>\n",
       "      <td>D2 NPR2</td>\n",
       "      <td>0.007391</td>\n",
       "    </tr>\n",
       "    <tr>\n",
       "      <th>17</th>\n",
       "      <td>D2 NPR1</td>\n",
       "      <td>0.002907</td>\n",
       "      <td>D2 SMR_VSA1</td>\n",
       "      <td>0.009401</td>\n",
       "      <td>D2 Chi1v</td>\n",
       "      <td>0.007221</td>\n",
       "    </tr>\n",
       "    <tr>\n",
       "      <th>18</th>\n",
       "      <td>D2 PEOE_VSA1</td>\n",
       "      <td>0.002905</td>\n",
       "      <td>D2 MolLogP</td>\n",
       "      <td>0.007613</td>\n",
       "      <td>D1 NumSaturatedHeterocycles</td>\n",
       "      <td>0.007178</td>\n",
       "    </tr>\n",
       "    <tr>\n",
       "      <th>19</th>\n",
       "      <td>D2 InertialShapeFactor</td>\n",
       "      <td>0.002709</td>\n",
       "      <td>D2 InertialShapeFactor</td>\n",
       "      <td>0.007257</td>\n",
       "      <td>D1 BalabanJ</td>\n",
       "      <td>0.006357</td>\n",
       "    </tr>\n",
       "  </tbody>\n",
       "</table>\n",
       "</div>"
      ],
      "text/plain": [
       "                    Feat B Relevance B                      Feat 1  \\\n",
       "0              Souce_ONEIL    0.302047                    D1 Chi4n   \n",
       "1           Source_ALMANAC     0.17608                    D2 MolMR   \n",
       "2                 D1 Chi1v    0.163801                    D2 Chi1v   \n",
       "3                 D2 Chi1v    0.129007                  D1 BertzCT   \n",
       "4               D2 MolLogP     0.05473                 D1 BalabanJ   \n",
       "5               D1 MolLogP    0.037876                    D2 Chi4n   \n",
       "6             D1 PEOE_VSA1    0.032958                  D2 BertzCT   \n",
       "7       D2 SpherocityIndex    0.017764                 D2 BalabanJ   \n",
       "8              D2 BalabanJ    0.014459                    D1 MolMR   \n",
       "9                  D1 PMI1    0.011746                D2 RingCount   \n",
       "10          D2 EState_VSA1    0.007521                    D1 Chi1v   \n",
       "11      D1 SpherocityIndex    0.006606              D1 VSA_EState3   \n",
       "12          D2 VSA_EState1    0.004788  D2 NumAromaticHeterocycles   \n",
       "13         D2 Eccentricity    0.004682                    D2 Chi3v   \n",
       "14  D1 InertialShapeFactor    0.003402              D2 EState_VSA2   \n",
       "15         D2 FractionCSP3    0.003308                D2 PEOE_VSA1   \n",
       "16         D2 FractionCSP3    0.003038               D2 SlogP_VSA2   \n",
       "17                 D2 NPR1    0.002907                 D2 SMR_VSA1   \n",
       "18            D2 PEOE_VSA1    0.002905                  D2 MolLogP   \n",
       "19  D2 InertialShapeFactor    0.002709      D2 InertialShapeFactor   \n",
       "\n",
       "   Relevance 1                       Feat 2 Relevance 2  \n",
       "0     0.245642                     D1 MolMR    0.320916  \n",
       "1     0.195147                     D2 MolMR    0.215875  \n",
       "2     0.062346                   D1 BertzCT    0.072413  \n",
       "3     0.057076                   D2 BertzCT    0.067018  \n",
       "4     0.048644                 D1 PEOE_VSA1    0.044067  \n",
       "5     0.046838            D2 HeavyAtomMolWt    0.040029  \n",
       "6     0.030797                  D2 BalabanJ    0.033935  \n",
       "7     0.026773                  D2 SMR_VSA1    0.016949  \n",
       "8     0.023566                      D2 NPR1    0.016426  \n",
       "9     0.017627               D2 VSA_EState2    0.013587  \n",
       "10    0.017497            D1 HeavyAtomMolWt    0.013107  \n",
       "11    0.017062                   D1 MolLogP    0.011854  \n",
       "12    0.015418                      D2 TPSA    0.011719  \n",
       "13    0.013245                D2 SlogP_VSA1    0.011082  \n",
       "14    0.012653              D2 Eccentricity    0.010603  \n",
       "15    0.011545                     D2 Chi2n     0.01007  \n",
       "16    0.010525                      D2 NPR2    0.007391  \n",
       "17    0.009401                     D2 Chi1v    0.007221  \n",
       "18    0.007613  D1 NumSaturatedHeterocycles    0.007178  \n",
       "19    0.007257                  D1 BalabanJ    0.006357  "
      ]
     },
     "execution_count": 110,
     "metadata": {},
     "output_type": "execute_result"
    }
   ],
   "source": [
    "featsB = pd.DataFrame([np.array(x_testB.columns),regressorB.feature_importances_]).transpose()\n",
    "featImportance = featsB.sort_values(by=1,ascending=False).head(20).reset_index(drop=True)\n",
    "featImportance.rename(columns={0:\"Feat B\",1:\"Relevance B\"},inplace=True)\n",
    "\n",
    "feats1 = pd.DataFrame([np.array(x_test1.columns),regressor1.feature_importances_]).transpose()\n",
    "featImportance[[\"Feat 1\",\"Relevance 1\"]] = feats1.sort_values(by=1,ascending=False).head(20).reset_index(drop=True)\n",
    "\n",
    "feats2 = pd.DataFrame([np.array(x_test2.columns),regressor2.feature_importances_]).transpose()\n",
    "featImportance[[\"Feat 2\",\"Relevance 2\"]] = feats2.sort_values(by=1,ascending=False).head(20).reset_index(drop=True)\n",
    "featImportance\n",
    "#note: BalabanJ, BertzCT, MolMR/SMR are similar features ranking high in 1 & 2\n",
    "#in the big classifier, there are very different feats, with the source being by far the strongest\n",
    "\n",
    "#new speculative hypothesis: The features above serve somehow as proxy in order to identify the source"
   ]
  },
  {
   "cell_type": "markdown",
   "id": "ba974e02-2d60-4a43-b34d-2af4b3a68d4e",
   "metadata": {},
   "source": [
    "#### 6. Tuning Features"
   ]
  },
  {
   "cell_type": "code",
   "execution_count": 41,
   "id": "1f866480-b29e-4b10-84a5-d414717743b9",
   "metadata": {},
   "outputs": [],
   "source": [
    "from sklearn.model_selection import train_test_split\n",
    "\n",
    "X = data1.iloc[:,9:]\n",
    "Y = data1.iloc[:,8]\n",
    "\n",
    "X_train,x_test,Y_train,y_test = train_test_split(X,Y,test_size=0.3,stratify=Y)"
   ]
  },
  {
   "cell_type": "code",
   "execution_count": null,
   "id": "fd4eed4e-cde5-40fe-8ca6-b9b765544d83",
   "metadata": {},
   "outputs": [],
   "source": [
    "#TEST AND TRAIN SWITCHED UP\n",
    "from sklearn.ensemble import RandomForestRegressor \n",
    "\n",
    "scoresTrain = []\n",
    "scoresTest = []\n",
    "\n",
    "max_depthF = [140,80,40,20,10] #10 and 20 is too little, then indifferent\n",
    "min_samples_splitF = [2,8,32,128] #overfitting; 32+ is best\n",
    "no_trees = [2,16,64,128] # beyond 16 some improvement, but not drastically: 32 seems reasonable\n",
    "\n",
    "print(\"starting now\")\n",
    "for k in range(1):#placeholder\n",
    "    localTrain3= []\n",
    "    localTest3 = []\n",
    "    for j in max_depthF:\n",
    "        localTrain2= []\n",
    "        localTest2 = []\n",
    "        for i in min_samples_splitF:\n",
    "            localTrain1= []\n",
    "            localTest1 = []\n",
    "            for l in no_trees:\n",
    "                regressorN = RandomForestRegressor(max_depth=j,\n",
    "                                               min_samples_split = i, bootstrap=True, n_jobs=-1,\n",
    "                                               n_estimators=l, verbose=True)\n",
    "                regressorN.fit(X_train.iloc[:,2:],Y_train)\n",
    "        \n",
    "                localTest1.append(np.mean(np.abs(regressorN.predict(x_test.iloc[:,2:])-y_test))) #do also train\n",
    "                localTrain1.append(np.mean(np.abs(regressorN.predict(X_train.iloc[:,2:])-Y_train))) \n",
    "            localTrain2.append(localTrain1)\n",
    "            localTest2.append(localTest1)\n",
    "        localTrain3.append(localTrain2)\n",
    "        localTest3.append(localTest2)\n",
    "        \n",
    "    scoresTrain.append(localTrain3)\n",
    "    scoresTest.append(localTest3)"
   ]
  },
  {
   "cell_type": "code",
   "execution_count": 82,
   "id": "095d377b-a327-490a-a560-c853f28aef3e",
   "metadata": {},
   "outputs": [
    {
     "data": {
      "text/plain": [
       "[<matplotlib.lines.Line2D at 0x7fd930a5fb50>]"
      ]
     },
     "execution_count": 82,
     "metadata": {},
     "output_type": "execute_result"
    },
    {
     "data": {
      "image/png": "[encoded data removed]",
      "text/plain": [
       "<Figure size 432x288 with 1 Axes>"
      ]
     },
     "metadata": {
      "needs_background": "light"
     },
     "output_type": "display_data"
    }
   ],
   "source": [
    "from matplotlib import pyplot as plt\n",
    "\n",
    "# main axis: max depth, second axis samples split, inner axis number trees\n",
    "plt.plot(np.array(scoresTest[0]).flatten())"
   ]
  },
  {
   "cell_type": "code",
   "execution_count": 84,
   "id": "346f84db-58ce-489b-84b5-53de617dc3c4",
   "metadata": {},
   "outputs": [
    {
     "data": {
      "text/plain": [
       "[<matplotlib.lines.Line2D at 0x7fd9309cea30>]"
      ]
     },
     "execution_count": 84,
     "metadata": {},
     "output_type": "execute_result"
    },
    {
     "data": {
      "image/png": "[encoded data removed]",
      "text/plain": [
       "<Figure size 432x288 with 1 Axes>"
      ]
     },
     "metadata": {
      "needs_background": "light"
     },
     "output_type": "display_data"
    }
   ],
   "source": [
    "plt.plot(np.array(scoresTrain[0]).flatten())"
   ]
  },
  {
   "cell_type": "markdown",
   "id": "e25d76b4-6955-418d-ab82-35732961166e",
   "metadata": {},
   "source": [
    "We note:<br>\n",
    "1. Overfitting for small minSample split: The smaller, the better the performance on training data, the worse on testing\n",
    "2. For Max depth so long as it is at least above a certain minimum it is indifferent\n",
    "3. Increases in number of trees levels off quickly"
   ]
  },
  {
   "cell_type": "code",
   "execution_count": 87,
   "id": "9111aa90-44c3-4f17-b04d-826a8cdf39f6",
   "metadata": {},
   "outputs": [
    {
     "name": "stderr",
     "output_type": "stream",
     "text": [
      "[Parallel(n_jobs=-1)]: Using backend ThreadingBackend with 128 concurrent workers.\n",
      "[Parallel(n_jobs=-1)]: Done  32 out of  35 | elapsed:   42.4s remaining:    4.0s\n",
      "[Parallel(n_jobs=-1)]: Done  35 out of  35 | elapsed:   43.9s finished\n"
     ]
    },
    {
     "data": {
      "text/plain": [
       "RandomForestRegressor(max_depth=40, min_samples_split=40, n_estimators=35,\n",
       "                      n_jobs=-1, verbose=True)"
      ]
     },
     "execution_count": 87,
     "metadata": {},
     "output_type": "execute_result"
    }
   ],
   "source": [
    "regressorB = RandomForestRegressor(max_depth=40,min_samples_split = 40,\n",
    "                                   bootstrap=True, n_jobs=-1,n_estimators=35, verbose=True)\n",
    "regressorB.fit(X_train.iloc[:,2:],Y_train)"
   ]
  },
  {
   "cell_type": "code",
   "execution_count": 90,
   "id": "61b60dbe-3f3f-47bd-b625-216729362a71",
   "metadata": {},
   "outputs": [
    {
     "name": "stderr",
     "output_type": "stream",
     "text": [
      "[Parallel(n_jobs=35)]: Using backend ThreadingBackend with 35 concurrent workers.\n",
      "[Parallel(n_jobs=35)]: Done   2 out of  35 | elapsed:    0.1s remaining:    1.3s\n",
      "[Parallel(n_jobs=35)]: Done  35 out of  35 | elapsed:    0.2s finished\n"
     ]
    },
    {
     "data": {
      "text/html": [
       "<div>\n",
       "<style scoped>\n",
       "    .dataframe tbody tr th:only-of-type {\n",
       "        vertical-align: middle;\n",
       "    }\n",
       "\n",
       "    .dataframe tbody tr th {\n",
       "        vertical-align: top;\n",
       "    }\n",
       "\n",
       "    .dataframe thead th {\n",
       "        text-align: right;\n",
       "    }\n",
       "</style>\n",
       "<table border=\"1\" class=\"dataframe\">\n",
       "  <thead>\n",
       "    <tr style=\"text-align: right;\">\n",
       "      <th></th>\n",
       "      <th>combination_idx</th>\n",
       "      <th>y_test</th>\n",
       "      <th>pred</th>\n",
       "    </tr>\n",
       "  </thead>\n",
       "  <tbody>\n",
       "    <tr>\n",
       "      <th>260319</th>\n",
       "      <td>71329</td>\n",
       "      <td>-1.1800</td>\n",
       "      <td>-2.404595</td>\n",
       "    </tr>\n",
       "    <tr>\n",
       "      <th>14806</th>\n",
       "      <td>2308</td>\n",
       "      <td>6.7875</td>\n",
       "      <td>0.248995</td>\n",
       "    </tr>\n",
       "    <tr>\n",
       "      <th>256715</th>\n",
       "      <td>6564</td>\n",
       "      <td>-2.6800</td>\n",
       "      <td>-1.249818</td>\n",
       "    </tr>\n",
       "    <tr>\n",
       "      <th>292634</th>\n",
       "      <td>11087</td>\n",
       "      <td>-2.6200</td>\n",
       "      <td>-0.773422</td>\n",
       "    </tr>\n",
       "    <tr>\n",
       "      <th>83888</th>\n",
       "      <td>13349</td>\n",
       "      <td>-0.6800</td>\n",
       "      <td>-0.454807</td>\n",
       "    </tr>\n",
       "  </tbody>\n",
       "</table>\n",
       "</div>"
      ],
      "text/plain": [
       "        combination_idx  y_test      pred\n",
       "260319            71329 -1.1800 -2.404595\n",
       "14806              2308  6.7875  0.248995\n",
       "256715             6564 -2.6800 -1.249818\n",
       "292634            11087 -2.6200 -0.773422\n",
       "83888             13349 -0.6800 -0.454807"
      ]
     },
     "execution_count": 90,
     "metadata": {},
     "output_type": "execute_result"
    }
   ],
   "source": [
    "pred = regressorB.predict(x_test.iloc[:,2:])\n",
    "\n",
    "obs = pd.DataFrame({\"combination_idx\":x_test.iloc[:,0],\"y_test\":y_test,\"pred\":pred})\n",
    "\n",
    "obs.head()"
   ]
  },
  {
   "cell_type": "code",
   "execution_count": 93,
   "id": "ad2c2e9e-cfd5-4220-b691-338b36d4a10b",
   "metadata": {},
   "outputs": [
    {
     "name": "stdout",
     "output_type": "stream",
     "text": [
      "Challenge Winner Performance: ~0.4\n",
      "Performance on Test Data:  0.058673697203231456\n"
     ]
    }
   ],
   "source": [
    "from scoring import primaryMetric\n",
    "print(\"Challenge Winner Performance: ~0.4\")\n",
    "print(\"Performance on Test Data: \",primaryMetric(obs))"
   ]
  },
  {
   "cell_type": "code",
   "execution_count": null,
   "id": "9d4dab2f-5b0c-49b2-952b-ca2589af0eab",
   "metadata": {},
   "outputs": [],
   "source": []
  }
 ],
 "metadata": {
  "kernelspec": {
   "display_name": "Python 3",
   "language": "python",
   "name": "python3"
  },
  "language_info": {
   "codemirror_mode": {
    "name": "ipython",
    "version": 3
   },
   "file_extension": ".py",
   "mimetype": "text/x-python",
   "name": "python",
   "nbconvert_exporter": "python",
   "pygments_lexer": "ipython3",
   "version": "3.8.8"
  }
 },
 "nbformat": 4,
 "nbformat_minor": 5
}
