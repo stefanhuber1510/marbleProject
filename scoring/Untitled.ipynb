{
 "cells": [
  {
   "cell_type": "markdown",
   "id": "15bd2444-4a6d-445a-ac12-7e33c178c4d6",
   "metadata": {},
   "source": [
    "#### Experiments to be sorted later\n",
    "\n",
    "What I need to do:\n",
    "\n",
    "-Validate RF on different scoring metric\n",
    "\n",
    "-Parameter tuning of RF\n",
    "\n",
    "\n",
    "\n",
    "Data cleaning:\n",
    "-average double entries\n",
    "-use maccskeys for a RF\n",
    "\n",
    "New dataset:\n",
    "-fix variability above 100 down to 100\n",
    "-"
   ]
  },
  {
   "cell_type": "code",
   "execution_count": 1,
   "id": "5286024a-82a5-4eb6-b81d-8263af4f61f6",
   "metadata": {},
   "outputs": [],
   "source": [
    "# temporary working here to deal with double values and insert it later as new section before section joining"
   ]
  },
  {
   "cell_type": "code",
   "execution_count": 21,
   "id": "67cd60e4-cf9a-4b57-b798-44d69c1eabbd",
   "metadata": {},
   "outputs": [],
   "source": [
    "import numpy as np\n",
    "import pandas as pd"
   ]
  },
  {
   "cell_type": "code",
   "execution_count": 40,
   "id": "06f83270-db52-45d5-8490-438cb26a6468",
   "metadata": {},
   "outputs": [
    {
     "name": "stdout",
     "output_type": "stream",
     "text": [
      "498865 different Combinations\n"
     ]
    },
    {
     "data": {
      "text/html": [
       "<div>\n",
       "<style scoped>\n",
       "    .dataframe tbody tr th:only-of-type {\n",
       "        vertical-align: middle;\n",
       "    }\n",
       "\n",
       "    .dataframe tbody tr th {\n",
       "        vertical-align: top;\n",
       "    }\n",
       "\n",
       "    .dataframe thead th {\n",
       "        text-align: right;\n",
       "    }\n",
       "</style>\n",
       "<table border=\"1\" class=\"dataframe\">\n",
       "  <thead>\n",
       "    <tr style=\"text-align: right;\">\n",
       "      <th></th>\n",
       "      <th>ID</th>\n",
       "      <th>Drug1</th>\n",
       "      <th>Drug2</th>\n",
       "      <th>Cell line</th>\n",
       "      <th>ZIP</th>\n",
       "      <th>Bliss</th>\n",
       "      <th>Loewe</th>\n",
       "      <th>HSA</th>\n",
       "    </tr>\n",
       "  </thead>\n",
       "  <tbody>\n",
       "    <tr>\n",
       "      <th>0</th>\n",
       "      <td>1</td>\n",
       "      <td>5-fu</td>\n",
       "      <td>abt-888</td>\n",
       "      <td>A2058</td>\n",
       "      <td>1.72</td>\n",
       "      <td>6.26</td>\n",
       "      <td>-2.75</td>\n",
       "      <td>5.54</td>\n",
       "    </tr>\n",
       "    <tr>\n",
       "      <th>1</th>\n",
       "      <td>2</td>\n",
       "      <td>5-fu</td>\n",
       "      <td>abt-888</td>\n",
       "      <td>A2058</td>\n",
       "      <td>5.88</td>\n",
       "      <td>12.33</td>\n",
       "      <td>3.33</td>\n",
       "      <td>11.61</td>\n",
       "    </tr>\n",
       "  </tbody>\n",
       "</table>\n",
       "</div>"
      ],
      "text/plain": [
       "   ID Drug1    Drug2 Cell line   ZIP  Bliss  Loewe    HSA\n",
       "0   1  5-fu  abt-888     A2058  1.72   6.26  -2.75   5.54\n",
       "1   2  5-fu  abt-888     A2058  5.88  12.33   3.33  11.61"
      ]
     },
     "execution_count": 40,
     "metadata": {},
     "output_type": "execute_result"
    }
   ],
   "source": [
    "# drugCombDB data\n",
    "dta = pd.read_csv(\"../drugCombDBdata/synergy-score-data/REGRdrugcombs_scored.csv\")\n",
    "print(str(len(dta))+\" different Combinations\")\n",
    "dta.dropna(inplace=True)\n",
    "\n",
    "dta[\"Drug1\"] = pd.Series(dta[\"Drug1\"],dtype=\"string\").str.lower()\n",
    "dta[\"Drug2\"] = pd.Series(dta[\"Drug2\"],dtype=\"string\").str.lower()\n",
    "\n",
    "dta.reset_index(drop=True,inplace=True)\n",
    "dta.head(2)"
   ]
  },
  {
   "cell_type": "markdown",
   "id": "82d1409d-6ab2-482c-94eb-6323ea3d29e8",
   "metadata": {},
   "source": [
    "## do this after dropping duplicates, else everything is a duplikate\n",
    "\n",
    "# double Data\n",
    "dataReversed = dta\n",
    "dataReversed = dataReversed.rename(columns={\"Drug1\":\"Drug2\",\"Drug2\":\"Drug1\"})\n",
    "\n",
    "dataDouble = dta.append(dataReversed)\n",
    "dataDouble.drop(\"ID\",axis=1,inplace=True)\n",
    "dataDouble.reset_index(inplace=True)\n",
    "dataDouble.drop(\"index\",axis=1,inplace=True)\n",
    "\n",
    "print(len(dataDouble),\" records in this frame\")\n",
    "data=dataDouble\n",
    "dataDouble.head(2)"
   ]
  },
  {
   "cell_type": "code",
   "execution_count": 4,
   "id": "1d086e60-54e9-4afe-9528-5c9dba3f1af2",
   "metadata": {},
   "outputs": [],
   "source": [
    "# concatenate Drug1 and 2 alphabetically - TIME: 14 mins\n",
    "data = dta\n",
    "sorted_conc_drugs=[]\n",
    "for row in range(len(data)):\n",
    "    d1 = data.iloc[row][\"Drug1\"]\n",
    "    d2 = data.iloc[row][\"Drug2\"]\n",
    "    if d1 < d2:\n",
    "        sorted_conc_drugs.append(d1+d2+data.iloc[row][\"Cell line\"])\n",
    "    else:\n",
    "        sorted_conc_drugs.append(d2+d1+data.iloc[row][\"Cell line\"])\n",
    "sorted_conc_drugs = pd.Series(sorted_conc_drugs)"
   ]
  },
  {
   "cell_type": "markdown",
   "id": "0073fc20-2b65-4806-ab50-ae073ff153ba",
   "metadata": {},
   "source": [
    "### I had the problem that the concatenated names did not match the original ones. Fix this issue here and then execute the cells below for replacing the Duplikates "
   ]
  },
  {
   "cell_type": "code",
   "execution_count": 43,
   "id": "7316defb-dff3-4ae9-870e-5f8c80df8642",
   "metadata": {},
   "outputs": [],
   "source": [
    "# attach the joined names to the dataframe\n",
    "numerator = pd.DataFrame(list(set(sorted_conc_drugs)))\n",
    "numerator.reset_index(inplace=True)\n",
    "\n",
    "data['drug_drug2'] = sorted_conc_drugs\n",
    "data = data.join(numerator.set_index(0),on=\"drug_drug2\",how=\"left\")"
   ]
  },
  {
   "cell_type": "code",
   "execution_count": 44,
   "id": "284e292b-d5a7-4014-bd18-2d913712abfe",
   "metadata": {},
   "outputs": [
    {
     "data": {
      "text/html": [
       "<div>\n",
       "<style scoped>\n",
       "    .dataframe tbody tr th:only-of-type {\n",
       "        vertical-align: middle;\n",
       "    }\n",
       "\n",
       "    .dataframe tbody tr th {\n",
       "        vertical-align: top;\n",
       "    }\n",
       "\n",
       "    .dataframe thead th {\n",
       "        text-align: right;\n",
       "    }\n",
       "</style>\n",
       "<table border=\"1\" class=\"dataframe\">\n",
       "  <thead>\n",
       "    <tr style=\"text-align: right;\">\n",
       "      <th></th>\n",
       "      <th>drug_drug2</th>\n",
       "      <th>ID</th>\n",
       "      <th>Drug1</th>\n",
       "      <th>Drug2</th>\n",
       "      <th>Cell line</th>\n",
       "      <th>ZIP</th>\n",
       "      <th>Bliss</th>\n",
       "      <th>Loewe</th>\n",
       "      <th>index</th>\n",
       "      <th>HSA</th>\n",
       "    </tr>\n",
       "  </thead>\n",
       "  <tbody>\n",
       "    <tr>\n",
       "      <th>0</th>\n",
       "      <td>5-fuabt-888A2058</td>\n",
       "      <td>1</td>\n",
       "      <td>5-fu</td>\n",
       "      <td>abt-888</td>\n",
       "      <td>A2058</td>\n",
       "      <td>1.72</td>\n",
       "      <td>6.26</td>\n",
       "      <td>-2.75</td>\n",
       "      <td>284469</td>\n",
       "      <td>5.54</td>\n",
       "    </tr>\n",
       "    <tr>\n",
       "      <th>1</th>\n",
       "      <td>5-fuabt-888A2058</td>\n",
       "      <td>2</td>\n",
       "      <td>5-fu</td>\n",
       "      <td>abt-888</td>\n",
       "      <td>A2058</td>\n",
       "      <td>5.88</td>\n",
       "      <td>12.33</td>\n",
       "      <td>3.33</td>\n",
       "      <td>284469</td>\n",
       "      <td>11.61</td>\n",
       "    </tr>\n",
       "    <tr>\n",
       "      <th>2</th>\n",
       "      <td>5-fuabt-888A2058</td>\n",
       "      <td>3</td>\n",
       "      <td>5-fu</td>\n",
       "      <td>abt-888</td>\n",
       "      <td>A2058</td>\n",
       "      <td>3.59</td>\n",
       "      <td>11.66</td>\n",
       "      <td>2.65</td>\n",
       "      <td>284469</td>\n",
       "      <td>10.94</td>\n",
       "    </tr>\n",
       "    <tr>\n",
       "      <th>3</th>\n",
       "      <td>5-fuabt-888A2058</td>\n",
       "      <td>4</td>\n",
       "      <td>5-fu</td>\n",
       "      <td>abt-888</td>\n",
       "      <td>A2058</td>\n",
       "      <td>-0.85</td>\n",
       "      <td>5.15</td>\n",
       "      <td>-3.86</td>\n",
       "      <td>284469</td>\n",
       "      <td>4.43</td>\n",
       "    </tr>\n",
       "    <tr>\n",
       "      <th>4</th>\n",
       "      <td>5-fuazd1775A2058</td>\n",
       "      <td>5</td>\n",
       "      <td>5-fu</td>\n",
       "      <td>azd1775</td>\n",
       "      <td>A2058</td>\n",
       "      <td>12.29</td>\n",
       "      <td>15.77</td>\n",
       "      <td>10.40</td>\n",
       "      <td>29611</td>\n",
       "      <td>18.66</td>\n",
       "    </tr>\n",
       "  </tbody>\n",
       "</table>\n",
       "</div>"
      ],
      "text/plain": [
       "         drug_drug2  ID Drug1    Drug2 Cell line    ZIP  Bliss  Loewe   index  \\\n",
       "0  5-fuabt-888A2058   1  5-fu  abt-888     A2058   1.72   6.26  -2.75  284469   \n",
       "1  5-fuabt-888A2058   2  5-fu  abt-888     A2058   5.88  12.33   3.33  284469   \n",
       "2  5-fuabt-888A2058   3  5-fu  abt-888     A2058   3.59  11.66   2.65  284469   \n",
       "3  5-fuabt-888A2058   4  5-fu  abt-888     A2058  -0.85   5.15  -3.86  284469   \n",
       "4  5-fuazd1775A2058   5  5-fu  azd1775     A2058  12.29  15.77  10.40   29611   \n",
       "\n",
       "     HSA  \n",
       "0   5.54  \n",
       "1  11.61  \n",
       "2  10.94  \n",
       "3   4.43  \n",
       "4  18.66  "
      ]
     },
     "execution_count": 44,
     "metadata": {},
     "output_type": "execute_result"
    }
   ],
   "source": [
    "#get the 2 new columns to the beginning\n",
    " \n",
    "cols = data.columns.tolist()\n",
    "cols = cols[-2:] + cols[:-2]\n",
    "cols = cols[0:1] + cols[2:9] + cols[1:2] + cols[9:]\n",
    "data = data[cols]\n",
    "data.head()"
   ]
  },
  {
   "cell_type": "code",
   "execution_count": 45,
   "id": "a4d7b160-b153-417e-ac50-909ed4e56ba1",
   "metadata": {},
   "outputs": [
    {
     "name": "stdout",
     "output_type": "stream",
     "text": [
      "In this dataset there are\n",
      "405745  drug-drug-cell combinations\n",
      "that have only been tested once\n",
      "\n",
      " additionally there are less than  46554.5  combinations that are tested more than once\n"
     ]
    }
   ],
   "source": [
    "print(\"In this dataset there are\")\n",
    "print(len(data[\"index\"].unique()), \" drug-drug-cell combinations\")\n",
    "print(\"that have only been tested once\")\n",
    "print(\"\\n\",\"additionally there are less than \",sum(data[\"index\"].duplicated())/2,\" combinations that are tested more than once\")"
   ]
  },
  {
   "cell_type": "code",
   "execution_count": 46,
   "id": "c4383bd6-0dc4-4c48-ad36-202bb6711eb3",
   "metadata": {},
   "outputs": [
    {
     "data": {
      "text/html": [
       "<div>\n",
       "<style scoped>\n",
       "    .dataframe tbody tr th:only-of-type {\n",
       "        vertical-align: middle;\n",
       "    }\n",
       "\n",
       "    .dataframe tbody tr th {\n",
       "        vertical-align: top;\n",
       "    }\n",
       "\n",
       "    .dataframe thead th {\n",
       "        text-align: right;\n",
       "    }\n",
       "</style>\n",
       "<table border=\"1\" class=\"dataframe\">\n",
       "  <thead>\n",
       "    <tr style=\"text-align: right;\">\n",
       "      <th></th>\n",
       "      <th>drug_drug2</th>\n",
       "      <th>ID</th>\n",
       "      <th>Drug1</th>\n",
       "      <th>Drug2</th>\n",
       "      <th>Cell line</th>\n",
       "      <th>ZIP</th>\n",
       "      <th>Bliss</th>\n",
       "      <th>Loewe</th>\n",
       "      <th>index</th>\n",
       "      <th>HSA</th>\n",
       "    </tr>\n",
       "  </thead>\n",
       "  <tbody>\n",
       "    <tr>\n",
       "      <th>0</th>\n",
       "      <td>5-fuabt-888A2058</td>\n",
       "      <td>1</td>\n",
       "      <td>5-fu</td>\n",
       "      <td>abt-888</td>\n",
       "      <td>A2058</td>\n",
       "      <td>1.720</td>\n",
       "      <td>6.260</td>\n",
       "      <td>-2.750</td>\n",
       "      <td>284469</td>\n",
       "      <td>5.540</td>\n",
       "    </tr>\n",
       "    <tr>\n",
       "      <th>1</th>\n",
       "      <td>5-fuabt-888A2058</td>\n",
       "      <td>2</td>\n",
       "      <td>5-fu</td>\n",
       "      <td>abt-888</td>\n",
       "      <td>A2058</td>\n",
       "      <td>5.880</td>\n",
       "      <td>12.330</td>\n",
       "      <td>3.330</td>\n",
       "      <td>284469</td>\n",
       "      <td>11.610</td>\n",
       "    </tr>\n",
       "    <tr>\n",
       "      <th>2</th>\n",
       "      <td>5-fuabt-888A2058</td>\n",
       "      <td>3</td>\n",
       "      <td>5-fu</td>\n",
       "      <td>abt-888</td>\n",
       "      <td>A2058</td>\n",
       "      <td>3.590</td>\n",
       "      <td>11.660</td>\n",
       "      <td>2.650</td>\n",
       "      <td>284469</td>\n",
       "      <td>10.940</td>\n",
       "    </tr>\n",
       "    <tr>\n",
       "      <th>3</th>\n",
       "      <td>5-fuabt-888A2058</td>\n",
       "      <td>4</td>\n",
       "      <td>5-fu</td>\n",
       "      <td>abt-888</td>\n",
       "      <td>A2058</td>\n",
       "      <td>-0.850</td>\n",
       "      <td>5.150</td>\n",
       "      <td>-3.860</td>\n",
       "      <td>284469</td>\n",
       "      <td>4.430</td>\n",
       "    </tr>\n",
       "    <tr>\n",
       "      <th>4</th>\n",
       "      <td>5-fuazd1775A2058</td>\n",
       "      <td>5</td>\n",
       "      <td>5-fu</td>\n",
       "      <td>azd1775</td>\n",
       "      <td>A2058</td>\n",
       "      <td>12.290</td>\n",
       "      <td>15.770</td>\n",
       "      <td>10.400</td>\n",
       "      <td>29611</td>\n",
       "      <td>18.660</td>\n",
       "    </tr>\n",
       "    <tr>\n",
       "      <th>...</th>\n",
       "      <td>...</td>\n",
       "      <td>...</td>\n",
       "      <td>...</td>\n",
       "      <td>...</td>\n",
       "      <td>...</td>\n",
       "      <td>...</td>\n",
       "      <td>...</td>\n",
       "      <td>...</td>\n",
       "      <td>...</td>\n",
       "      <td>...</td>\n",
       "    </tr>\n",
       "    <tr>\n",
       "      <th>498849</th>\n",
       "      <td>mitomycin cvalproic acid sodium saltDIPG25</td>\n",
       "      <td>498861</td>\n",
       "      <td>mitomycin c</td>\n",
       "      <td>valproic acid sodium salt</td>\n",
       "      <td>DIPG25</td>\n",
       "      <td>-3.076</td>\n",
       "      <td>-11.124</td>\n",
       "      <td>-6.078</td>\n",
       "      <td>245634</td>\n",
       "      <td>-6.367</td>\n",
       "    </tr>\n",
       "    <tr>\n",
       "      <th>498850</th>\n",
       "      <td>cyaneinvalproic acid sodium saltDIPG25</td>\n",
       "      <td>498862</td>\n",
       "      <td>cyanein</td>\n",
       "      <td>valproic acid sodium salt</td>\n",
       "      <td>DIPG25</td>\n",
       "      <td>1.320</td>\n",
       "      <td>-1.091</td>\n",
       "      <td>-16.157</td>\n",
       "      <td>339273</td>\n",
       "      <td>1.139</td>\n",
       "    </tr>\n",
       "    <tr>\n",
       "      <th>498851</th>\n",
       "      <td>erlotinibvalproic acid sodium saltDIPG25</td>\n",
       "      <td>498863</td>\n",
       "      <td>erlotinib</td>\n",
       "      <td>valproic acid sodium salt</td>\n",
       "      <td>DIPG25</td>\n",
       "      <td>-15.768</td>\n",
       "      <td>-15.776</td>\n",
       "      <td>-25.465</td>\n",
       "      <td>177348</td>\n",
       "      <td>-6.212</td>\n",
       "    </tr>\n",
       "    <tr>\n",
       "      <th>498852</th>\n",
       "      <td>bafilomycin a1valproic acid sodium saltDIPG25</td>\n",
       "      <td>498864</td>\n",
       "      <td>bafilomycin a1</td>\n",
       "      <td>valproic acid sodium salt</td>\n",
       "      <td>DIPG25</td>\n",
       "      <td>2.208</td>\n",
       "      <td>10.567</td>\n",
       "      <td>-9.455</td>\n",
       "      <td>268238</td>\n",
       "      <td>1.525</td>\n",
       "    </tr>\n",
       "    <tr>\n",
       "      <th>498853</th>\n",
       "      <td>mebendazolevalproic acid sodium saltDIPG25</td>\n",
       "      <td>498865</td>\n",
       "      <td>mebendazole</td>\n",
       "      <td>valproic acid sodium salt</td>\n",
       "      <td>DIPG25</td>\n",
       "      <td>6.807</td>\n",
       "      <td>11.948</td>\n",
       "      <td>-18.311</td>\n",
       "      <td>95825</td>\n",
       "      <td>1.149</td>\n",
       "    </tr>\n",
       "  </tbody>\n",
       "</table>\n",
       "<p>498854 rows × 10 columns</p>\n",
       "</div>"
      ],
      "text/plain": [
       "                                           drug_drug2      ID           Drug1  \\\n",
       "0                                    5-fuabt-888A2058       1            5-fu   \n",
       "1                                    5-fuabt-888A2058       2            5-fu   \n",
       "2                                    5-fuabt-888A2058       3            5-fu   \n",
       "3                                    5-fuabt-888A2058       4            5-fu   \n",
       "4                                    5-fuazd1775A2058       5            5-fu   \n",
       "...                                               ...     ...             ...   \n",
       "498849     mitomycin cvalproic acid sodium saltDIPG25  498861     mitomycin c   \n",
       "498850         cyaneinvalproic acid sodium saltDIPG25  498862         cyanein   \n",
       "498851       erlotinibvalproic acid sodium saltDIPG25  498863       erlotinib   \n",
       "498852  bafilomycin a1valproic acid sodium saltDIPG25  498864  bafilomycin a1   \n",
       "498853     mebendazolevalproic acid sodium saltDIPG25  498865     mebendazole   \n",
       "\n",
       "                            Drug2 Cell line     ZIP   Bliss   Loewe   index  \\\n",
       "0                         abt-888     A2058   1.720   6.260  -2.750  284469   \n",
       "1                         abt-888     A2058   5.880  12.330   3.330  284469   \n",
       "2                         abt-888     A2058   3.590  11.660   2.650  284469   \n",
       "3                         abt-888     A2058  -0.850   5.150  -3.860  284469   \n",
       "4                         azd1775     A2058  12.290  15.770  10.400   29611   \n",
       "...                           ...       ...     ...     ...     ...     ...   \n",
       "498849  valproic acid sodium salt    DIPG25  -3.076 -11.124  -6.078  245634   \n",
       "498850  valproic acid sodium salt    DIPG25   1.320  -1.091 -16.157  339273   \n",
       "498851  valproic acid sodium salt    DIPG25 -15.768 -15.776 -25.465  177348   \n",
       "498852  valproic acid sodium salt    DIPG25   2.208  10.567  -9.455  268238   \n",
       "498853  valproic acid sodium salt    DIPG25   6.807  11.948 -18.311   95825   \n",
       "\n",
       "           HSA  \n",
       "0        5.540  \n",
       "1       11.610  \n",
       "2       10.940  \n",
       "3        4.430  \n",
       "4       18.660  \n",
       "...        ...  \n",
       "498849  -6.367  \n",
       "498850   1.139  \n",
       "498851  -6.212  \n",
       "498852   1.525  \n",
       "498853   1.149  \n",
       "\n",
       "[498854 rows x 10 columns]"
      ]
     },
     "execution_count": 46,
     "metadata": {},
     "output_type": "execute_result"
    }
   ],
   "source": [
    "data"
   ]
  },
  {
   "cell_type": "code",
   "execution_count": 62,
   "id": "c342b6b8-748a-4211-b43b-a6e2b0767954",
   "metadata": {},
   "outputs": [
    {
     "name": "stdout",
     "output_type": "stream",
     "text": [
      "hi\n"
     ]
    }
   ],
   "source": [
    "%%capture --no-stdout\n",
    "print(\"hi\")"
   ]
  },
  {
   "cell_type": "code",
   "execution_count": 66,
   "id": "a8100518-18bb-4095-b3d4-bdebc388054d",
   "metadata": {},
   "outputs": [
    {
     "name": "stdout",
     "output_type": "stream",
     "text": [
      "total indices  5000\n",
      "total indices  10000\n",
      "total indices  15000\n",
      "total indices  20000\n",
      "total indices  25000\n",
      "total indices  30000\n",
      "total indices  35000\n",
      "total indices  40000\n"
     ]
    }
   ],
   "source": [
    "%%capture --no-stdout\n",
    "\n",
    "countDuplikates = []\n",
    "i=0\n",
    "\n",
    "\n",
    "for comb in set(data[data[\"index\"].duplicated()][\"index\"]):\n",
    "    \n",
    "    subdf = data[data[\"index\"]==comb]\n",
    "    i+=1\n",
    "\n",
    "    #time measurement\n",
    "    if i%5000 == 0:\n",
    "        try:\n",
    "            print(\"total indices \",i)\n",
    "        except:\n",
    "            print(\"some error\")\n",
    "    \n",
    "    # for later statistics\n",
    "    countDuplikates.append(len(subdf))\n",
    "    \n",
    "    # compute mean of each series of experiements & set it as values for the first occurence. I'll drop the rest later\n",
    "    means = np.mean(subdf)\n",
    "    data[\"HSA\"][subdf.iloc[0][\"ID\"]-1] = means[\"HSA\"]\n",
    "    data[\"ZIP\"][subdf.iloc[0][\"ID\"]-1] = means[\"ZIP\"]\n",
    "    data[\"Bliss\"][subdf.iloc[0][\"ID\"]-1] = means[\"Bliss\"]\n",
    "    data[\"Loewe\"][subdf.iloc[0][\"ID\"]-1] = means[\"Loewe\"]"
   ]
  },
  {
   "cell_type": "markdown",
   "id": "8a414452-90eb-426b-8d1f-c2b51a8c7a84",
   "metadata": {},
   "source": [
    "Keep first here\n",
    "\n",
    "then separate from extreme HSA scores\n",
    "\n",
    "then compare dummy & RFs again"
   ]
  },
  {
   "cell_type": "code",
   "execution_count": 69,
   "id": "732e552e-2d53-4ca2-afee-1c165b5dce7a",
   "metadata": {},
   "outputs": [],
   "source": [
    "data = data.drop_duplicates(subset=\"index\",keep=\"first\")"
   ]
  },
  {
   "cell_type": "code",
   "execution_count": 81,
   "id": "565f473f-8c89-4378-bb5b-0693e6b20dc8",
   "metadata": {},
   "outputs": [
    {
     "data": {
      "text/plain": [
       "(array([   298.,    327.,    917.,   3909., 107800., 178513.,   6427.,\n",
       "          1140.,    426.,    243.]),\n",
       " array([-87.82 , -70.607, -53.394, -36.181, -18.968,  -1.755,  15.458,\n",
       "         32.671,  49.884,  67.097,  84.31 ]),\n",
       " <BarContainer object of 10 artists>)"
      ]
     },
     "execution_count": 81,
     "metadata": {},
     "output_type": "execute_result"
    },
    {
     "data": {
      "image/png": "[encoded data removed]",
      "text/plain": [
       "<Figure size 432x288 with 1 Axes>"
      ]
     },
     "metadata": {
      "needs_background": "light"
     },
     "output_type": "display_data"
    }
   ],
   "source": [
    "import matplotlib.pyplot as plt\n",
    "plt.hist(data[\"HSA\"][0:300000])"
   ]
  },
  {
   "cell_type": "code",
   "execution_count": 102,
   "id": "5c9ec362-0c7b-4e8d-b34f-168f27f80256",
   "metadata": {},
   "outputs": [
    {
     "data": {
      "text/plain": [
       "[<matplotlib.lines.Line2D at 0x7fe442cc2dc0>]"
      ]
     },
     "execution_count": 102,
     "metadata": {},
     "output_type": "execute_result"
    },
    {
     "data": {
      "image/png": "[encoded data removed]",
      "text/plain": [
       "<Figure size 432x288 with 1 Axes>"
      ]
     },
     "metadata": {
      "needs_background": "light"
     },
     "output_type": "display_data"
    }
   ],
   "source": [
    "plt.plot(data[\"HSA\"][0:370000])"
   ]
  },
  {
   "cell_type": "code",
   "execution_count": 104,
   "id": "13cb9479-6e29-4d6f-93c9-35ee6a6b595b",
   "metadata": {},
   "outputs": [
    {
     "data": {
      "text/plain": [
       "[<matplotlib.lines.Line2D at 0x7fe442c028e0>]"
      ]
     },
     "execution_count": 104,
     "metadata": {},
     "output_type": "execute_result"
    },
    {
     "data": {
      "image/png": "[encoded data removed]",
      "text/plain": [
       "<Figure size 432x288 with 1 Axes>"
      ]
     },
     "metadata": {
      "needs_background": "light"
     },
     "output_type": "display_data"
    }
   ],
   "source": [
    "plt.plot(data[\"HSA\"][370000:])"
   ]
  },
  {
   "cell_type": "code",
   "execution_count": null,
   "id": "d1ad137d-16f8-4eaa-a45f-d0a94c06a030",
   "metadata": {},
   "outputs": [],
   "source": []
  },
  {
   "cell_type": "code",
   "execution_count": null,
   "id": "89babc9e-f3e5-4457-834b-4ed4abfadbf1",
   "metadata": {},
   "outputs": [],
   "source": []
  },
  {
   "cell_type": "code",
   "execution_count": null,
   "id": "112bf504-a4a2-403f-9b0f-7d9adb0915ba",
   "metadata": {},
   "outputs": [],
   "source": []
  },
  {
   "cell_type": "code",
   "execution_count": null,
   "id": "e88b0c08-6b63-4e0b-8eaf-d6d93ac09187",
   "metadata": {},
   "outputs": [],
   "source": []
  },
  {
   "cell_type": "code",
   "execution_count": null,
   "id": "d23ca095-344d-471d-8990-3218b650cfb8",
   "metadata": {},
   "outputs": [],
   "source": []
  },
  {
   "cell_type": "code",
   "execution_count": null,
   "id": "007d4f9f-3494-4151-8e51-520fbbacd9c0",
   "metadata": {},
   "outputs": [],
   "source": []
  }
 ],
 "metadata": {
  "kernelspec": {
   "display_name": "Python 3",
   "language": "python",
   "name": "python3"
  },
  "language_info": {
   "codemirror_mode": {
    "name": "ipython",
    "version": 3
   },
   "file_extension": ".py",
   "mimetype": "text/x-python",
   "name": "python",
   "nbconvert_exporter": "python",
   "pygments_lexer": "ipython3",
   "version": "3.8.8"
  }
 },
 "nbformat": 4,
 "nbformat_minor": 5
}
