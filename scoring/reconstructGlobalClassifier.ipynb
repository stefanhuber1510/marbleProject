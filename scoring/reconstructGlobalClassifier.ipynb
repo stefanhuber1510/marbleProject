{
 "cells": [
  {
   "cell_type": "markdown",
   "metadata": {},
   "source": [
    "### Global Classifier from Yuanfang\n",
    "\n",
    "The global classifier from the Yuanfang Paper on the challenge has proven so much more successful than my current model, that I start to believe that the specific monotherapy data are simply better predictors than my chemical features. This would also be a finding<br>\n",
    "Theory for later: Maybe RFs are not the ideal model to model those curves. What would be more helpful is something that models the sigmoid curves (which is supplied in \"Quality data\" in dream challenge but not present here)"
   ]
  },
  {
   "cell_type": "markdown",
   "metadata": {},
   "source": [
    "Send Ammar the dataset as csv in zipped form!!<br><br>\n",
    "\n",
    "JUSTIFY EVRYTHING YOU DO<br>\n",
    "Get the gender dummies back<br>\n",
    "Rplace depth with feat split<br>\n",
    "use as maximisation metric the scoring function after speeding up the for loops<br>\n",
    "Proof theory of age being not actually important but just single cell line feature<br>\n",
    "from astra Data: Also consider disease area"
   ]
  },
  {
   "cell_type": "code",
   "execution_count": null,
   "metadata": {},
   "outputs": [],
   "source": []
  },
  {
   "cell_type": "code",
   "execution_count": null,
   "metadata": {},
   "outputs": [],
   "source": []
  },
  {
   "cell_type": "markdown",
   "metadata": {},
   "source": [
    "#### First run no advanced cell lines"
   ]
  },
  {
   "cell_type": "code",
   "execution_count": 1,
   "metadata": {},
   "outputs": [],
   "source": [
    "import numpy as np\n",
    "import pandas as pd\n",
    "import _pickle as pkl"
   ]
  },
  {
   "cell_type": "code",
   "execution_count": 2,
   "metadata": {},
   "outputs": [
    {
     "name": "stdout",
     "output_type": "stream",
     "text": [
      "(6103237, 11)\n"
     ]
    }
   ],
   "source": [
    "data = pd.read_csv(\"../drugCombDBdata/drugcombs_response.csv\") #df1 for smaller set\n",
    "print(data.shape)"
   ]
  },
  {
   "cell_type": "code",
   "execution_count": 3,
   "metadata": {},
   "outputs": [
    {
     "data": {
      "text/plain": [
       "BlockID        359695\n",
       "Row                 1\n",
       "Col                 3\n",
       "DrugRow           NaN\n",
       "DrugCol           nih\n",
       "ConcRow           NaN\n",
       "ConcCol           NaN\n",
       "Response          NaN\n",
       "ConcRowUnit       NaN\n",
       "ConcColUnit       NaN\n",
       "source            NaN\n",
       "Name: 6103010, dtype: object"
      ]
     },
     "execution_count": 3,
     "metadata": {},
     "output_type": "execute_result"
    }
   ],
   "source": [
    "#only nonsense datapoint\n",
    "data.iloc[6103010]"
   ]
  },
  {
   "cell_type": "markdown",
   "metadata": {},
   "source": [
    "data = df1[df1[\"source\"]==\"ONEIL\"]\n",
    "del df1\n",
    "print(data.shape)\n",
    "data.head(2)"
   ]
  },
  {
   "cell_type": "code",
   "execution_count": 4,
   "metadata": {},
   "outputs": [
    {
     "name": "stdout",
     "output_type": "stream",
     "text": [
      "(6103237, 12)\n"
     ]
    },
    {
     "data": {
      "text/html": [
       "<div>\n",
       "<style scoped>\n",
       "    .dataframe tbody tr th:only-of-type {\n",
       "        vertical-align: middle;\n",
       "    }\n",
       "\n",
       "    .dataframe tbody tr th {\n",
       "        vertical-align: top;\n",
       "    }\n",
       "\n",
       "    .dataframe thead th {\n",
       "        text-align: right;\n",
       "    }\n",
       "</style>\n",
       "<table border=\"1\" class=\"dataframe\">\n",
       "  <thead>\n",
       "    <tr style=\"text-align: right;\">\n",
       "      <th></th>\n",
       "      <th>BlockID</th>\n",
       "      <th>Row</th>\n",
       "      <th>Col</th>\n",
       "      <th>DrugRow</th>\n",
       "      <th>DrugCol</th>\n",
       "      <th>ConcRow</th>\n",
       "      <th>ConcCol</th>\n",
       "      <th>Response</th>\n",
       "      <th>ConcRowUnit</th>\n",
       "      <th>ConcColUnit</th>\n",
       "      <th>source</th>\n",
       "      <th>Cell line</th>\n",
       "    </tr>\n",
       "  </thead>\n",
       "  <tbody>\n",
       "    <tr>\n",
       "      <th>0</th>\n",
       "      <td>1</td>\n",
       "      <td>1</td>\n",
       "      <td>1</td>\n",
       "      <td>5-FU</td>\n",
       "      <td>ABT-888</td>\n",
       "      <td>0.0</td>\n",
       "      <td>0.00</td>\n",
       "      <td>100.000626</td>\n",
       "      <td>uM</td>\n",
       "      <td>uM</td>\n",
       "      <td>ONEIL</td>\n",
       "      <td>A2058</td>\n",
       "    </tr>\n",
       "    <tr>\n",
       "      <th>1</th>\n",
       "      <td>1</td>\n",
       "      <td>1</td>\n",
       "      <td>2</td>\n",
       "      <td>5-FU</td>\n",
       "      <td>ABT-888</td>\n",
       "      <td>0.0</td>\n",
       "      <td>0.35</td>\n",
       "      <td>101.993009</td>\n",
       "      <td>uM</td>\n",
       "      <td>uM</td>\n",
       "      <td>ONEIL</td>\n",
       "      <td>A2058</td>\n",
       "    </tr>\n",
       "  </tbody>\n",
       "</table>\n",
       "</div>"
      ],
      "text/plain": [
       "   BlockID  Row  Col DrugRow  DrugCol  ConcRow  ConcCol    Response  \\\n",
       "0        1    1    1    5-FU  ABT-888      0.0     0.00  100.000626   \n",
       "1        1    1    2    5-FU  ABT-888      0.0     0.35  101.993009   \n",
       "\n",
       "  ConcRowUnit ConcColUnit source Cell line  \n",
       "0          uM          uM  ONEIL     A2058  \n",
       "1          uM          uM  ONEIL     A2058  "
      ]
     },
     "execution_count": 4,
     "metadata": {},
     "output_type": "execute_result"
    }
   ],
   "source": [
    "#enriching df2 with cell line info\n",
    "df2 = pd.read_csv(\"../drugCombDBdata/synergy-score-data/REGRdrugcombs_scored.csv\")\n",
    "cellBlockDf = df2.loc[:,[\"ID\",\"Cell line\"]]\n",
    "data = data.join(cellBlockDf.set_index(\"ID\"),on=\"BlockID\")\n",
    "print(data.shape)\n",
    "data.head(2)"
   ]
  },
  {
   "cell_type": "code",
   "execution_count": 14,
   "metadata": {},
   "outputs": [
    {
     "ename": "NameError",
     "evalue": "name 'data' is not defined",
     "output_type": "error",
     "traceback": [
      "\u001b[0;31m---------------------------------------------------------------------------\u001b[0m",
      "\u001b[0;31mNameError\u001b[0m                                 Traceback (most recent call last)",
      "\u001b[0;32m<ipython-input-14-5836e67e89d7>\u001b[0m in \u001b[0;36m<module>\u001b[0;34m\u001b[0m\n\u001b[0;32m----> 1\u001b[0;31m \u001b[0mdata\u001b[0m\u001b[0;34m[\u001b[0m\u001b[0;34m\"BlockID\"\u001b[0m\u001b[0;34m]\u001b[0m\u001b[0;34m.\u001b[0m\u001b[0mhead\u001b[0m\u001b[0;34m(\u001b[0m\u001b[0;34m-\u001b[0m\u001b[0;36m3\u001b[0m\u001b[0;34m)\u001b[0m\u001b[0;34m\u001b[0m\u001b[0;34m\u001b[0m\u001b[0m\n\u001b[0m",
      "\u001b[0;31mNameError\u001b[0m: name 'data' is not defined"
     ]
    }
   ],
   "source": [
    "data[\"BlockID\"].head(-3)"
   ]
  },
  {
   "cell_type": "markdown",
   "metadata": {},
   "source": [
    "Actually we want to enrich df2, with data from \"data\"<br>"
   ]
  },
  {
   "cell_type": "code",
   "execution_count": 8,
   "metadata": {},
   "outputs": [
    {
     "name": "stdout",
     "output_type": "stream",
     "text": [
      "498865\n"
     ]
    },
    {
     "data": {
      "text/html": [
       "<div>\n",
       "<style scoped>\n",
       "    .dataframe tbody tr th:only-of-type {\n",
       "        vertical-align: middle;\n",
       "    }\n",
       "\n",
       "    .dataframe tbody tr th {\n",
       "        vertical-align: top;\n",
       "    }\n",
       "\n",
       "    .dataframe thead th {\n",
       "        text-align: right;\n",
       "    }\n",
       "</style>\n",
       "<table border=\"1\" class=\"dataframe\">\n",
       "  <thead>\n",
       "    <tr style=\"text-align: right;\">\n",
       "      <th></th>\n",
       "      <th>ID</th>\n",
       "      <th>Drug1</th>\n",
       "      <th>Drug2</th>\n",
       "      <th>Cell line</th>\n",
       "      <th>ZIP</th>\n",
       "      <th>Bliss</th>\n",
       "      <th>Loewe</th>\n",
       "      <th>HSA</th>\n",
       "    </tr>\n",
       "  </thead>\n",
       "  <tbody>\n",
       "    <tr>\n",
       "      <th>0</th>\n",
       "      <td>1</td>\n",
       "      <td>5-FU</td>\n",
       "      <td>ABT-888</td>\n",
       "      <td>A2058</td>\n",
       "      <td>1.72</td>\n",
       "      <td>6.26</td>\n",
       "      <td>-2.75</td>\n",
       "      <td>5.54</td>\n",
       "    </tr>\n",
       "    <tr>\n",
       "      <th>1</th>\n",
       "      <td>2</td>\n",
       "      <td>5-FU</td>\n",
       "      <td>ABT-888</td>\n",
       "      <td>A2058</td>\n",
       "      <td>5.88</td>\n",
       "      <td>12.33</td>\n",
       "      <td>3.33</td>\n",
       "      <td>11.61</td>\n",
       "    </tr>\n",
       "    <tr>\n",
       "      <th>2</th>\n",
       "      <td>3</td>\n",
       "      <td>5-FU</td>\n",
       "      <td>ABT-888</td>\n",
       "      <td>A2058</td>\n",
       "      <td>3.59</td>\n",
       "      <td>11.66</td>\n",
       "      <td>2.65</td>\n",
       "      <td>10.94</td>\n",
       "    </tr>\n",
       "    <tr>\n",
       "      <th>3</th>\n",
       "      <td>4</td>\n",
       "      <td>5-FU</td>\n",
       "      <td>ABT-888</td>\n",
       "      <td>A2058</td>\n",
       "      <td>-0.85</td>\n",
       "      <td>5.15</td>\n",
       "      <td>-3.86</td>\n",
       "      <td>4.43</td>\n",
       "    </tr>\n",
       "    <tr>\n",
       "      <th>4</th>\n",
       "      <td>5</td>\n",
       "      <td>5-FU</td>\n",
       "      <td>AZD1775</td>\n",
       "      <td>A2058</td>\n",
       "      <td>12.29</td>\n",
       "      <td>15.77</td>\n",
       "      <td>10.40</td>\n",
       "      <td>18.66</td>\n",
       "    </tr>\n",
       "  </tbody>\n",
       "</table>\n",
       "</div>"
      ],
      "text/plain": [
       "   ID Drug1    Drug2 Cell line    ZIP  Bliss  Loewe    HSA\n",
       "0   1  5-FU  ABT-888     A2058   1.72   6.26  -2.75   5.54\n",
       "1   2  5-FU  ABT-888     A2058   5.88  12.33   3.33  11.61\n",
       "2   3  5-FU  ABT-888     A2058   3.59  11.66   2.65  10.94\n",
       "3   4  5-FU  ABT-888     A2058  -0.85   5.15  -3.86   4.43\n",
       "4   5  5-FU  AZD1775     A2058  12.29  15.77  10.40  18.66"
      ]
     },
     "execution_count": 8,
     "metadata": {},
     "output_type": "execute_result"
    }
   ],
   "source": [
    "print(len(df2))\n",
    "df2.head()"
   ]
  },
  {
   "cell_type": "markdown",
   "metadata": {},
   "source": [
    "The ID column is exactly the same as the index, but +1. It is equivalent to the BlockID in \"data\""
   ]
  },
  {
   "cell_type": "code",
   "execution_count": 11,
   "metadata": {},
   "outputs": [],
   "source": [
    "monotherapy = data[ (data[\"ConcRow\"]==0) | (data[\"ConcCol\"]==0)]\n",
    "del data"
   ]
  },
  {
   "cell_type": "code",
   "execution_count": 19,
   "metadata": {},
   "outputs": [
    {
     "name": "stdout",
     "output_type": "stream",
     "text": [
      "359694\n"
     ]
    },
    {
     "data": {
      "text/plain": [
       "array([     1,      2,      3, ..., 359695, 469611, 469612])"
      ]
     },
     "execution_count": 19,
     "metadata": {},
     "output_type": "execute_result"
    }
   ],
   "source": [
    "print(len(monotherapy.BlockID.unique()))\n",
    "monotherapy.BlockID.unique()"
   ]
  },
  {
   "cell_type": "markdown",
   "metadata": {},
   "source": [
    "Notice that there are only blocks up to 35965 with 2 more in the end and 3 missing in between"
   ]
  },
  {
   "cell_type": "markdown",
   "metadata": {},
   "source": []
  },
  {
   "cell_type": "code",
   "execution_count": 8,
   "metadata": {},
   "outputs": [
    {
     "data": {
      "text/plain": [
       "101.75352135667578"
      ]
     },
     "execution_count": 8,
     "metadata": {},
     "output_type": "execute_result"
    }
   ],
   "source": [
    "monotherapy1 = monotherapy[monotherapy[\"BlockID\"]==1]\n",
    "min(monotherapy1[(monotherapy1[\"Row\"]==2)|(monotherapy1[\"Col\"]==2)]['Response'])"
   ]
  },
  {
   "cell_type": "code",
   "execution_count": null,
   "metadata": {},
   "outputs": [],
   "source": [
    "for i in range(3):\n",
    "    print(i)"
   ]
  },
  {
   "cell_type": "code",
   "execution_count": 34,
   "metadata": {},
   "outputs": [
    {
     "data": {
      "text/plain": [
       "{0, 311725, 312797, 326953}"
      ]
     },
     "execution_count": 34,
     "metadata": {},
     "output_type": "execute_result"
    }
   ],
   "source": [
    " #these 3 elements are missing & cause for loop crash\n",
    "set(range(359696)).difference(set(monotherapy[\"BlockID\"]))"
   ]
  },
  {
   "cell_type": "code",
   "execution_count": 36,
   "metadata": {},
   "outputs": [],
   "source": [
    "iterator = [x for x in range(359696) if ((x != 311724) & (x != 312796) & (x != 326952))]\n",
    "#did not work"
   ]
  },
  {
   "cell_type": "code",
   "execution_count": 68,
   "metadata": {},
   "outputs": [
    {
     "data": {
      "text/html": [
       "<div>\n",
       "<style scoped>\n",
       "    .dataframe tbody tr th:only-of-type {\n",
       "        vertical-align: middle;\n",
       "    }\n",
       "\n",
       "    .dataframe tbody tr th {\n",
       "        vertical-align: top;\n",
       "    }\n",
       "\n",
       "    .dataframe thead th {\n",
       "        text-align: right;\n",
       "    }\n",
       "</style>\n",
       "<table border=\"1\" class=\"dataframe\">\n",
       "  <thead>\n",
       "    <tr style=\"text-align: right;\">\n",
       "      <th></th>\n",
       "      <th>BlockID</th>\n",
       "      <th>Row</th>\n",
       "      <th>Col</th>\n",
       "      <th>DrugRow</th>\n",
       "      <th>DrugCol</th>\n",
       "      <th>ConcRow</th>\n",
       "      <th>ConcCol</th>\n",
       "      <th>Response</th>\n",
       "      <th>ConcRowUnit</th>\n",
       "      <th>ConcColUnit</th>\n",
       "      <th>source</th>\n",
       "      <th>Cell line</th>\n",
       "    </tr>\n",
       "  </thead>\n",
       "  <tbody>\n",
       "    <tr>\n",
       "      <th>2309204</th>\n",
       "      <td>93210</td>\n",
       "      <td>1</td>\n",
       "      <td>1</td>\n",
       "      <td>VARENICLINE</td>\n",
       "      <td>FLUVOXAMINE</td>\n",
       "      <td>0.00</td>\n",
       "      <td>0.0</td>\n",
       "      <td>100.630626</td>\n",
       "      <td>uM</td>\n",
       "      <td>uM</td>\n",
       "      <td>CLOUD</td>\n",
       "      <td>KBM-7</td>\n",
       "    </tr>\n",
       "    <tr>\n",
       "      <th>2309205</th>\n",
       "      <td>93210</td>\n",
       "      <td>1</td>\n",
       "      <td>2</td>\n",
       "      <td>VARENICLINE</td>\n",
       "      <td>FLUVOXAMINE</td>\n",
       "      <td>0.00</td>\n",
       "      <td>3.9</td>\n",
       "      <td>79.260836</td>\n",
       "      <td>uM</td>\n",
       "      <td>uM</td>\n",
       "      <td>CLOUD</td>\n",
       "      <td>KBM-7</td>\n",
       "    </tr>\n",
       "    <tr>\n",
       "      <th>2309206</th>\n",
       "      <td>93210</td>\n",
       "      <td>2</td>\n",
       "      <td>1</td>\n",
       "      <td>VARENICLINE</td>\n",
       "      <td>FLUVOXAMINE</td>\n",
       "      <td>0.24</td>\n",
       "      <td>0.0</td>\n",
       "      <td>81.859816</td>\n",
       "      <td>uM</td>\n",
       "      <td>uM</td>\n",
       "      <td>CLOUD</td>\n",
       "      <td>KBM-7</td>\n",
       "    </tr>\n",
       "  </tbody>\n",
       "</table>\n",
       "</div>"
      ],
      "text/plain": [
       "         BlockID  Row  Col      DrugRow      DrugCol  ConcRow  ConcCol  \\\n",
       "2309204    93210    1    1  VARENICLINE  FLUVOXAMINE     0.00      0.0   \n",
       "2309205    93210    1    2  VARENICLINE  FLUVOXAMINE     0.00      3.9   \n",
       "2309206    93210    2    1  VARENICLINE  FLUVOXAMINE     0.24      0.0   \n",
       "\n",
       "           Response ConcRowUnit ConcColUnit source Cell line  \n",
       "2309204  100.630626          uM          uM  CLOUD     KBM-7  \n",
       "2309205   79.260836          uM          uM  CLOUD     KBM-7  \n",
       "2309206   81.859816          uM          uM  CLOUD     KBM-7  "
      ]
     },
     "execution_count": 68,
     "metadata": {},
     "output_type": "execute_result"
    }
   ],
   "source": [
    "monoT"
   ]
  },
  {
   "cell_type": "code",
   "execution_count": 72,
   "metadata": {},
   "outputs": [
    {
     "data": {
      "text/plain": [
       "81.8598163566758"
      ]
     },
     "execution_count": 72,
     "metadata": {},
     "output_type": "execute_result"
    }
   ],
   "source": [
    "max(monoT[(monoT[\"Row\"]==2)|(monoT[\"Col\"]==2)]['Response'])"
   ]
  },
  {
   "cell_type": "code",
   "execution_count": 67,
   "metadata": {},
   "outputs": [
    {
     "data": {
      "text/html": [
       "<div>\n",
       "<style scoped>\n",
       "    .dataframe tbody tr th:only-of-type {\n",
       "        vertical-align: middle;\n",
       "    }\n",
       "\n",
       "    .dataframe tbody tr th {\n",
       "        vertical-align: top;\n",
       "    }\n",
       "\n",
       "    .dataframe thead th {\n",
       "        text-align: right;\n",
       "    }\n",
       "</style>\n",
       "<table border=\"1\" class=\"dataframe\">\n",
       "  <thead>\n",
       "    <tr style=\"text-align: right;\">\n",
       "      <th></th>\n",
       "      <th>BlockID</th>\n",
       "      <th>Row</th>\n",
       "      <th>Col</th>\n",
       "      <th>DrugRow</th>\n",
       "      <th>DrugCol</th>\n",
       "      <th>ConcRow</th>\n",
       "      <th>ConcCol</th>\n",
       "      <th>Response</th>\n",
       "      <th>ConcRowUnit</th>\n",
       "      <th>ConcColUnit</th>\n",
       "      <th>source</th>\n",
       "      <th>Cell line</th>\n",
       "    </tr>\n",
       "  </thead>\n",
       "  <tbody>\n",
       "    <tr>\n",
       "      <th>2309204</th>\n",
       "      <td>93210</td>\n",
       "      <td>1</td>\n",
       "      <td>1</td>\n",
       "      <td>VARENICLINE</td>\n",
       "      <td>FLUVOXAMINE</td>\n",
       "      <td>0.00</td>\n",
       "      <td>0.0</td>\n",
       "      <td>100.630626</td>\n",
       "      <td>uM</td>\n",
       "      <td>uM</td>\n",
       "      <td>CLOUD</td>\n",
       "      <td>KBM-7</td>\n",
       "    </tr>\n",
       "    <tr>\n",
       "      <th>2309205</th>\n",
       "      <td>93210</td>\n",
       "      <td>1</td>\n",
       "      <td>2</td>\n",
       "      <td>VARENICLINE</td>\n",
       "      <td>FLUVOXAMINE</td>\n",
       "      <td>0.00</td>\n",
       "      <td>3.9</td>\n",
       "      <td>79.260836</td>\n",
       "      <td>uM</td>\n",
       "      <td>uM</td>\n",
       "      <td>CLOUD</td>\n",
       "      <td>KBM-7</td>\n",
       "    </tr>\n",
       "    <tr>\n",
       "      <th>2309206</th>\n",
       "      <td>93210</td>\n",
       "      <td>2</td>\n",
       "      <td>1</td>\n",
       "      <td>VARENICLINE</td>\n",
       "      <td>FLUVOXAMINE</td>\n",
       "      <td>0.24</td>\n",
       "      <td>0.0</td>\n",
       "      <td>81.859816</td>\n",
       "      <td>uM</td>\n",
       "      <td>uM</td>\n",
       "      <td>CLOUD</td>\n",
       "      <td>KBM-7</td>\n",
       "    </tr>\n",
       "  </tbody>\n",
       "</table>\n",
       "</div>"
      ],
      "text/plain": [
       "         BlockID  Row  Col      DrugRow      DrugCol  ConcRow  ConcCol  \\\n",
       "2309204    93210    1    1  VARENICLINE  FLUVOXAMINE     0.00      0.0   \n",
       "2309205    93210    1    2  VARENICLINE  FLUVOXAMINE     0.00      3.9   \n",
       "2309206    93210    2    1  VARENICLINE  FLUVOXAMINE     0.24      0.0   \n",
       "\n",
       "           Response ConcRowUnit ConcColUnit source Cell line  \n",
       "2309204  100.630626          uM          uM  CLOUD     KBM-7  \n",
       "2309205   79.260836          uM          uM  CLOUD     KBM-7  \n",
       "2309206   81.859816          uM          uM  CLOUD     KBM-7  "
      ]
     },
     "execution_count": 67,
     "metadata": {},
     "output_type": "execute_result"
    }
   ],
   "source": [
    "monoT = monotherapy[monotherapy[\"BlockID\"]==93209+1]\n",
    "monoT"
   ]
  },
  {
   "cell_type": "code",
   "execution_count": null,
   "metadata": {},
   "outputs": [
    {
     "name": "stdout",
     "output_type": "stream",
     "text": [
      "0\n",
      "50000\n",
      "100000\n",
      "150000\n"
     ]
    }
   ],
   "source": [
    "#Started computation at 11:47\n",
    "#still crashes for all i's from 92208 onwards\n",
    "#copy this 3 times after having normalised data\n",
    "max1ab = []\n",
    "min1ab = []\n",
    "sum1ab = []\n",
    "max2ab = []\n",
    "min2ab = []\n",
    "sum2ab = []\n",
    "max3ab = []\n",
    "min3ab = []\n",
    "sum3ab = []\n",
    "max4ab = []\n",
    "min4ab = []\n",
    "sum4ab = []\n",
    "for i in range(359696):\n",
    "    if i%50000 == 0:\n",
    "        print(i)\n",
    "    monoT = monotherapy[monotherapy[\"BlockID\"]==i+1]\n",
    "\n",
    "    max1ab.append(max(monoT[(monoT[\"Row\"]==2)|(monoT[\"Col\"]==2)]['Response']))\n",
    "    try:\n",
    "        max2ab.append(max(monoT[(monoT[\"Row\"]==3)|(monoT[\"Col\"]==3)]['Response']))\n",
    "    except:\n",
    "        min3ab.append(0)\n",
    "    try:\n",
    "        max3ab.append(max(monoT[(monoT[\"Row\"]==4)|(monoT[\"Col\"]==4)]['Response']))\n",
    "    except:\n",
    "        max3ab.append(0)\n",
    "    try:\n",
    "        max4ab.append(max(monoT[(monoT[\"Row\"]==5)|(monoT[\"Col\"]==5)]['Response']))\n",
    "    except:\n",
    "        max4ab.append(0)\n",
    "    min1ab.append(min(monoT[(monoT[\"Row\"]==2)|(monoT[\"Col\"]==2)]['Response']))\n",
    "    try:\n",
    "        min2ab.append(min(monoT[(monoT[\"Row\"]==3)|(monoT[\"Col\"]==3)]['Response']))\n",
    "    except:\n",
    "        min2ab.append(0)\n",
    "    try:\n",
    "        min3ab.append(min(monoT[(monoT[\"Row\"]==4)|(monoT[\"Col\"]==4)]['Response']))\n",
    "    except:\n",
    "        min3ab.append(0)\n",
    "    try:\n",
    "        min4ab.append(min(monoT[(monoT[\"Row\"]==5)|(monoT[\"Col\"]==5)]['Response']))\n",
    "    except:\n",
    "        min4ab.append(0)\n",
    "    sum1ab.append(sum([max1ab[-1],min1ab[-1]]))\n",
    "    sum2ab.append(sum([max2ab[-1],min2ab[-1]]))\n",
    "    sum3ab.append(sum([max3ab[-1],min3ab[-1]]))\n",
    "    sum4ab.append(sum([max4ab[-1],min4ab[-1]]))"
   ]
  },
  {
   "cell_type": "code",
   "execution_count": 117,
   "metadata": {},
   "outputs": [],
   "source": [
    "df2[\"max1ab\"]=pd.Series(max1ab)\n",
    "df2[\"min1ab\"]=pd.Series(min1ab)\n",
    "df2[\"sum1ab\"]=pd.Series(sum1ab)\n",
    "df2[\"max2ab\"]=pd.Series(max2ab)\n",
    "df2[\"min2ab\"]=pd.Series(min2ab)\n",
    "df2[\"sum2ab\"]=pd.Series(sum2ab)\n",
    "df2[\"max3ab\"]=pd.Series(max3ab)\n",
    "df2[\"min3ab\"]=pd.Series(min3ab)\n",
    "df2[\"sum3ab\"]=pd.Series(sum3ab)\n",
    "df2[\"max4ab\"]=pd.Series(max4ab)\n",
    "df2[\"min4ab\"]=pd.Series(min4ab)\n",
    "df2[\"sum4ab\"]=pd.Series(sum4ab)"
   ]
  },
  {
   "cell_type": "code",
   "execution_count": null,
   "metadata": {},
   "outputs": [],
   "source": [
    "from datetime import datetime\n",
    "print(datetime.now())"
   ]
  },
  {
   "cell_type": "markdown",
   "metadata": {},
   "source": [
    "Next steps:<br>\n",
    "Normalise Data<br>\n",
    "do same computation again, build trees, check performances<br>\n",
    "Cell line representation<br>\n"
   ]
  },
  {
   "cell_type": "code",
   "execution_count": 108,
   "metadata": {},
   "outputs": [
    {
     "data": {
      "text/plain": [
       "104.33881635667578"
      ]
     },
     "execution_count": 108,
     "metadata": {},
     "output_type": "execute_result"
    }
   ],
   "source": [
    "max1ab[310005]"
   ]
  },
  {
   "cell_type": "code",
   "execution_count": 109,
   "metadata": {},
   "outputs": [
    {
     "data": {
      "text/html": [
       "<div>\n",
       "<style scoped>\n",
       "    .dataframe tbody tr th:only-of-type {\n",
       "        vertical-align: middle;\n",
       "    }\n",
       "\n",
       "    .dataframe tbody tr th {\n",
       "        vertical-align: top;\n",
       "    }\n",
       "\n",
       "    .dataframe thead th {\n",
       "        text-align: right;\n",
       "    }\n",
       "</style>\n",
       "<table border=\"1\" class=\"dataframe\">\n",
       "  <thead>\n",
       "    <tr style=\"text-align: right;\">\n",
       "      <th></th>\n",
       "      <th>BlockID</th>\n",
       "      <th>Row</th>\n",
       "      <th>Col</th>\n",
       "      <th>DrugRow</th>\n",
       "      <th>DrugCol</th>\n",
       "      <th>ConcRow</th>\n",
       "      <th>ConcCol</th>\n",
       "      <th>Response</th>\n",
       "      <th>ConcRowUnit</th>\n",
       "      <th>ConcColUnit</th>\n",
       "      <th>source</th>\n",
       "      <th>Cell line</th>\n",
       "    </tr>\n",
       "  </thead>\n",
       "  <tbody>\n",
       "    <tr>\n",
       "      <th>5308032</th>\n",
       "      <td>310006</td>\n",
       "      <td>1</td>\n",
       "      <td>1</td>\n",
       "      <td>DACARBAZINE</td>\n",
       "      <td>CELECOXIB</td>\n",
       "      <td>0.0</td>\n",
       "      <td>0.0</td>\n",
       "      <td>100.000626</td>\n",
       "      <td>uM</td>\n",
       "      <td>uM</td>\n",
       "      <td>ALMANAC</td>\n",
       "      <td>UACC-257</td>\n",
       "    </tr>\n",
       "    <tr>\n",
       "      <th>5308033</th>\n",
       "      <td>310006</td>\n",
       "      <td>1</td>\n",
       "      <td>2</td>\n",
       "      <td>DACARBAZINE</td>\n",
       "      <td>CELECOXIB</td>\n",
       "      <td>0.0</td>\n",
       "      <td>0.1</td>\n",
       "      <td>97.953170</td>\n",
       "      <td>uM</td>\n",
       "      <td>uM</td>\n",
       "      <td>ALMANAC</td>\n",
       "      <td>UACC-257</td>\n",
       "    </tr>\n",
       "    <tr>\n",
       "      <th>5308034</th>\n",
       "      <td>310006</td>\n",
       "      <td>1</td>\n",
       "      <td>3</td>\n",
       "      <td>DACARBAZINE</td>\n",
       "      <td>CELECOXIB</td>\n",
       "      <td>0.0</td>\n",
       "      <td>1.0</td>\n",
       "      <td>101.553924</td>\n",
       "      <td>uM</td>\n",
       "      <td>uM</td>\n",
       "      <td>ALMANAC</td>\n",
       "      <td>UACC-257</td>\n",
       "    </tr>\n",
       "    <tr>\n",
       "      <th>5308035</th>\n",
       "      <td>310006</td>\n",
       "      <td>1</td>\n",
       "      <td>4</td>\n",
       "      <td>DACARBAZINE</td>\n",
       "      <td>CELECOXIB</td>\n",
       "      <td>0.0</td>\n",
       "      <td>10.0</td>\n",
       "      <td>98.555621</td>\n",
       "      <td>uM</td>\n",
       "      <td>uM</td>\n",
       "      <td>ALMANAC</td>\n",
       "      <td>UACC-257</td>\n",
       "    </tr>\n",
       "    <tr>\n",
       "      <th>5308036</th>\n",
       "      <td>310006</td>\n",
       "      <td>2</td>\n",
       "      <td>1</td>\n",
       "      <td>DACARBAZINE</td>\n",
       "      <td>CELECOXIB</td>\n",
       "      <td>0.5</td>\n",
       "      <td>0.0</td>\n",
       "      <td>104.338816</td>\n",
       "      <td>uM</td>\n",
       "      <td>uM</td>\n",
       "      <td>ALMANAC</td>\n",
       "      <td>UACC-257</td>\n",
       "    </tr>\n",
       "    <tr>\n",
       "      <th>5308040</th>\n",
       "      <td>310006</td>\n",
       "      <td>3</td>\n",
       "      <td>1</td>\n",
       "      <td>DACARBAZINE</td>\n",
       "      <td>CELECOXIB</td>\n",
       "      <td>5.0</td>\n",
       "      <td>0.0</td>\n",
       "      <td>106.789336</td>\n",
       "      <td>uM</td>\n",
       "      <td>uM</td>\n",
       "      <td>ALMANAC</td>\n",
       "      <td>UACC-257</td>\n",
       "    </tr>\n",
       "    <tr>\n",
       "      <th>5308044</th>\n",
       "      <td>310006</td>\n",
       "      <td>4</td>\n",
       "      <td>1</td>\n",
       "      <td>DACARBAZINE</td>\n",
       "      <td>CELECOXIB</td>\n",
       "      <td>50.0</td>\n",
       "      <td>0.0</td>\n",
       "      <td>106.305405</td>\n",
       "      <td>uM</td>\n",
       "      <td>uM</td>\n",
       "      <td>ALMANAC</td>\n",
       "      <td>UACC-257</td>\n",
       "    </tr>\n",
       "  </tbody>\n",
       "</table>\n",
       "</div>"
      ],
      "text/plain": [
       "         BlockID  Row  Col      DrugRow    DrugCol  ConcRow  ConcCol  \\\n",
       "5308032   310006    1    1  DACARBAZINE  CELECOXIB      0.0      0.0   \n",
       "5308033   310006    1    2  DACARBAZINE  CELECOXIB      0.0      0.1   \n",
       "5308034   310006    1    3  DACARBAZINE  CELECOXIB      0.0      1.0   \n",
       "5308035   310006    1    4  DACARBAZINE  CELECOXIB      0.0     10.0   \n",
       "5308036   310006    2    1  DACARBAZINE  CELECOXIB      0.5      0.0   \n",
       "5308040   310006    3    1  DACARBAZINE  CELECOXIB      5.0      0.0   \n",
       "5308044   310006    4    1  DACARBAZINE  CELECOXIB     50.0      0.0   \n",
       "\n",
       "           Response ConcRowUnit ConcColUnit   source Cell line  \n",
       "5308032  100.000626          uM          uM  ALMANAC  UACC-257  \n",
       "5308033   97.953170          uM          uM  ALMANAC  UACC-257  \n",
       "5308034  101.553924          uM          uM  ALMANAC  UACC-257  \n",
       "5308035   98.555621          uM          uM  ALMANAC  UACC-257  \n",
       "5308036  104.338816          uM          uM  ALMANAC  UACC-257  \n",
       "5308040  106.789336          uM          uM  ALMANAC  UACC-257  \n",
       "5308044  106.305405          uM          uM  ALMANAC  UACC-257  "
      ]
     },
     "execution_count": 109,
     "metadata": {},
     "output_type": "execute_result"
    }
   ],
   "source": [
    "monotherapy[monotherapy[\"BlockID\"]==310006]"
   ]
  },
  {
   "cell_type": "code",
   "execution_count": 127,
   "metadata": {},
   "outputs": [],
   "source": [
    "# Ammars output files\n",
    "cellLine_info = pd.read_csv('output/cell_lines_enriched.csv', sep=',', dtype='string')\n",
    "drug_info = pd.read_csv('output/all_drugs_with_smiles.csv', sep=',', dtype='string')\n",
    "\n",
    "cat_ohe = pd.get_dummies(cellLine_info.category, prefix='cat')\n",
    "cellLine_info_full = pd.concat([cellLine_info,cat_ohe], axis=1)\n",
    "\n",
    "gender_ohe = pd.get_dummies(cellLine_info.gender, prefix='gender')\n",
    "cellLine_info_full = pd.concat([cellLine_info_full,gender_ohe], axis=1)\n",
    "\n",
    "cellLine_info_full['age'] = cellLine_info_full['age'].str.replace('Y','').replace('Age unspecified','0')\n",
    "cellLine_info_full['age'] = cellLine_info_full['age'].astype('int')\n",
    "\n",
    "cellLine_info_full = cellLine_info_full.drop('cosmicId', 1)\n",
    "cellLine_info_full = cellLine_info_full.drop('category', 1)\n",
    "cellLine_info_full = cellLine_info_full.drop('gender', 1)"
   ]
  },
  {
   "cell_type": "code",
   "execution_count": 128,
   "metadata": {},
   "outputs": [
    {
     "data": {
      "text/html": [
       "<div>\n",
       "<style scoped>\n",
       "    .dataframe tbody tr th:only-of-type {\n",
       "        vertical-align: middle;\n",
       "    }\n",
       "\n",
       "    .dataframe tbody tr th {\n",
       "        vertical-align: top;\n",
       "    }\n",
       "\n",
       "    .dataframe thead th {\n",
       "        text-align: right;\n",
       "    }\n",
       "</style>\n",
       "<table border=\"1\" class=\"dataframe\">\n",
       "  <thead>\n",
       "    <tr style=\"text-align: right;\">\n",
       "      <th></th>\n",
       "      <th>cellName</th>\n",
       "      <th>age</th>\n",
       "      <th>cat_Cancer cell line</th>\n",
       "      <th>cat_Embryonic stem cell</th>\n",
       "      <th>cat_Hybridoma</th>\n",
       "      <th>cat_Transformed cell line</th>\n",
       "      <th>gender_Female</th>\n",
       "      <th>gender_Male</th>\n",
       "      <th>gender_Sex unspecified</th>\n",
       "    </tr>\n",
       "  </thead>\n",
       "  <tbody>\n",
       "    <tr>\n",
       "      <th>0</th>\n",
       "      <td>786-0</td>\n",
       "      <td>58</td>\n",
       "      <td>1</td>\n",
       "      <td>0</td>\n",
       "      <td>0</td>\n",
       "      <td>0</td>\n",
       "      <td>0</td>\n",
       "      <td>1</td>\n",
       "      <td>0</td>\n",
       "    </tr>\n",
       "    <tr>\n",
       "      <th>1</th>\n",
       "      <td>A498</td>\n",
       "      <td>52</td>\n",
       "      <td>1</td>\n",
       "      <td>0</td>\n",
       "      <td>0</td>\n",
       "      <td>0</td>\n",
       "      <td>0</td>\n",
       "      <td>1</td>\n",
       "      <td>0</td>\n",
       "    </tr>\n",
       "    <tr>\n",
       "      <th>2</th>\n",
       "      <td>A549/ATCC</td>\n",
       "      <td>58</td>\n",
       "      <td>1</td>\n",
       "      <td>0</td>\n",
       "      <td>0</td>\n",
       "      <td>0</td>\n",
       "      <td>0</td>\n",
       "      <td>1</td>\n",
       "      <td>0</td>\n",
       "    </tr>\n",
       "    <tr>\n",
       "      <th>3</th>\n",
       "      <td>ACHN</td>\n",
       "      <td>22</td>\n",
       "      <td>1</td>\n",
       "      <td>0</td>\n",
       "      <td>0</td>\n",
       "      <td>0</td>\n",
       "      <td>0</td>\n",
       "      <td>1</td>\n",
       "      <td>0</td>\n",
       "    </tr>\n",
       "    <tr>\n",
       "      <th>4</th>\n",
       "      <td>CCRF-CEM</td>\n",
       "      <td>4</td>\n",
       "      <td>1</td>\n",
       "      <td>0</td>\n",
       "      <td>0</td>\n",
       "      <td>0</td>\n",
       "      <td>1</td>\n",
       "      <td>0</td>\n",
       "      <td>0</td>\n",
       "    </tr>\n",
       "    <tr>\n",
       "      <th>...</th>\n",
       "      <td>...</td>\n",
       "      <td>...</td>\n",
       "      <td>...</td>\n",
       "      <td>...</td>\n",
       "      <td>...</td>\n",
       "      <td>...</td>\n",
       "      <td>...</td>\n",
       "      <td>...</td>\n",
       "      <td>...</td>\n",
       "    </tr>\n",
       "    <tr>\n",
       "      <th>99</th>\n",
       "      <td>COLO 858</td>\n",
       "      <td>43</td>\n",
       "      <td>1</td>\n",
       "      <td>0</td>\n",
       "      <td>0</td>\n",
       "      <td>0</td>\n",
       "      <td>0</td>\n",
       "      <td>1</td>\n",
       "      <td>0</td>\n",
       "    </tr>\n",
       "    <tr>\n",
       "      <th>100</th>\n",
       "      <td>WM-115</td>\n",
       "      <td>55</td>\n",
       "      <td>1</td>\n",
       "      <td>0</td>\n",
       "      <td>0</td>\n",
       "      <td>0</td>\n",
       "      <td>1</td>\n",
       "      <td>0</td>\n",
       "      <td>0</td>\n",
       "    </tr>\n",
       "    <tr>\n",
       "      <th>101</th>\n",
       "      <td>MMAC-SF</td>\n",
       "      <td>39</td>\n",
       "      <td>1</td>\n",
       "      <td>0</td>\n",
       "      <td>0</td>\n",
       "      <td>0</td>\n",
       "      <td>1</td>\n",
       "      <td>0</td>\n",
       "      <td>0</td>\n",
       "    </tr>\n",
       "    <tr>\n",
       "      <th>102</th>\n",
       "      <td>MZ7-mel</td>\n",
       "      <td>25</td>\n",
       "      <td>1</td>\n",
       "      <td>0</td>\n",
       "      <td>0</td>\n",
       "      <td>0</td>\n",
       "      <td>1</td>\n",
       "      <td>0</td>\n",
       "      <td>0</td>\n",
       "    </tr>\n",
       "    <tr>\n",
       "      <th>103</th>\n",
       "      <td>TMD8</td>\n",
       "      <td>62</td>\n",
       "      <td>1</td>\n",
       "      <td>0</td>\n",
       "      <td>0</td>\n",
       "      <td>0</td>\n",
       "      <td>0</td>\n",
       "      <td>1</td>\n",
       "      <td>0</td>\n",
       "    </tr>\n",
       "  </tbody>\n",
       "</table>\n",
       "<p>104 rows × 9 columns</p>\n",
       "</div>"
      ],
      "text/plain": [
       "      cellName  age  cat_Cancer cell line  cat_Embryonic stem cell  \\\n",
       "0        786-0   58                     1                        0   \n",
       "1         A498   52                     1                        0   \n",
       "2    A549/ATCC   58                     1                        0   \n",
       "3         ACHN   22                     1                        0   \n",
       "4     CCRF-CEM    4                     1                        0   \n",
       "..         ...  ...                   ...                      ...   \n",
       "99    COLO 858   43                     1                        0   \n",
       "100     WM-115   55                     1                        0   \n",
       "101    MMAC-SF   39                     1                        0   \n",
       "102    MZ7-mel   25                     1                        0   \n",
       "103       TMD8   62                     1                        0   \n",
       "\n",
       "     cat_Hybridoma  cat_Transformed cell line  gender_Female  gender_Male  \\\n",
       "0                0                          0              0            1   \n",
       "1                0                          0              0            1   \n",
       "2                0                          0              0            1   \n",
       "3                0                          0              0            1   \n",
       "4                0                          0              1            0   \n",
       "..             ...                        ...            ...          ...   \n",
       "99               0                          0              0            1   \n",
       "100              0                          0              1            0   \n",
       "101              0                          0              1            0   \n",
       "102              0                          0              1            0   \n",
       "103              0                          0              0            1   \n",
       "\n",
       "     gender_Sex unspecified  \n",
       "0                         0  \n",
       "1                         0  \n",
       "2                         0  \n",
       "3                         0  \n",
       "4                         0  \n",
       "..                      ...  \n",
       "99                        0  \n",
       "100                       0  \n",
       "101                       0  \n",
       "102                       0  \n",
       "103                       0  \n",
       "\n",
       "[104 rows x 9 columns]"
      ]
     },
     "execution_count": 128,
     "metadata": {},
     "output_type": "execute_result"
    }
   ],
   "source": [
    "cellLine_info_full"
   ]
  },
  {
   "cell_type": "code",
   "execution_count": 129,
   "metadata": {},
   "outputs": [],
   "source": [
    "df = df2.join(cellLine_info_full.set_index(\"cellName\"),on=\"Cell line\", how=\"left\")#.dropna()"
   ]
  },
  {
   "cell_type": "code",
   "execution_count": 131,
   "metadata": {},
   "outputs": [
    {
     "data": {
      "text/html": [
       "<div>\n",
       "<style scoped>\n",
       "    .dataframe tbody tr th:only-of-type {\n",
       "        vertical-align: middle;\n",
       "    }\n",
       "\n",
       "    .dataframe tbody tr th {\n",
       "        vertical-align: top;\n",
       "    }\n",
       "\n",
       "    .dataframe thead th {\n",
       "        text-align: right;\n",
       "    }\n",
       "</style>\n",
       "<table border=\"1\" class=\"dataframe\">\n",
       "  <thead>\n",
       "    <tr style=\"text-align: right;\">\n",
       "      <th></th>\n",
       "      <th>ID</th>\n",
       "      <th>Drug1</th>\n",
       "      <th>Drug2</th>\n",
       "      <th>Cell line</th>\n",
       "      <th>ZIP</th>\n",
       "      <th>Bliss</th>\n",
       "      <th>Loewe</th>\n",
       "      <th>HSA</th>\n",
       "      <th>max1ab</th>\n",
       "      <th>min1ab</th>\n",
       "      <th>...</th>\n",
       "      <th>min4ab</th>\n",
       "      <th>sum4ab</th>\n",
       "      <th>age</th>\n",
       "      <th>cat_Cancer cell line</th>\n",
       "      <th>cat_Embryonic stem cell</th>\n",
       "      <th>cat_Hybridoma</th>\n",
       "      <th>cat_Transformed cell line</th>\n",
       "      <th>gender_Female</th>\n",
       "      <th>gender_Male</th>\n",
       "      <th>gender_Sex unspecified</th>\n",
       "    </tr>\n",
       "  </thead>\n",
       "  <tbody>\n",
       "    <tr>\n",
       "      <th>0</th>\n",
       "      <td>1</td>\n",
       "      <td>5-FU</td>\n",
       "      <td>ABT-888</td>\n",
       "      <td>A2058</td>\n",
       "      <td>1.72</td>\n",
       "      <td>6.26</td>\n",
       "      <td>-2.75</td>\n",
       "      <td>5.54</td>\n",
       "      <td>101.993009</td>\n",
       "      <td>101.753521</td>\n",
       "      <td>...</td>\n",
       "      <td>60.29323</td>\n",
       "      <td>159.154433</td>\n",
       "      <td>43.0</td>\n",
       "      <td>1.0</td>\n",
       "      <td>0.0</td>\n",
       "      <td>0.0</td>\n",
       "      <td>0.0</td>\n",
       "      <td>0.0</td>\n",
       "      <td>1.0</td>\n",
       "      <td>0.0</td>\n",
       "    </tr>\n",
       "    <tr>\n",
       "      <th>1</th>\n",
       "      <td>2</td>\n",
       "      <td>5-FU</td>\n",
       "      <td>ABT-888</td>\n",
       "      <td>A2058</td>\n",
       "      <td>5.88</td>\n",
       "      <td>12.33</td>\n",
       "      <td>3.33</td>\n",
       "      <td>11.61</td>\n",
       "      <td>101.993009</td>\n",
       "      <td>101.753521</td>\n",
       "      <td>...</td>\n",
       "      <td>60.29323</td>\n",
       "      <td>159.154433</td>\n",
       "      <td>43.0</td>\n",
       "      <td>1.0</td>\n",
       "      <td>0.0</td>\n",
       "      <td>0.0</td>\n",
       "      <td>0.0</td>\n",
       "      <td>0.0</td>\n",
       "      <td>1.0</td>\n",
       "      <td>0.0</td>\n",
       "    </tr>\n",
       "  </tbody>\n",
       "</table>\n",
       "<p>2 rows × 28 columns</p>\n",
       "</div>"
      ],
      "text/plain": [
       "   ID Drug1    Drug2 Cell line   ZIP  Bliss  Loewe    HSA      max1ab  \\\n",
       "0   1  5-FU  ABT-888     A2058  1.72   6.26  -2.75   5.54  101.993009   \n",
       "1   2  5-FU  ABT-888     A2058  5.88  12.33   3.33  11.61  101.993009   \n",
       "\n",
       "       min1ab  ...    min4ab      sum4ab   age  cat_Cancer cell line  \\\n",
       "0  101.753521  ...  60.29323  159.154433  43.0                   1.0   \n",
       "1  101.753521  ...  60.29323  159.154433  43.0                   1.0   \n",
       "\n",
       "   cat_Embryonic stem cell  cat_Hybridoma  cat_Transformed cell line  \\\n",
       "0                      0.0            0.0                        0.0   \n",
       "1                      0.0            0.0                        0.0   \n",
       "\n",
       "   gender_Female  gender_Male  gender_Sex unspecified  \n",
       "0            0.0          1.0                     0.0  \n",
       "1            0.0          1.0                     0.0  \n",
       "\n",
       "[2 rows x 28 columns]"
      ]
     },
     "execution_count": 131,
     "metadata": {},
     "output_type": "execute_result"
    }
   ],
   "source": [
    "df.dropna().head(2)"
   ]
  },
  {
   "cell_type": "code",
   "execution_count": 137,
   "metadata": {},
   "outputs": [
    {
     "data": {
      "text/html": [
       "<div>\n",
       "<style scoped>\n",
       "    .dataframe tbody tr th:only-of-type {\n",
       "        vertical-align: middle;\n",
       "    }\n",
       "\n",
       "    .dataframe tbody tr th {\n",
       "        vertical-align: top;\n",
       "    }\n",
       "\n",
       "    .dataframe thead th {\n",
       "        text-align: right;\n",
       "    }\n",
       "</style>\n",
       "<table border=\"1\" class=\"dataframe\">\n",
       "  <thead>\n",
       "    <tr style=\"text-align: right;\">\n",
       "      <th></th>\n",
       "      <th>BlockID</th>\n",
       "      <th>Row</th>\n",
       "      <th>Col</th>\n",
       "      <th>DrugRow</th>\n",
       "      <th>DrugCol</th>\n",
       "      <th>ConcRow</th>\n",
       "      <th>ConcCol</th>\n",
       "      <th>Response</th>\n",
       "      <th>ConcRowUnit</th>\n",
       "      <th>ConcColUnit</th>\n",
       "      <th>source</th>\n",
       "      <th>Cell line</th>\n",
       "    </tr>\n",
       "  </thead>\n",
       "  <tbody>\n",
       "    <tr>\n",
       "      <th>2812064</th>\n",
       "      <td>154008</td>\n",
       "      <td>1</td>\n",
       "      <td>1</td>\n",
       "      <td>FLUDARABINE BASE</td>\n",
       "      <td>DASATINIB</td>\n",
       "      <td>0.00</td>\n",
       "      <td>0.000</td>\n",
       "      <td>100.000626</td>\n",
       "      <td>uM</td>\n",
       "      <td>uM</td>\n",
       "      <td>ALMANAC</td>\n",
       "      <td>ACHN</td>\n",
       "    </tr>\n",
       "    <tr>\n",
       "      <th>2812065</th>\n",
       "      <td>154008</td>\n",
       "      <td>1</td>\n",
       "      <td>2</td>\n",
       "      <td>FLUDARABINE BASE</td>\n",
       "      <td>DASATINIB</td>\n",
       "      <td>0.00</td>\n",
       "      <td>0.001</td>\n",
       "      <td>99.289670</td>\n",
       "      <td>uM</td>\n",
       "      <td>uM</td>\n",
       "      <td>ALMANAC</td>\n",
       "      <td>ACHN</td>\n",
       "    </tr>\n",
       "    <tr>\n",
       "      <th>2812066</th>\n",
       "      <td>154008</td>\n",
       "      <td>1</td>\n",
       "      <td>3</td>\n",
       "      <td>FLUDARABINE BASE</td>\n",
       "      <td>DASATINIB</td>\n",
       "      <td>0.00</td>\n",
       "      <td>0.010</td>\n",
       "      <td>101.109424</td>\n",
       "      <td>uM</td>\n",
       "      <td>uM</td>\n",
       "      <td>ALMANAC</td>\n",
       "      <td>ACHN</td>\n",
       "    </tr>\n",
       "    <tr>\n",
       "      <th>2812067</th>\n",
       "      <td>154008</td>\n",
       "      <td>1</td>\n",
       "      <td>4</td>\n",
       "      <td>FLUDARABINE BASE</td>\n",
       "      <td>DASATINIB</td>\n",
       "      <td>0.00</td>\n",
       "      <td>0.100</td>\n",
       "      <td>88.330621</td>\n",
       "      <td>uM</td>\n",
       "      <td>uM</td>\n",
       "      <td>ALMANAC</td>\n",
       "      <td>ACHN</td>\n",
       "    </tr>\n",
       "    <tr>\n",
       "      <th>2812068</th>\n",
       "      <td>154008</td>\n",
       "      <td>2</td>\n",
       "      <td>1</td>\n",
       "      <td>FLUDARABINE BASE</td>\n",
       "      <td>DASATINIB</td>\n",
       "      <td>0.06</td>\n",
       "      <td>0.000</td>\n",
       "      <td>101.079816</td>\n",
       "      <td>uM</td>\n",
       "      <td>uM</td>\n",
       "      <td>ALMANAC</td>\n",
       "      <td>ACHN</td>\n",
       "    </tr>\n",
       "    <tr>\n",
       "      <th>2812072</th>\n",
       "      <td>154008</td>\n",
       "      <td>3</td>\n",
       "      <td>1</td>\n",
       "      <td>FLUDARABINE BASE</td>\n",
       "      <td>DASATINIB</td>\n",
       "      <td>0.60</td>\n",
       "      <td>0.000</td>\n",
       "      <td>106.290836</td>\n",
       "      <td>uM</td>\n",
       "      <td>uM</td>\n",
       "      <td>ALMANAC</td>\n",
       "      <td>ACHN</td>\n",
       "    </tr>\n",
       "    <tr>\n",
       "      <th>2812076</th>\n",
       "      <td>154008</td>\n",
       "      <td>4</td>\n",
       "      <td>1</td>\n",
       "      <td>FLUDARABINE BASE</td>\n",
       "      <td>DASATINIB</td>\n",
       "      <td>6.00</td>\n",
       "      <td>0.000</td>\n",
       "      <td>96.248405</td>\n",
       "      <td>uM</td>\n",
       "      <td>uM</td>\n",
       "      <td>ALMANAC</td>\n",
       "      <td>ACHN</td>\n",
       "    </tr>\n",
       "  </tbody>\n",
       "</table>\n",
       "</div>"
      ],
      "text/plain": [
       "         BlockID  Row  Col           DrugRow    DrugCol  ConcRow  ConcCol  \\\n",
       "2812064   154008    1    1  FLUDARABINE BASE  DASATINIB     0.00    0.000   \n",
       "2812065   154008    1    2  FLUDARABINE BASE  DASATINIB     0.00    0.001   \n",
       "2812066   154008    1    3  FLUDARABINE BASE  DASATINIB     0.00    0.010   \n",
       "2812067   154008    1    4  FLUDARABINE BASE  DASATINIB     0.00    0.100   \n",
       "2812068   154008    2    1  FLUDARABINE BASE  DASATINIB     0.06    0.000   \n",
       "2812072   154008    3    1  FLUDARABINE BASE  DASATINIB     0.60    0.000   \n",
       "2812076   154008    4    1  FLUDARABINE BASE  DASATINIB     6.00    0.000   \n",
       "\n",
       "           Response ConcRowUnit ConcColUnit   source Cell line  \n",
       "2812064  100.000626          uM          uM  ALMANAC      ACHN  \n",
       "2812065   99.289670          uM          uM  ALMANAC      ACHN  \n",
       "2812066  101.109424          uM          uM  ALMANAC      ACHN  \n",
       "2812067   88.330621          uM          uM  ALMANAC      ACHN  \n",
       "2812068  101.079816          uM          uM  ALMANAC      ACHN  \n",
       "2812072  106.290836          uM          uM  ALMANAC      ACHN  \n",
       "2812076   96.248405          uM          uM  ALMANAC      ACHN  "
      ]
     },
     "execution_count": 137,
     "metadata": {},
     "output_type": "execute_result"
    }
   ],
   "source": [
    "monotherapy[monotherapy[\"BlockID\"]==154008]"
   ]
  },
  {
   "cell_type": "code",
   "execution_count": 134,
   "metadata": {},
   "outputs": [
    {
     "data": {
      "text/plain": [
       "ID                                     154008\n",
       "Drug1                        FLUDARABINE BASE\n",
       "Drug2                               DASATINIB\n",
       "Cell line                                ACHN\n",
       "ZIP                                     -1.34\n",
       "Bliss                                    3.04\n",
       "Loewe                                  -47.35\n",
       "HSA                                       1.0\n",
       "max1ab                             101.079816\n",
       "min1ab                               99.28967\n",
       "sum1ab                             200.369487\n",
       "max2ab                              92.450836\n",
       "min2ab                             101.109424\n",
       "sum2ab                              207.40026\n",
       "max3ab                              96.248405\n",
       "min3ab                                    0.0\n",
       "sum3ab                             184.579026\n",
       "max4ab                                    0.0\n",
       "min4ab                                    0.0\n",
       "sum4ab                                    0.0\n",
       "age                                      22.0\n",
       "cat_Cancer cell line                      1.0\n",
       "cat_Embryonic stem cell                   0.0\n",
       "cat_Hybridoma                             0.0\n",
       "cat_Transformed cell line                 0.0\n",
       "gender_Female                             0.0\n",
       "gender_Male                               1.0\n",
       "gender_Sex unspecified                    0.0\n",
       "Name: 154007, dtype: object"
      ]
     },
     "execution_count": 134,
     "metadata": {},
     "output_type": "execute_result"
    }
   ],
   "source": [
    "df.iloc[154007]"
   ]
  },
  {
   "cell_type": "code",
   "execution_count": 153,
   "metadata": {},
   "outputs": [],
   "source": [
    "from sklearn.model_selection import train_test_split\n",
    "\n",
    "Y = df.dropna().iloc[:,7]\n",
    "X = df.dropna().iloc[:,8:]\n",
    "\n",
    "X_train,x_test,Y_train,y_test = train_test_split(X,Y,test_size=0.3)"
   ]
  },
  {
   "cell_type": "code",
   "execution_count": null,
   "metadata": {},
   "outputs": [],
   "source": [
    "from sklearn.ensemble import RandomForestRegressor\n",
    "\n",
    "scoresTrain = []\n",
    "scoresTest = []\n",
    "\n",
    "max_feats = [0.3,0.6,0.9999]\n",
    "max_depthF = [18,10,6,2]\n",
    "min_samples_splitF = [2,10,50,250,1250]\n",
    "no_trees = [5,50,200]\n",
    "\n",
    "print(\"starting now\")\n",
    "for k in max_feats:\n",
    "    localTrain3= []\n",
    "    localTest3 = []\n",
    "    for j in max_depthF:\n",
    "        localTrain2= []\n",
    "        localTest2 = []\n",
    "        for i in min_samples_splitF:\n",
    "            localTrain1= []\n",
    "            localTest1 = []\n",
    "            for l in no_trees:\n",
    "                regressorN = RandomForestRegressor(max_depth=j, max_features=k,\n",
    "                                               min_samples_split = i, bootstrap=True, n_jobs=-1,\n",
    "                                               n_estimators=l, verbose=True)\n",
    "                regressorN.fit(X_train,Y_train)\n",
    "        \n",
    "                localTrain1.append(np.mean(np.abs(regressorN.predict(X_train)-Y_train))) #do also train\n",
    "                localTest1.append(np.mean(np.abs(regressorN.predict(x_test)-y_test))) \n",
    "                #del regressorN\n",
    "            localTrain2.append(localTrain1)\n",
    "            localTest2.append(localTest1)\n",
    "        localTrain3.append(localTrain2)\n",
    "        localTest3.append(localTest2)\n",
    "        \n",
    "    scoresTrain.append(localTrain3)\n",
    "    scoresTest.append(localTest3)"
   ]
  },
  {
   "cell_type": "code",
   "execution_count": 158,
   "metadata": {},
   "outputs": [
    {
     "data": {
      "text/plain": [
       "[<matplotlib.lines.Line2D at 0x7fbca47a29d0>]"
      ]
     },
     "execution_count": 158,
     "metadata": {},
     "output_type": "execute_result"
    },
    {
     "data": {
      "image/png": "[encoded data removed]",
      "text/plain": [
       "<Figure size 432x288 with 1 Axes>"
      ]
     },
     "metadata": {
      "needs_background": "light"
     },
     "output_type": "display_data"
    }
   ],
   "source": [
    "plt.plot(np.array(scoresTrain).flatten())"
   ]
  },
  {
   "cell_type": "code",
   "execution_count": 157,
   "metadata": {},
   "outputs": [
    {
     "data": {
      "text/plain": [
       "[<matplotlib.lines.Line2D at 0x7fbca49bea00>]"
      ]
     },
     "execution_count": 157,
     "metadata": {},
     "output_type": "execute_result"
    },
    {
     "data": {
      "image/png": "[encoded data removed]",
      "text/plain": [
       "<Figure size 432x288 with 1 Axes>"
      ]
     },
     "metadata": {
      "needs_background": "light"
     },
     "output_type": "display_data"
    }
   ],
   "source": [
    "plt.plot(np.array(scoresTest).flatten())"
   ]
  },
  {
   "cell_type": "markdown",
   "metadata": {},
   "source": [
    "We see:\n",
    "    1. Num Features does not make a big difference (all 3 look similar)\n",
    "    2. Max-Depth is the strongest factor so far, more depth better performance\n",
    "    3. Min Samples split is equally important, only for little samples good performance\n",
    "    4. More trees are better but 50 to 200 is not that big of a difference anymore already"
   ]
  },
  {
   "cell_type": "code",
   "execution_count": null,
   "metadata": {},
   "outputs": [],
   "source": [
    "from sklearn.ensemble import RandomForestRegressor\n",
    "\n",
    "scoresTrain = []\n",
    "scoresTest = []\n",
    "\n",
    "max_feats = [0.2,0.4,0.9999]\n",
    "max_depthF = [80,40,20,10]\n",
    "min_samples_splitF = [2,5,12,30,75]\n",
    "no_trees = [50]\n",
    "\n",
    "print(\"starting now\")\n",
    "for i in min_samples_splitF:\n",
    "    localTrain3= []\n",
    "    localTest3 = []\n",
    "    for j in max_depthF:\n",
    "        localTrain2= []\n",
    "        localTest2 = []\n",
    "        for k in max_feats:\n",
    "            localTrain1= []\n",
    "            localTest1 = []\n",
    "            for l in no_trees:\n",
    "                regressorN = RandomForestRegressor(max_depth=j, max_features=k,\n",
    "                                               min_samples_split = i, bootstrap=True, n_jobs=-1,\n",
    "                                               n_estimators=l, verbose=True)\n",
    "                regressorN.fit(X_train,Y_train)\n",
    "        \n",
    "                localTrain1.append(np.mean(np.abs(regressorN.predict(X_train)-Y_train))) #do also train\n",
    "                localTest1.append(np.mean(np.abs(regressorN.predict(x_test)-y_test))) \n",
    "                #del regressorN\n",
    "            localTrain2.append(localTrain1)\n",
    "            localTest2.append(localTest1)\n",
    "        localTrain3.append(localTrain2)\n",
    "        localTest3.append(localTest2)\n",
    "        \n",
    "    scoresTrain.append(localTrain3)\n",
    "    scoresTest.append(localTest3)"
   ]
  },
  {
   "cell_type": "code",
   "execution_count": 166,
   "metadata": {},
   "outputs": [
    {
     "data": {
      "text/plain": [
       "[<matplotlib.lines.Line2D at 0x7fbca4524f40>]"
      ]
     },
     "execution_count": 166,
     "metadata": {},
     "output_type": "execute_result"
    },
    {
     "data": {
      "image/png": "[encoded data removed]",
      "text/plain": [
       "<Figure size 432x288 with 1 Axes>"
      ]
     },
     "metadata": {
      "needs_background": "light"
     },
     "output_type": "display_data"
    }
   ],
   "source": [
    "plt.plot(np.array(scoresTest).flatten())"
   ]
  },
  {
   "cell_type": "code",
   "execution_count": 167,
   "metadata": {},
   "outputs": [
    {
     "data": {
      "text/plain": [
       "[<matplotlib.lines.Line2D at 0x7fbca4511d90>]"
      ]
     },
     "execution_count": 167,
     "metadata": {},
     "output_type": "execute_result"
    },
    {
     "data": {
      "image/png": "[encoded data removed]",
      "text/plain": [
       "<Figure size 432x288 with 1 Axes>"
      ]
     },
     "metadata": {
      "needs_background": "light"
     },
     "output_type": "display_data"
    }
   ],
   "source": [
    "plt.plot(np.array(scoresTrain).flatten())"
   ]
  },
  {
   "cell_type": "markdown",
   "metadata": {},
   "source": [
    "We see:\n",
    "1. Min Samples split down to 12 makes decent improvements, overfitting grows with it\n",
    "2. Max-Depth is the strongest around 40\n",
    "3. max features is fairly irrelevant but looks like minor gains at 0.4"
   ]
  },
  {
   "cell_type": "code",
   "execution_count": 170,
   "metadata": {},
   "outputs": [
    {
     "name": "stderr",
     "output_type": "stream",
     "text": [
      "[Parallel(n_jobs=-1)]: Using backend ThreadingBackend with 128 concurrent workers.\n",
      "[Parallel(n_jobs=-1)]: Done  31 out of  40 | elapsed:    1.9s remaining:    0.6s\n",
      "[Parallel(n_jobs=-1)]: Done  40 out of  40 | elapsed:    2.3s finished\n"
     ]
    },
    {
     "data": {
      "text/plain": [
       "RandomForestRegressor(max_depth=40, max_features=0.5, min_samples_split=12,\n",
       "                      n_estimators=40, n_jobs=-1, verbose=True)"
      ]
     },
     "execution_count": 170,
     "metadata": {},
     "output_type": "execute_result"
    }
   ],
   "source": [
    "regressorN = RandomForestRegressor(max_depth=40, max_features=0.5,min_samples_split = 12,\n",
    "                                   bootstrap=True, n_jobs=-1,n_estimators=40, verbose=True)\n",
    "regressorN.fit(X_train,Y_train)"
   ]
  },
  {
   "cell_type": "code",
   "execution_count": 175,
   "metadata": {},
   "outputs": [
    {
     "name": "stderr",
     "output_type": "stream",
     "text": [
      "[Parallel(n_jobs=40)]: Using backend ThreadingBackend with 40 concurrent workers.\n",
      "[Parallel(n_jobs=40)]: Done   2 out of  40 | elapsed:    0.1s remaining:    1.1s\n",
      "[Parallel(n_jobs=40)]: Done  40 out of  40 | elapsed:    0.1s finished\n"
     ]
    },
    {
     "name": "stdout",
     "output_type": "stream",
     "text": [
      "3.0676929639607544\n"
     ]
    },
    {
     "data": {
      "text/html": [
       "<div>\n",
       "<style scoped>\n",
       "    .dataframe tbody tr th:only-of-type {\n",
       "        vertical-align: middle;\n",
       "    }\n",
       "\n",
       "    .dataframe tbody tr th {\n",
       "        vertical-align: top;\n",
       "    }\n",
       "\n",
       "    .dataframe thead th {\n",
       "        text-align: right;\n",
       "    }\n",
       "</style>\n",
       "<table border=\"1\" class=\"dataframe\">\n",
       "  <thead>\n",
       "    <tr style=\"text-align: right;\">\n",
       "      <th></th>\n",
       "      <th>0</th>\n",
       "      <th>1</th>\n",
       "      <th>2</th>\n",
       "      <th>3</th>\n",
       "      <th>4</th>\n",
       "      <th>5</th>\n",
       "      <th>6</th>\n",
       "      <th>7</th>\n",
       "      <th>8</th>\n",
       "      <th>9</th>\n",
       "      <th>...</th>\n",
       "      <th>66559</th>\n",
       "      <th>66560</th>\n",
       "      <th>66561</th>\n",
       "      <th>66562</th>\n",
       "      <th>66563</th>\n",
       "      <th>66564</th>\n",
       "      <th>66565</th>\n",
       "      <th>66566</th>\n",
       "      <th>66567</th>\n",
       "      <th>66568</th>\n",
       "    </tr>\n",
       "  </thead>\n",
       "  <tbody>\n",
       "    <tr>\n",
       "      <th>0</th>\n",
       "      <td>-3.285803</td>\n",
       "      <td>1.441518</td>\n",
       "      <td>-0.816661</td>\n",
       "      <td>3.979863</td>\n",
       "      <td>10.439964</td>\n",
       "      <td>10.735005</td>\n",
       "      <td>8.691895</td>\n",
       "      <td>17.311539</td>\n",
       "      <td>1.253442</td>\n",
       "      <td>-9.044599</td>\n",
       "      <td>...</td>\n",
       "      <td>0.909635</td>\n",
       "      <td>-2.224328</td>\n",
       "      <td>2.314903</td>\n",
       "      <td>0.525062</td>\n",
       "      <td>-1.83841</td>\n",
       "      <td>-2.140849</td>\n",
       "      <td>-1.210746</td>\n",
       "      <td>3.44604</td>\n",
       "      <td>9.420397</td>\n",
       "      <td>0.86053</td>\n",
       "    </tr>\n",
       "    <tr>\n",
       "      <th>1</th>\n",
       "      <td>0.510000</td>\n",
       "      <td>5.990000</td>\n",
       "      <td>-0.050000</td>\n",
       "      <td>6.870000</td>\n",
       "      <td>8.350000</td>\n",
       "      <td>8.260000</td>\n",
       "      <td>12.160000</td>\n",
       "      <td>12.120000</td>\n",
       "      <td>-4.710000</td>\n",
       "      <td>-9.880000</td>\n",
       "      <td>...</td>\n",
       "      <td>0.680000</td>\n",
       "      <td>-4.150000</td>\n",
       "      <td>1.780000</td>\n",
       "      <td>-1.310000</td>\n",
       "      <td>-6.99000</td>\n",
       "      <td>5.480000</td>\n",
       "      <td>-2.480000</td>\n",
       "      <td>-1.99000</td>\n",
       "      <td>16.610000</td>\n",
       "      <td>1.34000</td>\n",
       "    </tr>\n",
       "  </tbody>\n",
       "</table>\n",
       "<p>2 rows × 66569 columns</p>\n",
       "</div>"
      ],
      "text/plain": [
       "      0         1         2         3          4          5          6      \\\n",
       "0 -3.285803  1.441518 -0.816661  3.979863  10.439964  10.735005   8.691895   \n",
       "1  0.510000  5.990000 -0.050000  6.870000   8.350000   8.260000  12.160000   \n",
       "\n",
       "       7         8         9      ...     66559     66560     66561     66562  \\\n",
       "0  17.311539  1.253442 -9.044599  ...  0.909635 -2.224328  2.314903  0.525062   \n",
       "1  12.120000 -4.710000 -9.880000  ...  0.680000 -4.150000  1.780000 -1.310000   \n",
       "\n",
       "     66563     66564     66565    66566      66567    66568  \n",
       "0 -1.83841 -2.140849 -1.210746  3.44604   9.420397  0.86053  \n",
       "1 -6.99000  5.480000 -2.480000 -1.99000  16.610000  1.34000  \n",
       "\n",
       "[2 rows x 66569 columns]"
      ]
     },
     "execution_count": 175,
     "metadata": {},
     "output_type": "execute_result"
    }
   ],
   "source": [
    "pred=regressorN.predict(x_test)\n",
    "print(np.mean(np.abs(pred-y_test)))\n",
    "pd.DataFrame([pred,y_test])"
   ]
  },
  {
   "cell_type": "code",
   "execution_count": 176,
   "metadata": {},
   "outputs": [
    {
     "data": {
      "text/plain": [
       "array([0.06942119, 0.07663597, 0.06296899, 0.05942832, 0.06414641,\n",
       "       0.07136627, 0.09752421, 0.06868056, 0.0604718 , 0.09068171,\n",
       "       0.13148452, 0.0909533 , 0.03644594, 0.00121118, 0.00048296,\n",
       "       0.00346996, 0.00049798, 0.00724623, 0.0045591 , 0.0023234 ])"
      ]
     },
     "execution_count": 176,
     "metadata": {},
     "output_type": "execute_result"
    }
   ],
   "source": []
  },
  {
   "cell_type": "code",
   "execution_count": 184,
   "metadata": {},
   "outputs": [
    {
     "data": {
      "text/html": [
       "<div>\n",
       "<style scoped>\n",
       "    .dataframe tbody tr th:only-of-type {\n",
       "        vertical-align: middle;\n",
       "    }\n",
       "\n",
       "    .dataframe tbody tr th {\n",
       "        vertical-align: top;\n",
       "    }\n",
       "\n",
       "    .dataframe thead th {\n",
       "        text-align: right;\n",
       "    }\n",
       "</style>\n",
       "<table border=\"1\" class=\"dataframe\">\n",
       "  <thead>\n",
       "    <tr style=\"text-align: right;\">\n",
       "      <th></th>\n",
       "      <th>0</th>\n",
       "      <th>1</th>\n",
       "    </tr>\n",
       "  </thead>\n",
       "  <tbody>\n",
       "    <tr>\n",
       "      <th>10</th>\n",
       "      <td>min4ab</td>\n",
       "      <td>0.131485</td>\n",
       "    </tr>\n",
       "    <tr>\n",
       "      <th>6</th>\n",
       "      <td>max3ab</td>\n",
       "      <td>0.097524</td>\n",
       "    </tr>\n",
       "    <tr>\n",
       "      <th>11</th>\n",
       "      <td>sum4ab</td>\n",
       "      <td>0.090953</td>\n",
       "    </tr>\n",
       "    <tr>\n",
       "      <th>9</th>\n",
       "      <td>max4ab</td>\n",
       "      <td>0.090682</td>\n",
       "    </tr>\n",
       "    <tr>\n",
       "      <th>1</th>\n",
       "      <td>min1ab</td>\n",
       "      <td>0.076636</td>\n",
       "    </tr>\n",
       "    <tr>\n",
       "      <th>5</th>\n",
       "      <td>sum2ab</td>\n",
       "      <td>0.071366</td>\n",
       "    </tr>\n",
       "    <tr>\n",
       "      <th>0</th>\n",
       "      <td>max1ab</td>\n",
       "      <td>0.069421</td>\n",
       "    </tr>\n",
       "    <tr>\n",
       "      <th>7</th>\n",
       "      <td>min3ab</td>\n",
       "      <td>0.068681</td>\n",
       "    </tr>\n",
       "    <tr>\n",
       "      <th>4</th>\n",
       "      <td>min2ab</td>\n",
       "      <td>0.064146</td>\n",
       "    </tr>\n",
       "    <tr>\n",
       "      <th>2</th>\n",
       "      <td>sum1ab</td>\n",
       "      <td>0.062969</td>\n",
       "    </tr>\n",
       "    <tr>\n",
       "      <th>8</th>\n",
       "      <td>sum3ab</td>\n",
       "      <td>0.060472</td>\n",
       "    </tr>\n",
       "    <tr>\n",
       "      <th>3</th>\n",
       "      <td>max2ab</td>\n",
       "      <td>0.059428</td>\n",
       "    </tr>\n",
       "    <tr>\n",
       "      <th>12</th>\n",
       "      <td>age</td>\n",
       "      <td>0.036446</td>\n",
       "    </tr>\n",
       "    <tr>\n",
       "      <th>17</th>\n",
       "      <td>gender_Female</td>\n",
       "      <td>0.007246</td>\n",
       "    </tr>\n",
       "    <tr>\n",
       "      <th>18</th>\n",
       "      <td>gender_Male</td>\n",
       "      <td>0.004559</td>\n",
       "    </tr>\n",
       "    <tr>\n",
       "      <th>15</th>\n",
       "      <td>cat_Hybridoma</td>\n",
       "      <td>0.00347</td>\n",
       "    </tr>\n",
       "    <tr>\n",
       "      <th>19</th>\n",
       "      <td>gender_Sex unspecified</td>\n",
       "      <td>0.002323</td>\n",
       "    </tr>\n",
       "    <tr>\n",
       "      <th>13</th>\n",
       "      <td>cat_Cancer cell line</td>\n",
       "      <td>0.001211</td>\n",
       "    </tr>\n",
       "    <tr>\n",
       "      <th>16</th>\n",
       "      <td>cat_Transformed cell line</td>\n",
       "      <td>0.000498</td>\n",
       "    </tr>\n",
       "    <tr>\n",
       "      <th>14</th>\n",
       "      <td>cat_Embryonic stem cell</td>\n",
       "      <td>0.000483</td>\n",
       "    </tr>\n",
       "  </tbody>\n",
       "</table>\n",
       "</div>"
      ],
      "text/plain": [
       "                            0         1\n",
       "10                     min4ab  0.131485\n",
       "6                      max3ab  0.097524\n",
       "11                     sum4ab  0.090953\n",
       "9                      max4ab  0.090682\n",
       "1                      min1ab  0.076636\n",
       "5                      sum2ab  0.071366\n",
       "0                      max1ab  0.069421\n",
       "7                      min3ab  0.068681\n",
       "4                      min2ab  0.064146\n",
       "2                      sum1ab  0.062969\n",
       "8                      sum3ab  0.060472\n",
       "3                      max2ab  0.059428\n",
       "12                        age  0.036446\n",
       "17              gender_Female  0.007246\n",
       "18                gender_Male  0.004559\n",
       "15              cat_Hybridoma   0.00347\n",
       "19     gender_Sex unspecified  0.002323\n",
       "13       cat_Cancer cell line  0.001211\n",
       "16  cat_Transformed cell line  0.000498\n",
       "14    cat_Embryonic stem cell  0.000483"
      ]
     },
     "execution_count": 184,
     "metadata": {},
     "output_type": "execute_result"
    }
   ],
   "source": [
    "pd.DataFrame([x_test.columns,regressorN.feature_importances_]).transpose().sort_values(1,ascending=False)"
   ]
  },
  {
   "cell_type": "markdown",
   "metadata": {},
   "source": [
    "#### Second Run With Advanced Cell lines"
   ]
  },
  {
   "cell_type": "code",
   "execution_count": 187,
   "metadata": {},
   "outputs": [],
   "source": [
    "import _pickle as pkl\n",
    "with open(\"intermediate-pickles/cell_PCA.pkl\",\"rb\") as inp:\n",
    "    cell_PCA = pkl.load(inp)"
   ]
  },
  {
   "cell_type": "code",
   "execution_count": null,
   "metadata": {},
   "outputs": [],
   "source": []
  },
  {
   "cell_type": "code",
   "execution_count": 196,
   "metadata": {},
   "outputs": [],
   "source": [
    "df3 = df.dropna()"
   ]
  },
  {
   "cell_type": "code",
   "execution_count": 202,
   "metadata": {},
   "outputs": [
    {
     "name": "stdout",
     "output_type": "stream",
     "text": [
      "\n"
     ]
    }
   ],
   "source": [
    "df3[\"Cell line\"] = df3[\"Cell line\"].str.lower()\n",
    "df3[\"Cell line\"] = df3[\"Cell line\"].str.replace(\" \",\"\")\n",
    "df3[\"Cell line\"] = df3[\"Cell line\"].str.replace(\"-\",\"\")"
   ]
  },
  {
   "cell_type": "code",
   "execution_count": 205,
   "metadata": {},
   "outputs": [],
   "source": [
    "smallDf3 = df3.join(cell_PCA,on=\"Cell line\",how=\"left\").dropna()"
   ]
  },
  {
   "cell_type": "code",
   "execution_count": 209,
   "metadata": {},
   "outputs": [],
   "source": [
    "X_train, x_test, Y_train,y_test = train_test_split(smallDf3.iloc[:,8:],smallDf3.iloc[:,7])"
   ]
  },
  {
   "cell_type": "code",
   "execution_count": 212,
   "metadata": {},
   "outputs": [
    {
     "name": "stderr",
     "output_type": "stream",
     "text": [
      "[Parallel(n_jobs=-1)]: Using backend ThreadingBackend with 128 concurrent workers.\n"
     ]
    },
    {
     "name": "stdout",
     "output_type": "stream",
     "text": [
      "3.0953597156602934\n"
     ]
    },
    {
     "name": "stderr",
     "output_type": "stream",
     "text": [
      "[Parallel(n_jobs=-1)]: Done  31 out of  40 | elapsed:    0.5s remaining:    0.1s\n",
      "[Parallel(n_jobs=-1)]: Done  40 out of  40 | elapsed:    0.6s finished\n",
      "[Parallel(n_jobs=40)]: Using backend ThreadingBackend with 40 concurrent workers.\n",
      "[Parallel(n_jobs=40)]: Done   2 out of  40 | elapsed:    0.0s remaining:    0.4s\n",
      "[Parallel(n_jobs=40)]: Done  40 out of  40 | elapsed:    0.0s finished\n"
     ]
    }
   ],
   "source": [
    "regressor1 = RandomForestRegressor(max_depth=40, max_features=0.5,min_samples_split = 12,\n",
    "                                   bootstrap=True, n_jobs=-1,n_estimators=40, verbose=True)\n",
    "regressor1.fit(X_train,Y_train)\n",
    "\n",
    "pred=regressor1.predict(x_test)\n",
    "print(np.mean(np.abs(pred-y_test)))"
   ]
  },
  {
   "cell_type": "code",
   "execution_count": 221,
   "metadata": {},
   "outputs": [
    {
     "name": "stderr",
     "output_type": "stream",
     "text": [
      "[Parallel(n_jobs=-1)]: Using backend ThreadingBackend with 128 concurrent workers.\n"
     ]
    },
    {
     "name": "stdout",
     "output_type": "stream",
     "text": [
      "3.1086340112881565\n"
     ]
    },
    {
     "name": "stderr",
     "output_type": "stream",
     "text": [
      "[Parallel(n_jobs=-1)]: Done  31 out of  40 | elapsed:    0.5s remaining:    0.1s\n",
      "[Parallel(n_jobs=-1)]: Done  40 out of  40 | elapsed:    0.5s finished\n",
      "[Parallel(n_jobs=40)]: Using backend ThreadingBackend with 40 concurrent workers.\n",
      "[Parallel(n_jobs=40)]: Done   2 out of  40 | elapsed:    0.0s remaining:    0.6s\n",
      "[Parallel(n_jobs=40)]: Done  40 out of  40 | elapsed:    0.1s finished\n"
     ]
    }
   ],
   "source": [
    "regressor2 = RandomForestRegressor(max_depth=40, max_features=0.5,min_samples_split = 12,\n",
    "                                   bootstrap=True, n_jobs=-1,n_estimators=40, verbose=True)\n",
    "regressor2.fit(X_train.iloc[:,:-15],Y_train)\n",
    "\n",
    "pred=regressor2.predict(x_test.iloc[:,:-15])\n",
    "print(np.mean(np.abs(pred-y_test)))"
   ]
  },
  {
   "cell_type": "code",
   "execution_count": 222,
   "metadata": {},
   "outputs": [
    {
     "data": {
      "text/html": [
       "<div>\n",
       "<style scoped>\n",
       "    .dataframe tbody tr th:only-of-type {\n",
       "        vertical-align: middle;\n",
       "    }\n",
       "\n",
       "    .dataframe tbody tr th {\n",
       "        vertical-align: top;\n",
       "    }\n",
       "\n",
       "    .dataframe thead th {\n",
       "        text-align: right;\n",
       "    }\n",
       "</style>\n",
       "<table border=\"1\" class=\"dataframe\">\n",
       "  <thead>\n",
       "    <tr style=\"text-align: right;\">\n",
       "      <th></th>\n",
       "      <th>0</th>\n",
       "      <th>1</th>\n",
       "    </tr>\n",
       "  </thead>\n",
       "  <tbody>\n",
       "    <tr>\n",
       "      <th>10</th>\n",
       "      <td>min4ab</td>\n",
       "      <td>0.131485</td>\n",
       "    </tr>\n",
       "    <tr>\n",
       "      <th>6</th>\n",
       "      <td>max3ab</td>\n",
       "      <td>0.097524</td>\n",
       "    </tr>\n",
       "    <tr>\n",
       "      <th>11</th>\n",
       "      <td>sum4ab</td>\n",
       "      <td>0.090953</td>\n",
       "    </tr>\n",
       "    <tr>\n",
       "      <th>9</th>\n",
       "      <td>max4ab</td>\n",
       "      <td>0.090682</td>\n",
       "    </tr>\n",
       "    <tr>\n",
       "      <th>1</th>\n",
       "      <td>min1ab</td>\n",
       "      <td>0.076636</td>\n",
       "    </tr>\n",
       "    <tr>\n",
       "      <th>5</th>\n",
       "      <td>sum2ab</td>\n",
       "      <td>0.071366</td>\n",
       "    </tr>\n",
       "    <tr>\n",
       "      <th>0</th>\n",
       "      <td>max1ab</td>\n",
       "      <td>0.069421</td>\n",
       "    </tr>\n",
       "    <tr>\n",
       "      <th>7</th>\n",
       "      <td>min3ab</td>\n",
       "      <td>0.068681</td>\n",
       "    </tr>\n",
       "    <tr>\n",
       "      <th>4</th>\n",
       "      <td>min2ab</td>\n",
       "      <td>0.064146</td>\n",
       "    </tr>\n",
       "    <tr>\n",
       "      <th>2</th>\n",
       "      <td>sum1ab</td>\n",
       "      <td>0.062969</td>\n",
       "    </tr>\n",
       "    <tr>\n",
       "      <th>8</th>\n",
       "      <td>sum3ab</td>\n",
       "      <td>0.060472</td>\n",
       "    </tr>\n",
       "    <tr>\n",
       "      <th>3</th>\n",
       "      <td>max2ab</td>\n",
       "      <td>0.059428</td>\n",
       "    </tr>\n",
       "    <tr>\n",
       "      <th>12</th>\n",
       "      <td>age</td>\n",
       "      <td>0.036446</td>\n",
       "    </tr>\n",
       "    <tr>\n",
       "      <th>17</th>\n",
       "      <td>gender_Female</td>\n",
       "      <td>0.007246</td>\n",
       "    </tr>\n",
       "    <tr>\n",
       "      <th>18</th>\n",
       "      <td>gender_Male</td>\n",
       "      <td>0.004559</td>\n",
       "    </tr>\n",
       "    <tr>\n",
       "      <th>15</th>\n",
       "      <td>cat_Hybridoma</td>\n",
       "      <td>0.00347</td>\n",
       "    </tr>\n",
       "    <tr>\n",
       "      <th>19</th>\n",
       "      <td>gender_Sex unspecified</td>\n",
       "      <td>0.002323</td>\n",
       "    </tr>\n",
       "    <tr>\n",
       "      <th>13</th>\n",
       "      <td>cat_Cancer cell line</td>\n",
       "      <td>0.001211</td>\n",
       "    </tr>\n",
       "    <tr>\n",
       "      <th>16</th>\n",
       "      <td>cat_Transformed cell line</td>\n",
       "      <td>0.000498</td>\n",
       "    </tr>\n",
       "    <tr>\n",
       "      <th>14</th>\n",
       "      <td>cat_Embryonic stem cell</td>\n",
       "      <td>0.000483</td>\n",
       "    </tr>\n",
       "    <tr>\n",
       "      <th>20</th>\n",
       "      <td>0.0</td>\n",
       "      <td>NaN</td>\n",
       "    </tr>\n",
       "    <tr>\n",
       "      <th>21</th>\n",
       "      <td>1.0</td>\n",
       "      <td>NaN</td>\n",
       "    </tr>\n",
       "    <tr>\n",
       "      <th>22</th>\n",
       "      <td>2.0</td>\n",
       "      <td>NaN</td>\n",
       "    </tr>\n",
       "    <tr>\n",
       "      <th>23</th>\n",
       "      <td>3.0</td>\n",
       "      <td>NaN</td>\n",
       "    </tr>\n",
       "    <tr>\n",
       "      <th>24</th>\n",
       "      <td>4.0</td>\n",
       "      <td>NaN</td>\n",
       "    </tr>\n",
       "    <tr>\n",
       "      <th>25</th>\n",
       "      <td>5.0</td>\n",
       "      <td>NaN</td>\n",
       "    </tr>\n",
       "    <tr>\n",
       "      <th>26</th>\n",
       "      <td>6.0</td>\n",
       "      <td>NaN</td>\n",
       "    </tr>\n",
       "    <tr>\n",
       "      <th>27</th>\n",
       "      <td>7.0</td>\n",
       "      <td>NaN</td>\n",
       "    </tr>\n",
       "    <tr>\n",
       "      <th>28</th>\n",
       "      <td>8.0</td>\n",
       "      <td>NaN</td>\n",
       "    </tr>\n",
       "    <tr>\n",
       "      <th>29</th>\n",
       "      <td>9.0</td>\n",
       "      <td>NaN</td>\n",
       "    </tr>\n",
       "    <tr>\n",
       "      <th>30</th>\n",
       "      <td>10.0</td>\n",
       "      <td>NaN</td>\n",
       "    </tr>\n",
       "    <tr>\n",
       "      <th>31</th>\n",
       "      <td>11.0</td>\n",
       "      <td>NaN</td>\n",
       "    </tr>\n",
       "    <tr>\n",
       "      <th>32</th>\n",
       "      <td>12.0</td>\n",
       "      <td>NaN</td>\n",
       "    </tr>\n",
       "    <tr>\n",
       "      <th>33</th>\n",
       "      <td>13.0</td>\n",
       "      <td>NaN</td>\n",
       "    </tr>\n",
       "    <tr>\n",
       "      <th>34</th>\n",
       "      <td>14.0</td>\n",
       "      <td>NaN</td>\n",
       "    </tr>\n",
       "  </tbody>\n",
       "</table>\n",
       "</div>"
      ],
      "text/plain": [
       "                            0         1\n",
       "10                     min4ab  0.131485\n",
       "6                      max3ab  0.097524\n",
       "11                     sum4ab  0.090953\n",
       "9                      max4ab  0.090682\n",
       "1                      min1ab  0.076636\n",
       "5                      sum2ab  0.071366\n",
       "0                      max1ab  0.069421\n",
       "7                      min3ab  0.068681\n",
       "4                      min2ab  0.064146\n",
       "2                      sum1ab  0.062969\n",
       "8                      sum3ab  0.060472\n",
       "3                      max2ab  0.059428\n",
       "12                        age  0.036446\n",
       "17              gender_Female  0.007246\n",
       "18                gender_Male  0.004559\n",
       "15              cat_Hybridoma   0.00347\n",
       "19     gender_Sex unspecified  0.002323\n",
       "13       cat_Cancer cell line  0.001211\n",
       "16  cat_Transformed cell line  0.000498\n",
       "14    cat_Embryonic stem cell  0.000483\n",
       "20                        0.0       NaN\n",
       "21                        1.0       NaN\n",
       "22                        2.0       NaN\n",
       "23                        3.0       NaN\n",
       "24                        4.0       NaN\n",
       "25                        5.0       NaN\n",
       "26                        6.0       NaN\n",
       "27                        7.0       NaN\n",
       "28                        8.0       NaN\n",
       "29                        9.0       NaN\n",
       "30                       10.0       NaN\n",
       "31                       11.0       NaN\n",
       "32                       12.0       NaN\n",
       "33                       13.0       NaN\n",
       "34                       14.0       NaN"
      ]
     },
     "execution_count": 222,
     "metadata": {},
     "output_type": "execute_result"
    }
   ],
   "source": [
    "pd.DataFrame([x_test.columns,regressorN.feature_importances_]).transpose().sort_values(1,ascending=False)"
   ]
  },
  {
   "cell_type": "code",
   "execution_count": 249,
   "metadata": {},
   "outputs": [
    {
     "name": "stderr",
     "output_type": "stream",
     "text": [
      "[Parallel(n_jobs=-1)]: Using backend ThreadingBackend with 128 concurrent workers.\n"
     ]
    },
    {
     "name": "stdout",
     "output_type": "stream",
     "text": [
      "3.1010934817526308\n"
     ]
    },
    {
     "name": "stderr",
     "output_type": "stream",
     "text": [
      "[Parallel(n_jobs=-1)]: Done  31 out of  40 | elapsed:    0.6s remaining:    0.2s\n",
      "[Parallel(n_jobs=-1)]: Done  40 out of  40 | elapsed:    0.6s finished\n",
      "[Parallel(n_jobs=40)]: Using backend ThreadingBackend with 40 concurrent workers.\n",
      "[Parallel(n_jobs=40)]: Done   2 out of  40 | elapsed:    0.0s remaining:    0.5s\n",
      "[Parallel(n_jobs=40)]: Done  40 out of  40 | elapsed:    0.0s finished\n"
     ]
    }
   ],
   "source": [
    "regressor3 = RandomForestRegressor(max_depth=40, max_features=0.5,min_samples_split = 12,\n",
    "                                   bootstrap=True, n_jobs=-1,n_estimators=40, verbose=True)\n",
    "regressor3.fit(X_train.drop(columns=x_test.iloc[:,12:20].columns),Y_train)\n",
    "\n",
    "pred=regressor3.predict(x_test.drop(columns=x_test.iloc[:,12:20].columns))\n",
    "print(np.mean(np.abs(pred-y_test)))"
   ]
  },
  {
   "cell_type": "code",
   "execution_count": 253,
   "metadata": {},
   "outputs": [
    {
     "data": {
      "text/html": [
       "<div>\n",
       "<style scoped>\n",
       "    .dataframe tbody tr th:only-of-type {\n",
       "        vertical-align: middle;\n",
       "    }\n",
       "\n",
       "    .dataframe tbody tr th {\n",
       "        vertical-align: top;\n",
       "    }\n",
       "\n",
       "    .dataframe thead th {\n",
       "        text-align: right;\n",
       "    }\n",
       "</style>\n",
       "<table border=\"1\" class=\"dataframe\">\n",
       "  <thead>\n",
       "    <tr style=\"text-align: right;\">\n",
       "      <th></th>\n",
       "      <th>0</th>\n",
       "      <th>1</th>\n",
       "    </tr>\n",
       "  </thead>\n",
       "  <tbody>\n",
       "    <tr>\n",
       "      <th>10</th>\n",
       "      <td>min4ab</td>\n",
       "      <td>0.116858</td>\n",
       "    </tr>\n",
       "    <tr>\n",
       "      <th>9</th>\n",
       "      <td>max4ab</td>\n",
       "      <td>0.093607</td>\n",
       "    </tr>\n",
       "    <tr>\n",
       "      <th>11</th>\n",
       "      <td>sum4ab</td>\n",
       "      <td>0.090708</td>\n",
       "    </tr>\n",
       "    <tr>\n",
       "      <th>6</th>\n",
       "      <td>max3ab</td>\n",
       "      <td>0.084819</td>\n",
       "    </tr>\n",
       "    <tr>\n",
       "      <th>7</th>\n",
       "      <td>min3ab</td>\n",
       "      <td>0.07547</td>\n",
       "    </tr>\n",
       "    <tr>\n",
       "      <th>5</th>\n",
       "      <td>sum2ab</td>\n",
       "      <td>0.072569</td>\n",
       "    </tr>\n",
       "    <tr>\n",
       "      <th>1</th>\n",
       "      <td>min1ab</td>\n",
       "      <td>0.066944</td>\n",
       "    </tr>\n",
       "    <tr>\n",
       "      <th>4</th>\n",
       "      <td>min2ab</td>\n",
       "      <td>0.06584</td>\n",
       "    </tr>\n",
       "    <tr>\n",
       "      <th>8</th>\n",
       "      <td>sum3ab</td>\n",
       "      <td>0.06362</td>\n",
       "    </tr>\n",
       "    <tr>\n",
       "      <th>2</th>\n",
       "      <td>sum1ab</td>\n",
       "      <td>0.063205</td>\n",
       "    </tr>\n",
       "    <tr>\n",
       "      <th>0</th>\n",
       "      <td>max1ab</td>\n",
       "      <td>0.059091</td>\n",
       "    </tr>\n",
       "    <tr>\n",
       "      <th>3</th>\n",
       "      <td>max2ab</td>\n",
       "      <td>0.055158</td>\n",
       "    </tr>\n",
       "    <tr>\n",
       "      <th>16</th>\n",
       "      <td>4.0</td>\n",
       "      <td>0.008529</td>\n",
       "    </tr>\n",
       "    <tr>\n",
       "      <th>25</th>\n",
       "      <td>13.0</td>\n",
       "      <td>0.008216</td>\n",
       "    </tr>\n",
       "    <tr>\n",
       "      <th>12</th>\n",
       "      <td>0.0</td>\n",
       "      <td>0.008048</td>\n",
       "    </tr>\n",
       "    <tr>\n",
       "      <th>20</th>\n",
       "      <td>8.0</td>\n",
       "      <td>0.007344</td>\n",
       "    </tr>\n",
       "    <tr>\n",
       "      <th>22</th>\n",
       "      <td>10.0</td>\n",
       "      <td>0.007294</td>\n",
       "    </tr>\n",
       "    <tr>\n",
       "      <th>18</th>\n",
       "      <td>6.0</td>\n",
       "      <td>0.006392</td>\n",
       "    </tr>\n",
       "    <tr>\n",
       "      <th>26</th>\n",
       "      <td>14.0</td>\n",
       "      <td>0.006079</td>\n",
       "    </tr>\n",
       "    <tr>\n",
       "      <th>13</th>\n",
       "      <td>1.0</td>\n",
       "      <td>0.006017</td>\n",
       "    </tr>\n",
       "    <tr>\n",
       "      <th>23</th>\n",
       "      <td>11.0</td>\n",
       "      <td>0.006013</td>\n",
       "    </tr>\n",
       "    <tr>\n",
       "      <th>21</th>\n",
       "      <td>9.0</td>\n",
       "      <td>0.005965</td>\n",
       "    </tr>\n",
       "    <tr>\n",
       "      <th>15</th>\n",
       "      <td>3.0</td>\n",
       "      <td>0.005407</td>\n",
       "    </tr>\n",
       "    <tr>\n",
       "      <th>24</th>\n",
       "      <td>12.0</td>\n",
       "      <td>0.004403</td>\n",
       "    </tr>\n",
       "    <tr>\n",
       "      <th>17</th>\n",
       "      <td>5.0</td>\n",
       "      <td>0.004369</td>\n",
       "    </tr>\n",
       "    <tr>\n",
       "      <th>14</th>\n",
       "      <td>2.0</td>\n",
       "      <td>0.004237</td>\n",
       "    </tr>\n",
       "    <tr>\n",
       "      <th>19</th>\n",
       "      <td>7.0</td>\n",
       "      <td>0.003799</td>\n",
       "    </tr>\n",
       "  </tbody>\n",
       "</table>\n",
       "</div>"
      ],
      "text/plain": [
       "         0         1\n",
       "10  min4ab  0.116858\n",
       "9   max4ab  0.093607\n",
       "11  sum4ab  0.090708\n",
       "6   max3ab  0.084819\n",
       "7   min3ab   0.07547\n",
       "5   sum2ab  0.072569\n",
       "1   min1ab  0.066944\n",
       "4   min2ab   0.06584\n",
       "8   sum3ab   0.06362\n",
       "2   sum1ab  0.063205\n",
       "0   max1ab  0.059091\n",
       "3   max2ab  0.055158\n",
       "16     4.0  0.008529\n",
       "25    13.0  0.008216\n",
       "12     0.0  0.008048\n",
       "20     8.0  0.007344\n",
       "22    10.0  0.007294\n",
       "18     6.0  0.006392\n",
       "26    14.0  0.006079\n",
       "13     1.0  0.006017\n",
       "23    11.0  0.006013\n",
       "21     9.0  0.005965\n",
       "15     3.0  0.005407\n",
       "24    12.0  0.004403\n",
       "17     5.0  0.004369\n",
       "14     2.0  0.004237\n",
       "19     7.0  0.003799"
      ]
     },
     "execution_count": 253,
     "metadata": {},
     "output_type": "execute_result"
    }
   ],
   "source": [
    "pd.DataFrame([x_test.drop(columns=x_test.iloc[:,12:20].columns).columns,regressor3.feature_importances_]).transpose().sort_values(1,ascending=False)"
   ]
  }
 ],
 "metadata": {
  "interpreter": {
   "hash": "31f2aee4e71d21fbe5cf8b01ff0e069b9275f58929596ceb00d14d90e3e16cd6"
  },
  "kernelspec": {
   "display_name": "Python [conda env:root] *",
   "language": "python",
   "name": "conda-root-py"
  },
  "language_info": {
   "codemirror_mode": {
    "name": "ipython",
    "version": 3
   },
   "file_extension": ".py",
   "mimetype": "text/x-python",
   "name": "python",
   "nbconvert_exporter": "python",
   "pygments_lexer": "ipython3",
   "version": "3.8.8"
  }
 },
 "nbformat": 4,
 "nbformat_minor": 4
}
