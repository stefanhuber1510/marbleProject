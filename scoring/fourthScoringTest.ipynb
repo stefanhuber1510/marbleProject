{
 "cells": [
  {
   "cell_type": "markdown",
   "id": "15bd2444-4a6d-445a-ac12-7e33c178c4d6",
   "metadata": {},
   "source": [
    "Aims of this dataset:<br>\n",
    "Combine most useful feats of chem and MACCS keys<br>\n",
    "validate importance of source feature"
   ]
  },
  {
   "cell_type": "code",
   "execution_count": 1,
   "id": "5286024a-82a5-4eb6-b81d-8263af4f61f6",
   "metadata": {},
   "outputs": [],
   "source": [
    "# temporary working here to deal with double values and insert it later as new section before section joining"
   ]
  },
  {
   "cell_type": "code",
   "execution_count": 1,
   "id": "67cd60e4-cf9a-4b57-b798-44d69c1eabbd",
   "metadata": {},
   "outputs": [],
   "source": [
    "import numpy as np\n",
    "import pandas as pd\n",
    "import _pickle as pkl"
   ]
  },
  {
   "cell_type": "markdown",
   "id": "ab046ee4-323b-4f59-b5a2-b7b33776ca13",
   "metadata": {},
   "source": [
    "#### 2. Joining"
   ]
  },
  {
   "cell_type": "code",
   "execution_count": 136,
   "id": "45fa71e5-c910-42b6-bf2f-21092f1b7ab3",
   "metadata": {},
   "outputs": [],
   "source": [
    "with open('./intermediate-pickles-scoring2/dataWithSource.pkl', 'rb') as inp:\n",
    "    data1 = pkl.load(inp)\n",
    "with open('./intermediate-pickles-scoring2/data2.pkl', 'rb') as inp:\n",
    "    data2 = pkl.load(inp)"
   ]
  },
  {
   "cell_type": "code",
   "execution_count": 137,
   "id": "d2b83356-44b5-45ef-8116-c3258808e9c4",
   "metadata": {},
   "outputs": [],
   "source": [
    "data2 = data2[data2[\"HSA\"]<84.4]"
   ]
  },
  {
   "cell_type": "code",
   "execution_count": 138,
   "id": "bf9fb6cd-6c7f-43cb-bf29-979b8e4ab7f6",
   "metadata": {},
   "outputs": [
    {
     "name": "stdout",
     "output_type": "stream",
     "text": [
      "492814  records in first frame\n",
      "811376  records in second frame\n"
     ]
    },
    {
     "data": {
      "text/html": [
       "<div>\n",
       "<style scoped>\n",
       "    .dataframe tbody tr th:only-of-type {\n",
       "        vertical-align: middle;\n",
       "    }\n",
       "\n",
       "    .dataframe tbody tr th {\n",
       "        vertical-align: top;\n",
       "    }\n",
       "\n",
       "    .dataframe thead th {\n",
       "        text-align: right;\n",
       "    }\n",
       "</style>\n",
       "<table border=\"1\" class=\"dataframe\">\n",
       "  <thead>\n",
       "    <tr style=\"text-align: right;\">\n",
       "      <th></th>\n",
       "      <th>drugConc</th>\n",
       "      <th>ID</th>\n",
       "      <th>Drug1</th>\n",
       "      <th>Drug2</th>\n",
       "      <th>Cell line</th>\n",
       "      <th>ZIP</th>\n",
       "      <th>Bliss</th>\n",
       "      <th>Loewe</th>\n",
       "      <th>HSA</th>\n",
       "      <th>index</th>\n",
       "      <th>source</th>\n",
       "    </tr>\n",
       "  </thead>\n",
       "  <tbody>\n",
       "    <tr>\n",
       "      <th>0</th>\n",
       "      <td>5-fuabt-888</td>\n",
       "      <td>1</td>\n",
       "      <td>5-fu</td>\n",
       "      <td>abt-888</td>\n",
       "      <td>A2058</td>\n",
       "      <td>2.5850</td>\n",
       "      <td>8.8500</td>\n",
       "      <td>-0.1575</td>\n",
       "      <td>8.1300</td>\n",
       "      <td>62797</td>\n",
       "      <td>ONEIL</td>\n",
       "    </tr>\n",
       "    <tr>\n",
       "      <th>1</th>\n",
       "      <td>5-fuazd1775</td>\n",
       "      <td>5</td>\n",
       "      <td>5-fu</td>\n",
       "      <td>azd1775</td>\n",
       "      <td>A2058</td>\n",
       "      <td>9.8175</td>\n",
       "      <td>11.2075</td>\n",
       "      <td>5.8375</td>\n",
       "      <td>14.0975</td>\n",
       "      <td>36325</td>\n",
       "      <td>ONEIL</td>\n",
       "    </tr>\n",
       "  </tbody>\n",
       "</table>\n",
       "</div>"
      ],
      "text/plain": [
       "      drugConc  ID Drug1    Drug2 Cell line     ZIP    Bliss   Loewe      HSA  \\\n",
       "0  5-fuabt-888   1  5-fu  abt-888     A2058  2.5850   8.8500 -0.1575   8.1300   \n",
       "1  5-fuazd1775   5  5-fu  azd1775     A2058  9.8175  11.2075  5.8375  14.0975   \n",
       "\n",
       "   index source  \n",
       "0  62797  ONEIL  \n",
       "1  36325  ONEIL  "
      ]
     },
     "execution_count": 138,
     "metadata": {},
     "output_type": "execute_result"
    }
   ],
   "source": [
    "# double Data\n",
    "dataReversed1 = data1\n",
    "dataReversed2 = data2\n",
    "\n",
    "dataReversed1 = dataReversed1.rename(columns={\"Drug1\":\"Drug2\",\"Drug2\":\"Drug1\"})\n",
    "dataReversed2 = dataReversed2.rename(columns={\"Drug1\":\"Drug2\",\"Drug2\":\"Drug1\"})\n",
    "\n",
    "dataDouble1 = data1.append(dataReversed1)\n",
    "dataDouble2 = data2.append(dataReversed2)\n",
    "\n",
    "dataDouble1.reset_index(inplace=True,drop=True)\n",
    "dataDouble2.reset_index(inplace=True,drop=True)\n",
    "\n",
    "print(len(dataDouble1),\" records in first frame\")\n",
    "print(len(dataDouble2),\" records in second frame\")\n",
    "dataDouble1.head(2)"
   ]
  },
  {
   "cell_type": "markdown",
   "id": "cfa6f0b7-72c1-486d-8dd8-8e22c4493eaf",
   "metadata": {},
   "source": [
    "Drug Feature import part"
   ]
  },
  {
   "cell_type": "code",
   "execution_count": 139,
   "id": "52653d16-fb28-4b38-8653-829968e081d8",
   "metadata": {},
   "outputs": [],
   "source": [
    "from rdkit import Chem\n",
    "from rdkit.Chem import MACCSkeys\n",
    "\n",
    "drug_feats = pd.read_csv(\"./output/all_drugs_with_smiles.csv\")\n",
    "drug_feats[\"mol-object\"]=[Chem.MolFromSmiles(mol) for mol in drug_feats[\"smilesString\"]]\n",
    "\n",
    "maccsFrame = pd.DataFrame(drug_feats[\"drugName\"])\n",
    "maccsFrame[\"MACCSk\"] = [np.array(Chem.MACCSkeys.GenMACCSKeys(mol)) for mol in drug_feats[\"mol-object\"]]\n",
    "\n",
    "joinMaccs = pd.DataFrame([])\n",
    "for i in range(len(maccsFrame)):\n",
    "    joinMaccs = joinMaccs.append(pd.Series(maccsFrame.iloc[i,1]),ignore_index=True)\n",
    "    \n",
    "drugMACCS = maccsFrame.join(joinMaccs,how=\"left\").drop(columns=\"MACCSk\")"
   ]
  },
  {
   "cell_type": "code",
   "execution_count": 140,
   "id": "8681f58e-882c-4f4d-8041-9bf6ab430533",
   "metadata": {},
   "outputs": [
    {
     "data": {
      "text/html": [
       "<div>\n",
       "<style scoped>\n",
       "    .dataframe tbody tr th:only-of-type {\n",
       "        vertical-align: middle;\n",
       "    }\n",
       "\n",
       "    .dataframe tbody tr th {\n",
       "        vertical-align: top;\n",
       "    }\n",
       "\n",
       "    .dataframe thead th {\n",
       "        text-align: right;\n",
       "    }\n",
       "</style>\n",
       "<table border=\"1\" class=\"dataframe\">\n",
       "  <thead>\n",
       "    <tr style=\"text-align: right;\">\n",
       "      <th></th>\n",
       "      <th>drugName</th>\n",
       "      <th>0</th>\n",
       "      <th>1</th>\n",
       "      <th>2</th>\n",
       "      <th>3</th>\n",
       "      <th>4</th>\n",
       "      <th>5</th>\n",
       "      <th>6</th>\n",
       "      <th>7</th>\n",
       "      <th>8</th>\n",
       "      <th>...</th>\n",
       "      <th>157</th>\n",
       "      <th>158</th>\n",
       "      <th>159</th>\n",
       "      <th>160</th>\n",
       "      <th>161</th>\n",
       "      <th>162</th>\n",
       "      <th>163</th>\n",
       "      <th>164</th>\n",
       "      <th>165</th>\n",
       "      <th>166</th>\n",
       "    </tr>\n",
       "  </thead>\n",
       "  <tbody>\n",
       "    <tr>\n",
       "      <th>0</th>\n",
       "      <td>Bendamustine</td>\n",
       "      <td>0.0</td>\n",
       "      <td>0.0</td>\n",
       "      <td>0.0</td>\n",
       "      <td>0.0</td>\n",
       "      <td>0.0</td>\n",
       "      <td>0.0</td>\n",
       "      <td>0.0</td>\n",
       "      <td>0.0</td>\n",
       "      <td>0.0</td>\n",
       "      <td>...</td>\n",
       "      <td>1.0</td>\n",
       "      <td>1.0</td>\n",
       "      <td>1.0</td>\n",
       "      <td>1.0</td>\n",
       "      <td>1.0</td>\n",
       "      <td>1.0</td>\n",
       "      <td>1.0</td>\n",
       "      <td>1.0</td>\n",
       "      <td>1.0</td>\n",
       "      <td>0.0</td>\n",
       "    </tr>\n",
       "    <tr>\n",
       "      <th>1</th>\n",
       "      <td>Lonidamine</td>\n",
       "      <td>0.0</td>\n",
       "      <td>0.0</td>\n",
       "      <td>0.0</td>\n",
       "      <td>0.0</td>\n",
       "      <td>0.0</td>\n",
       "      <td>0.0</td>\n",
       "      <td>0.0</td>\n",
       "      <td>0.0</td>\n",
       "      <td>0.0</td>\n",
       "      <td>...</td>\n",
       "      <td>1.0</td>\n",
       "      <td>1.0</td>\n",
       "      <td>1.0</td>\n",
       "      <td>0.0</td>\n",
       "      <td>1.0</td>\n",
       "      <td>1.0</td>\n",
       "      <td>1.0</td>\n",
       "      <td>1.0</td>\n",
       "      <td>1.0</td>\n",
       "      <td>0.0</td>\n",
       "    </tr>\n",
       "  </tbody>\n",
       "</table>\n",
       "<p>2 rows × 168 columns</p>\n",
       "</div>"
      ],
      "text/plain": [
       "       drugName    0    1    2    3    4    5    6    7    8  ...  157  158  \\\n",
       "0  Bendamustine  0.0  0.0  0.0  0.0  0.0  0.0  0.0  0.0  0.0  ...  1.0  1.0   \n",
       "1    Lonidamine  0.0  0.0  0.0  0.0  0.0  0.0  0.0  0.0  0.0  ...  1.0  1.0   \n",
       "\n",
       "   159  160  161  162  163  164  165  166  \n",
       "0  1.0  1.0  1.0  1.0  1.0  1.0  1.0  0.0  \n",
       "1  1.0  0.0  1.0  1.0  1.0  1.0  1.0  0.0  \n",
       "\n",
       "[2 rows x 168 columns]"
      ]
     },
     "execution_count": 140,
     "metadata": {},
     "output_type": "execute_result"
    }
   ],
   "source": [
    "drugMACCS.head(2)"
   ]
  },
  {
   "cell_type": "code",
   "execution_count": 141,
   "id": "e503f28c-cc27-4a56-a8d4-9415f1a5b4ae",
   "metadata": {},
   "outputs": [],
   "source": [
    "drug_feats = drugMACCS\n",
    "drug_feats.set_index(\"drugName\",inplace=True)\n",
    "drug_feats.index = drug_feats.index.str.lower()\n",
    "\n",
    "d1_drugs = drug_feats.add_prefix(\"D1 \")\n",
    "d2_drugs = drug_feats.add_prefix(\"D2 \")\n",
    "\n",
    "dataDouble_drug1_feats1 = dataDouble1.join(d1_drugs,on=\"Drug1\",how=\"left\")\n",
    "dataDouble_drug1_feats2 = dataDouble2.join(d1_drugs,on=\"Drug1\",how=\"left\")\n",
    "\n",
    "dataDouble_all_feats1 = dataDouble_drug1_feats1.join(d2_drugs,on=\"Drug2\",how=\"left\")\n",
    "dataDouble_all_feats2 = dataDouble_drug1_feats2.join(d2_drugs,on=\"Drug2\",how=\"left\")"
   ]
  },
  {
   "cell_type": "markdown",
   "id": "3d57b987-ea45-4fa3-a79e-9f0d1b3e48f9",
   "metadata": {},
   "source": [
    "Cell Line Info from Ammar"
   ]
  },
  {
   "cell_type": "code",
   "execution_count": 142,
   "id": "e5f9fd6c-6629-47da-a800-615a74f000df",
   "metadata": {},
   "outputs": [],
   "source": [
    "# Ammars output files\n",
    "cellLine_info = pd.read_csv('output/cell_lines_enriched.csv', sep=',', dtype='string')\n",
    "drug_info = pd.read_csv('output/all_drugs_with_smiles.csv', sep=',', dtype='string')\n",
    "\n",
    "cat_ohe = pd.get_dummies(cellLine_info.category, prefix='cat')\n",
    "cellLine_info_full = pd.concat([cellLine_info,cat_ohe], axis=1)\n",
    "\n",
    "gender_ohe = pd.get_dummies(cellLine_info.gender, prefix='gender')\n",
    "\n",
    "cellLine_info_full['age'] = cellLine_info_full['age'].str.replace('Y','').replace('Age unspecified','0')\n",
    "cellLine_info_full['age'] = cellLine_info_full['age'].astype('int')\n",
    "\n",
    "cellLine_info_full = cellLine_info_full.drop('cosmicId', 1)\n",
    "cellLine_info_full = cellLine_info_full.drop('category', 1)\n",
    "cellLine_info_full = cellLine_info_full.drop('gender', 1)"
   ]
  },
  {
   "cell_type": "code",
   "execution_count": 143,
   "id": "b9c59860-8b6c-4863-bbc1-34584b5baf23",
   "metadata": {},
   "outputs": [],
   "source": [
    "data1 = dataDouble_all_feats1.join(cellLine_info_full.set_index(\"cellName\"),on=\"Cell line\", how=\"left\").dropna() #expensive losses\n",
    "data2 = dataDouble_all_feats2.join(cellLine_info_full.set_index(\"cellName\"),on=\"Cell line\", how=\"left\").dropna()"
   ]
  },
  {
   "cell_type": "code",
   "execution_count": 29,
   "id": "41d9f2c0-c19e-426b-9f63-cdcc2c31fbe4",
   "metadata": {},
   "outputs": [],
   "source": [
    "# I don't think I need all these pickles stored\n",
    "# with open('./intermediate-pickles-scoring2/finalFrame1.pkl', 'wb') as outp:\n",
    "#     pkl.dump(finalFrame1, outp)\n",
    "# with open('./intermediate-pickles-scoring2/finalFrame2.pkl', 'wb') as outp:\n",
    "#     pkl.dump(finalFrame2, outp)"
   ]
  },
  {
   "cell_type": "markdown",
   "id": "a08d0bc0-f883-428b-a9a9-dee53875e17e",
   "metadata": {},
   "source": [
    "#### 3. Combination ID?"
   ]
  },
  {
   "cell_type": "code",
   "execution_count": 144,
   "id": "4ef7c401-faa4-4731-aac7-15ac997a4497",
   "metadata": {},
   "outputs": [
    {
     "name": "stdout",
     "output_type": "stream",
     "text": [
      "Data1 has records  468730\n",
      "Data2 has records  614608\n"
     ]
    },
    {
     "data": {
      "text/html": [
       "<div>\n",
       "<style scoped>\n",
       "    .dataframe tbody tr th:only-of-type {\n",
       "        vertical-align: middle;\n",
       "    }\n",
       "\n",
       "    .dataframe tbody tr th {\n",
       "        vertical-align: top;\n",
       "    }\n",
       "\n",
       "    .dataframe thead th {\n",
       "        text-align: right;\n",
       "    }\n",
       "</style>\n",
       "<table border=\"1\" class=\"dataframe\">\n",
       "  <thead>\n",
       "    <tr style=\"text-align: right;\">\n",
       "      <th></th>\n",
       "      <th>drugConc</th>\n",
       "      <th>ID</th>\n",
       "      <th>Drug1</th>\n",
       "      <th>Drug2</th>\n",
       "      <th>Cell line</th>\n",
       "      <th>ZIP</th>\n",
       "      <th>Bliss</th>\n",
       "      <th>Loewe</th>\n",
       "      <th>HSA</th>\n",
       "      <th>index</th>\n",
       "      <th>...</th>\n",
       "      <th>D2 162</th>\n",
       "      <th>D2 163</th>\n",
       "      <th>D2 164</th>\n",
       "      <th>D2 165</th>\n",
       "      <th>D2 166</th>\n",
       "      <th>age</th>\n",
       "      <th>cat_Cancer cell line</th>\n",
       "      <th>cat_Embryonic stem cell</th>\n",
       "      <th>cat_Hybridoma</th>\n",
       "      <th>cat_Transformed cell line</th>\n",
       "    </tr>\n",
       "  </thead>\n",
       "  <tbody>\n",
       "    <tr>\n",
       "      <th>0</th>\n",
       "      <td>5-fuabt-888</td>\n",
       "      <td>1</td>\n",
       "      <td>5-fu</td>\n",
       "      <td>abt-888</td>\n",
       "      <td>A2058</td>\n",
       "      <td>2.5850</td>\n",
       "      <td>8.8500</td>\n",
       "      <td>-0.1575</td>\n",
       "      <td>8.1300</td>\n",
       "      <td>62797</td>\n",
       "      <td>...</td>\n",
       "      <td>1.0</td>\n",
       "      <td>1.0</td>\n",
       "      <td>1.0</td>\n",
       "      <td>1.0</td>\n",
       "      <td>0.0</td>\n",
       "      <td>43.0</td>\n",
       "      <td>1.0</td>\n",
       "      <td>0.0</td>\n",
       "      <td>0.0</td>\n",
       "      <td>0.0</td>\n",
       "    </tr>\n",
       "    <tr>\n",
       "      <th>1</th>\n",
       "      <td>5-fuazd1775</td>\n",
       "      <td>5</td>\n",
       "      <td>5-fu</td>\n",
       "      <td>azd1775</td>\n",
       "      <td>A2058</td>\n",
       "      <td>9.8175</td>\n",
       "      <td>11.2075</td>\n",
       "      <td>5.8375</td>\n",
       "      <td>14.0975</td>\n",
       "      <td>36325</td>\n",
       "      <td>...</td>\n",
       "      <td>1.0</td>\n",
       "      <td>1.0</td>\n",
       "      <td>1.0</td>\n",
       "      <td>1.0</td>\n",
       "      <td>0.0</td>\n",
       "      <td>43.0</td>\n",
       "      <td>1.0</td>\n",
       "      <td>0.0</td>\n",
       "      <td>0.0</td>\n",
       "      <td>0.0</td>\n",
       "    </tr>\n",
       "  </tbody>\n",
       "</table>\n",
       "<p>2 rows × 350 columns</p>\n",
       "</div>"
      ],
      "text/plain": [
       "      drugConc  ID Drug1    Drug2 Cell line     ZIP    Bliss   Loewe      HSA  \\\n",
       "0  5-fuabt-888   1  5-fu  abt-888     A2058  2.5850   8.8500 -0.1575   8.1300   \n",
       "1  5-fuazd1775   5  5-fu  azd1775     A2058  9.8175  11.2075  5.8375  14.0975   \n",
       "\n",
       "   index  ... D2 162  D2 163  D2 164  D2 165  D2 166   age  \\\n",
       "0  62797  ...    1.0     1.0     1.0     1.0     0.0  43.0   \n",
       "1  36325  ...    1.0     1.0     1.0     1.0     0.0  43.0   \n",
       "\n",
       "   cat_Cancer cell line  cat_Embryonic stem cell  cat_Hybridoma  \\\n",
       "0                   1.0                      0.0            0.0   \n",
       "1                   1.0                      0.0            0.0   \n",
       "\n",
       "   cat_Transformed cell line  \n",
       "0                        0.0  \n",
       "1                        0.0  \n",
       "\n",
       "[2 rows x 350 columns]"
      ]
     },
     "execution_count": 144,
     "metadata": {},
     "output_type": "execute_result"
    }
   ],
   "source": [
    "data1.reset_index(inplace=True,drop=True)\n",
    "data2.reset_index(inplace=True,drop=True)\n",
    "print(\"Data1 has records \",len(data1))\n",
    "print(\"Data2 has records \",len(data2))\n",
    "data1.head(2)"
   ]
  },
  {
   "cell_type": "markdown",
   "id": "f37656d6-024c-45ef-b84b-442d1ecd1f7a",
   "metadata": {},
   "source": [
    "#### 4. Making Predictions"
   ]
  },
  {
   "cell_type": "code",
   "execution_count": 11,
   "id": "e5b70d8c-695c-4bdc-80bd-729d5458d7a0",
   "metadata": {},
   "outputs": [],
   "source": [
    "Y1 = data1.iloc[:,9]\n",
    "X1 = data1.iloc[:,11:]\n",
    "X1 = X1.iloc[:,1:]\n",
    "\n",
    "Y2 = data2.iloc[:,9]\n",
    "X2 = data2.iloc[:,10:]\n",
    "X2 = X2.iloc[:,1:]\n",
    "\n",
    "from sklearn.model_selection import train_test_split\n",
    "X_train1,x_test1,Y_train1,y_test1 = train_test_split(X1,Y1,test_size=0.3,stratify=Y1) #consider stratifying on combination\n",
    "X_train2,x_test2,Y_train2,y_test2 = train_test_split(X2,Y2,test_size=0.3,stratify=Y2)"
   ]
  },
  {
   "cell_type": "code",
   "execution_count": 27,
   "id": "992f5b36-0161-45e6-9146-3f462954c49a",
   "metadata": {},
   "outputs": [
    {
     "name": "stderr",
     "output_type": "stream",
     "text": [
      "[Parallel(n_jobs=1)]: Using backend SequentialBackend with 1 concurrent workers.\n",
      "[Parallel(n_jobs=1)]: Done 100 out of 100 | elapsed:  6.8min finished\n",
      "[Parallel(n_jobs=1)]: Using backend SequentialBackend with 1 concurrent workers.\n",
      "[Parallel(n_jobs=1)]: Done 100 out of 100 | elapsed:    1.4s finished\n",
      "[Parallel(n_jobs=1)]: Using backend SequentialBackend with 1 concurrent workers.\n",
      "[Parallel(n_jobs=1)]: Done 100 out of 100 | elapsed:    0.6s finished\n"
     ]
    }
   ],
   "source": [
    "from sklearn.ensemble import RandomForestRegressor \n",
    "\n",
    "regressor1 = RandomForestRegressor(max_depth=4, random_state=0, n_estimators=100, verbose=True)\n",
    "regressor1.fit(X_train1,Y_train1)\n",
    "\n",
    "predTrain1=regressor1.predict(X_train1)\n",
    "predTest1=regressor1.predict(x_test1)"
   ]
  },
  {
   "cell_type": "code",
   "execution_count": 28,
   "id": "832297ed-b5f5-46d0-98b1-76a7208c73a5",
   "metadata": {},
   "outputs": [
    {
     "name": "stderr",
     "output_type": "stream",
     "text": [
      "[Parallel(n_jobs=1)]: Using backend SequentialBackend with 1 concurrent workers.\n",
      "[Parallel(n_jobs=1)]: Done 100 out of 100 | elapsed:  9.9min finished\n",
      "[Parallel(n_jobs=1)]: Using backend SequentialBackend with 1 concurrent workers.\n",
      "[Parallel(n_jobs=1)]: Done 100 out of 100 | elapsed:    2.0s finished\n",
      "[Parallel(n_jobs=1)]: Using backend SequentialBackend with 1 concurrent workers.\n",
      "[Parallel(n_jobs=1)]: Done 100 out of 100 | elapsed:    0.8s finished\n"
     ]
    }
   ],
   "source": [
    "regressor2 = RandomForestRegressor(max_depth=4, random_state=0, n_estimators=100, verbose=True)\n",
    "regressor2.fit(X_train2,Y_train2)\n",
    "\n",
    "predTrain2=regressor2.predict(X_train2)\n",
    "predTest2=regressor2.predict(x_test2)"
   ]
  },
  {
   "cell_type": "code",
   "execution_count": 155,
   "id": "1b185b72-f094-4781-b096-678ddd662bff",
   "metadata": {},
   "outputs": [
    {
     "data": {
      "text/html": [
       "<div>\n",
       "<style scoped>\n",
       "    .dataframe tbody tr th:only-of-type {\n",
       "        vertical-align: middle;\n",
       "    }\n",
       "\n",
       "    .dataframe tbody tr th {\n",
       "        vertical-align: top;\n",
       "    }\n",
       "\n",
       "    .dataframe thead th {\n",
       "        text-align: right;\n",
       "    }\n",
       "</style>\n",
       "<table border=\"1\" class=\"dataframe\">\n",
       "  <thead>\n",
       "    <tr style=\"text-align: right;\">\n",
       "      <th></th>\n",
       "      <th>drugConc</th>\n",
       "      <th>ID</th>\n",
       "      <th>Drug1</th>\n",
       "      <th>Drug2</th>\n",
       "      <th>Cell line</th>\n",
       "      <th>ZIP</th>\n",
       "      <th>Bliss</th>\n",
       "      <th>Loewe</th>\n",
       "      <th>HSA</th>\n",
       "      <th>index</th>\n",
       "      <th>...</th>\n",
       "      <th>D2 162</th>\n",
       "      <th>D2 163</th>\n",
       "      <th>D2 164</th>\n",
       "      <th>D2 165</th>\n",
       "      <th>D2 166</th>\n",
       "      <th>age</th>\n",
       "      <th>cat_Cancer cell line</th>\n",
       "      <th>cat_Embryonic stem cell</th>\n",
       "      <th>cat_Hybridoma</th>\n",
       "      <th>cat_Transformed cell line</th>\n",
       "    </tr>\n",
       "  </thead>\n",
       "  <tbody>\n",
       "    <tr>\n",
       "      <th>0</th>\n",
       "      <td>5-fuabt-888</td>\n",
       "      <td>1</td>\n",
       "      <td>5-fu</td>\n",
       "      <td>abt-888</td>\n",
       "      <td>A2058</td>\n",
       "      <td>2.5850</td>\n",
       "      <td>8.8500</td>\n",
       "      <td>-0.1575</td>\n",
       "      <td>8.1300</td>\n",
       "      <td>62797</td>\n",
       "      <td>...</td>\n",
       "      <td>1.0</td>\n",
       "      <td>1.0</td>\n",
       "      <td>1.0</td>\n",
       "      <td>1.0</td>\n",
       "      <td>0.0</td>\n",
       "      <td>43.0</td>\n",
       "      <td>1.0</td>\n",
       "      <td>0.0</td>\n",
       "      <td>0.0</td>\n",
       "      <td>0.0</td>\n",
       "    </tr>\n",
       "    <tr>\n",
       "      <th>1</th>\n",
       "      <td>5-fuazd1775</td>\n",
       "      <td>5</td>\n",
       "      <td>5-fu</td>\n",
       "      <td>azd1775</td>\n",
       "      <td>A2058</td>\n",
       "      <td>9.8175</td>\n",
       "      <td>11.2075</td>\n",
       "      <td>5.8375</td>\n",
       "      <td>14.0975</td>\n",
       "      <td>36325</td>\n",
       "      <td>...</td>\n",
       "      <td>1.0</td>\n",
       "      <td>1.0</td>\n",
       "      <td>1.0</td>\n",
       "      <td>1.0</td>\n",
       "      <td>0.0</td>\n",
       "      <td>43.0</td>\n",
       "      <td>1.0</td>\n",
       "      <td>0.0</td>\n",
       "      <td>0.0</td>\n",
       "      <td>0.0</td>\n",
       "    </tr>\n",
       "  </tbody>\n",
       "</table>\n",
       "<p>2 rows × 350 columns</p>\n",
       "</div>"
      ],
      "text/plain": [
       "      drugConc  ID Drug1    Drug2 Cell line     ZIP    Bliss   Loewe      HSA  \\\n",
       "0  5-fuabt-888   1  5-fu  abt-888     A2058  2.5850   8.8500 -0.1575   8.1300   \n",
       "1  5-fuazd1775   5  5-fu  azd1775     A2058  9.8175  11.2075  5.8375  14.0975   \n",
       "\n",
       "   index  ... D2 162  D2 163  D2 164  D2 165  D2 166   age  \\\n",
       "0  62797  ...    1.0     1.0     1.0     1.0     0.0  43.0   \n",
       "1  36325  ...    1.0     1.0     1.0     1.0     0.0  43.0   \n",
       "\n",
       "   cat_Cancer cell line  cat_Embryonic stem cell  cat_Hybridoma  \\\n",
       "0                   1.0                      0.0            0.0   \n",
       "1                   1.0                      0.0            0.0   \n",
       "\n",
       "   cat_Transformed cell line  \n",
       "0                        0.0  \n",
       "1                        0.0  \n",
       "\n",
       "[2 rows x 350 columns]"
      ]
     },
     "execution_count": 155,
     "metadata": {},
     "output_type": "execute_result"
    }
   ],
   "source": [
    "data1.head(2)"
   ]
  },
  {
   "cell_type": "code",
   "execution_count": 157,
   "id": "292cccc6-1ae8-4536-8cbe-42dcb651912d",
   "metadata": {},
   "outputs": [
    {
     "data": {
      "text/html": [
       "<div>\n",
       "<style scoped>\n",
       "    .dataframe tbody tr th:only-of-type {\n",
       "        vertical-align: middle;\n",
       "    }\n",
       "\n",
       "    .dataframe tbody tr th {\n",
       "        vertical-align: top;\n",
       "    }\n",
       "\n",
       "    .dataframe thead th {\n",
       "        text-align: right;\n",
       "    }\n",
       "</style>\n",
       "<table border=\"1\" class=\"dataframe\">\n",
       "  <thead>\n",
       "    <tr style=\"text-align: right;\">\n",
       "      <th></th>\n",
       "      <th>index</th>\n",
       "      <th>D1 0</th>\n",
       "      <th>D1 1</th>\n",
       "      <th>D1 2</th>\n",
       "      <th>D1 3</th>\n",
       "      <th>D1 4</th>\n",
       "      <th>D1 5</th>\n",
       "      <th>D1 6</th>\n",
       "      <th>D1 7</th>\n",
       "      <th>D1 8</th>\n",
       "      <th>...</th>\n",
       "      <th>D2 164</th>\n",
       "      <th>D2 165</th>\n",
       "      <th>D2 166</th>\n",
       "      <th>age</th>\n",
       "      <th>cat_Cancer cell line</th>\n",
       "      <th>cat_Embryonic stem cell</th>\n",
       "      <th>cat_Hybridoma</th>\n",
       "      <th>cat_Transformed cell line</th>\n",
       "      <th>Source_ALMANAC</th>\n",
       "      <th>Souce_ONEIL</th>\n",
       "    </tr>\n",
       "  </thead>\n",
       "  <tbody>\n",
       "    <tr>\n",
       "      <th>0</th>\n",
       "      <td>62797</td>\n",
       "      <td>0.0</td>\n",
       "      <td>0.0</td>\n",
       "      <td>0.0</td>\n",
       "      <td>0.0</td>\n",
       "      <td>0.0</td>\n",
       "      <td>0.0</td>\n",
       "      <td>0.0</td>\n",
       "      <td>0.0</td>\n",
       "      <td>0.0</td>\n",
       "      <td>...</td>\n",
       "      <td>1.0</td>\n",
       "      <td>1.0</td>\n",
       "      <td>0.0</td>\n",
       "      <td>43.0</td>\n",
       "      <td>1.0</td>\n",
       "      <td>0.0</td>\n",
       "      <td>0.0</td>\n",
       "      <td>0.0</td>\n",
       "      <td>0</td>\n",
       "      <td>1</td>\n",
       "    </tr>\n",
       "    <tr>\n",
       "      <th>1</th>\n",
       "      <td>36325</td>\n",
       "      <td>0.0</td>\n",
       "      <td>0.0</td>\n",
       "      <td>0.0</td>\n",
       "      <td>0.0</td>\n",
       "      <td>0.0</td>\n",
       "      <td>0.0</td>\n",
       "      <td>0.0</td>\n",
       "      <td>0.0</td>\n",
       "      <td>0.0</td>\n",
       "      <td>...</td>\n",
       "      <td>1.0</td>\n",
       "      <td>1.0</td>\n",
       "      <td>0.0</td>\n",
       "      <td>43.0</td>\n",
       "      <td>1.0</td>\n",
       "      <td>0.0</td>\n",
       "      <td>0.0</td>\n",
       "      <td>0.0</td>\n",
       "      <td>0</td>\n",
       "      <td>1</td>\n",
       "    </tr>\n",
       "  </tbody>\n",
       "</table>\n",
       "<p>2 rows × 342 columns</p>\n",
       "</div>"
      ],
      "text/plain": [
       "   index  D1 0  D1 1  D1 2  D1 3  D1 4  D1 5  D1 6  D1 7  D1 8  ...  D2 164  \\\n",
       "0  62797   0.0   0.0   0.0   0.0   0.0   0.0   0.0   0.0   0.0  ...     1.0   \n",
       "1  36325   0.0   0.0   0.0   0.0   0.0   0.0   0.0   0.0   0.0  ...     1.0   \n",
       "\n",
       "   D2 165  D2 166   age  cat_Cancer cell line  cat_Embryonic stem cell  \\\n",
       "0     1.0     0.0  43.0                   1.0                      0.0   \n",
       "1     1.0     0.0  43.0                   1.0                      0.0   \n",
       "\n",
       "   cat_Hybridoma  cat_Transformed cell line  Source_ALMANAC  Souce_ONEIL  \n",
       "0            0.0                        0.0               0            1  \n",
       "1            0.0                        0.0               0            1  \n",
       "\n",
       "[2 rows x 342 columns]"
      ]
     },
     "execution_count": 157,
     "metadata": {},
     "output_type": "execute_result"
    }
   ],
   "source": [
    "YB = data1.iloc[:,8]\n",
    "XB = data1.iloc[:,9:]\n",
    "\n",
    "from sklearn.model_selection import train_test_split\n",
    "\n",
    "sourceDummies = pd.get_dummies(XB.source,prefix=\"Source\")\n",
    "XB[[\"Source_ALMANAC\",\"Souce_ONEIL\"]]=sourceDummies\n",
    "\n",
    "XB.drop([\"source\"],axis=1,inplace=True)\n",
    "\n",
    "X_trainB,x_testB,Y_trainB,y_testB = train_test_split(XB,YB,test_size=0.3,stratify=YB) #consider stratifying on combination\n",
    "\n",
    "XB.head(2)"
   ]
  },
  {
   "cell_type": "code",
   "execution_count": 158,
   "id": "2f5e5aa9-2a32-4f0e-a9bf-6c438e10dec6",
   "metadata": {},
   "outputs": [],
   "source": [
    "with open('./intermediate-pickles-scoring2/parameterTuningScoring3/X_trainB.pkl', 'wb') as outp:\n",
    "    pkl.dump(X_trainB, outp)\n",
    "with open('./intermediate-pickles-scoring2/parameterTuningScoring3/X_testB.pkl', 'wb') as outp:\n",
    "    pkl.dump(x_testB, outp)\n",
    "with open('./intermediate-pickles-scoring2/parameterTuningScoring3/Y_trainB.pkl', 'wb') as outp:\n",
    "    pkl.dump(Y_trainB, outp)\n",
    "with open('./intermediate-pickles-scoring2/parameterTuningScoring3/Y_testB.pkl', 'wb') as outp:\n",
    "    pkl.dump(y_testB, outp)"
   ]
  },
  {
   "cell_type": "code",
   "execution_count": 38,
   "id": "524340c4-d1ba-44a6-b788-ce90248d0a29",
   "metadata": {},
   "outputs": [
    {
     "name": "stderr",
     "output_type": "stream",
     "text": [
      "[Parallel(n_jobs=1)]: Using backend SequentialBackend with 1 concurrent workers.\n",
      "[Parallel(n_jobs=1)]: Done 100 out of 100 | elapsed:  6.9min finished\n",
      "[Parallel(n_jobs=1)]: Using backend SequentialBackend with 1 concurrent workers.\n",
      "[Parallel(n_jobs=1)]: Done 100 out of 100 | elapsed:    1.5s finished\n",
      "[Parallel(n_jobs=1)]: Using backend SequentialBackend with 1 concurrent workers.\n",
      "[Parallel(n_jobs=1)]: Done 100 out of 100 | elapsed:    0.6s finished\n"
     ]
    }
   ],
   "source": [
    "\n",
    "regressorB = RandomForestRegressor(max_depth=4, random_state=0, n_estimators=100, verbose=True)\n",
    "regressorB.fit(X_trainB.iloc[:,1:],Y_trainB)\n",
    "\n",
    "predTrainB=regressorB.predict(X_trainB)\n",
    "predTestB=regressorB.predict(x_testB)"
   ]
  },
  {
   "cell_type": "code",
   "execution_count": 15,
   "id": "7f4dd88f-5f32-435e-9d8a-087589b964dd",
   "metadata": {},
   "outputs": [],
   "source": [
    "from sklearn.dummy import DummyRegressor\n",
    "\n",
    "# Data1\n",
    "dummyRegressor1 = DummyRegressor()\n",
    "dummyRegressor1.fit(X_train1,Y_train1)\n",
    "\n",
    "predTrainDumm1=dummyRegressor1.predict(X_train1)\n",
    "predTestDumm1=dummyRegressor1.predict(x_test1)\n",
    "\n",
    "#Data2\n",
    "dummyRegressor2 = DummyRegressor()\n",
    "dummyRegressor2.fit(X_train2,Y_train2)\n",
    "\n",
    "predTrainDumm2=dummyRegressor2.predict(X_train2)\n",
    "predTestDumm2=dummyRegressor2.predict(x_test2)\n",
    "\n",
    "#Data B\n",
    "dummyRegressorB = DummyRegressor()\n",
    "dummyRegressorB.fit(X_trainB,Y_trainB)\n",
    "\n",
    "predTrainDummB=dummyRegressorB.predict(X_trainB)\n",
    "predTestDummB=dummyRegressorB.predict(x_testB)"
   ]
  },
  {
   "cell_type": "markdown",
   "id": "ac20b4ed-ccc7-479e-9173-1ac87d38fcf0",
   "metadata": {},
   "source": [
    "#### Scoring (Mean Absolute/Squared Error)"
   ]
  },
  {
   "cell_type": "code",
   "execution_count": 34,
   "id": "c331136b-12c8-43b8-ae23-7fb51ba5b053",
   "metadata": {},
   "outputs": [
    {
     "name": "stdout",
     "output_type": "stream",
     "text": [
      "## The performances are:\n",
      "\n",
      "Small Dataset:\n",
      "On Training Data:  3.8735736195579915\n",
      "On Testing  Data:  3.8925051812921905\n",
      "Dummy Training  :  3.9970085632976433\n",
      "Dummy Testing   :  4.020192456616437\n",
      "\n",
      "Big Dataset:\n",
      "On Training Data:  4.0489834412588905\n",
      "On Testing  Data:  4.0597795306040805\n",
      "Dummy Training  :  4.159212070389421\n",
      "Dummy Testing   :  4.1722321269988685\n"
     ]
    }
   ],
   "source": [
    "print(\"## The performances are:\")\n",
    "print(\"\\nSmall Dataset:\")\n",
    "print(\"On Training Data: \",np.mean(np.abs(predTrain1-Y_train1)))\n",
    "print(\"On Testing  Data: \",np.mean(np.abs(predTest1-y_test1)))\n",
    "print(\"Dummy Training  : \",np.mean(np.abs(predTrainDumm1-Y_train1)))\n",
    "print(\"Dummy Testing   : \",np.mean(np.abs(predTestDumm1-y_test1)))\n",
    "print(\"\\nBig Dataset:\")\n",
    "print(\"On Training Data: \",np.mean(np.abs(predTrain2-Y_train2)))\n",
    "print(\"On Testing  Data: \",np.mean(np.abs(predTest2-y_test2)))\n",
    "print(\"Dummy Training  : \",np.mean(np.abs(predTrainDumm2-Y_train2)))\n",
    "print(\"Dummy Testing   : \",np.mean(np.abs(predTestDumm2-y_test2)))"
   ]
  },
  {
   "cell_type": "code",
   "execution_count": 35,
   "id": "0478664a-0ee0-4184-91ee-050d146868fc",
   "metadata": {},
   "outputs": [
    {
     "name": "stdout",
     "output_type": "stream",
     "text": [
      "## The performances are:\n",
      "\n",
      "Small Dataset:\n",
      "On Training Data:  33.07288422243679\n",
      "On Testing  Data:  34.16080958570555\n",
      "Dummy Training  :  35.52366874305311\n",
      "Dummy Testing   :  36.69735845712762\n",
      "\n",
      "Big Dataset:\n",
      "On Training Data:  35.524583660779705\n",
      "On Testing  Data:  36.04437226826528\n",
      "Dummy Training  :  37.92288193531876\n",
      "Dummy Testing   :  38.46852403117986\n"
     ]
    }
   ],
   "source": [
    "print(\"## The performances are:\")\n",
    "print(\"\\nSmall Dataset:\")\n",
    "print(\"On Training Data: \",np.mean(np.square(predTrain1-Y_train1)))\n",
    "print(\"On Testing  Data: \",np.mean(np.square(predTest1-y_test1)))\n",
    "print(\"Dummy Training  : \",np.mean(np.square(predTrainDumm1-Y_train1)))\n",
    "print(\"Dummy Testing   : \",np.mean(np.square(predTestDumm1-y_test1)))\n",
    "print(\"\\nBig Dataset:\")\n",
    "print(\"On Training Data: \",np.mean(np.square(predTrain2-Y_train2)))\n",
    "print(\"On Testing  Data: \",np.mean(np.square(predTest2-y_test2)))\n",
    "print(\"Dummy Training  : \",np.mean(np.square(predTrainDumm2-Y_train2)))\n",
    "print(\"Dummy Testing   : \",np.mean(np.square(predTestDumm2-y_test2)))"
   ]
  },
  {
   "cell_type": "code",
   "execution_count": 40,
   "id": "d3235206-9a88-444d-8e2b-9e6387fbf545",
   "metadata": {},
   "outputs": [
    {
     "name": "stdout",
     "output_type": "stream",
     "text": [
      "## The performances for Big Tree are:\n",
      "\n",
      "MAE:\n",
      "On Training Data:  3.770320208092335\n",
      "On Testing  Data:  3.79095900809306\n",
      "Dummy Training  :  3.999038972029706\n",
      "Dummy Testing   :  4.01597279816774\n",
      "\n",
      "MSE:\n",
      "On Training Data:  31.782656239156356\n",
      "On Testing  Data:  32.73795414235455\n",
      "Dummy Training  :  35.59075884711726\n",
      "Dummy Testing   :  36.54072557781606\n"
     ]
    }
   ],
   "source": [
    "#for source feature on small Dataset\n",
    "print(\"## The performances for Big Tree are:\")\n",
    "print(\"\\nMAE:\")\n",
    "print(\"On Training Data: \",np.mean(np.abs(predTrainB-Y_trainB)))\n",
    "print(\"On Testing  Data: \",np.mean(np.abs(predTestB-y_testB)))\n",
    "print(\"Dummy Training  : \",np.mean(np.abs(predTrainDummB-Y_trainB)))\n",
    "print(\"Dummy Testing   : \",np.mean(np.abs(predTestDummB-y_testB)))\n",
    "print(\"\\nMSE:\")\n",
    "print(\"On Training Data: \",np.mean(np.square(predTrainB-Y_trainB)))\n",
    "print(\"On Testing  Data: \",np.mean(np.square(predTestB-y_testB)))\n",
    "print(\"Dummy Training  : \",np.mean(np.square(predTrainDummB-Y_trainB)))\n",
    "print(\"Dummy Testing   : \",np.mean(np.square(predTestDummB-y_testB)))"
   ]
  },
  {
   "cell_type": "code",
   "execution_count": 44,
   "id": "adcca1dc-4dc1-41c3-bc1d-590c092b49cf",
   "metadata": {},
   "outputs": [
    {
     "data": {
      "text/html": [
       "<div>\n",
       "<style scoped>\n",
       "    .dataframe tbody tr th:only-of-type {\n",
       "        vertical-align: middle;\n",
       "    }\n",
       "\n",
       "    .dataframe tbody tr th {\n",
       "        vertical-align: top;\n",
       "    }\n",
       "\n",
       "    .dataframe thead th {\n",
       "        text-align: right;\n",
       "    }\n",
       "</style>\n",
       "<table border=\"1\" class=\"dataframe\">\n",
       "  <thead>\n",
       "    <tr style=\"text-align: right;\">\n",
       "      <th></th>\n",
       "      <th>Feat B</th>\n",
       "      <th>Relevance B</th>\n",
       "      <th>Feat 1</th>\n",
       "      <th>Relevance 1</th>\n",
       "      <th>Feat 2</th>\n",
       "      <th>Relevance 2</th>\n",
       "    </tr>\n",
       "  </thead>\n",
       "  <tbody>\n",
       "    <tr>\n",
       "      <th>0</th>\n",
       "      <td>Souce_ONEIL</td>\n",
       "      <td>0.415335</td>\n",
       "      <td>D2 145</td>\n",
       "      <td>0.279642</td>\n",
       "      <td>D2 145</td>\n",
       "      <td>0.31196</td>\n",
       "    </tr>\n",
       "    <tr>\n",
       "      <th>1</th>\n",
       "      <td>Source_ALMANAC</td>\n",
       "      <td>0.177741</td>\n",
       "      <td>D1 145</td>\n",
       "      <td>0.265141</td>\n",
       "      <td>D1 145</td>\n",
       "      <td>0.296716</td>\n",
       "    </tr>\n",
       "    <tr>\n",
       "      <th>2</th>\n",
       "      <td>D2 145</td>\n",
       "      <td>0.111691</td>\n",
       "      <td>D1 150</td>\n",
       "      <td>0.075136</td>\n",
       "      <td>D1 97</td>\n",
       "      <td>0.041471</td>\n",
       "    </tr>\n",
       "    <tr>\n",
       "      <th>3</th>\n",
       "      <td>D1 145</td>\n",
       "      <td>0.088233</td>\n",
       "      <td>D2 150</td>\n",
       "      <td>0.071736</td>\n",
       "      <td>D1 154</td>\n",
       "      <td>0.041178</td>\n",
       "    </tr>\n",
       "    <tr>\n",
       "      <th>4</th>\n",
       "      <td>D1 79</td>\n",
       "      <td>0.031438</td>\n",
       "      <td>D2 138</td>\n",
       "      <td>0.067723</td>\n",
       "      <td>D2 97</td>\n",
       "      <td>0.039991</td>\n",
       "    </tr>\n",
       "    <tr>\n",
       "      <th>5</th>\n",
       "      <td>D1 144</td>\n",
       "      <td>0.02882</td>\n",
       "      <td>D2 50</td>\n",
       "      <td>0.026705</td>\n",
       "      <td>D2 154</td>\n",
       "      <td>0.038564</td>\n",
       "    </tr>\n",
       "    <tr>\n",
       "      <th>6</th>\n",
       "      <td>D2 144</td>\n",
       "      <td>0.024271</td>\n",
       "      <td>D1 77</td>\n",
       "      <td>0.019802</td>\n",
       "      <td>D2 150</td>\n",
       "      <td>0.029796</td>\n",
       "    </tr>\n",
       "    <tr>\n",
       "      <th>7</th>\n",
       "      <td>D2 79</td>\n",
       "      <td>0.02111</td>\n",
       "      <td>D1 50</td>\n",
       "      <td>0.019659</td>\n",
       "      <td>D1 150</td>\n",
       "      <td>0.028593</td>\n",
       "    </tr>\n",
       "    <tr>\n",
       "      <th>8</th>\n",
       "      <td>D2 89</td>\n",
       "      <td>0.019749</td>\n",
       "      <td>D1 153</td>\n",
       "      <td>0.015196</td>\n",
       "      <td>D1 141</td>\n",
       "      <td>0.027942</td>\n",
       "    </tr>\n",
       "    <tr>\n",
       "      <th>9</th>\n",
       "      <td>D1 89</td>\n",
       "      <td>0.010247</td>\n",
       "      <td>D1 138</td>\n",
       "      <td>0.015154</td>\n",
       "      <td>D2 141</td>\n",
       "      <td>0.023138</td>\n",
       "    </tr>\n",
       "    <tr>\n",
       "      <th>10</th>\n",
       "      <td>D1 125</td>\n",
       "      <td>0.009</td>\n",
       "      <td>D2 77</td>\n",
       "      <td>0.011019</td>\n",
       "      <td>D1 93</td>\n",
       "      <td>0.015874</td>\n",
       "    </tr>\n",
       "    <tr>\n",
       "      <th>11</th>\n",
       "      <td>D1 70</td>\n",
       "      <td>0.008974</td>\n",
       "      <td>D2 153</td>\n",
       "      <td>0.009195</td>\n",
       "      <td>D1 26</td>\n",
       "      <td>0.014536</td>\n",
       "    </tr>\n",
       "    <tr>\n",
       "      <th>12</th>\n",
       "      <td>D1 29</td>\n",
       "      <td>0.005511</td>\n",
       "      <td>D2 11</td>\n",
       "      <td>0.007677</td>\n",
       "      <td>D1 54</td>\n",
       "      <td>0.012964</td>\n",
       "    </tr>\n",
       "    <tr>\n",
       "      <th>13</th>\n",
       "      <td>D1 77</td>\n",
       "      <td>0.00524</td>\n",
       "      <td>D1 91</td>\n",
       "      <td>0.007266</td>\n",
       "      <td>D2 54</td>\n",
       "      <td>0.012457</td>\n",
       "    </tr>\n",
       "    <tr>\n",
       "      <th>14</th>\n",
       "      <td>D1 109</td>\n",
       "      <td>0.00425</td>\n",
       "      <td>D1 154</td>\n",
       "      <td>0.006588</td>\n",
       "      <td>D2 52</td>\n",
       "      <td>0.010167</td>\n",
       "    </tr>\n",
       "    <tr>\n",
       "      <th>15</th>\n",
       "      <td>D2 77</td>\n",
       "      <td>0.003958</td>\n",
       "      <td>D2 91</td>\n",
       "      <td>0.006239</td>\n",
       "      <td>D2 93</td>\n",
       "      <td>0.004701</td>\n",
       "    </tr>\n",
       "    <tr>\n",
       "      <th>16</th>\n",
       "      <td>D2 125</td>\n",
       "      <td>0.003662</td>\n",
       "      <td>D2 26</td>\n",
       "      <td>0.005428</td>\n",
       "      <td>D2 89</td>\n",
       "      <td>0.003646</td>\n",
       "    </tr>\n",
       "    <tr>\n",
       "      <th>17</th>\n",
       "      <td>D1 108</td>\n",
       "      <td>0.002972</td>\n",
       "      <td>D1 160</td>\n",
       "      <td>0.005379</td>\n",
       "      <td>D1 109</td>\n",
       "      <td>0.003238</td>\n",
       "    </tr>\n",
       "    <tr>\n",
       "      <th>18</th>\n",
       "      <td>D2 70</td>\n",
       "      <td>0.002466</td>\n",
       "      <td>D2 154</td>\n",
       "      <td>0.004903</td>\n",
       "      <td>D2 57</td>\n",
       "      <td>0.002654</td>\n",
       "    </tr>\n",
       "    <tr>\n",
       "      <th>19</th>\n",
       "      <td>D2 129</td>\n",
       "      <td>0.001291</td>\n",
       "      <td>D1 97</td>\n",
       "      <td>0.004447</td>\n",
       "      <td>D2 165</td>\n",
       "      <td>0.002333</td>\n",
       "    </tr>\n",
       "  </tbody>\n",
       "</table>\n",
       "</div>"
      ],
      "text/plain": [
       "            Feat B Relevance B  Feat 1 Relevance 1  Feat 2 Relevance 2\n",
       "0      Souce_ONEIL    0.415335  D2 145    0.279642  D2 145     0.31196\n",
       "1   Source_ALMANAC    0.177741  D1 145    0.265141  D1 145    0.296716\n",
       "2           D2 145    0.111691  D1 150    0.075136   D1 97    0.041471\n",
       "3           D1 145    0.088233  D2 150    0.071736  D1 154    0.041178\n",
       "4            D1 79    0.031438  D2 138    0.067723   D2 97    0.039991\n",
       "5           D1 144     0.02882   D2 50    0.026705  D2 154    0.038564\n",
       "6           D2 144    0.024271   D1 77    0.019802  D2 150    0.029796\n",
       "7            D2 79     0.02111   D1 50    0.019659  D1 150    0.028593\n",
       "8            D2 89    0.019749  D1 153    0.015196  D1 141    0.027942\n",
       "9            D1 89    0.010247  D1 138    0.015154  D2 141    0.023138\n",
       "10          D1 125       0.009   D2 77    0.011019   D1 93    0.015874\n",
       "11           D1 70    0.008974  D2 153    0.009195   D1 26    0.014536\n",
       "12           D1 29    0.005511   D2 11    0.007677   D1 54    0.012964\n",
       "13           D1 77     0.00524   D1 91    0.007266   D2 54    0.012457\n",
       "14          D1 109     0.00425  D1 154    0.006588   D2 52    0.010167\n",
       "15           D2 77    0.003958   D2 91    0.006239   D2 93    0.004701\n",
       "16          D2 125    0.003662   D2 26    0.005428   D2 89    0.003646\n",
       "17          D1 108    0.002972  D1 160    0.005379  D1 109    0.003238\n",
       "18           D2 70    0.002466  D2 154    0.004903   D2 57    0.002654\n",
       "19          D2 129    0.001291   D1 97    0.004447  D2 165    0.002333"
      ]
     },
     "execution_count": 44,
     "metadata": {},
     "output_type": "execute_result"
    }
   ],
   "source": [
    "featsB = pd.DataFrame([np.array(x_testB.columns),regressorB.feature_importances_]).transpose()\n",
    "featImportance = featsB.sort_values(by=1,ascending=False).head(20).reset_index(drop=True)\n",
    "featImportance.rename(columns={0:\"Feat B\",1:\"Relevance B\"},inplace=True)\n",
    "\n",
    "feats1 = pd.DataFrame([np.array(x_test1.columns),regressor1.feature_importances_]).transpose()\n",
    "featImportance[[\"Feat 1\",\"Relevance 1\"]] = feats1.sort_values(by=1,ascending=False).head(20).reset_index(drop=True)\n",
    "\n",
    "feats2 = pd.DataFrame([np.array(x_test2.columns),regressor2.feature_importances_]).transpose()\n",
    "featImportance[[\"Feat 2\",\"Relevance 2\"]] = feats2.sort_values(by=1,ascending=False).head(20).reset_index(drop=True)\n",
    "featImportance\n",
    "\n",
    "#  145: ('*1~*~*~*~*~*~1', 1),  # 6M ring > 1\n",
    "# absolutely no idea why this is so disproportionately important\n",
    "# Even After source: It's not a proxy (actually evenly distributed)\n",
    "# probably all other are completely irrelavant and this is the only one with at least something"
   ]
  },
  {
   "cell_type": "markdown",
   "id": "44c2a404-d29c-413a-81ca-b3ff41c11d60",
   "metadata": {},
   "source": [
    "#### Parameter Tuning: First Attempt"
   ]
  },
  {
   "cell_type": "markdown",
   "id": "21311bf5-7510-4b01-bc4f-cceb5a184bd6",
   "metadata": {},
   "source": [
    "First I'll try different sizes of max_samples, max_depth, min_samples_split and number of trees"
   ]
  },
  {
   "cell_type": "code",
   "execution_count": null,
   "id": "47b24f9d-c5b1-4724-be96-ef7207ecd50b",
   "metadata": {},
   "outputs": [],
   "source": [
    "with open('./intermediate-pickles-scoring2/parameterTuningScoring3/X_trainB.pkl', 'rb') as inp:\n",
    "    X_trainB = pkl.load(inp)\n",
    "with open('./intermediate-pickles-scoring2/parameterTuningScoring3/X_testB.pkl', 'rb') as inp:\n",
    "    x_testB = pkl.load(inp)\n",
    "with open('./intermediate-pickles-scoring2/parameterTuningScoring3/Y_trainB.pkl', 'rb') as inp:\n",
    "    Y_trainB = pkl.load(inp)\n",
    "with open('./intermediate-pickles-scoring2/parameterTuningScoring3/Y_testB.pkl', 'rb') as inp:\n",
    "    y_testB = pkl.load(inp)"
   ]
  },
  {
   "cell_type": "code",
   "execution_count": null,
   "id": "4cfb4798-7db0-4b30-a4bc-872ed7f77a04",
   "metadata": {},
   "outputs": [],
   "source": [
    "from sklearn.ensemble import RandomForestRegressor\n",
    "\n",
    "scoresTrain = []\n",
    "scoresTest = []\n",
    "\n",
    "max_samplesF = [0.001,0.01,0.3,0.9999]\n",
    "max_depthF = [18,10,6,2]\n",
    "min_samples_splitF = [2,10,50,250,1250]\n",
    "no_trees = [5,50,200]\n",
    "\n",
    "print(\"starting now\")\n",
    "for k in max_samplesF:\n",
    "    localTrain3= []\n",
    "    localTest3 = []\n",
    "    for j in max_depthF:\n",
    "        localTrain2= []\n",
    "        localTest2 = []\n",
    "        for i in min_samples_splitF:\n",
    "            localTrain1= []\n",
    "            localTest1 = []\n",
    "            for l in no_trees:\n",
    "                regressorN = RandomForestRegressor(max_depth=j, max_samples=k,\n",
    "                                               min_samples_split = i, bootstrap=True, n_jobs=-1,\n",
    "                                               n_estimators=l, verbose=True)\n",
    "                regressorN.fit(X_trainB.iloc[:,1:],Y_trainB)\n",
    "        \n",
    "                localTrain1.append(np.mean(np.abs(regressorN.predict(x_trainB.iloc[:,1:])-y_trainB))) #do also train\n",
    "                localTest1.append(np.mean(np.abs(regressorN.predict(X_testB.iloc[:,1:])-Y_testB))) \n",
    "                del regressorN\n",
    "            localTrain2.append(localTrain1)\n",
    "            localTest2.append(localTest1)\n",
    "        localTrain3.append(localTrain2)\n",
    "        localTest3.append(localTest2)\n",
    "        \n",
    "    scoresTrain.append(localTrain3)\n",
    "    scoresTest.append(localTest3)"
   ]
  },
  {
   "cell_type": "markdown",
   "id": "622ced57-4388-477b-b3b7-3366356a1b3d",
   "metadata": {},
   "source": [
    "<b>Performance Illustrations:</b><br>\n",
    "At first I will make two plots showing the overall performance.<br>\n",
    "Since we have 4 features varied, it is only easy to read the overall change of 2 of them, therefore I will make plots, illustrating all combinations of 2 features<br><br>\n",
    "-The \"outest\" feature is how the chart overall develops<br>\n",
    "-The \"inner\" feature  will be how each of the 3-5 major partitions develop"
   ]
  },
  {
   "cell_type": "code",
   "execution_count": 37,
   "id": "d8d4d409-2048-4114-8629-5ad43962a2f2",
   "metadata": {},
   "outputs": [
    {
     "data": {
      "text/plain": [
       "[<matplotlib.lines.Line2D at 0x7f2a39df0970>]"
      ]
     },
     "execution_count": 37,
     "metadata": {},
     "output_type": "execute_result"
    },
    {
     "data": {
      "image/png": "[encoded data removed]",
      "text/plain": [
       "<Figure size 432x288 with 4 Axes>"
      ]
     },
     "metadata": {
      "needs_background": "light"
     },
     "output_type": "display_data"
    }
   ],
   "source": [
    "#avg performances of single indicators \n",
    "arrMaxSamples = [0,0,0,0]\n",
    "arrMaxDepth = [0,0,0,0]\n",
    "arrMinSampleSplit = [0,0,0,0,0]\n",
    "arrNoTrees = [0,0,0]\n",
    "\n",
    "for i in range(4):\n",
    "    for j in range(4):\n",
    "        for k in range(5):\n",
    "            for l in range(3):\n",
    "                arrMaxSamples[i] += pred[i][j][k][l]\n",
    "                arrMaxDepth[j] += pred[i][j][k][l]\n",
    "                arrMinSampleSplit[k] += pred[i][j][k][l]\n",
    "                arrNoTrees[l] +=  pred[i][j][k][l]\n",
    "\n",
    "fig,ax=plt.subplots(4)\n",
    "ax[0].plot(arrMaxSamples)\n",
    "ax[1].plot(arrMaxDepth)\n",
    "ax[2].plot(arrMinSampleSplit)\n",
    "ax[3].plot(arrNoTrees)"
   ]
  },
  {
   "cell_type": "markdown",
   "id": "51adf965-e60a-476d-a183-dbf188ce349f",
   "metadata": {},
   "source": [
    "<b>From here it looks like</b><br>\n",
    "-more trees are better, but that quickly levels off (4)<br>\n",
    "-keeping all samples is better, bootstrapping is not worth it (1)<br>\n",
    "-increasing the maxDepth is bad<br>\n",
    "-ideal number of min samples split, is around 50<br><br>\n",
    "<b> however that does not account for interactions between the features</b><br>\n",
    "Therefore I create plots of showing different combinations of features"
   ]
  },
  {
   "cell_type": "code",
   "execution_count": 70,
   "id": "d149ac32-c04d-4aa7-99b4-bebbccdde630",
   "metadata": {},
   "outputs": [
    {
     "data": {
      "text/plain": [
       "[<matplotlib.lines.Line2D at 0x7f2a3993f190>]"
      ]
     },
     "execution_count": 70,
     "metadata": {},
     "output_type": "execute_result"
    },
    {
     "data": {
      "image/png": "[encoded data removed]",
      "text/plain": [
       "<Figure size 432x288 with 1 Axes>"
      ]
     },
     "metadata": {
      "needs_background": "light"
     },
     "output_type": "display_data"
    }
   ],
   "source": [
    "plt.plot(np.moveaxis(np.moveaxis(np.array(scoresTrain),0,0),0,0).flatten())"
   ]
  },
  {
   "cell_type": "code",
   "execution_count": 87,
   "id": "82d5ccb6-bf79-4a16-9b36-f8d4b2ea78ce",
   "metadata": {},
   "outputs": [
    {
     "data": {
      "text/plain": [
       "[<matplotlib.lines.Line2D at 0x7f2a3953dfd0>]"
      ]
     },
     "execution_count": 87,
     "metadata": {},
     "output_type": "execute_result"
    },
    {
     "data": {
      "image/png": "[encoded data removed]",
      "text/plain": [
       "<Figure size 432x288 with 1 Axes>"
      ]
     },
     "metadata": {
      "needs_background": "light"
     },
     "output_type": "display_data"
    }
   ],
   "source": [
    "plt.plot(np.moveaxis(np.moveaxis(np.array(scoresTrain),0,0),2,1).flatten())"
   ]
  },
  {
   "cell_type": "code",
   "execution_count": 88,
   "id": "57ad55f8-9505-407e-b891-9b2f32870ec6",
   "metadata": {},
   "outputs": [
    {
     "data": {
      "text/plain": [
       "[<matplotlib.lines.Line2D at 0x7f2a394a8820>]"
      ]
     },
     "execution_count": 88,
     "metadata": {},
     "output_type": "execute_result"
    },
    {
     "data": {
      "image/png": "[encoded data removed]",
      "text/plain": [
       "<Figure size 432x288 with 1 Axes>"
      ]
     },
     "metadata": {
      "needs_background": "light"
     },
     "output_type": "display_data"
    }
   ],
   "source": [
    "\n",
    "plt.plot(np.moveaxis(np.moveaxis(np.array(scoresTrain),0,0),3,1).flatten())"
   ]
  },
  {
   "cell_type": "code",
   "execution_count": 86,
   "id": "9becb06e-336b-431d-9c06-e0f31177bfdd",
   "metadata": {},
   "outputs": [
    {
     "data": {
      "text/plain": [
       "[<matplotlib.lines.Line2D at 0x7f2a3955d4c0>]"
      ]
     },
     "execution_count": 86,
     "metadata": {},
     "output_type": "execute_result"
    },
    {
     "data": {
      "image/png": "[encoded data removed]",
      "text/plain": [
       "<Figure size 432x288 with 1 Axes>"
      ]
     },
     "metadata": {
      "needs_background": "light"
     },
     "output_type": "display_data"
    }
   ],
   "source": [
    "\n",
    "plt.plot(np.moveaxis(np.moveaxis(np.array(scoresTrain),1,0),0,0).flatten())"
   ]
  },
  {
   "cell_type": "code",
   "execution_count": 85,
   "id": "db215479-c196-48d3-8e1c-fe1cedcce83b",
   "metadata": {},
   "outputs": [
    {
     "data": {
      "text/plain": [
       "[<matplotlib.lines.Line2D at 0x7f2a395efe50>]"
      ]
     },
     "execution_count": 85,
     "metadata": {},
     "output_type": "execute_result"
    },
    {
     "data": {
      "image/png": "[encoded data removed]",
      "text/plain": [
       "<Figure size 432x288 with 1 Axes>"
      ]
     },
     "metadata": {
      "needs_background": "light"
     },
     "output_type": "display_data"
    }
   ],
   "source": [
    "\n",
    "plt.plot(np.moveaxis(np.moveaxis(np.array(scoresTrain),1,0),2,1).flatten())"
   ]
  },
  {
   "cell_type": "code",
   "execution_count": 84,
   "id": "5cf0c1e9-d126-4eca-a9ab-223181d5821f",
   "metadata": {},
   "outputs": [
    {
     "data": {
      "text/plain": [
       "[<matplotlib.lines.Line2D at 0x7f2a39612310>]"
      ]
     },
     "execution_count": 84,
     "metadata": {},
     "output_type": "execute_result"
    },
    {
     "data": {
      "image/png": "[encoded data removed]",
      "text/plain": [
       "<Figure size 432x288 with 1 Axes>"
      ]
     },
     "metadata": {
      "needs_background": "light"
     },
     "output_type": "display_data"
    }
   ],
   "source": [
    "\n",
    "plt.plot(np.moveaxis(np.moveaxis(np.array(scoresTrain),1,0),3,1).flatten())"
   ]
  },
  {
   "cell_type": "code",
   "execution_count": 83,
   "id": "84ca5f60-64bb-48ba-9ce1-b7ab621a24e3",
   "metadata": {},
   "outputs": [
    {
     "data": {
      "text/plain": [
       "[<matplotlib.lines.Line2D at 0x7f2a396a1910>]"
      ]
     },
     "execution_count": 83,
     "metadata": {},
     "output_type": "execute_result"
    },
    {
     "data": {
      "image/png": "[encoded data removed]",
      "text/plain": [
       "<Figure size 432x288 with 1 Axes>"
      ]
     },
     "metadata": {
      "needs_background": "light"
     },
     "output_type": "display_data"
    }
   ],
   "source": [
    "\n",
    "plt.plot(np.moveaxis(np.moveaxis(np.array(scoresTrain),2,0),0,0).flatten())"
   ]
  },
  {
   "cell_type": "code",
   "execution_count": 82,
   "id": "294d5363-dd9f-43a1-94f7-8b41dff3e283",
   "metadata": {},
   "outputs": [
    {
     "data": {
      "text/plain": [
       "[<matplotlib.lines.Line2D at 0x7f2a396c4250>]"
      ]
     },
     "execution_count": 82,
     "metadata": {},
     "output_type": "execute_result"
    },
    {
     "data": {
      "image/png": "[encoded data removed]",
      "text/plain": [
       "<Figure size 432x288 with 1 Axes>"
      ]
     },
     "metadata": {
      "needs_background": "light"
     },
     "output_type": "display_data"
    }
   ],
   "source": [
    "\n",
    "plt.plot(np.moveaxis(np.moveaxis(np.array(scoresTrain),2,0),2,1).flatten())"
   ]
  },
  {
   "cell_type": "code",
   "execution_count": 81,
   "id": "047cc8b2-ea71-4455-9619-970384cffad5",
   "metadata": {},
   "outputs": [
    {
     "data": {
      "text/plain": [
       "[<matplotlib.lines.Line2D at 0x7f2a397565e0>]"
      ]
     },
     "execution_count": 81,
     "metadata": {},
     "output_type": "execute_result"
    },
    {
     "data": {
      "image/png": "[encoded data removed]",
      "text/plain": [
       "<Figure size 432x288 with 1 Axes>"
      ]
     },
     "metadata": {
      "needs_background": "light"
     },
     "output_type": "display_data"
    }
   ],
   "source": [
    "\n",
    "plt.plot(np.moveaxis(np.moveaxis(np.array(scoresTrain),2,0),3,1).flatten())"
   ]
  },
  {
   "cell_type": "code",
   "execution_count": 80,
   "id": "abc455c4-7956-431e-b26d-3faf2ed61998",
   "metadata": {},
   "outputs": [
    {
     "data": {
      "text/plain": [
       "[<matplotlib.lines.Line2D at 0x7f2a397eabe0>]"
      ]
     },
     "execution_count": 80,
     "metadata": {},
     "output_type": "execute_result"
    },
    {
     "data": {
      "image/png": "[encoded data removed]",
      "text/plain": [
       "<Figure size 432x288 with 1 Axes>"
      ]
     },
     "metadata": {
      "needs_background": "light"
     },
     "output_type": "display_data"
    }
   ],
   "source": [
    "plt.plot(np.moveaxis(np.moveaxis(np.array(scoresTrain),3,0),0,0).flatten())"
   ]
  },
  {
   "cell_type": "code",
   "execution_count": 79,
   "id": "1adcf3a8-633a-4bc7-8a57-c5b76c7aa0d0",
   "metadata": {},
   "outputs": [
    {
     "data": {
      "text/plain": [
       "[<matplotlib.lines.Line2D at 0x7f2a3980d220>]"
      ]
     },
     "execution_count": 79,
     "metadata": {},
     "output_type": "execute_result"
    },
    {
     "data": {
      "image/png": "[encoded data removed]",
      "text/plain": [
       "<Figure size 432x288 with 1 Axes>"
      ]
     },
     "metadata": {
      "needs_background": "light"
     },
     "output_type": "display_data"
    }
   ],
   "source": [
    "plt.plot(np.moveaxis(np.moveaxis(np.array(scoresTrain),3,0),2,1).flatten())"
   ]
  },
  {
   "cell_type": "code",
   "execution_count": 78,
   "id": "2f36c3b1-5b30-4d8b-b470-e86d1193e1c9",
   "metadata": {},
   "outputs": [
    {
     "data": {
      "text/plain": [
       "[<matplotlib.lines.Line2D at 0x7f2a3989b9d0>]"
      ]
     },
     "execution_count": 78,
     "metadata": {},
     "output_type": "execute_result"
    },
    {
     "data": {
      "image/png": "[encoded data removed]",
      "text/plain": [
       "<Figure size 432x288 with 1 Axes>"
      ]
     },
     "metadata": {
      "needs_background": "light"
     },
     "output_type": "display_data"
    }
   ],
   "source": [
    "plt.plot(np.moveaxis(np.moveaxis(np.array(scoresTrain),3,0),3,1).flatten())"
   ]
  },
  {
   "cell_type": "markdown",
   "id": "7ae9520c-38e4-4273-b99f-de6cedba0bc7",
   "metadata": {},
   "source": [
    "<B>Actual Findings:</B><br>\n",
    "-Sampling the number of records each tree is trained on, makes the performance worse - no danger of overfitting. Just don't.<br>\n",
    "-more max_depth is better so far - no overfitting here<br>\n",
    "-min_samples_split best performance at around 50 - but stabilises, so smaller better<br>\n",
    "-more trees are better, but that that much"
   ]
  },
  {
   "cell_type": "markdown",
   "id": "5de089a1-9f72-4bba-8f27-cbe1aa9f7d53",
   "metadata": {},
   "source": [
    "#### Parameter Tuning 2: Refining Selection of Parameters"
   ]
  },
  {
   "cell_type": "code",
   "execution_count": null,
   "id": "3540880e-4a6b-4827-8536-94a5aa1073d7",
   "metadata": {},
   "outputs": [],
   "source": [
    "with open('./intermediate-pickles-scoring2/parameterTuningScoring3/X_trainB.pkl', 'rb') as inp:\n",
    "    X_trainB = pkl.load(inp)\n",
    "with open('./intermediate-pickles-scoring2/parameterTuningScoring3/X_testB.pkl', 'rb') as inp:\n",
    "    x_testB = pkl.load(inp)\n",
    "with open('./intermediate-pickles-scoring2/parameterTuningScoring3/Y_trainB.pkl', 'rb') as inp:\n",
    "    Y_trainB = pkl.load(inp)\n",
    "with open('./intermediate-pickles-scoring2/parameterTuningScoring3/Y_testB.pkl', 'rb') as inp:\n",
    "    y_testB = pkl.load(inp)"
   ]
  },
  {
   "cell_type": "code",
   "execution_count": null,
   "id": "c0444a4f-6c50-4048-b4af-353cde956f4b",
   "metadata": {},
   "outputs": [],
   "source": [
    "#TEST AND TRAIN SWITCHED UP\n",
    "from sklearn.ensemble import RandomForestRegressor \n",
    "\n",
    "scoresTrain = []\n",
    "scoresTest = []\n",
    "\n",
    "max_depthF = [150,80,40,20,10]\n",
    "min_samples_splitF = [2,4,8,16,32,64]\n",
    "no_trees = [2,16,128,1024]\n",
    "\n",
    "print(\"starting now\")\n",
    "for k in range(1):#placeholder\n",
    "    localTrain3= []\n",
    "    localTest3 = []\n",
    "    for j in max_depthF:\n",
    "        localTrain2= []\n",
    "        localTest2 = []\n",
    "        for i in min_samples_splitF:\n",
    "            localTrain1= []\n",
    "            localTest1 = []\n",
    "            for l in no_trees:\n",
    "                regressorN = RandomForestRegressor(max_depth=j,\n",
    "                                               min_samples_split = i, bootstrap=True, n_jobs=-1,\n",
    "                                               n_estimators=l, verbose=True)\n",
    "                regressorN.fit(X_trainB.iloc[:,1:],Y_trainB)\n",
    "        \n",
    "                localTest1.append(np.mean(np.abs(regressorN.predict(x_testB.iloc[:,1:])-y_testB))) #do also train\n",
    "                localTrain1.append(np.mean(np.abs(regressorN.predict(X_trainB.iloc[:,1:])-Y_trainB))) \n",
    "                del regressorN\n",
    "            localTrain2.append(localTrain1)\n",
    "            localTest2.append(localTest1)\n",
    "        localTrain3.append(localTrain2)\n",
    "        localTest3.append(localTest2)\n",
    "        \n",
    "    scoresTrain.append(localTrain3)\n",
    "    scoresTest.append(localTest3)"
   ]
  },
  {
   "cell_type": "code",
   "execution_count": null,
   "id": "f2b82886-6acd-44ff-853b-e7dd10bcbdf5",
   "metadata": {},
   "outputs": [],
   "source": [
    "predTrain = np.array(scoresTest[0])\n",
    "predTest = np.array(scoresTrain[0])"
   ]
  },
  {
   "cell_type": "code",
   "execution_count": 43,
   "id": "4cb8dff1-df31-4f3d-8d53-83ebfff17116",
   "metadata": {},
   "outputs": [
    {
     "data": {
      "text/plain": [
       "[<matplotlib.lines.Line2D at 0x7ef7685e8730>]"
      ]
     },
     "execution_count": 43,
     "metadata": {},
     "output_type": "execute_result"
    },
    {
     "data": {
      "image/png": "[encoded data removed]",
      "text/plain": [
       "<Figure size 432x288 with 1 Axes>"
      ]
     },
     "metadata": {
      "needs_background": "light"
     },
     "output_type": "display_data"
    }
   ],
   "source": [
    "plt.plot(predTest.flatten())"
   ]
  },
  {
   "cell_type": "code",
   "execution_count": 42,
   "id": "7fbddc3c-9bcb-44e4-b7a6-c67d9673c324",
   "metadata": {},
   "outputs": [
    {
     "data": {
      "text/plain": [
       "[<matplotlib.lines.Line2D at 0x7ef7685a1940>]"
      ]
     },
     "execution_count": 42,
     "metadata": {},
     "output_type": "execute_result"
    },
    {
     "data": {
      "image/png": "[encoded data removed]",
      "text/plain": [
       "<Figure size 432x288 with 1 Axes>"
      ]
     },
     "metadata": {
      "needs_background": "light"
     },
     "output_type": "display_data"
    }
   ],
   "source": [
    "plt.plot(predTrain.flatten())"
   ]
  },
  {
   "cell_type": "markdown",
   "id": "dc618271-34f7-4864-bc16-4a40d5a3ec65",
   "metadata": {},
   "source": [
    "<b>Findings:</b><br>\n",
    "1. As long as the max depth is at least like 40, increases only yield minor gains\n",
    "2. Decreasing the minimum samples for required for splitting, causes overfitting: Big performance gains on the training data, but losses on the testdata. An Effect that bootstrapping in the previous tests likely has mitigated. Best performance around 32\n",
    "3. Number of trees strongly increases performance when going from a small number to a medium one, but quickly levels off<br><br>\n",
    "<b>Thus, considering computational effort, the proposed configuration is now 10-60 trees, min samples split ~32 and maxDepth ~40"
   ]
  },
  {
   "cell_type": "markdown",
   "id": "5ddbbac6-9e4f-4e43-a0a1-167609bda395",
   "metadata": {},
   "source": [
    "#### Parameter Tuning 3: Final Selection of Params"
   ]
  },
  {
   "cell_type": "code",
   "execution_count": null,
   "id": "35c28e3d-80e4-42cb-84ae-13152aa517c5",
   "metadata": {},
   "outputs": [],
   "source": [
    "#TEST AND TRAIN SWITCHED UP\n",
    "from sklearn.ensemble import RandomForestRegressor \n",
    "\n",
    "scoresTrain = []\n",
    "scoresTest = []\n",
    "\n",
    "max_depthF = [90,60,40,25] #add 0/-1 for no capping\n",
    "min_samples_splitF = [10,25,35,45,60]\n",
    "no_trees = [10,35,60]\n",
    "\n",
    "print(\"starting now\")\n",
    "for k in range(1):#placeholder\n",
    "    localTrain3= []\n",
    "    localTest3 = []\n",
    "    for j in max_depthF:\n",
    "        localTrain2= []\n",
    "        localTest2 = []\n",
    "        for i in min_samples_splitF:\n",
    "            localTrain1= []\n",
    "            localTest1 = []\n",
    "            for l in no_trees:\n",
    "                regressorN = RandomForestRegressor(max_depth=j,\n",
    "                                               min_samples_split = i, bootstrap=True, n_jobs=-1,\n",
    "                                               n_estimators=l, verbose=True)\n",
    "                regressorN.fit(X_trainB.iloc[:,1:],Y_trainB)\n",
    "        \n",
    "                localTest1.append(np.mean(np.abs(regressorN.predict(x_testB.iloc[:,1:])-y_testB))) #do also train\n",
    "                localTrain1.append(np.mean(np.abs(regressorN.predict(X_trainB.iloc[:,1:])-Y_trainB))) \n",
    "                del regressorN\n",
    "            localTrain2.append(localTrain1)\n",
    "            localTest2.append(localTest1)\n",
    "        localTrain3.append(localTrain2)\n",
    "        localTest3.append(localTest2)\n",
    "    scoresTrain.append(localTrain3)\n",
    "    scoresTest.append(localTest3)"
   ]
  },
  {
   "cell_type": "code",
   "execution_count": null,
   "id": "90bf9dc1-fae8-4885-b1a4-a47223f470ca",
   "metadata": {},
   "outputs": [],
   "source": [
    "pTrain = np.array(scoresTrain[0])\n",
    "pTest = np.array(scoresTest[0])"
   ]
  },
  {
   "cell_type": "code",
   "execution_count": 57,
   "id": "91f9c473-1bdd-4f86-8e52-3713442b9d45",
   "metadata": {},
   "outputs": [
    {
     "data": {
      "text/plain": [
       "[<matplotlib.lines.Line2D at 0x7ef769483a00>]"
      ]
     },
     "execution_count": 57,
     "metadata": {},
     "output_type": "execute_result"
    },
    {
     "data": {
      "image/png": "[encoded data removed]",
      "text/plain": [
       "<Figure size 432x288 with 2 Axes>"
      ]
     },
     "metadata": {
      "needs_background": "light"
     },
     "output_type": "display_data"
    }
   ],
   "source": [
    "fig,ax = plt.subplots(2)\n",
    "fig.show()\n",
    "ax[0].plot(pTrain.flatten())\n",
    "ax[1].plot(pTest.flatten())"
   ]
  },
  {
   "cell_type": "markdown",
   "id": "e3a772d9-b609-48e6-a4b9-9c554cee458e",
   "metadata": {},
   "source": [
    "<b>Conclusion:</b><br>\n",
    "1. Max Depth has its error minima at ~40\n",
    "2. Min Samples Split at ~40 too and notably overfits at 10\n",
    "3. 35 trees is still notably better than 10, but performance increases quickly level off<br>\n",
    "\n",
    "Note: I have not played around with the max number of features to use yet"
   ]
  },
  {
   "cell_type": "code",
   "execution_count": 96,
   "id": "e2f2b8fd-fd85-4a84-ba6a-2055231810e9",
   "metadata": {},
   "outputs": [
    {
     "name": "stderr",
     "output_type": "stream",
     "text": [
      "[Parallel(n_jobs=-1)]: Using backend ThreadingBackend with 128 concurrent workers.\n",
      "[Parallel(n_jobs=-1)]: Done  32 out of  35 | elapsed:  1.1min remaining:    6.3s\n",
      "[Parallel(n_jobs=-1)]: Done  35 out of  35 | elapsed:  1.1min finished\n"
     ]
    },
    {
     "data": {
      "text/plain": [
       "RandomForestRegressor(max_depth=40, min_samples_split=40, n_estimators=35,\n",
       "                      n_jobs=-1, verbose=True)"
      ]
     },
     "execution_count": 96,
     "metadata": {},
     "output_type": "execute_result"
    }
   ],
   "source": [
    "regressorB = RandomForestRegressor(max_depth=40,min_samples_split = 40,\n",
    "                                   bootstrap=True, n_jobs=-1,n_estimators=35, verbose=True)\n",
    "regressorB.fit(X_trainB.iloc[:,1:],Y_trainB)"
   ]
  },
  {
   "cell_type": "code",
   "execution_count": 94,
   "id": "dd1182ed-58ea-4d3b-bc36-b92076a9b8e1",
   "metadata": {},
   "outputs": [
    {
     "data": {
      "text/plain": [
       "[<matplotlib.lines.Line2D at 0x7ef768f79760>]"
      ]
     },
     "execution_count": 94,
     "metadata": {},
     "output_type": "execute_result"
    },
    {
     "data": {
      "image/png": "[encoded data removed]",
      "text/plain": [
       "<Figure size 432x288 with 1 Axes>"
      ]
     },
     "metadata": {
      "needs_background": "light"
     },
     "output_type": "display_data"
    }
   ],
   "source": [
    "# Illustrating the remaining performance fluctuations in 1 Graph:\n",
    "\n",
    "#main axis: No Trees, second: min samples split\n",
    "final = np.moveaxis(np.moveaxis(pTest,0,2)[1:],1,0)\n",
    "\n",
    "plt.plot(final.flatten())"
   ]
  },
  {
   "cell_type": "markdown",
   "id": "0263da7a-bd99-4001-9aa8-4832b2efb10e",
   "metadata": {},
   "source": [
    "#### Feature Relevance in Tuned Model"
   ]
  },
  {
   "cell_type": "code",
   "execution_count": 164,
   "id": "18db5221-5465-44d2-80f3-8e77a04fdb00",
   "metadata": {},
   "outputs": [
    {
     "name": "stderr",
     "output_type": "stream",
     "text": [
      "[Parallel(n_jobs=-1)]: Using backend ThreadingBackend with 128 concurrent workers.\n",
      "[Parallel(n_jobs=-1)]: Done  32 out of  35 | elapsed:   50.8s remaining:    4.8s\n",
      "[Parallel(n_jobs=-1)]: Done  35 out of  35 | elapsed:   51.5s finished\n"
     ]
    },
    {
     "data": {
      "text/plain": [
       "RandomForestRegressor(max_depth=40, min_samples_split=40, n_estimators=35,\n",
       "                      n_jobs=-1, verbose=True)"
      ]
     },
     "execution_count": 164,
     "metadata": {},
     "output_type": "execute_result"
    }
   ],
   "source": [
    "regressorB = RandomForestRegressor(max_depth=40,min_samples_split = 40,\n",
    "                                   bootstrap=True, n_jobs=-1,n_estimators=35, verbose=True)\n",
    "regressorB.fit(X_trainB.iloc[:,1:],Y_trainB)"
   ]
  },
  {
   "cell_type": "code",
   "execution_count": 165,
   "id": "04d15a2a-8eeb-48aa-8885-2e8b9c5ac417",
   "metadata": {},
   "outputs": [
    {
     "data": {
      "text/html": [
       "<div>\n",
       "<style scoped>\n",
       "    .dataframe tbody tr th:only-of-type {\n",
       "        vertical-align: middle;\n",
       "    }\n",
       "\n",
       "    .dataframe tbody tr th {\n",
       "        vertical-align: top;\n",
       "    }\n",
       "\n",
       "    .dataframe thead th {\n",
       "        text-align: right;\n",
       "    }\n",
       "</style>\n",
       "<table border=\"1\" class=\"dataframe\">\n",
       "  <thead>\n",
       "    <tr style=\"text-align: right;\">\n",
       "      <th></th>\n",
       "      <th>Feat B</th>\n",
       "      <th>Relevance B</th>\n",
       "    </tr>\n",
       "  </thead>\n",
       "  <tbody>\n",
       "    <tr>\n",
       "      <th>0</th>\n",
       "      <td>age</td>\n",
       "      <td>0.121256</td>\n",
       "    </tr>\n",
       "    <tr>\n",
       "      <th>1</th>\n",
       "      <td>Souce_ONEIL</td>\n",
       "      <td>0.069558</td>\n",
       "    </tr>\n",
       "    <tr>\n",
       "      <th>2</th>\n",
       "      <td>Source_ALMANAC</td>\n",
       "      <td>0.052294</td>\n",
       "    </tr>\n",
       "    <tr>\n",
       "      <th>3</th>\n",
       "      <td>D2 145</td>\n",
       "      <td>0.023028</td>\n",
       "    </tr>\n",
       "    <tr>\n",
       "      <th>4</th>\n",
       "      <td>D1 145</td>\n",
       "      <td>0.017826</td>\n",
       "    </tr>\n",
       "    <tr>\n",
       "      <th>5</th>\n",
       "      <td>D2 79</td>\n",
       "      <td>0.017032</td>\n",
       "    </tr>\n",
       "    <tr>\n",
       "      <th>6</th>\n",
       "      <td>D1 79</td>\n",
       "      <td>0.016536</td>\n",
       "    </tr>\n",
       "    <tr>\n",
       "      <th>7</th>\n",
       "      <td>D2 129</td>\n",
       "      <td>0.009675</td>\n",
       "    </tr>\n",
       "    <tr>\n",
       "      <th>8</th>\n",
       "      <td>D1 129</td>\n",
       "      <td>0.009551</td>\n",
       "    </tr>\n",
       "    <tr>\n",
       "      <th>9</th>\n",
       "      <td>D2 54</td>\n",
       "      <td>0.009367</td>\n",
       "    </tr>\n",
       "    <tr>\n",
       "      <th>10</th>\n",
       "      <td>D2 144</td>\n",
       "      <td>0.008248</td>\n",
       "    </tr>\n",
       "    <tr>\n",
       "      <th>11</th>\n",
       "      <td>D1 93</td>\n",
       "      <td>0.007908</td>\n",
       "    </tr>\n",
       "    <tr>\n",
       "      <th>12</th>\n",
       "      <td>D1 150</td>\n",
       "      <td>0.007561</td>\n",
       "    </tr>\n",
       "    <tr>\n",
       "      <th>13</th>\n",
       "      <td>D1 89</td>\n",
       "      <td>0.007529</td>\n",
       "    </tr>\n",
       "    <tr>\n",
       "      <th>14</th>\n",
       "      <td>D2 93</td>\n",
       "      <td>0.007433</td>\n",
       "    </tr>\n",
       "    <tr>\n",
       "      <th>15</th>\n",
       "      <td>D2 89</td>\n",
       "      <td>0.007358</td>\n",
       "    </tr>\n",
       "    <tr>\n",
       "      <th>16</th>\n",
       "      <td>D1 144</td>\n",
       "      <td>0.007342</td>\n",
       "    </tr>\n",
       "    <tr>\n",
       "      <th>17</th>\n",
       "      <td>D1 125</td>\n",
       "      <td>0.007298</td>\n",
       "    </tr>\n",
       "    <tr>\n",
       "      <th>18</th>\n",
       "      <td>D2 140</td>\n",
       "      <td>0.006968</td>\n",
       "    </tr>\n",
       "    <tr>\n",
       "      <th>19</th>\n",
       "      <td>D2 150</td>\n",
       "      <td>0.006718</td>\n",
       "    </tr>\n",
       "  </tbody>\n",
       "</table>\n",
       "</div>"
      ],
      "text/plain": [
       "            Feat B Relevance B\n",
       "0              age    0.121256\n",
       "1      Souce_ONEIL    0.069558\n",
       "2   Source_ALMANAC    0.052294\n",
       "3           D2 145    0.023028\n",
       "4           D1 145    0.017826\n",
       "5            D2 79    0.017032\n",
       "6            D1 79    0.016536\n",
       "7           D2 129    0.009675\n",
       "8           D1 129    0.009551\n",
       "9            D2 54    0.009367\n",
       "10          D2 144    0.008248\n",
       "11           D1 93    0.007908\n",
       "12          D1 150    0.007561\n",
       "13           D1 89    0.007529\n",
       "14           D2 93    0.007433\n",
       "15           D2 89    0.007358\n",
       "16          D1 144    0.007342\n",
       "17          D1 125    0.007298\n",
       "18          D2 140    0.006968\n",
       "19          D2 150    0.006718"
      ]
     },
     "execution_count": 165,
     "metadata": {},
     "output_type": "execute_result"
    }
   ],
   "source": [
    "featsB = pd.DataFrame([np.array(x_testB.iloc[:,1:].columns),regressorB.feature_importances_]).transpose()\n",
    "featImportance = featsB.sort_values(by=1,ascending=False).head(20).reset_index(drop=True)\n",
    "featImportance.rename(columns={0:\"Feat B\",1:\"Relevance B\"},inplace=True)\n",
    "featImportance\n",
    "\n",
    "#  145: ('*1~*~*~*~*~*~1', 1),  # 6M ring > 1\n",
    "# absolutely no idea why this is so disproportionately important\n",
    "# Even After source: It's not a proxy (actually evenly distributed)\n",
    "# probably all other are completely irrelavant and this is the only one with at least something"
   ]
  },
  {
   "cell_type": "code",
   "execution_count": 168,
   "id": "32a43b7e-22e0-4a23-9f43-4849f6931f8a",
   "metadata": {},
   "outputs": [
    {
     "name": "stderr",
     "output_type": "stream",
     "text": [
      "[Parallel(n_jobs=35)]: Using backend ThreadingBackend with 35 concurrent workers.\n",
      "[Parallel(n_jobs=35)]: Done   2 out of  35 | elapsed:    0.1s remaining:    1.2s\n",
      "[Parallel(n_jobs=35)]: Done  35 out of  35 | elapsed:    0.2s finished\n"
     ]
    },
    {
     "name": "stdout",
     "output_type": "stream",
     "text": [
      "3.1798777596837726\n"
     ]
    },
    {
     "name": "stderr",
     "output_type": "stream",
     "text": [
      "[Parallel(n_jobs=35)]: Using backend ThreadingBackend with 35 concurrent workers.\n",
      "[Parallel(n_jobs=35)]: Done   2 out of  35 | elapsed:    0.3s remaining:    5.0s\n"
     ]
    },
    {
     "name": "stdout",
     "output_type": "stream",
     "text": [
      "2.8942472979645357\n"
     ]
    },
    {
     "name": "stderr",
     "output_type": "stream",
     "text": [
      "[Parallel(n_jobs=35)]: Done  35 out of  35 | elapsed:    0.7s finished\n"
     ]
    }
   ],
   "source": [
    "print(np.mean(np.abs(regressorB.predict(x_testB.iloc[:,1:])-y_testB)))\n",
    "print(np.mean(np.abs(regressorB.predict(X_trainB.iloc[:,1:])-Y_trainB))) "
   ]
  },
  {
   "cell_type": "code",
   "execution_count": 181,
   "id": "2e6ded18-6e16-47d1-a0ea-89620d8feb21",
   "metadata": {},
   "outputs": [
    {
     "name": "stderr",
     "output_type": "stream",
     "text": [
      "[Parallel(n_jobs=35)]: Using backend ThreadingBackend with 35 concurrent workers.\n",
      "[Parallel(n_jobs=35)]: Done   2 out of  35 | elapsed:    0.1s remaining:    2.1s\n",
      "[Parallel(n_jobs=35)]: Done  35 out of  35 | elapsed:    0.3s finished\n",
      "[Parallel(n_jobs=35)]: Using backend ThreadingBackend with 35 concurrent workers.\n",
      "[Parallel(n_jobs=35)]: Done   2 out of  35 | elapsed:    0.3s remaining:    5.4s\n",
      "[Parallel(n_jobs=35)]: Done  35 out of  35 | elapsed:    0.5s finished\n"
     ]
    },
    {
     "data": {
      "text/html": [
       "<div>\n",
       "<style scoped>\n",
       "    .dataframe tbody tr th:only-of-type {\n",
       "        vertical-align: middle;\n",
       "    }\n",
       "\n",
       "    .dataframe tbody tr th {\n",
       "        vertical-align: top;\n",
       "    }\n",
       "\n",
       "    .dataframe thead th {\n",
       "        text-align: right;\n",
       "    }\n",
       "</style>\n",
       "<table border=\"1\" class=\"dataframe\">\n",
       "  <thead>\n",
       "    <tr style=\"text-align: right;\">\n",
       "      <th></th>\n",
       "      <th>combination_idx</th>\n",
       "      <th>y_test</th>\n",
       "      <th>pred</th>\n",
       "    </tr>\n",
       "  </thead>\n",
       "  <tbody>\n",
       "    <tr>\n",
       "      <th>192154</th>\n",
       "      <td>52386</td>\n",
       "      <td>-1.40</td>\n",
       "      <td>-0.922643</td>\n",
       "    </tr>\n",
       "    <tr>\n",
       "      <th>322350</th>\n",
       "      <td>47799</td>\n",
       "      <td>-7.96</td>\n",
       "      <td>-3.824749</td>\n",
       "    </tr>\n",
       "    <tr>\n",
       "      <th>63776</th>\n",
       "      <td>41215</td>\n",
       "      <td>-5.86</td>\n",
       "      <td>-4.551162</td>\n",
       "    </tr>\n",
       "    <tr>\n",
       "      <th>415032</th>\n",
       "      <td>58817</td>\n",
       "      <td>-0.66</td>\n",
       "      <td>1.441974</td>\n",
       "    </tr>\n",
       "    <tr>\n",
       "      <th>136680</th>\n",
       "      <td>66020</td>\n",
       "      <td>-1.20</td>\n",
       "      <td>-1.061491</td>\n",
       "    </tr>\n",
       "  </tbody>\n",
       "</table>\n",
       "</div>"
      ],
      "text/plain": [
       "        combination_idx  y_test      pred\n",
       "192154            52386   -1.40 -0.922643\n",
       "322350            47799   -7.96 -3.824749\n",
       "63776             41215   -5.86 -4.551162\n",
       "415032            58817   -0.66  1.441974\n",
       "136680            66020   -1.20 -1.061491"
      ]
     },
     "execution_count": 181,
     "metadata": {},
     "output_type": "execute_result"
    }
   ],
   "source": [
    "pred = regressorB.predict(x_testB.iloc[:,1:])\n",
    "pred2 = regressorB.predict(X_trainB.iloc[:,1:])\n",
    "\n",
    "obs = pd.DataFrame({\"combination_idx\":x_testB.iloc[:,0],\"y_test\":y_testB,\"pred\":pred})\n",
    "obs2 = pd.DataFrame({\"combination_idx\":X_trainB.iloc[:,0],\"y_test\":Y_trainB,\"pred\":pred2})\n",
    "\n",
    "obs.head()"
   ]
  },
  {
   "cell_type": "code",
   "execution_count": 183,
   "id": "0834d0c7-f0f8-4bc1-a0e4-3fae6d9a9275",
   "metadata": {},
   "outputs": [
    {
     "name": "stdout",
     "output_type": "stream",
     "text": [
      "Challenge Winner Performance: ~0.4\n",
      "Performance on Training Data:  0.45476103847449895\n",
      "Performance on Test Data:  0.07389756770603086\n"
     ]
    }
   ],
   "source": [
    "from scoring import primaryMetric\n",
    "print(\"Theoretical Maximum through experimental reproducibility: ~0.42\")\n",
    "print(\"Performance on Training Data: \",primaryMetric(obs2))\n",
    "print(\"Performance on Test Data: \",primaryMetric(obs))"
   ]
  },
  {
   "cell_type": "code",
   "execution_count": 192,
   "id": "26f32d08-acd7-44ce-9e00-807101f3806d",
   "metadata": {},
   "outputs": [
    {
     "data": {
      "text/plain": [
       "2.8942472979645357"
      ]
     },
     "execution_count": 192,
     "metadata": {},
     "output_type": "execute_result"
    }
   ],
   "source": [
    "np.mean(np.abs(obs2.iloc[:,2]-obs2.iloc[:,1]))"
   ]
  },
  {
   "cell_type": "code",
   "execution_count": 187,
   "id": "738e4091-8b86-4a8a-b761-1c1946796a8c",
   "metadata": {},
   "outputs": [
    {
     "name": "stdout",
     "output_type": "stream",
     "text": [
      "0.9981146694231473\n",
      "0.9992184685762865\n"
     ]
    }
   ],
   "source": [
    "print(primaryMetric(pd.DataFrame({\"combination_idx\":X_trainB.iloc[:,0],\"y_test\":Y_trainB,\"pred\":Y_trainB})))\n",
    "print(primaryMetric(pd.DataFrame({\"combination_idx\":x_testB.iloc[:,0],\"y_test\":y_testB,\"pred\":y_testB})))"
   ]
  },
  {
   "cell_type": "markdown",
   "id": "810a07bd-d8ec-4b0e-ab88-6573ea328090",
   "metadata": {},
   "source": [
    "Next steps:\n",
    "\n",
    "Cell Line Profiles\n",
    "\n",
    "other params: max feats"
   ]
  }
 ],
 "metadata": {
  "kernelspec": {
   "display_name": "Python 3",
   "language": "python",
   "name": "python3"
  },
  "language_info": {
   "codemirror_mode": {
    "name": "ipython",
    "version": 3
   },
   "file_extension": ".py",
   "mimetype": "text/x-python",
   "name": "python",
   "nbconvert_exporter": "python",
   "pygments_lexer": "ipython3",
   "version": "3.8.8"
  }
 },
 "nbformat": 4,
 "nbformat_minor": 5
}
