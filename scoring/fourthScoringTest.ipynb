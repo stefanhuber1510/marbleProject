{
 "cells": [
  {
   "cell_type": "markdown",
   "id": "15bd2444-4a6d-445a-ac12-7e33c178c4d6",
   "metadata": {},
   "source": [
    "Aims of this dataset:<br>\n",
    "Combine most useful feats of chem and MACCS keys<br>\n",
    "validate importance of source feature"
   ]
  },
  {
   "cell_type": "code",
   "execution_count": 61,
   "id": "5286024a-82a5-4eb6-b81d-8263af4f61f6",
   "metadata": {},
   "outputs": [],
   "source": [
    "# temporary working here to deal with double values and insert it later as new section before section joining"
   ]
  },
  {
   "cell_type": "code",
   "execution_count": 1,
   "id": "67cd60e4-cf9a-4b57-b798-44d69c1eabbd",
   "metadata": {},
   "outputs": [],
   "source": [
    "import numpy as np\n",
    "import pandas as pd \n",
    "import _pickle as pkl"
   ]
  },
  {
   "cell_type": "markdown",
   "id": "1e43e6f8-67d3-45dd-a55d-b6fef895d0ec",
   "metadata": {},
   "source": [
    "#### 1. Modify DB data\n",
    "1. Conc names & cell lines to find duplicates\n",
    "2. Combine them\n",
    "3. Set values above 100 to 100"
   ]
  },
  {
   "cell_type": "markdown",
   "id": "a08d0bc0-f883-428b-a9a9-dee53875e17e",
   "metadata": {},
   "source": [
    "#### 3. Combination ID?"
   ]
  },
  {
   "cell_type": "code",
   "execution_count": 2,
   "id": "7df980ef-a92f-4b95-bfeb-e7b1c9ef80af",
   "metadata": {},
   "outputs": [
    {
     "ename": "FileNotFoundError",
     "evalue": "[Errno 2] No such file or directory: './intermediate-pickles-scoring2/finalFrame1.pkl'",
     "output_type": "error",
     "traceback": [
      "\u001b[0;31m---------------------------------------------------------------------------\u001b[0m",
      "\u001b[0;31mFileNotFoundError\u001b[0m                         Traceback (most recent call last)",
      "\u001b[0;32m<ipython-input-2-7f801baae4ea>\u001b[0m in \u001b[0;36m<module>\u001b[0;34m\u001b[0m\n\u001b[0;32m----> 1\u001b[0;31m \u001b[0;32mwith\u001b[0m \u001b[0mopen\u001b[0m\u001b[0;34m(\u001b[0m\u001b[0;34m'./intermediate-pickles-scoring2/finalFrame1.pkl'\u001b[0m\u001b[0;34m,\u001b[0m \u001b[0;34m'rb'\u001b[0m\u001b[0;34m)\u001b[0m \u001b[0;32mas\u001b[0m \u001b[0minp\u001b[0m\u001b[0;34m:\u001b[0m\u001b[0;34m\u001b[0m\u001b[0;34m\u001b[0m\u001b[0m\n\u001b[0m\u001b[1;32m      2\u001b[0m     \u001b[0mdata1\u001b[0m \u001b[0;34m=\u001b[0m \u001b[0mpkl\u001b[0m\u001b[0;34m.\u001b[0m\u001b[0mload\u001b[0m\u001b[0;34m(\u001b[0m\u001b[0minp\u001b[0m\u001b[0;34m)\u001b[0m\u001b[0;34m\u001b[0m\u001b[0;34m\u001b[0m\u001b[0m\n",
      "\u001b[0;31mFileNotFoundError\u001b[0m: [Errno 2] No such file or directory: './intermediate-pickles-scoring2/finalFrame1.pkl'"
     ]
    }
   ],
   "source": [
    "with open('./intermediate-pickles-scoring2/finalFrame1.pkl', 'rb') as inp:\n",
    "    data1 = pkl.load(inp)"
   ]
  },
  {
   "cell_type": "code",
   "execution_count": null,
   "id": "d6ec1da0",
   "metadata": {},
   "outputs": [],
   "source": [
    "data"
   ]
  },
  {
   "cell_type": "code",
   "execution_count": 23,
   "id": "4ef7c401-faa4-4731-aac7-15ac997a4497",
   "metadata": {},
   "outputs": [
    {
     "name": "stdout",
     "output_type": "stream",
     "text": [
      "Data1 has records  457614\n",
      "Data2 has records  603376\n"
     ]
    },
    {
     "data": {
      "text/html": [
       "<div>\n",
       "<style scoped>\n",
       "    .dataframe tbody tr th:only-of-type {\n",
       "        vertical-align: middle;\n",
       "    }\n",
       "\n",
       "    .dataframe tbody tr th {\n",
       "        vertical-align: top;\n",
       "    }\n",
       "\n",
       "    .dataframe thead th {\n",
       "        text-align: right;\n",
       "    }\n",
       "</style>\n",
       "<table border=\"1\" class=\"dataframe\">\n",
       "  <thead>\n",
       "    <tr style=\"text-align: right;\">\n",
       "      <th></th>\n",
       "      <th>drugConc</th>\n",
       "      <th>ID</th>\n",
       "      <th>Drug1</th>\n",
       "      <th>Drug2</th>\n",
       "      <th>Cell line</th>\n",
       "      <th>ZIP</th>\n",
       "      <th>Bliss</th>\n",
       "      <th>Loewe</th>\n",
       "      <th>HSA</th>\n",
       "      <th>index</th>\n",
       "      <th>...</th>\n",
       "      <th>D2 EState_VSA2</th>\n",
       "      <th>D2 EState_VSA3</th>\n",
       "      <th>D2 VSA_EState1</th>\n",
       "      <th>D2 VSA_EState2</th>\n",
       "      <th>D2 VSA_EState3</th>\n",
       "      <th>age</th>\n",
       "      <th>cat_Cancer cell line</th>\n",
       "      <th>cat_Embryonic stem cell</th>\n",
       "      <th>cat_Hybridoma</th>\n",
       "      <th>cat_Transformed cell line</th>\n",
       "    </tr>\n",
       "  </thead>\n",
       "  <tbody>\n",
       "    <tr>\n",
       "      <th>0</th>\n",
       "      <td>5-fuabt-888</td>\n",
       "      <td>1</td>\n",
       "      <td>5-fu</td>\n",
       "      <td>abt-888</td>\n",
       "      <td>A2058</td>\n",
       "      <td>2.5850</td>\n",
       "      <td>8.8500</td>\n",
       "      <td>-0.1575</td>\n",
       "      <td>8.1300</td>\n",
       "      <td>62797</td>\n",
       "      <td>...</td>\n",
       "      <td>5.538925</td>\n",
       "      <td>11.080152</td>\n",
       "      <td>0.000000</td>\n",
       "      <td>19.238682</td>\n",
       "      <td>3.448989</td>\n",
       "      <td>43.0</td>\n",
       "      <td>1.0</td>\n",
       "      <td>0.0</td>\n",
       "      <td>0.0</td>\n",
       "      <td>0.0</td>\n",
       "    </tr>\n",
       "    <tr>\n",
       "      <th>1</th>\n",
       "      <td>5-fuazd1775</td>\n",
       "      <td>5</td>\n",
       "      <td>5-fu</td>\n",
       "      <td>azd1775</td>\n",
       "      <td>A2058</td>\n",
       "      <td>9.8175</td>\n",
       "      <td>11.2075</td>\n",
       "      <td>5.8375</td>\n",
       "      <td>14.0975</td>\n",
       "      <td>36325</td>\n",
       "      <td>...</td>\n",
       "      <td>12.104023</td>\n",
       "      <td>28.493531</td>\n",
       "      <td>3.162078</td>\n",
       "      <td>31.601287</td>\n",
       "      <td>14.099736</td>\n",
       "      <td>43.0</td>\n",
       "      <td>1.0</td>\n",
       "      <td>0.0</td>\n",
       "      <td>0.0</td>\n",
       "      <td>0.0</td>\n",
       "    </tr>\n",
       "  </tbody>\n",
       "</table>\n",
       "<p>2 rows × 154 columns</p>\n",
       "</div>"
      ],
      "text/plain": [
       "      drugConc  ID Drug1    Drug2 Cell line     ZIP    Bliss   Loewe      HSA  \\\n",
       "0  5-fuabt-888   1  5-fu  abt-888     A2058  2.5850   8.8500 -0.1575   8.1300   \n",
       "1  5-fuazd1775   5  5-fu  azd1775     A2058  9.8175  11.2075  5.8375  14.0975   \n",
       "\n",
       "   index  ... D2 EState_VSA2  D2 EState_VSA3  D2 VSA_EState1  D2 VSA_EState2  \\\n",
       "0  62797  ...       5.538925       11.080152        0.000000       19.238682   \n",
       "1  36325  ...      12.104023       28.493531        3.162078       31.601287   \n",
       "\n",
       "   D2 VSA_EState3   age  cat_Cancer cell line  cat_Embryonic stem cell  \\\n",
       "0        3.448989  43.0                   1.0                      0.0   \n",
       "1       14.099736  43.0                   1.0                      0.0   \n",
       "\n",
       "   cat_Hybridoma  cat_Transformed cell line  \n",
       "0            0.0                        0.0  \n",
       "1            0.0                        0.0  \n",
       "\n",
       "[2 rows x 154 columns]"
      ]
     },
     "execution_count": 23,
     "metadata": {},
     "output_type": "execute_result"
    }
   ],
   "source": [
    "data1 = data1.dropna()\n",
    "data1.reset_index(inplace=True,drop=True)\n",
    "print(\"Data1 has records \",len(data1))\n",
    "print(\"Data2 has records \",len(data2))\n",
    "data1.head(2)"
   ]
  },
  {
   "cell_type": "code",
   "execution_count": 27,
   "id": "4cf2d511-91b1-4a8e-85ef-6dde82918941",
   "metadata": {},
   "outputs": [
    {
     "data": {
      "text/plain": [
       "38"
      ]
     },
     "execution_count": 27,
     "metadata": {},
     "output_type": "execute_result"
    }
   ],
   "source": []
  },
  {
   "cell_type": "markdown",
   "id": "f37656d6-024c-45ef-b84b-442d1ecd1f7a",
   "metadata": {},
   "source": [
    "#### 4. Making Predictions"
   ]
  },
  {
   "cell_type": "code",
   "execution_count": 50,
   "id": "e5b70d8c-695c-4bdc-80bd-729d5458d7a0",
   "metadata": {},
   "outputs": [],
   "source": [
    "Y1 = data1.iloc[:,9]\n",
    "X1 = data1.iloc[:,11:]\n",
    "X1.drop([\"D1 Ipc\",\"D2 Ipc\"],axis=1,inplace=True)\n",
    "\n",
    "Y2 = data2.iloc[:,9]\n",
    "X2 = data2.iloc[:,10:]\n",
    "X2.drop([\"D1 Ipc\",\"D2 Ipc\"],axis=1,inplace=True)\n",
    "\n",
    "from sklearn.model_selection import train_test_split\n",
    "X_train1,x_test1,Y_train1,y_test1 = train_test_split(X1,Y1,test_size=0.3,stratify=Y1) #consider stratifying on combination\n",
    "X_train2,x_test2,Y_train2,y_test2 = train_test_split(X2,Y2,test_size=0.3,stratify=Y2)"
   ]
  },
  {
   "cell_type": "code",
   "execution_count": 54,
   "id": "9116131c-dfe1-42e1-985a-81077dae0c11",
   "metadata": {},
   "outputs": [],
   "source": [
    "with open('./intermediate-pickles-scoring2/trainTestSplit/X_train1.pkl', 'wb') as outp:\n",
    "    pkl.dump(X_train1, outp)\n",
    "with open('./intermediate-pickles-scoring2/trainTestSplit/X_train2.pkl', 'wb') as outp:\n",
    "    pkl.dump(X_train2, outp)\n",
    "with open('./intermediate-pickles-scoring2/trainTestSplit/x_test1.pkl', 'wb') as outp:\n",
    "    pkl.dump(x_test1, outp)\n",
    "with open('./intermediate-pickles-scoring2/trainTestSplit/x_test2.pkl', 'wb') as outp:\n",
    "    pkl.dump(x_test2, outp)\n",
    "\n",
    "with open('./intermediate-pickles-scoring2/trainTestSplit/Y_train1.pkl', 'wb') as outp:\n",
    "    pkl.dump(Y_train1, outp)\n",
    "with open('./intermediate-pickles-scoring2/trainTestSplit/Y_train2.pkl', 'wb') as outp:\n",
    "    pkl.dump(Y_train2, outp)\n",
    "with open('./intermediate-pickles-scoring2/trainTestSplit/y_test1.pkl', 'wb') as outp:\n",
    "    pkl.dump(y_test1, outp)\n",
    "with open('./intermediate-pickles-scoring2/trainTestSplit/y_test2.pkl', 'wb') as outp:\n",
    "    pkl.dump(y_test2, outp)"
   ]
  },
  {
   "cell_type": "code",
   "execution_count": null,
   "id": "992f5b36-0161-45e6-9146-3f462954c49a",
   "metadata": {},
   "outputs": [],
   "source": [
    "import matplotlib.pyplot as plt\n",
    "from sklearn.ensemble import RandomForestRegressor \n",
    "\n",
    "regressor1 = RandomForestRegressor(max_depth=4, random_state=0, n_estimators=100, verbose=True)\n",
    "regressor1.fit(X_train1,Y_train1)\n",
    "\n",
    "predTrain1=regressor1.predict(X_train1)\n",
    "predTest1=regressor1.predict(x_test1)"
   ]
  },
  {
   "cell_type": "code",
   "execution_count": 58,
   "id": "bfff71b2-2ce2-4ca4-a673-2beb83ddfa31",
   "metadata": {},
   "outputs": [
    {
     "name": "stderr",
     "output_type": "stream",
     "text": [
      "[Parallel(n_jobs=1)]: Using backend SequentialBackend with 1 concurrent workers.\n",
      "[Parallel(n_jobs=1)]: Done 100 out of 100 | elapsed:    0.7s finished\n"
     ]
    }
   ],
   "source": []
  },
  {
   "cell_type": "code",
   "execution_count": 60,
   "id": "832297ed-b5f5-46d0-98b1-76a7208c73a5",
   "metadata": {},
   "outputs": [
    {
     "name": "stderr",
     "output_type": "stream",
     "text": [
      "[Parallel(n_jobs=1)]: Using backend SequentialBackend with 1 concurrent workers.\n",
      "[Parallel(n_jobs=1)]: Done 100 out of 100 | elapsed: 14.1min finished\n",
      "[Parallel(n_jobs=1)]: Using backend SequentialBackend with 1 concurrent workers.\n",
      "[Parallel(n_jobs=1)]: Done 100 out of 100 | elapsed:    1.9s finished\n",
      "[Parallel(n_jobs=1)]: Using backend SequentialBackend with 1 concurrent workers.\n",
      "[Parallel(n_jobs=1)]: Done 100 out of 100 | elapsed:    0.8s finished\n"
     ]
    }
   ],
   "source": [
    "regressor2 = RandomForestRegressor(max_depth=4, random_state=0, n_estimators=100, verbose=True)\n",
    "regressor2.fit(X_train2,Y_train2)\n",
    "\n",
    "predTrain2=regressor2.predict(X_train2)\n",
    "predTest2=regressor2.predict(x_test2)"
   ]
  },
  {
   "cell_type": "code",
   "execution_count": 61,
   "id": "7f4dd88f-5f32-435e-9d8a-087589b964dd",
   "metadata": {},
   "outputs": [],
   "source": [
    "from sklearn.dummy import DummyRegressor\n",
    "dummyRegressor1 = DummyRegressor()\n",
    "dummyRegressor1.fit(X_train1,Y_train1)\n",
    "\n",
    "predTrainDumm1=dummyRegressor1.predict(X_train1)\n",
    "predTestDumm1=dummyRegressor1.predict(x_test1)\n",
    "\n",
    "dummyRegressor2 = DummyRegressor()\n",
    "dummyRegressor2.fit(X_train2,Y_train2)\n",
    "\n",
    "predTrainDumm2=dummyRegressor2.predict(X_train2)\n",
    "predTestDumm2=dummyRegressor2.predict(x_test2)"
   ]
  },
  {
   "cell_type": "code",
   "execution_count": null,
   "id": "5f85d37b-f225-4c8f-abc4-f54eea58eabd",
   "metadata": {},
   "outputs": [],
   "source": []
  },
  {
   "cell_type": "markdown",
   "id": "368141d6-9c88-4e5d-aeb4-5273a3c0522b",
   "metadata": {},
   "source": [
    "#### 5. Bonus: Adding Source as feature"
   ]
  },
  {
   "cell_type": "code",
   "execution_count": 89,
   "id": "c6ba43fd-79fa-48af-b56d-d6ac63a9bbcc",
   "metadata": {},
   "outputs": [
    {
     "data": {
      "text/html": [
       "<div>\n",
       "<style scoped>\n",
       "    .dataframe tbody tr th:only-of-type {\n",
       "        vertical-align: middle;\n",
       "    }\n",
       "\n",
       "    .dataframe tbody tr th {\n",
       "        vertical-align: top;\n",
       "    }\n",
       "\n",
       "    .dataframe thead th {\n",
       "        text-align: right;\n",
       "    }\n",
       "</style>\n",
       "<table border=\"1\" class=\"dataframe\">\n",
       "  <thead>\n",
       "    <tr style=\"text-align: right;\">\n",
       "      <th></th>\n",
       "      <th>D1 Eccentricity</th>\n",
       "      <th>D1 InertialShapeFactor</th>\n",
       "      <th>D1 NPR1</th>\n",
       "      <th>D1 NPR2</th>\n",
       "      <th>D1 PMI1</th>\n",
       "      <th>D1 PMI2</th>\n",
       "      <th>D1 PMI3</th>\n",
       "      <th>D1 RadiusOfGyration</th>\n",
       "      <th>D1 SpherocityIndex</th>\n",
       "      <th>D1 FractionCSP3</th>\n",
       "      <th>...</th>\n",
       "      <th>D2 VSA_EState1</th>\n",
       "      <th>D2 VSA_EState2</th>\n",
       "      <th>D2 VSA_EState3</th>\n",
       "      <th>age</th>\n",
       "      <th>cat_Cancer cell line</th>\n",
       "      <th>cat_Embryonic stem cell</th>\n",
       "      <th>cat_Hybridoma</th>\n",
       "      <th>cat_Transformed cell line</th>\n",
       "      <th>Source_ALMANAC</th>\n",
       "      <th>Souce_ONEIL</th>\n",
       "    </tr>\n",
       "  </thead>\n",
       "  <tbody>\n",
       "    <tr>\n",
       "      <th>0</th>\n",
       "      <td>0.956402</td>\n",
       "      <td>0.004792</td>\n",
       "      <td>0.292055</td>\n",
       "      <td>0.707945</td>\n",
       "      <td>147.739172</td>\n",
       "      <td>358.121584</td>\n",
       "      <td>505.860756</td>\n",
       "      <td>1.97203</td>\n",
       "      <td>1.259740e-12</td>\n",
       "      <td>0.0</td>\n",
       "      <td>...</td>\n",
       "      <td>0.000000</td>\n",
       "      <td>19.238682</td>\n",
       "      <td>3.448989</td>\n",
       "      <td>43.0</td>\n",
       "      <td>1.0</td>\n",
       "      <td>0.0</td>\n",
       "      <td>0.0</td>\n",
       "      <td>0.0</td>\n",
       "      <td>0</td>\n",
       "      <td>1</td>\n",
       "    </tr>\n",
       "    <tr>\n",
       "      <th>1</th>\n",
       "      <td>0.956402</td>\n",
       "      <td>0.004792</td>\n",
       "      <td>0.292055</td>\n",
       "      <td>0.707945</td>\n",
       "      <td>147.739172</td>\n",
       "      <td>358.121584</td>\n",
       "      <td>505.860756</td>\n",
       "      <td>1.97203</td>\n",
       "      <td>1.259740e-12</td>\n",
       "      <td>0.0</td>\n",
       "      <td>...</td>\n",
       "      <td>3.162078</td>\n",
       "      <td>31.601287</td>\n",
       "      <td>14.099736</td>\n",
       "      <td>43.0</td>\n",
       "      <td>1.0</td>\n",
       "      <td>0.0</td>\n",
       "      <td>0.0</td>\n",
       "      <td>0.0</td>\n",
       "      <td>0</td>\n",
       "      <td>1</td>\n",
       "    </tr>\n",
       "  </tbody>\n",
       "</table>\n",
       "<p>2 rows × 143 columns</p>\n",
       "</div>"
      ],
      "text/plain": [
       "   D1 Eccentricity  D1 InertialShapeFactor   D1 NPR1   D1 NPR2     D1 PMI1  \\\n",
       "0         0.956402                0.004792  0.292055  0.707945  147.739172   \n",
       "1         0.956402                0.004792  0.292055  0.707945  147.739172   \n",
       "\n",
       "      D1 PMI2     D1 PMI3  D1 RadiusOfGyration  D1 SpherocityIndex  \\\n",
       "0  358.121584  505.860756              1.97203        1.259740e-12   \n",
       "1  358.121584  505.860756              1.97203        1.259740e-12   \n",
       "\n",
       "   D1 FractionCSP3  ...  D2 VSA_EState1  D2 VSA_EState2  D2 VSA_EState3   age  \\\n",
       "0              0.0  ...        0.000000       19.238682        3.448989  43.0   \n",
       "1              0.0  ...        3.162078       31.601287       14.099736  43.0   \n",
       "\n",
       "   cat_Cancer cell line  cat_Embryonic stem cell  cat_Hybridoma  \\\n",
       "0                   1.0                      0.0            0.0   \n",
       "1                   1.0                      0.0            0.0   \n",
       "\n",
       "   cat_Transformed cell line  Source_ALMANAC  Souce_ONEIL  \n",
       "0                        0.0               0            1  \n",
       "1                        0.0               0            1  \n",
       "\n",
       "[2 rows x 143 columns]"
      ]
     },
     "execution_count": 89,
     "metadata": {},
     "output_type": "execute_result"
    }
   ],
   "source": [
    "YB = data1.iloc[:,9]\n",
    "XB = data1.iloc[:,10:]\n",
    "\n",
    "sourceDummies = pd.get_dummies(XB.source,prefix=\"Source\")\n",
    "XB[[\"Source_ALMANAC\",\"Souce_ONEIL\"]]=sourceDummies\n",
    "\n",
    "XB.drop([\"source\",\"D1 Ipc\",\"D2 Ipc\"],axis=1,inplace=True)\n",
    "\n",
    "XB.head(2)"
   ]
  },
  {
   "cell_type": "code",
   "execution_count": 92,
   "id": "c66c6517-56dc-48e4-99a8-bd4f27bc006b",
   "metadata": {},
   "outputs": [
    {
     "data": {
      "text/plain": [
       "(457614, 143)"
      ]
     },
     "execution_count": 92,
     "metadata": {},
     "output_type": "execute_result"
    }
   ],
   "source": [
    "XB.shape"
   ]
  },
  {
   "cell_type": "code",
   "execution_count": 97,
   "id": "418d47c0-a119-4a3b-819c-940aa4125f2b",
   "metadata": {},
   "outputs": [
    {
     "name": "stdout",
     "output_type": "stream",
     "text": [
      "Starting Regressor:  2022-05-26 16:37:19.424703\n"
     ]
    },
    {
     "name": "stderr",
     "output_type": "stream",
     "text": [
      "[Parallel(n_jobs=1)]: Using backend SequentialBackend with 1 concurrent workers.\n",
      "[Parallel(n_jobs=1)]: Done 600 out of 600 | elapsed: 58.2min finished\n"
     ]
    },
    {
     "name": "stdout",
     "output_type": "stream",
     "text": [
      "Finished Training Regressor:  2022-05-26 17:35:32.505675\n"
     ]
    },
    {
     "name": "stderr",
     "output_type": "stream",
     "text": [
      "[Parallel(n_jobs=1)]: Using backend SequentialBackend with 1 concurrent workers.\n",
      "[Parallel(n_jobs=1)]: Done 600 out of 600 | elapsed:    7.4s finished\n",
      "[Parallel(n_jobs=1)]: Using backend SequentialBackend with 1 concurrent workers.\n",
      "[Parallel(n_jobs=1)]: Done 600 out of 600 | elapsed:    3.3s finished\n"
     ]
    }
   ],
   "source": [
    "X_trainB,x_testB,Y_trainB,y_testB = train_test_split(XB,YB,test_size=0.3,stratify=YB) #consider stratifying on combination\n",
    "print(\"Starting Regressor: \", datetime.datetime.now())\n",
    "\n",
    "regressorB = RandomForestRegressor(max_depth=4, random_state=0, n_estimators=600, verbose=True)\n",
    "regressorB.fit(X_trainB,Y_trainB)\n",
    "\n",
    "print(\"Finished Training Regressor: \", datetime.datetime.now())\n",
    "\n",
    "predTrainB=regressorB.predict(X_trainB)\n",
    "predTestB=regressorB.predict(x_testB)"
   ]
  },
  {
   "cell_type": "code",
   "execution_count": 98,
   "id": "3611b644-516b-4229-bb6e-9bb1e73a48e5",
   "metadata": {},
   "outputs": [],
   "source": [
    "dummyRegressorB = DummyRegressor()\n",
    "dummyRegressorB.fit(X_trainB,Y_trainB)\n",
    "\n",
    "predTrainDummB=dummyRegressorB.predict(X_trainB)\n",
    "predTestDummB=dummyRegressorB.predict(x_testB)"
   ]
  },
  {
   "cell_type": "code",
   "execution_count": 94,
   "id": "6bb5fd1f-d670-429e-beb9-6c56fde911d4",
   "metadata": {},
   "outputs": [
    {
     "data": {
      "text/plain": [
       "2"
      ]
     },
     "execution_count": 94,
     "metadata": {},
     "output_type": "execute_result"
    }
   ],
   "source": [
    "#do MSE and "
   ]
  },
  {
   "cell_type": "markdown",
   "id": "ac20b4ed-ccc7-479e-9173-1ac87d38fcf0",
   "metadata": {},
   "source": [
    "#### 6. Scoring (Mean Absolute/Squared Error)"
   ]
  },
  {
   "cell_type": "code",
   "execution_count": 69,
   "id": "c331136b-12c8-43b8-ae23-7fb51ba5b053",
   "metadata": {},
   "outputs": [
    {
     "name": "stdout",
     "output_type": "stream",
     "text": [
      "## The performances are:\n",
      "\n",
      "Small Dataset:\n",
      "On Training Data:  3.8512295736362114\n",
      "On Testing  Data:  3.856709127409338\n",
      "Dummy Training  :  4.019826881637109\n",
      "Dummy Testing   :  4.020777303474963\n",
      "\n",
      "Big Dataset:\n",
      "On Training Data:  4.023602782805237\n",
      "On Testing  Data:  4.038416459991488\n",
      "Dummy Training  :  4.17312462139542\n",
      "Dummy Testing   :  4.188929710733737\n"
     ]
    }
   ],
   "source": [
    "print(\"## The performances in MAE are:\")\n",
    "print(\"\\nSmall Dataset:\")\n",
    "print(\"On Training Data: \",np.mean(np.abs(predTrain1-Y_train1)))\n",
    "print(\"On Testing  Data: \",np.mean(np.abs(predTest1-y_test1)))\n",
    "print(\"Dummy Training  : \",np.mean(np.abs(predTrainDumm1-Y_train1)))\n",
    "print(\"Dummy Testing   : \",np.mean(np.abs(predTestDumm1-y_test1)))\n",
    "print(\"\\nBig Dataset:\")\n",
    "print(\"On Training Data: \",np.mean(np.abs(predTrain2-Y_train2)))\n",
    "print(\"On Testing  Data: \",np.mean(np.abs(predTest2-y_test2)))\n",
    "print(\"Dummy Training  : \",np.mean(np.abs(predTrainDumm2-Y_train2)))\n",
    "print(\"Dummy Testing   : \",np.mean(np.abs(predTestDumm2-y_test2)))"
   ]
  },
  {
   "cell_type": "code",
   "execution_count": 99,
   "id": "0478664a-0ee0-4184-91ee-050d146868fc",
   "metadata": {},
   "outputs": [
    {
     "name": "stdout",
     "output_type": "stream",
     "text": [
      "## The performances in MSE are:\n",
      "\n",
      "Small Dataset:\n",
      "On Training Data:  32.484186707350744\n",
      "On Testing  Data:  32.84695566451583\n",
      "Dummy Training  :  36.058513836791256\n",
      "Dummy Testing   :  36.36555926960286\n",
      "\n",
      "Big Dataset:\n",
      "On Training Data:  34.73133734048182\n",
      "On Testing  Data:  35.346908681521796\n",
      "Dummy Training  :  38.12436906145257\n",
      "Dummy Testing   :  38.80865347982537\n"
     ]
    }
   ],
   "source": [
    "print(\"## The performances in MSE are:\")\n",
    "print(\"\\nSmall Dataset:\")\n",
    "print(\"On Training Data: \",np.mean(np.square(predTrain1-Y_train1)))\n",
    "print(\"On Testing  Data: \",np.mean(np.square(predTest1-y_test1)))\n",
    "print(\"Dummy Training  : \",np.mean(np.square(predTrainDumm1-Y_train1)))\n",
    "print(\"Dummy Testing   : \",np.mean(np.square(predTestDumm1-y_test1)))\n",
    "print(\"\\nBig Dataset:\")\n",
    "print(\"On Training Data: \",np.mean(np.square(predTrain2-Y_train2)))\n",
    "print(\"On Testing  Data: \",np.mean(np.square(predTest2-y_test2)))\n",
    "print(\"Dummy Training  : \",np.mean(np.square(predTrainDumm2-Y_train2)))\n",
    "print(\"Dummy Testing   : \",np.mean(np.square(predTestDumm2-y_test2)))"
   ]
  },
  {
   "cell_type": "code",
   "execution_count": 100,
   "id": "17826064-db0c-4565-bdd4-04b409892935",
   "metadata": {},
   "outputs": [
    {
     "name": "stdout",
     "output_type": "stream",
     "text": [
      "## The performances for Big Tree are:\n",
      "\n",
      "MAE:\n",
      "On Training Data:  3.7530182866518524\n",
      "On Testing  Data:  3.7596516827028528\n",
      "Dummy Training  :  4.019687558305475\n",
      "Dummy Testing   :  4.02103141996947\n",
      "\n",
      "MSE:\n",
      "On Training Data:  31.331425615413046\n",
      "On Testing  Data:  31.39159030244759\n",
      "Dummy Training  :  36.13806376984807\n",
      "Dummy Testing   :  36.179945957676864\n"
     ]
    }
   ],
   "source": [
    "#for 600 trees forest and additional source feature on small Dataset\n",
    "print(\"## The performances for Big Tree are:\")\n",
    "print(\"\\nMAE:\")\n",
    "print(\"On Training Data: \",np.mean(np.abs(predTrainB-Y_trainB)))\n",
    "print(\"On Testing  Data: \",np.mean(np.abs(predTestB-y_testB)))\n",
    "print(\"Dummy Training  : \",np.mean(np.abs(predTrainDummB-Y_trainB)))\n",
    "print(\"Dummy Testing   : \",np.mean(np.abs(predTestDummB-y_testB)))\n",
    "print(\"\\nMSE:\")\n",
    "print(\"On Training Data: \",np.mean(np.square(predTrainB-Y_trainB)))\n",
    "print(\"On Testing  Data: \",np.mean(np.square(predTestB-y_testB)))\n",
    "print(\"Dummy Training  : \",np.mean(np.square(predTrainDummB-Y_trainB)))\n",
    "print(\"Dummy Testing   : \",np.mean(np.square(predTestDummB-y_testB)))"
   ]
  },
  {
   "cell_type": "markdown",
   "id": "2b3ef99f-abc6-4bc6-a56c-233984c5ee4e",
   "metadata": {},
   "source": [
    "<b>This shows improvement of th bigger classifier over the previous ones in both MSE and MAE</b><br>\n",
    "To ensure this is due to size on not additional feature, I look at the feature importances. Given the magnitude of increase, one of the source feats must be very high"
   ]
  },
  {
   "cell_type": "code",
   "execution_count": 110,
   "id": "3b0f67da-ed27-4f15-b3ef-49721d007810",
   "metadata": {},
   "outputs": [
    {
     "data": {
      "text/html": [
       "<div>\n",
       "<style scoped>\n",
       "    .dataframe tbody tr th:only-of-type {\n",
       "        vertical-align: middle;\n",
       "    }\n",
       "\n",
       "    .dataframe tbody tr th {\n",
       "        vertical-align: top;\n",
       "    }\n",
       "\n",
       "    .dataframe thead th {\n",
       "        text-align: right;\n",
       "    }\n",
       "</style>\n",
       "<table border=\"1\" class=\"dataframe\">\n",
       "  <thead>\n",
       "    <tr style=\"text-align: right;\">\n",
       "      <th></th>\n",
       "      <th>Feat B</th>\n",
       "      <th>Relevance B</th>\n",
       "      <th>Feat 1</th>\n",
       "      <th>Relevance 1</th>\n",
       "      <th>Feat 2</th>\n",
       "      <th>Relevance 2</th>\n",
       "    </tr>\n",
       "  </thead>\n",
       "  <tbody>\n",
       "    <tr>\n",
       "      <th>0</th>\n",
       "      <td>Souce_ONEIL</td>\n",
       "      <td>0.302047</td>\n",
       "      <td>D1 Chi4n</td>\n",
       "      <td>0.245642</td>\n",
       "      <td>D1 MolMR</td>\n",
       "      <td>0.320916</td>\n",
       "    </tr>\n",
       "    <tr>\n",
       "      <th>1</th>\n",
       "      <td>Source_ALMANAC</td>\n",
       "      <td>0.17608</td>\n",
       "      <td>D2 MolMR</td>\n",
       "      <td>0.195147</td>\n",
       "      <td>D2 MolMR</td>\n",
       "      <td>0.215875</td>\n",
       "    </tr>\n",
       "    <tr>\n",
       "      <th>2</th>\n",
       "      <td>D1 Chi1v</td>\n",
       "      <td>0.163801</td>\n",
       "      <td>D2 Chi1v</td>\n",
       "      <td>0.062346</td>\n",
       "      <td>D1 BertzCT</td>\n",
       "      <td>0.072413</td>\n",
       "    </tr>\n",
       "    <tr>\n",
       "      <th>3</th>\n",
       "      <td>D2 Chi1v</td>\n",
       "      <td>0.129007</td>\n",
       "      <td>D1 BertzCT</td>\n",
       "      <td>0.057076</td>\n",
       "      <td>D2 BertzCT</td>\n",
       "      <td>0.067018</td>\n",
       "    </tr>\n",
       "    <tr>\n",
       "      <th>4</th>\n",
       "      <td>D2 MolLogP</td>\n",
       "      <td>0.05473</td>\n",
       "      <td>D1 BalabanJ</td>\n",
       "      <td>0.048644</td>\n",
       "      <td>D1 PEOE_VSA1</td>\n",
       "      <td>0.044067</td>\n",
       "    </tr>\n",
       "    <tr>\n",
       "      <th>5</th>\n",
       "      <td>D1 MolLogP</td>\n",
       "      <td>0.037876</td>\n",
       "      <td>D2 Chi4n</td>\n",
       "      <td>0.046838</td>\n",
       "      <td>D2 HeavyAtomMolWt</td>\n",
       "      <td>0.040029</td>\n",
       "    </tr>\n",
       "    <tr>\n",
       "      <th>6</th>\n",
       "      <td>D1 PEOE_VSA1</td>\n",
       "      <td>0.032958</td>\n",
       "      <td>D2 BertzCT</td>\n",
       "      <td>0.030797</td>\n",
       "      <td>D2 BalabanJ</td>\n",
       "      <td>0.033935</td>\n",
       "    </tr>\n",
       "    <tr>\n",
       "      <th>7</th>\n",
       "      <td>D2 SpherocityIndex</td>\n",
       "      <td>0.017764</td>\n",
       "      <td>D2 BalabanJ</td>\n",
       "      <td>0.026773</td>\n",
       "      <td>D2 SMR_VSA1</td>\n",
       "      <td>0.016949</td>\n",
       "    </tr>\n",
       "    <tr>\n",
       "      <th>8</th>\n",
       "      <td>D2 BalabanJ</td>\n",
       "      <td>0.014459</td>\n",
       "      <td>D1 MolMR</td>\n",
       "      <td>0.023566</td>\n",
       "      <td>D2 NPR1</td>\n",
       "      <td>0.016426</td>\n",
       "    </tr>\n",
       "    <tr>\n",
       "      <th>9</th>\n",
       "      <td>D1 PMI1</td>\n",
       "      <td>0.011746</td>\n",
       "      <td>D2 RingCount</td>\n",
       "      <td>0.017627</td>\n",
       "      <td>D2 VSA_EState2</td>\n",
       "      <td>0.013587</td>\n",
       "    </tr>\n",
       "    <tr>\n",
       "      <th>10</th>\n",
       "      <td>D2 EState_VSA1</td>\n",
       "      <td>0.007521</td>\n",
       "      <td>D1 Chi1v</td>\n",
       "      <td>0.017497</td>\n",
       "      <td>D1 HeavyAtomMolWt</td>\n",
       "      <td>0.013107</td>\n",
       "    </tr>\n",
       "    <tr>\n",
       "      <th>11</th>\n",
       "      <td>D1 SpherocityIndex</td>\n",
       "      <td>0.006606</td>\n",
       "      <td>D1 VSA_EState3</td>\n",
       "      <td>0.017062</td>\n",
       "      <td>D1 MolLogP</td>\n",
       "      <td>0.011854</td>\n",
       "    </tr>\n",
       "    <tr>\n",
       "      <th>12</th>\n",
       "      <td>D2 VSA_EState1</td>\n",
       "      <td>0.004788</td>\n",
       "      <td>D2 NumAromaticHeterocycles</td>\n",
       "      <td>0.015418</td>\n",
       "      <td>D2 TPSA</td>\n",
       "      <td>0.011719</td>\n",
       "    </tr>\n",
       "    <tr>\n",
       "      <th>13</th>\n",
       "      <td>D2 Eccentricity</td>\n",
       "      <td>0.004682</td>\n",
       "      <td>D2 Chi3v</td>\n",
       "      <td>0.013245</td>\n",
       "      <td>D2 SlogP_VSA1</td>\n",
       "      <td>0.011082</td>\n",
       "    </tr>\n",
       "    <tr>\n",
       "      <th>14</th>\n",
       "      <td>D1 InertialShapeFactor</td>\n",
       "      <td>0.003402</td>\n",
       "      <td>D2 EState_VSA2</td>\n",
       "      <td>0.012653</td>\n",
       "      <td>D2 Eccentricity</td>\n",
       "      <td>0.010603</td>\n",
       "    </tr>\n",
       "    <tr>\n",
       "      <th>15</th>\n",
       "      <td>D2 FractionCSP3</td>\n",
       "      <td>0.003308</td>\n",
       "      <td>D2 PEOE_VSA1</td>\n",
       "      <td>0.011545</td>\n",
       "      <td>D2 Chi2n</td>\n",
       "      <td>0.01007</td>\n",
       "    </tr>\n",
       "    <tr>\n",
       "      <th>16</th>\n",
       "      <td>D2 FractionCSP3</td>\n",
       "      <td>0.003038</td>\n",
       "      <td>D2 SlogP_VSA2</td>\n",
       "      <td>0.010525</td>\n",
       "      <td>D2 NPR2</td>\n",
       "      <td>0.007391</td>\n",
       "    </tr>\n",
       "    <tr>\n",
       "      <th>17</th>\n",
       "      <td>D2 NPR1</td>\n",
       "      <td>0.002907</td>\n",
       "      <td>D2 SMR_VSA1</td>\n",
       "      <td>0.009401</td>\n",
       "      <td>D2 Chi1v</td>\n",
       "      <td>0.007221</td>\n",
       "    </tr>\n",
       "    <tr>\n",
       "      <th>18</th>\n",
       "      <td>D2 PEOE_VSA1</td>\n",
       "      <td>0.002905</td>\n",
       "      <td>D2 MolLogP</td>\n",
       "      <td>0.007613</td>\n",
       "      <td>D1 NumSaturatedHeterocycles</td>\n",
       "      <td>0.007178</td>\n",
       "    </tr>\n",
       "    <tr>\n",
       "      <th>19</th>\n",
       "      <td>D2 InertialShapeFactor</td>\n",
       "      <td>0.002709</td>\n",
       "      <td>D2 InertialShapeFactor</td>\n",
       "      <td>0.007257</td>\n",
       "      <td>D1 BalabanJ</td>\n",
       "      <td>0.006357</td>\n",
       "    </tr>\n",
       "  </tbody>\n",
       "</table>\n",
       "</div>"
      ],
      "text/plain": [
       "                    Feat B Relevance B                      Feat 1  \\\n",
       "0              Souce_ONEIL    0.302047                    D1 Chi4n   \n",
       "1           Source_ALMANAC     0.17608                    D2 MolMR   \n",
       "2                 D1 Chi1v    0.163801                    D2 Chi1v   \n",
       "3                 D2 Chi1v    0.129007                  D1 BertzCT   \n",
       "4               D2 MolLogP     0.05473                 D1 BalabanJ   \n",
       "5               D1 MolLogP    0.037876                    D2 Chi4n   \n",
       "6             D1 PEOE_VSA1    0.032958                  D2 BertzCT   \n",
       "7       D2 SpherocityIndex    0.017764                 D2 BalabanJ   \n",
       "8              D2 BalabanJ    0.014459                    D1 MolMR   \n",
       "9                  D1 PMI1    0.011746                D2 RingCount   \n",
       "10          D2 EState_VSA1    0.007521                    D1 Chi1v   \n",
       "11      D1 SpherocityIndex    0.006606              D1 VSA_EState3   \n",
       "12          D2 VSA_EState1    0.004788  D2 NumAromaticHeterocycles   \n",
       "13         D2 Eccentricity    0.004682                    D2 Chi3v   \n",
       "14  D1 InertialShapeFactor    0.003402              D2 EState_VSA2   \n",
       "15         D2 FractionCSP3    0.003308                D2 PEOE_VSA1   \n",
       "16         D2 FractionCSP3    0.003038               D2 SlogP_VSA2   \n",
       "17                 D2 NPR1    0.002907                 D2 SMR_VSA1   \n",
       "18            D2 PEOE_VSA1    0.002905                  D2 MolLogP   \n",
       "19  D2 InertialShapeFactor    0.002709      D2 InertialShapeFactor   \n",
       "\n",
       "   Relevance 1                       Feat 2 Relevance 2  \n",
       "0     0.245642                     D1 MolMR    0.320916  \n",
       "1     0.195147                     D2 MolMR    0.215875  \n",
       "2     0.062346                   D1 BertzCT    0.072413  \n",
       "3     0.057076                   D2 BertzCT    0.067018  \n",
       "4     0.048644                 D1 PEOE_VSA1    0.044067  \n",
       "5     0.046838            D2 HeavyAtomMolWt    0.040029  \n",
       "6     0.030797                  D2 BalabanJ    0.033935  \n",
       "7     0.026773                  D2 SMR_VSA1    0.016949  \n",
       "8     0.023566                      D2 NPR1    0.016426  \n",
       "9     0.017627               D2 VSA_EState2    0.013587  \n",
       "10    0.017497            D1 HeavyAtomMolWt    0.013107  \n",
       "11    0.017062                   D1 MolLogP    0.011854  \n",
       "12    0.015418                      D2 TPSA    0.011719  \n",
       "13    0.013245                D2 SlogP_VSA1    0.011082  \n",
       "14    0.012653              D2 Eccentricity    0.010603  \n",
       "15    0.011545                     D2 Chi2n     0.01007  \n",
       "16    0.010525                      D2 NPR2    0.007391  \n",
       "17    0.009401                     D2 Chi1v    0.007221  \n",
       "18    0.007613  D1 NumSaturatedHeterocycles    0.007178  \n",
       "19    0.007257                  D1 BalabanJ    0.006357  "
      ]
     },
     "execution_count": 110,
     "metadata": {},
     "output_type": "execute_result"
    }
   ],
   "source": [
    "featsB = pd.DataFrame([np.array(x_testB.columns),regressorB.feature_importances_]).transpose()\n",
    "featImportance = featsB.sort_values(by=1,ascending=False).head(20).reset_index(drop=True)\n",
    "featImportance.rename(columns={0:\"Feat B\",1:\"Relevance B\"},inplace=True)\n",
    "\n",
    "feats1 = pd.DataFrame([np.array(x_test1.columns),regressor1.feature_importances_]).transpose()\n",
    "featImportance[[\"Feat 1\",\"Relevance 1\"]] = feats1.sort_values(by=1,ascending=False).head(20).reset_index(drop=True)\n",
    "\n",
    "feats2 = pd.DataFrame([np.array(x_test2.columns),regressor2.feature_importances_]).transpose()\n",
    "featImportance[[\"Feat 2\",\"Relevance 2\"]] = feats2.sort_values(by=1,ascending=False).head(20).reset_index(drop=True)\n",
    "featImportance\n",
    "#note: BalabanJ, BertzCT, MolMR/SMR are similar features ranking high in 1 & 2\n",
    "#in the big classifier, there are very different feats, with the source being by far the strongest\n",
    "\n",
    "#new speculative hypothesis: The features above serve somehow as proxy in order to identify the source"
   ]
  },
  {
   "cell_type": "markdown",
   "id": "ba974e02-2d60-4a43-b34d-2af4b3a68d4e",
   "metadata": {},
   "source": [
    "#### 6. Tuning Features"
   ]
  },
  {
   "cell_type": "code",
   "execution_count": 41,
   "id": "1f866480-b29e-4b10-84a5-d414717743b9",
   "metadata": {},
   "outputs": [],
   "source": [
    "from sklearn.model_selection import train_test_split\n",
    "\n",
    "X = data1.iloc[:,9:]\n",
    "Y = data1.iloc[:,8]\n",
    "\n",
    "X_train,x_test,Y_train,y_test = train_test_split(X,Y,test_size=0.3,stratify=Y)"
   ]
  },
  {
   "cell_type": "code",
   "execution_count": null,
   "id": "fd4eed4e-cde5-40fe-8ca6-b9b765544d83",
   "metadata": {},
   "outputs": [],
   "source": [
    "#TEST AND TRAIN SWITCHED UP\n",
    "from sklearn.ensemble import RandomForestRegressor \n",
    "\n",
    "scoresTrain = []\n",
    "scoresTest = []\n",
    "\n",
    "max_depthF = [140,80,40,20,10] #10 and 20 is too little, then indifferent\n",
    "min_samples_splitF = [2,8,32,128] #overfitting; 32+ is best\n",
    "no_trees = [2,16,64,128] # beyond 16 some improvement, but not drastically: 32 seems reasonable\n",
    "\n",
    "print(\"starting now\")\n",
    "for k in range(1):#placeholder\n",
    "    localTrain3= []\n",
    "    localTest3 = []\n",
    "    for j in max_depthF:\n",
    "        localTrain2= []\n",
    "        localTest2 = []\n",
    "        for i in min_samples_splitF:\n",
    "            localTrain1= []\n",
    "            localTest1 = []\n",
    "            for l in no_trees:\n",
    "                regressorN = RandomForestRegressor(max_depth=j,\n",
    "                                               min_samples_split = i, bootstrap=True, n_jobs=-1,\n",
    "                                               n_estimators=l, verbose=True)\n",
    "                regressorN.fit(X_train.iloc[:,2:],Y_train)\n",
    "        \n",
    "                localTest1.append(np.mean(np.abs(regressorN.predict(x_test.iloc[:,2:])-y_test))) #do also train\n",
    "                localTrain1.append(np.mean(np.abs(regressorN.predict(X_train.iloc[:,2:])-Y_train))) \n",
    "            localTrain2.append(localTrain1)\n",
    "            localTest2.append(localTest1)\n",
    "        localTrain3.append(localTrain2)\n",
    "        localTest3.append(localTest2)\n",
    "        \n",
    "    scoresTrain.append(localTrain3)\n",
    "    scoresTest.append(localTest3)"
   ]
  },
  {
   "cell_type": "code",
   "execution_count": 82,
   "id": "095d377b-a327-490a-a560-c853f28aef3e",
   "metadata": {},
   "outputs": [
    {
     "data": {
      "text/plain": [
       "[<matplotlib.lines.Line2D at 0x7fd930a5fb50>]"
      ]
     },
     "execution_count": 82,
     "metadata": {},
     "output_type": "execute_result"
    },
    {
     "data": {
      "image/png": "[encoded data removed]",
      "text/plain": [
       "<Figure size 432x288 with 1 Axes>"
      ]
     },
     "metadata": {
      "needs_background": "light"
     },
     "output_type": "display_data"
    }
   ],
   "source": [
    "from matplotlib import pyplot as plt\n",
    "\n",
    "# main axis: max depth, second axis samples split, inner axis number trees\n",
    "plt.plot(np.array(scoresTest[0]).flatten())"
   ]
  },
  {
   "cell_type": "code",
   "execution_count": 84,
   "id": "346f84db-58ce-489b-84b5-53de617dc3c4",
   "metadata": {},
   "outputs": [
    {
     "data": {
      "text/plain": [
       "[<matplotlib.lines.Line2D at 0x7fd9309cea30>]"
      ]
     },
     "execution_count": 84,
     "metadata": {},
     "output_type": "execute_result"
    },
    {
     "data": {
      "image/png": "[encoded data removed]",
      "text/plain": [
       "<Figure size 432x288 with 1 Axes>"
      ]
     },
     "metadata": {
      "needs_background": "light"
     },
     "output_type": "display_data"
    }
   ],
   "source": [
    "plt.plot(np.array(scoresTrain[0]).flatten())"
   ]
  },
  {
   "cell_type": "markdown",
   "id": "e25d76b4-6955-418d-ab82-35732961166e",
   "metadata": {},
   "source": [
    "We note:<br>\n",
    "1. Overfitting for small minSample split: The smaller, the better the performance on training data, the worse on testing\n",
    "2. For Max depth so long as it is at least above a certain minimum it is indifferent\n",
    "3. Increases in number of trees levels off quickly"
   ]
  },
  {
   "cell_type": "code",
   "execution_count": 87,
   "id": "9111aa90-44c3-4f17-b04d-826a8cdf39f6",
   "metadata": {},
   "outputs": [
    {
     "name": "stderr",
     "output_type": "stream",
     "text": [
      "[Parallel(n_jobs=-1)]: Using backend ThreadingBackend with 128 concurrent workers.\n",
      "[Parallel(n_jobs=-1)]: Done  32 out of  35 | elapsed:   42.4s remaining:    4.0s\n",
      "[Parallel(n_jobs=-1)]: Done  35 out of  35 | elapsed:   43.9s finished\n"
     ]
    },
    {
     "data": {
      "text/plain": [
       "RandomForestRegressor(max_depth=40, min_samples_split=40, n_estimators=35,\n",
       "                      n_jobs=-1, verbose=True)"
      ]
     },
     "execution_count": 87,
     "metadata": {},
     "output_type": "execute_result"
    }
   ],
   "source": [
    "regressorB = RandomForestRegressor(max_depth=40,min_samples_split = 40,\n",
    "                                   bootstrap=True, n_jobs=-1,n_estimators=35, verbose=True)\n",
    "regressorB.fit(X_train.iloc[:,2:],Y_train)"
   ]
  },
  {
   "cell_type": "code",
   "execution_count": 90,
   "id": "61b60dbe-3f3f-47bd-b625-216729362a71",
   "metadata": {},
   "outputs": [
    {
     "name": "stderr",
     "output_type": "stream",
     "text": [
      "[Parallel(n_jobs=35)]: Using backend ThreadingBackend with 35 concurrent workers.\n",
      "[Parallel(n_jobs=35)]: Done   2 out of  35 | elapsed:    0.1s remaining:    1.3s\n",
      "[Parallel(n_jobs=35)]: Done  35 out of  35 | elapsed:    0.2s finished\n"
     ]
    },
    {
     "data": {
      "text/html": [
       "<div>\n",
       "<style scoped>\n",
       "    .dataframe tbody tr th:only-of-type {\n",
       "        vertical-align: middle;\n",
       "    }\n",
       "\n",
       "    .dataframe tbody tr th {\n",
       "        vertical-align: top;\n",
       "    }\n",
       "\n",
       "    .dataframe thead th {\n",
       "        text-align: right;\n",
       "    }\n",
       "</style>\n",
       "<table border=\"1\" class=\"dataframe\">\n",
       "  <thead>\n",
       "    <tr style=\"text-align: right;\">\n",
       "      <th></th>\n",
       "      <th>combination_idx</th>\n",
       "      <th>y_test</th>\n",
       "      <th>pred</th>\n",
       "    </tr>\n",
       "  </thead>\n",
       "  <tbody>\n",
       "    <tr>\n",
       "      <th>260319</th>\n",
       "      <td>71329</td>\n",
       "      <td>-1.1800</td>\n",
       "      <td>-2.404595</td>\n",
       "    </tr>\n",
       "    <tr>\n",
       "      <th>14806</th>\n",
       "      <td>2308</td>\n",
       "      <td>6.7875</td>\n",
       "      <td>0.248995</td>\n",
       "    </tr>\n",
       "    <tr>\n",
       "      <th>256715</th>\n",
       "      <td>6564</td>\n",
       "      <td>-2.6800</td>\n",
       "      <td>-1.249818</td>\n",
       "    </tr>\n",
       "    <tr>\n",
       "      <th>292634</th>\n",
       "      <td>11087</td>\n",
       "      <td>-2.6200</td>\n",
       "      <td>-0.773422</td>\n",
       "    </tr>\n",
       "    <tr>\n",
       "      <th>83888</th>\n",
       "      <td>13349</td>\n",
       "      <td>-0.6800</td>\n",
       "      <td>-0.454807</td>\n",
       "    </tr>\n",
       "  </tbody>\n",
       "</table>\n",
       "</div>"
      ],
      "text/plain": [
       "        combination_idx  y_test      pred\n",
       "260319            71329 -1.1800 -2.404595\n",
       "14806              2308  6.7875  0.248995\n",
       "256715             6564 -2.6800 -1.249818\n",
       "292634            11087 -2.6200 -0.773422\n",
       "83888             13349 -0.6800 -0.454807"
      ]
     },
     "execution_count": 90,
     "metadata": {},
     "output_type": "execute_result"
    }
   ],
   "source": [
    "pred = regressorB.predict(x_test.iloc[:,2:])\n",
    "\n",
    "obs = pd.DataFrame({\"combination_idx\":x_test.iloc[:,0],\"y_test\":y_test,\"pred\":pred})\n",
    "\n",
    "obs.head()"
   ]
  },
  {
   "cell_type": "code",
   "execution_count": 93,
   "id": "ad2c2e9e-cfd5-4220-b691-338b36d4a10b",
   "metadata": {},
   "outputs": [
    {
     "name": "stdout",
     "output_type": "stream",
     "text": [
      "Challenge Winner Performance: ~0.4\n",
      "Performance on Test Data:  0.058673697203231456\n"
     ]
    }
   ],
   "source": [
    "from scoring import primaryMetric\n",
    "print(\"Challenge Winner Performance: ~0.4\")\n",
    "print(\"Performance on Test Data: \",primaryMetric(obs))"
   ]
  },
  {
   "cell_type": "code",
   "execution_count": 94,
   "id": "9d4dab2f-5b0c-49b2-952b-ca2589af0eab",
   "metadata": {},
   "outputs": [
    {
     "data": {
      "text/html": [
       "<div>\n",
       "<style scoped>\n",
       "    .dataframe tbody tr th:only-of-type {\n",
       "        vertical-align: middle;\n",
       "    }\n",
       "\n",
       "    .dataframe tbody tr th {\n",
       "        vertical-align: top;\n",
       "    }\n",
       "\n",
       "    .dataframe thead th {\n",
       "        text-align: right;\n",
       "    }\n",
       "</style>\n",
       "<table border=\"1\" class=\"dataframe\">\n",
       "  <thead>\n",
       "    <tr style=\"text-align: right;\">\n",
       "      <th></th>\n",
       "      <th>Feats</th>\n",
       "      <th>Relevance</th>\n",
       "    </tr>\n",
       "  </thead>\n",
       "  <tbody>\n",
       "    <tr>\n",
       "      <th>0</th>\n",
       "      <td>age</td>\n",
       "      <td>0.126748</td>\n",
       "    </tr>\n",
       "    <tr>\n",
       "      <th>1</th>\n",
       "      <td>D1 Ipc</td>\n",
       "      <td>0.040551</td>\n",
       "    </tr>\n",
       "    <tr>\n",
       "      <th>2</th>\n",
       "      <td>D2 Chi4n</td>\n",
       "      <td>0.036838</td>\n",
       "    </tr>\n",
       "    <tr>\n",
       "      <th>3</th>\n",
       "      <td>D2 Ipc</td>\n",
       "      <td>0.025769</td>\n",
       "    </tr>\n",
       "    <tr>\n",
       "      <th>4</th>\n",
       "      <td>D2 BalabanJ</td>\n",
       "      <td>0.02536</td>\n",
       "    </tr>\n",
       "    <tr>\n",
       "      <th>5</th>\n",
       "      <td>D1 Chi4n</td>\n",
       "      <td>0.024335</td>\n",
       "    </tr>\n",
       "    <tr>\n",
       "      <th>6</th>\n",
       "      <td>D1 BalabanJ</td>\n",
       "      <td>0.020584</td>\n",
       "    </tr>\n",
       "    <tr>\n",
       "      <th>7</th>\n",
       "      <td>D1 Kappa3</td>\n",
       "      <td>0.017116</td>\n",
       "    </tr>\n",
       "    <tr>\n",
       "      <th>8</th>\n",
       "      <td>D2 Kappa3</td>\n",
       "      <td>0.015833</td>\n",
       "    </tr>\n",
       "    <tr>\n",
       "      <th>9</th>\n",
       "      <td>D2 BertzCT</td>\n",
       "      <td>0.014187</td>\n",
       "    </tr>\n",
       "    <tr>\n",
       "      <th>10</th>\n",
       "      <td>D2 MolLogP</td>\n",
       "      <td>0.012826</td>\n",
       "    </tr>\n",
       "    <tr>\n",
       "      <th>11</th>\n",
       "      <td>D1 MolLogP</td>\n",
       "      <td>0.012789</td>\n",
       "    </tr>\n",
       "    <tr>\n",
       "      <th>12</th>\n",
       "      <td>D1 InertialShapeFactor</td>\n",
       "      <td>0.012364</td>\n",
       "    </tr>\n",
       "    <tr>\n",
       "      <th>13</th>\n",
       "      <td>D2 SpherocityIndex</td>\n",
       "      <td>0.012053</td>\n",
       "    </tr>\n",
       "    <tr>\n",
       "      <th>14</th>\n",
       "      <td>D1 VSA_EState1</td>\n",
       "      <td>0.011531</td>\n",
       "    </tr>\n",
       "    <tr>\n",
       "      <th>15</th>\n",
       "      <td>D2 EState_VSA2</td>\n",
       "      <td>0.011454</td>\n",
       "    </tr>\n",
       "    <tr>\n",
       "      <th>16</th>\n",
       "      <td>D2 PEOE_VSA1</td>\n",
       "      <td>0.011399</td>\n",
       "    </tr>\n",
       "    <tr>\n",
       "      <th>17</th>\n",
       "      <td>D1 VSA_EState3</td>\n",
       "      <td>0.011321</td>\n",
       "    </tr>\n",
       "    <tr>\n",
       "      <th>18</th>\n",
       "      <td>D1 PEOE_VSA1</td>\n",
       "      <td>0.011142</td>\n",
       "    </tr>\n",
       "    <tr>\n",
       "      <th>19</th>\n",
       "      <td>D1 SpherocityIndex</td>\n",
       "      <td>0.011014</td>\n",
       "    </tr>\n",
       "  </tbody>\n",
       "</table>\n",
       "</div>"
      ],
      "text/plain": [
       "                     Feats Relevance\n",
       "0                      age  0.126748\n",
       "1                   D1 Ipc  0.040551\n",
       "2                 D2 Chi4n  0.036838\n",
       "3                   D2 Ipc  0.025769\n",
       "4              D2 BalabanJ   0.02536\n",
       "5                 D1 Chi4n  0.024335\n",
       "6              D1 BalabanJ  0.020584\n",
       "7                D1 Kappa3  0.017116\n",
       "8                D2 Kappa3  0.015833\n",
       "9               D2 BertzCT  0.014187\n",
       "10              D2 MolLogP  0.012826\n",
       "11              D1 MolLogP  0.012789\n",
       "12  D1 InertialShapeFactor  0.012364\n",
       "13      D2 SpherocityIndex  0.012053\n",
       "14          D1 VSA_EState1  0.011531\n",
       "15          D2 EState_VSA2  0.011454\n",
       "16            D2 PEOE_VSA1  0.011399\n",
       "17          D1 VSA_EState3  0.011321\n",
       "18            D1 PEOE_VSA1  0.011142\n",
       "19      D1 SpherocityIndex  0.011014"
      ]
     },
     "execution_count": 94,
     "metadata": {},
     "output_type": "execute_result"
    }
   ],
   "source": [
    "feats = pd.DataFrame([np.array(x_test.iloc[:,2:].columns),regressorB.feature_importances_]).transpose()\n",
    "featImportance = feats.sort_values(by=1,ascending=False).head(20).reset_index(drop=True)\n",
    "featImportance.rename(columns={0:\"Feats\",1:\"Relevance\"},inplace=True)\n",
    "featImportance"
   ]
  },
  {
   "cell_type": "markdown",
   "id": "06b507e9-e353-497d-9dd6-2d1a9a2a322c",
   "metadata": {},
   "source": [
    "### Experimental reproducibility"
   ]
  },
  {
   "cell_type": "code",
   "execution_count": 131,
   "id": "37f18e25-3ada-4cca-9191-402cab8ff0aa",
   "metadata": {},
   "outputs": [],
   "source": [
    "#data from very top\n",
    "#\"index values\" of rows where the drug-drug-cell combination occurs multiple times \n",
    "idx = data.groupby(\"index\").count().drop(data.groupby(\"index\").count()[data.groupby(\"index\").count()[\"Drug1\"]<2].index).index"
   ]
  },
  {
   "cell_type": "code",
   "execution_count": 140,
   "id": "cb3eebe5-0b6c-4501-92d9-a1e8f32aaca5",
   "metadata": {},
   "outputs": [],
   "source": [
    "multi_occurence = data.set_index(\"index\").loc[idx]"
   ]
  },
  {
   "cell_type": "code",
   "execution_count": 146,
   "id": "454e202b-6d23-4236-b77d-611e563868ec",
   "metadata": {},
   "outputs": [],
   "source": [
    "firsts = multi_occurence.reset_index().groupby(\"drug_drug2\").first()\n",
    "lasts = multi_occurence.reset_index().groupby(\"drug_drug2\").last()"
   ]
  },
  {
   "cell_type": "code",
   "execution_count": 160,
   "id": "4f1a1700-4f4b-49d2-9f58-4977330c790a",
   "metadata": {},
   "outputs": [
    {
     "data": {
      "text/html": [
       "<div>\n",
       "<style scoped>\n",
       "    .dataframe tbody tr th:only-of-type {\n",
       "        vertical-align: middle;\n",
       "    }\n",
       "\n",
       "    .dataframe tbody tr th {\n",
       "        vertical-align: top;\n",
       "    }\n",
       "\n",
       "    .dataframe thead th {\n",
       "        text-align: right;\n",
       "    }\n",
       "</style>\n",
       "<table border=\"1\" class=\"dataframe\">\n",
       "  <thead>\n",
       "    <tr style=\"text-align: right;\">\n",
       "      <th></th>\n",
       "      <th>combination_idx</th>\n",
       "      <th>y_test</th>\n",
       "      <th>pred</th>\n",
       "    </tr>\n",
       "    <tr>\n",
       "      <th>drug_drug2</th>\n",
       "      <th></th>\n",
       "      <th></th>\n",
       "      <th></th>\n",
       "    </tr>\n",
       "  </thead>\n",
       "  <tbody>\n",
       "    <tr>\n",
       "      <th>(+)-jq1(+)-jq1TMD8</th>\n",
       "      <td>898</td>\n",
       "      <td>4.10</td>\n",
       "      <td>1.02</td>\n",
       "    </tr>\n",
       "    <tr>\n",
       "      <th>(+)-jq110356-76-0U-HO1</th>\n",
       "      <td>211297</td>\n",
       "      <td>1.61</td>\n",
       "      <td>3.93</td>\n",
       "    </tr>\n",
       "    <tr>\n",
       "      <th>(+)-jq11088965-37-0U-HO1</th>\n",
       "      <td>324674</td>\n",
       "      <td>-10.66</td>\n",
       "      <td>-1.63</td>\n",
       "    </tr>\n",
       "    <tr>\n",
       "      <th>(+)-jq1200484-11-3U-HO1</th>\n",
       "      <td>86410</td>\n",
       "      <td>17.62</td>\n",
       "      <td>4.06</td>\n",
       "    </tr>\n",
       "    <tr>\n",
       "      <th>(+)-jq1451492-95-8U-HO1</th>\n",
       "      <td>366142</td>\n",
       "      <td>9.83</td>\n",
       "      <td>3.86</td>\n",
       "    </tr>\n",
       "  </tbody>\n",
       "</table>\n",
       "</div>"
      ],
      "text/plain": [
       "                          combination_idx  y_test  pred\n",
       "drug_drug2                                             \n",
       "(+)-jq1(+)-jq1TMD8                    898    4.10  1.02\n",
       "(+)-jq110356-76-0U-HO1             211297    1.61  3.93\n",
       "(+)-jq11088965-37-0U-HO1           324674  -10.66 -1.63\n",
       "(+)-jq1200484-11-3U-HO1             86410   17.62  4.06\n",
       "(+)-jq1451492-95-8U-HO1            366142    9.83  3.86"
      ]
     },
     "execution_count": 160,
     "metadata": {},
     "output_type": "execute_result"
    }
   ],
   "source": [
    "obs = pd.DataFrame({\"combination_idx\":firsts[\"index\"],\"y_test\":firsts[\"HSA\"],\"pred\":lasts[\"HSA\"]})\n",
    "\n",
    "obs.head()"
   ]
  },
  {
   "cell_type": "code",
   "execution_count": 161,
   "id": "3b8d9f19-6488-4781-9ed2-87cd082339de",
   "metadata": {},
   "outputs": [
    {
     "data": {
      "text/plain": [
       "array([[1.        , 0.42892327],\n",
       "       [0.42892327, 1.        ]])"
      ]
     },
     "execution_count": 161,
     "metadata": {},
     "output_type": "execute_result"
    }
   ],
   "source": [
    "np.corrcoef(obs[\"y_test\"],obs[\"pred\"])"
   ]
  },
  {
   "cell_type": "code",
   "execution_count": null,
   "id": "ef3a7989-ee04-4d1a-81c3-e822980e3e63",
   "metadata": {},
   "outputs": [],
   "source": []
  },
  {
   "cell_type": "code",
   "execution_count": null,
   "id": "78175db6-5f87-4aa9-a0f6-baa232165fa2",
   "metadata": {},
   "outputs": [],
   "source": []
  }
 ],
 "metadata": {
  "kernelspec": {
   "display_name": "Python 3.7.3 64-bit",
   "language": "python",
   "name": "python3"
  },
  "language_info": {
   "codemirror_mode": {
    "name": "ipython",
    "version": 3
   },
   "file_extension": ".py",
   "mimetype": "text/x-python",
   "name": "python",
   "nbconvert_exporter": "python",
   "pygments_lexer": "ipython3",
   "version": "3.7.3"
  },
  "vscode": {
   "interpreter": {
    "hash": "31f2aee4e71d21fbe5cf8b01ff0e069b9275f58929596ceb00d14d90e3e16cd6"
   }
  }
 },
 "nbformat": 4,
 "nbformat_minor": 5
}
